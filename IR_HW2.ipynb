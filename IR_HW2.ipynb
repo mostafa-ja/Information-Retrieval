{
  "cells": [
    {
      "cell_type": "markdown",
      "metadata": {
        "colab_type": "text",
        "id": "view-in-github"
      },
      "source": [
        "<a href=\"https://colab.research.google.com/github/mostafa-ja/Information-Retrieval/blob/main/IR_HW2.ipynb\" target=\"_parent\"><img src=\"https://colab.research.google.com/assets/colab-badge.svg\" alt=\"Open In Colab\"/></a>"
      ]
    },
    {
      "cell_type": "code",
      "execution_count": 2,
      "metadata": {
        "id": "xvT2v_liulzy"
      },
      "outputs": [],
      "source": [
        "import urllib.request,sys,time\n",
        "from bs4 import BeautifulSoup\n",
        "import requests\n",
        "import pandas as pd"
      ]
    },
    {
      "cell_type": "code",
      "execution_count": 3,
      "metadata": {},
      "outputs": [
        {
          "data": {
            "text/plain": [
              "200"
            ]
          },
          "execution_count": 3,
          "metadata": {},
          "output_type": "execute_result"
        }
      ],
      "source": [
        "page_number = 1\n",
        "url = 'https://www.asriran.com/fa/archive?service_id=-1&sec_id=-1&cat_id=-1&rpp=20&from_date=1401/01/01&to_date=1401/01/28&p='+str(page_number)\n",
        "page = requests.get(url)\n",
        "page.status_code"
      ]
    },
    {
      "cell_type": "code",
      "execution_count": 4,
      "metadata": {},
      "outputs": [],
      "source": [
        "soup = BeautifulSoup(page.text, \"html.parser\")"
      ]
    },
    {
      "cell_type": "code",
      "execution_count": 19,
      "metadata": {},
      "outputs": [
        {
          "data": {
            "text/plain": [
              "20"
            ]
          },
          "execution_count": 19,
          "metadata": {},
          "output_type": "execute_result"
        }
      ],
      "source": [
        "articles=soup.find_all('article',attrs={'vizhe_cv col-xs-12 col-sm-6'})\n",
        "len(links)"
      ]
    },
    {
      "cell_type": "code",
      "execution_count": 25,
      "metadata": {},
      "outputs": [
        {
          "data": {
            "text/plain": [
              "'قالیباف: وقتی خروج از برجام اتفاق افتاد حتی آب خوردنمان را هم به برجام گره زدیم/ فرصت خطا کردن نداریم/  فهرست بلندبالایی از مشکلات وجود دارد'"
            ]
          },
          "execution_count": 25,
          "metadata": {},
          "output_type": "execute_result"
        }
      ],
      "source": [
        "title = articles[1].find(\"a\",attrs={'class':\"vizhe_title\"}).text.strip()\n",
        "title"
      ]
    },
    {
      "cell_type": "code",
      "execution_count": 24,
      "metadata": {},
      "outputs": [
        {
          "data": {
            "text/plain": [
              "'/fa/news/835667/قالیباف-وقتی-خروج-از-برجام-اتفاق-افتاد-حتی-آب-خوردنمان-را-هم-به-برجام-گره-زدیم-فرصت-خطا-کردن-نداریم-فهرست-بلندبالایی-از-مشکلات-وجود-دارد'"
            ]
          },
          "execution_count": 24,
          "metadata": {},
          "output_type": "execute_result"
        }
      ],
      "source": [
        "link = articles[1].find(\"a\").get('href').strip()\n",
        "link"
      ]
    },
    {
      "cell_type": "code",
      "execution_count": 28,
      "metadata": {},
      "outputs": [
        {
          "data": {
            "text/plain": [
              "'امروز نیازمند جهاد تصمیم در مجلس و دولت هستیم تا بر مشکلات فائق آییم در غیر این صورت مشمول تذکر رهبری خواهیم شد. در مجلس کمر همت بستیم تا به دور از اختلافات تصمیم بگیریم و با رویکرد مشخص حرکت کنیم.'"
            ]
          },
          "execution_count": 28,
          "metadata": {},
          "output_type": "execute_result"
        }
      ],
      "source": [
        "articles[1].find(\"div\",attrs={'class':\"vizhe_lead\"}).text.strip()"
      ]
    },
    {
      "cell_type": "code",
      "execution_count": 32,
      "metadata": {},
      "outputs": [
        {
          "data": {
            "text/plain": [
              "'۱۴۰۱/۰۱/۲۸'"
            ]
          },
          "execution_count": 32,
          "metadata": {},
          "output_type": "execute_result"
        }
      ],
      "source": [
        "articles[1].find(\"span\",attrs={'class':\"tarikh_archive\"}).text.strip()"
      ]
    },
    {
      "cell_type": "code",
      "execution_count": 33,
      "metadata": {},
      "outputs": [
        {
          "data": {
            "text/plain": [
              "'۲۳:۴۰'"
            ]
          },
          "execution_count": 33,
          "metadata": {},
          "output_type": "execute_result"
        }
      ],
      "source": [
        "articles[1].find(\"span\",attrs={'class':\"hours_archive\"}).text.strip()"
      ]
    }
  ],
  "metadata": {
    "colab": {
      "authorship_tag": "ABX9TyOUSO1wGmr1GoxHGMnDG+SU",
      "include_colab_link": true,
      "provenance": []
    },
    "kernelspec": {
      "display_name": "Python 3",
      "language": "python",
      "name": "python3"
    },
    "language_info": {
      "codemirror_mode": {
        "name": "ipython",
        "version": 3
      },
      "file_extension": ".py",
      "mimetype": "text/x-python",
      "name": "python",
      "nbconvert_exporter": "python",
      "pygments_lexer": "ipython3",
      "version": "3.11.1"
    },
    "vscode": {
      "interpreter": {
        "hash": "37ee99bff104f98bd1f5372e2ee364e0f3435400cb3778afef49450308d28634"
      }
    }
  },
  "nbformat": 4,
  "nbformat_minor": 0
}
