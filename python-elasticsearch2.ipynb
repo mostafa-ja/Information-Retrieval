{
 "cells": [
  {
   "cell_type": "markdown",
   "metadata": {},
   "source": [
    "Loading elasticsearch"
   ]
  },
  {
   "cell_type": "code",
   "execution_count": 1,
   "metadata": {},
   "outputs": [
    {
     "name": "stdout",
     "output_type": "stream",
     "text": [
      "True\n"
     ]
    }
   ],
   "source": [
    "from elasticsearch import Elasticsearch\n",
    "\n",
    "# Adds the HTTP header 'Authorization: Basic <base64 username:password>'\n",
    "es = Elasticsearch(\n",
    "    \"http://localhost:9200\",\n",
    "    basic_auth=(\"elastic\", \"lxDO2mQDVQPrxE3FRWAy\")\n",
    ")\n",
    "\n",
    "print(es.ping())"
   ]
  },
  {
   "cell_type": "markdown",
   "metadata": {},
   "source": [
    "Importing data for assignments(1,2,3)"
   ]
  },
  {
   "cell_type": "code",
   "execution_count": 2,
   "metadata": {},
   "outputs": [],
   "source": [
    "import pandas as pd\n",
    "# df_q : data for questions\n",
    "df_q = pd.read_csv('C:\\\\Users\\\\A\\\\Music\\\\repos\\\\Information-Retrieval\\\\data\\\\questions.csv').fillna(\"\")"
   ]
  },
  {
   "cell_type": "code",
   "execution_count": 3,
   "metadata": {},
   "outputs": [
    {
     "data": {
      "text/html": [
       "<div>\n",
       "<style scoped>\n",
       "    .dataframe tbody tr th:only-of-type {\n",
       "        vertical-align: middle;\n",
       "    }\n",
       "\n",
       "    .dataframe tbody tr th {\n",
       "        vertical-align: top;\n",
       "    }\n",
       "\n",
       "    .dataframe thead th {\n",
       "        text-align: right;\n",
       "    }\n",
       "</style>\n",
       "<table border=\"1\" class=\"dataframe\">\n",
       "  <thead>\n",
       "    <tr style=\"text-align: right;\">\n",
       "      <th></th>\n",
       "      <th>Id</th>\n",
       "      <th>Reputation</th>\n",
       "      <th>CreationDate</th>\n",
       "      <th>DisplayName</th>\n",
       "      <th>LastAccessDate</th>\n",
       "      <th>WebsiteUrl</th>\n",
       "      <th>Location</th>\n",
       "      <th>AboutMe</th>\n",
       "      <th>Views</th>\n",
       "      <th>UpVotes</th>\n",
       "      <th>...</th>\n",
       "      <th>LastEditDate</th>\n",
       "      <th>LastActivityDate</th>\n",
       "      <th>Title</th>\n",
       "      <th>Tags</th>\n",
       "      <th>AnswerCount</th>\n",
       "      <th>CommentCount</th>\n",
       "      <th>FavoriteCount</th>\n",
       "      <th>ClosedDate</th>\n",
       "      <th>CommunityOwnedDate</th>\n",
       "      <th>ContentLicense</th>\n",
       "    </tr>\n",
       "  </thead>\n",
       "  <tbody>\n",
       "    <tr>\n",
       "      <th>0</th>\n",
       "      <td>115145</td>\n",
       "      <td>967227</td>\n",
       "      <td>2009-05-31 16:20:08</td>\n",
       "      <td>CommonsWare</td>\n",
       "      <td>2022-10-29 23:14:28</td>\n",
       "      <td>https://commonsware.com</td>\n",
       "      <td>Pennsylvania, United States</td>\n",
       "      <td>&lt;p&gt;Mark Murphy, founder of CommonsWare, writes...</td>\n",
       "      <td>269231</td>\n",
       "      <td>13193</td>\n",
       "      <td>...</td>\n",
       "      <td>2022-08-19 16:46:16</td>\n",
       "      <td>2022-08-19 16:46:16</td>\n",
       "      <td>How can I fix \"unexpected element &lt;queries&gt; fo...</td>\n",
       "      <td>&lt;android&gt;&lt;android-gradle-plugin&gt;&lt;android-manif...</td>\n",
       "      <td>7</td>\n",
       "      <td>1</td>\n",
       "      <td>30</td>\n",
       "      <td></td>\n",
       "      <td></td>\n",
       "      <td>CC BY-SA 4.0</td>\n",
       "    </tr>\n",
       "    <tr>\n",
       "      <th>1</th>\n",
       "      <td>85371</td>\n",
       "      <td>358430</td>\n",
       "      <td>2009-03-31 21:38:26</td>\n",
       "      <td>sehe</td>\n",
       "      <td>2022-10-29 15:03:44</td>\n",
       "      <td></td>\n",
       "      <td>Netherlands</td>\n",
       "      <td>&lt;p&gt;I'm a developer at heart.&lt;/p&gt;\\n&lt;p&gt;I love C+...</td>\n",
       "      <td>34058</td>\n",
       "      <td>16475</td>\n",
       "      <td>...</td>\n",
       "      <td>2021-03-06 02:51:07</td>\n",
       "      <td>2021-03-06 02:51:07</td>\n",
       "      <td>C++20 behaviour breaking existing code with eq...</td>\n",
       "      <td>&lt;c++&gt;&lt;c++17&gt;&lt;c++20&gt;&lt;spaceship-operator&gt;</td>\n",
       "      <td>1</td>\n",
       "      <td>4</td>\n",
       "      <td>21</td>\n",
       "      <td></td>\n",
       "      <td></td>\n",
       "      <td>CC BY-SA 4.0</td>\n",
       "    </tr>\n",
       "    <tr>\n",
       "      <th>2</th>\n",
       "      <td>23354</td>\n",
       "      <td>994260</td>\n",
       "      <td>2008-09-29 05:46:02</td>\n",
       "      <td>Marc Gravell</td>\n",
       "      <td>2022-10-29 22:46:04</td>\n",
       "      <td>http://blog.marcgravell.com</td>\n",
       "      <td>Forest of Dean, United Kingdom</td>\n",
       "      <td>&lt;p&gt;e-mail: marc.gravell@gmail.com&lt;br/&gt;\\nblog: ...</td>\n",
       "      <td>320609</td>\n",
       "      <td>27181</td>\n",
       "      <td>...</td>\n",
       "      <td>2021-04-27 19:04:08</td>\n",
       "      <td>2022-04-25 07:56:58</td>\n",
       "      <td>Why does a zero-length stackalloc make the C# ...</td>\n",
       "      <td>&lt;c#&gt;&lt;stackalloc&gt;</td>\n",
       "      <td>2</td>\n",
       "      <td>0</td>\n",
       "      <td>7</td>\n",
       "      <td></td>\n",
       "      <td></td>\n",
       "      <td>CC BY-SA 4.0</td>\n",
       "    </tr>\n",
       "  </tbody>\n",
       "</table>\n",
       "<p>3 rows × 37 columns</p>\n",
       "</div>"
      ],
      "text/plain": [
       "       Id  Reputation         CreationDate   DisplayName       LastAccessDate  \\\n",
       "0  115145      967227  2009-05-31 16:20:08   CommonsWare  2022-10-29 23:14:28   \n",
       "1   85371      358430  2009-03-31 21:38:26          sehe  2022-10-29 15:03:44   \n",
       "2   23354      994260  2008-09-29 05:46:02  Marc Gravell  2022-10-29 22:46:04   \n",
       "\n",
       "                    WebsiteUrl                        Location  \\\n",
       "0      https://commonsware.com     Pennsylvania, United States   \n",
       "1                                                  Netherlands   \n",
       "2  http://blog.marcgravell.com  Forest of Dean, United Kingdom   \n",
       "\n",
       "                                             AboutMe   Views  UpVotes  ...  \\\n",
       "0  <p>Mark Murphy, founder of CommonsWare, writes...  269231    13193  ...   \n",
       "1  <p>I'm a developer at heart.</p>\\n<p>I love C+...   34058    16475  ...   \n",
       "2  <p>e-mail: marc.gravell@gmail.com<br/>\\nblog: ...  320609    27181  ...   \n",
       "\n",
       "          LastEditDate     LastActivityDate  \\\n",
       "0  2022-08-19 16:46:16  2022-08-19 16:46:16   \n",
       "1  2021-03-06 02:51:07  2021-03-06 02:51:07   \n",
       "2  2021-04-27 19:04:08  2022-04-25 07:56:58   \n",
       "\n",
       "                                               Title  \\\n",
       "0  How can I fix \"unexpected element <queries> fo...   \n",
       "1  C++20 behaviour breaking existing code with eq...   \n",
       "2  Why does a zero-length stackalloc make the C# ...   \n",
       "\n",
       "                                                Tags  AnswerCount  \\\n",
       "0  <android><android-gradle-plugin><android-manif...            7   \n",
       "1            <c++><c++17><c++20><spaceship-operator>            1   \n",
       "2                                   <c#><stackalloc>            2   \n",
       "\n",
       "   CommentCount FavoriteCount ClosedDate CommunityOwnedDate ContentLicense  \n",
       "0             1            30                                 CC BY-SA 4.0  \n",
       "1             4            21                                 CC BY-SA 4.0  \n",
       "2             0             7                                 CC BY-SA 4.0  \n",
       "\n",
       "[3 rows x 37 columns]"
      ]
     },
     "execution_count": 3,
     "metadata": {},
     "output_type": "execute_result"
    }
   ],
   "source": [
    "df_q.head(3)"
   ]
  },
  {
   "cell_type": "markdown",
   "metadata": {},
   "source": [
    "Indexing data(questions) based on the assignment"
   ]
  },
  {
   "cell_type": "code",
   "execution_count": 5,
   "metadata": {},
   "outputs": [
    {
     "data": {
      "text/plain": [
       "ObjectApiResponse({'acknowledged': True, 'shards_acknowledged': True, 'index': 'questions'})"
      ]
     },
     "execution_count": 5,
     "metadata": {},
     "output_type": "execute_result"
    }
   ],
   "source": [
    "mapping = {\n",
    "     \"properties\": {\n",
    "            \"ID\": {\"type\": \"integer\"},\n",
    "            \"Body\": {\"type\": \"text\"},\n",
    "            \"Tags\": {\"type\": \"text\"}\n",
    "         }}\n",
    "\n",
    "es.indices.create(index=\"questions\",mappings=mapping)"
   ]
  },
  {
   "cell_type": "code",
   "execution_count": 6,
   "metadata": {},
   "outputs": [],
   "source": [
    "for i,row in df_q.iterrows():\n",
    "  doc = {\n",
    "      \"ID\" : row['Id.1'], # id.1=posts.id\n",
    "      \"Body\" : row[\"Body\"],\n",
    "      \"Tags\" : (row[\"Tags\"] if row[\"Tags\"]!= 'non' else '') #avoiding error for null inputs\n",
    "  }\n",
    "  \n",
    "  es.index(index=\"questions\",id=i,document=doc)"
   ]
  },
  {
   "cell_type": "markdown",
   "metadata": {},
   "source": [
    "Checking indexed data"
   ]
  },
  {
   "cell_type": "code",
   "execution_count": 7,
   "metadata": {},
   "outputs": [
    {
     "data": {
      "text/plain": [
       "ObjectApiResponse({'questions': {'aliases': {}, 'mappings': {'properties': {'Body': {'type': 'text'}, 'ID': {'type': 'integer'}, 'Tags': {'type': 'text'}}}, 'settings': {'index': {'routing': {'allocation': {'include': {'_tier_preference': 'data_content'}}}, 'number_of_shards': '1', 'provided_name': 'questions', 'creation_date': '1667325834782', 'number_of_replicas': '1', 'uuid': 'w50QcniSSxiXmToE5TRRjQ', 'version': {'created': '8040399'}}}}})"
      ]
     },
     "execution_count": 7,
     "metadata": {},
     "output_type": "execute_result"
    }
   ],
   "source": [
    "es.indices.get(index='questions')"
   ]
  },
  {
   "cell_type": "code",
   "execution_count": 8,
   "metadata": {},
   "outputs": [
    {
     "data": {
      "text/plain": [
       "ObjectApiResponse({'_index': 'questions', '_id': '0', '_version': 1, '_seq_no': 0, '_primary_term': 1, 'found': True, '_source': {'ID': 62969917, 'Body': '<p>All of a sudden, I am getting this build error in my Android project:</p>\\n<pre><code>unexpected element &lt;queries&gt; found in &lt;manifest&gt;\\n</code></pre>\\n<p>How do I fix it?</p>\\n', 'Tags': '<android><android-gradle-plugin><android-manifest><manifest>'}})"
      ]
     },
     "execution_count": 8,
     "metadata": {},
     "output_type": "execute_result"
    }
   ],
   "source": [
    "res = es.get(index=\"questions\", id=0)\n",
    "res"
   ]
  },
  {
   "cell_type": "markdown",
   "metadata": {},
   "source": [
    "Assignment(1)"
   ]
  },
  {
   "cell_type": "code",
   "execution_count": 9,
   "metadata": {},
   "outputs": [],
   "source": [
    "def search_text(text):\n",
    "    results = es.search(index='questions',query={\"match_phrase\":{\"Body\":text}})\n",
    "    all_hits = results['hits']['hits']\n",
    "\n",
    "    # see how many \"hits\" it returned using the len() function\n",
    "    print (\"total hits :\", results['hits']['total']['value'], \"\\n\")\n",
    "    \n",
    "    # iterate the nested dictionaries inside the [\"hits\"][\"hits\"] list and print results\n",
    "    if results['hits']['total']['value'] == 0:\n",
    "        print('NOT FOUND')  \n",
    "    else:\n",
    "        for num, doc in enumerate(all_hits):\n",
    "            print (\"DOC ID:\", doc[\"_id\"], \"\\n\", doc['_source']['Body'], \"\\n\")"
   ]
  },
  {
   "cell_type": "code",
   "execution_count": 10,
   "metadata": {},
   "outputs": [
    {
     "name": "stdout",
     "output_type": "stream",
     "text": [
      "total hits : 2 \n",
      "\n",
      "DOC ID: 20 \n",
      " <h2>Background</h2>\n",
      "<p>In the past, I used a foreground <a href=\"https://developer.android.com/reference/android/app/IntentService\" rel=\"noreferrer\"><strong>IntentService</strong></a> to handle various events that come one after another. Then it was deprecated when Android 11 came (Android R, API 30) and it was said to prefer to use Worker that uses <a href=\"https://developer.android.com/reference/androidx/work/ListenableWorker#setForegroundAsync(androidx.work.ForegroundInfo)\" rel=\"noreferrer\"><strong>setForegroundAsync</strong></a> instead, and so I did it.</p>\n",
      "<pre><code>val builder = NotificationCompat.Builder(context,...)...\n",
      "setForegroundAsync(ForegroundInfo(notificationId, builder.build()))\n",
      "</code></pre>\n",
      "<h2>The problem</h2>\n",
      "<p>As Android 12 came (Android S, API 31), just one version after , now <code>setForegroundAsync</code> is marked as deprecated, and I am told to use <a href=\"https://developer.android.com/reference/androidx/work/WorkRequest.Builder#setExpedited(androidx.work.OutOfQuotaPolicy)\" rel=\"noreferrer\"><strong>setExpedited</strong></a> instead:</p>\n",
      "<pre><code>* @deprecated Use {@link WorkRequest.Builder#setExpedited(OutOfQuotaPolicy)} and\n",
      "* {@link ListenableWorker#getForegroundInfoAsync()} instead.\n",
      "</code></pre>\n",
      "<p>Thing is, I'm not sure how it works exactly. Before, we had a notification that should be shown to the user as it's using a foreground service (at least for &quot;old&quot; Android versions). Now it seems that <a href=\"https://developer.android.com/reference/androidx/work/ListenableWorker#getForegroundInfoAsync()\" rel=\"noreferrer\"><strong>getForegroundInfoAsync</strong></a> is used for it, but I don't think it will use it for Android 12 :</p>\n",
      "<blockquote>\n",
      "<p>Prior to Android S, WorkManager manages and runs a foreground service\n",
      "on your behalf to execute the WorkRequest, showing the notification\n",
      "provided in the ForegroundInfo. To update this notification\n",
      "subsequently, the application can use NotificationManager.</p>\n",
      "<p>Starting in Android S and above, WorkManager manages this WorkRequest\n",
      "using an immediate job.</p>\n",
      "</blockquote>\n",
      "<p>Another clue about it is (<a href=\"https://developer.android.com/about/versions/12/foreground-services#recommended-alternative\" rel=\"noreferrer\"><strong>here</strong></a>) :</p>\n",
      "<blockquote>\n",
      "<p>Starting in WorkManager 2.7.0, your app can call setExpedited() to\n",
      "declare that a Worker should use an expedited job. This new API uses\n",
      "expedited jobs when running on Android 12, and the API uses foreground\n",
      "services on prior versions of Android to provide backward\n",
      "compatibility.</p>\n",
      "</blockquote>\n",
      "<p>And the only snippet they have is of the scheduling itself :</p>\n",
      "<pre><code>OneTimeWorkRequestBuilder&lt;T&gt;().apply {\n",
      "    setInputData(inputData)\n",
      "    setExpedited(OutOfQuotaPolicy.RUN_AS_NON_EXPEDITED_WORK_REQUEST)\n",
      "}.build()\n",
      "</code></pre>\n",
      "<p>Even the docs of <a href=\"https://developer.android.com/reference/androidx/work/OutOfQuotaPolicy#RUN_AS_NON_EXPEDITED_WORK_REQUEST\" rel=\"noreferrer\">OutOfQuotaPolicy.RUN_AS_NON_EXPEDITED_WORK_REQUEST</a> seems weird:</p>\n",
      "<blockquote>\n",
      "<p>When the app does not have any expedited job quota, the expedited work\n",
      "request will fallback to a regular work request.</p>\n",
      "</blockquote>\n",
      "<p>All I wanted is just to do something right away, reliably, without interruption (or at least lowest chance possible), and use whatever the OS offers to do it.</p>\n",
      "<p>I don't get why <code>setExpedited</code> was created.</p>\n",
      "<h2>The questions</h2>\n",
      "<ol>\n",
      "<li>How does <code>setExpedited</code> work exactly ?</li>\n",
      "<li>What is this &quot;expedited job quota&quot; ? What happens on Android 12 when it reaches this situation? The worker won't do its job right away?</li>\n",
      "<li>Is <code>setExpedited</code> as reliable as a foreground service? Would it always be able to launch right away?</li>\n",
      "<li>What are the advantages, disadvantages and restrictions that <code>setExpedited</code> has ? Why should I prefer it over a foreground service?</li>\n",
      "<li>Does it mean that users won't see anything when the app is using this API on Android 12 ?</li>\n",
      "</ol>\n",
      " \n",
      "\n",
      "DOC ID: 21 \n",
      " <p>In Android 12, if an app requests fine location permission via <code>ACCESS_FINE_LOCATION</code>, the user might elect to only grant coarse location permission. Unfortunately, not all APIs work with coarse location permission — in particular, AFAICT, to look up the SSID of the connected WiFi network, we need fine location permission, not coarse location permission.</p>\n",
      "<p>If you re-request fine location permission, the user will be asked to upgrade your access, but the user might decline. As a result, we need a way to gracefully determine that the user granted us coarse location permission and that we are still eligible to request the upgrade.</p>\n",
      "<p><a href=\"https://gitlab.com/commonsguy/thisisfine\" rel=\"noreferrer\">This sample project</a> just has a button to trigger a <code>requestPermissions()</code> for <code>ACCESS_FINE_LOCATION</code>, along with four labels to report:</p>\n",
      "<ul>\n",
      "<li>Were we granted fine location permission? (<code>checkSelfPermission()</code> for <code>ACCESS_FINE_LOCATION</code>)</li>\n",
      "<li>Were we granted coarse location permission? (<code>checkSelfPermission()</code> for <code>ACCESS_COARSE_LOCATION</code>)</li>\n",
      "<li>Should we prompt the user with rationale for our request, for fine permission? (<code>shouldShowRequestPermissionRationale()</code> for <code>ACCESS_FINE_LOCATION</code>)</li>\n",
      "<li>Should we prompt the user with rationale for our request, for coarse permission? (<code>shouldShowRequestPermissionRationale()</code> for <code>ACCESS_COARSE_LOCATION</code>)</li>\n",
      "</ul>\n",
      "<p>Running this after a fresh install on an Pixel 3a XL running the final beta of Android 12, I get the following results after the listed sequence of actions:</p>\n",
      "<div class=\"s-table-container\">\n",
      "<table class=\"s-table\">\n",
      "<thead>\n",
      "<tr>\n",
      "<th style=\"text-align: center;\">Action</th>\n",
      "<th style=\"text-align: center;\">Has Fine Permission?</th>\n",
      "<th style=\"text-align: center;\">Has Coarse Permission?</th>\n",
      "<th style=\"text-align: center;\">Prompt for Fine?</th>\n",
      "<th style=\"text-align: center;\">Prompt for Coarse?</th>\n",
      "</tr>\n",
      "</thead>\n",
      "<tbody>\n",
      "<tr>\n",
      "<td style=\"text-align: center;\">launch the app</td>\n",
      "<td style=\"text-align: center;\">no</td>\n",
      "<td style=\"text-align: center;\">no</td>\n",
      "<td style=\"text-align: center;\">no</td>\n",
      "<td style=\"text-align: center;\">no</td>\n",
      "</tr>\n",
      "<tr>\n",
      "<td style=\"text-align: center;\">click button and grant approximate location while using the app</td>\n",
      "<td style=\"text-align: center;\">no</td>\n",
      "<td style=\"text-align: center;\">yes</td>\n",
      "<td style=\"text-align: center;\">no</td>\n",
      "<td style=\"text-align: center;\">no</td>\n",
      "</tr>\n",
      "<tr>\n",
      "<td style=\"text-align: center;\">click button again and choose &quot;Keep approximate location&quot;</td>\n",
      "<td style=\"text-align: center;\">no</td>\n",
      "<td style=\"text-align: center;\">yes</td>\n",
      "<td style=\"text-align: center;\">yes</td>\n",
      "<td style=\"text-align: center;\">no</td>\n",
      "</tr>\n",
      "<tr>\n",
      "<td style=\"text-align: center;\">click button a 3rd time and choose &quot;Keep approximate location&quot;</td>\n",
      "<td style=\"text-align: center;\">no</td>\n",
      "<td style=\"text-align: center;\">yes</td>\n",
      "<td style=\"text-align: center;\">no</td>\n",
      "<td style=\"text-align: center;\">no</td>\n",
      "</tr>\n",
      "</tbody>\n",
      "</table>\n",
      "</div>\n",
      "<p>While these all make some sense individually, the problem is that the second and fourth results are the same:</p>\n",
      "<ul>\n",
      "<li>I have coarse location access</li>\n",
      "<li>I am not told that I need to show rationale</li>\n",
      "</ul>\n",
      "<p>The problem is that if the user tries clicking the button a 4th time, we're into the &quot;don't ask again&quot; state, and no permission dialog appears. All the previous times, a permission dialog appears, either to initially grant the permission or to grant the upgrade. I would like to be able to detect the 4th or later attempt, so I can show my own dialog that says &quot;sorry, you need to go to Settings and grant the permission manually now&quot;. However, other than by tracking the count of requests myself, I do not know how to identify this case distinctly.</p>\n",
      "<p>So, my question is: is there a way, using some existing permission or location APIs, to determine that I am no longer allowed to re-request <code>ACCESS_FINE_LOCATION</code>, and that further requests will result in immediate failures? In particular, the answer needs to be able to distinguish between the second and fourth rows in that table, so between &quot;the user only granted coarse access&quot; and &quot;the user only granted coarse access, and you tried the upgrade twice, which the user rejected each time&quot;.</p>\n",
      " \n",
      "\n"
     ]
    }
   ],
   "source": [
    "search_text('Android 12')"
   ]
  },
  {
   "cell_type": "code",
   "execution_count": 11,
   "metadata": {},
   "outputs": [
    {
     "name": "stdout",
     "output_type": "stream",
     "text": [
      "total hits : 0 \n",
      "\n",
      "NOT FOUND\n"
     ]
    }
   ],
   "source": [
    "search_text('Android 14')"
   ]
  },
  {
   "cell_type": "markdown",
   "metadata": {},
   "source": [
    "Assignment(2)"
   ]
  },
  {
   "cell_type": "code",
   "execution_count": 23,
   "metadata": {},
   "outputs": [],
   "source": [
    "def search_id(number):\n",
    "    results = es.search(index='questions',query={\"term\":{\"ID\":number}})\n",
    "    all_hits = results['hits']['hits']\n",
    "    print(\"number of results = \",results['hits']['total']['value'],\"\\n\")\n",
    "    if results['hits']['total']['value'] == 0:\n",
    "        print('NOT FOUND')  \n",
    "    else:\n",
    "        for num, doc in enumerate(all_hits):\n",
    "            print (\"DOC ID:\", doc[\"_id\"], \"\\n\",\"Post ID:\",doc['_source']['ID'],\"\\n\" ,doc['_source']['Body'], \"\\n\")"
   ]
  },
  {
   "cell_type": "code",
   "execution_count": 24,
   "metadata": {},
   "outputs": [
    {
     "name": "stdout",
     "output_type": "stream",
     "text": [
      "number of results =  1 \n",
      "\n",
      "DOC ID: 96 \n",
      " Post ID: 64034156 \n",
      " <p><em><strong>Short problem description:</strong></em> I had created two new AWS EC2 server instances on Redhat Linux and Ubuntu operating system. I was trying to login to it through SSH via Putty but was getting errors(detailed errors further in question). This is just a short description.</p>\n",
      "<p><em><strong>Detailed problem description:</strong></em> I generated a new .pem file after creating a free tier Amazon EC2(Elastic Compute Cloud) server of Ubuntu 20 O.S version. Then I have used <code>PuttyGen</code> software in my Windows-10 O.S p.c. While trying to login through putty it was giving me an error as shown in the following error description, due to this I was not able to login to aws machines, I have further investigated the issue and all details of troubleshooting steps are mentioned in detailed manner in this self answered question(other suggestions/solutions are welcome).</p>\n",
      "<p><em><strong>Error's description:</strong></em></p>\n",
      "<p><code>&quot;Server refused our key&quot;</code> On terminal AND <code>&quot;NO supported authentication method available(server sent:public ke;gssapi-with-mic)&quot;</code></p>\n",
      "<p><a href=\"https://i.stack.imgur.com/5sGRK.jpg\" rel=\"noreferrer\"><img src=\"https://i.stack.imgur.com/5sGRK.jpg\" alt=\"enter image description here\" /></a></p>\n",
      " \n",
      "\n"
     ]
    }
   ],
   "source": [
    "search_id(64034156)"
   ]
  },
  {
   "cell_type": "code",
   "execution_count": 25,
   "metadata": {},
   "outputs": [
    {
     "name": "stdout",
     "output_type": "stream",
     "text": [
      "number of results =  0 \n",
      "\n",
      "NOT FOUND\n"
     ]
    }
   ],
   "source": [
    "search_id(64034157)"
   ]
  },
  {
   "cell_type": "code",
   "execution_count": 32,
   "metadata": {},
   "outputs": [
    {
     "data": {
      "text/plain": [
       "1"
      ]
     },
     "execution_count": 32,
     "metadata": {},
     "output_type": "execute_result"
    }
   ],
   "source": [
    "sum(df_q['Id.1']==64034156)"
   ]
  },
  {
   "cell_type": "code",
   "execution_count": 33,
   "metadata": {},
   "outputs": [
    {
     "data": {
      "text/plain": [
       "0"
      ]
     },
     "execution_count": 33,
     "metadata": {},
     "output_type": "execute_result"
    }
   ],
   "source": [
    "sum(df_q['Id.1']==64034157)"
   ]
  },
  {
   "cell_type": "markdown",
   "metadata": {},
   "source": [
    "Assignment(3)"
   ]
  },
  {
   "cell_type": "code",
   "execution_count": 53,
   "metadata": {},
   "outputs": [],
   "source": [
    "def tokenizer(tags):\n",
    "    tags = tags.replace('<',\"\")\n",
    "    tags = tags.replace('>',\" \")\n",
    "    return tags"
   ]
  },
  {
   "cell_type": "code",
   "execution_count": 57,
   "metadata": {},
   "outputs": [
    {
     "data": {
      "text/plain": [
       "'python selenium google-chrome selenium-chromedriver webusb  '"
      ]
     },
     "execution_count": 57,
     "metadata": {},
     "output_type": "execute_result"
    }
   ],
   "source": [
    "#example\n",
    "tokenizer('<python><selenium><google-chrome><selenium-chromedriver><webusb> ')"
   ]
  },
  {
   "cell_type": "code",
   "execution_count": 59,
   "metadata": {},
   "outputs": [
    {
     "name": "stdout",
     "output_type": "stream",
     "text": [
      "doc id :  27 ----- question ID : 63075418\n",
      "Tags :  <ios><uitableview><ios14> \n",
      " <p>I'm watching and rewatching WWDC 2020 &quot;Modern cell configuration&quot; but enlightening does not strike.</p>\n",
      "<p>I understand that the built-in ListContentConfiguration has properties similar to the <em>built-in cell style</em> components like the text label and the image view. But I never use the built-in cell styles; I always create a cell subclass and design the cell subviews from scratch in a xib or storyboard prototype cell, or even structure them in code.</p>\n",
      "<p>So how do I use Apple's configurations to populate my cell's subviews?</p>\n",
      "<p>The video says:</p>\n",
      "<blockquote>\n",
      "<p>In addition to the list content configuration we're also giving you access to the associated list content view which implements all of the rendering. You just create or update this view using the configuration, and then you can add it as a subview right alongside your own custom views. This lets you take advantage of all the content configuration features and combine the ListContentView with your own additional custom views next to it, such as an extra image view or a label.</p>\n",
      "</blockquote>\n",
      "<p>OK, no, that's not what I want to do. I don't want <em>any</em> of the built-in cell style subviews.</p>\n",
      "<p>So then the video says:</p>\n",
      "<blockquote>\n",
      "<p>Even when you're building a completely custom view hierarchy inside your cells, you can still use the system configurations to help.\n",
      "Because configurations are so lightweight, you can use them as a source of default values for things like fonts, colors, and margins that you copy over to your custom views, even if you never apply the configuration directly itself.\n",
      "And for more advanced use cases you can <em>create a completely custom content configuration type with a paired content view class that renders it, and then use your custom configuration with any cell the same way that you would use a list content configuration.</em></p>\n",
      "</blockquote>\n",
      "<p>My italics, and the italics are part I'm asking about. I'm asking: how?</p>\n",
      "<ul>\n",
      "<li><p>I understand that there is a <a href=\"https://developer.apple.com/documentation/uikit/uicontentconfiguration\" rel=\"noreferrer\">UIContentConfiguration</a> protocol.</p>\n",
      "</li>\n",
      "<li><p>I understand that the conforming class <a href=\"https://developer.apple.com/documentation/uikit/uicontentconfiguration/3600982-makecontentview\" rel=\"noreferrer\">generates</a> through its <code>makeContentView</code> method a &quot;content view&quot;, a UIView with a <code>configuration</code> property (because it conforms to UIContentConfiguration).</p>\n",
      "</li>\n",
      "</ul>\n",
      "<p>So how do I use that in conjunction with my custom cell subclass, to communicate information from the data source to the cell and populate the cell's subviews?</p>\n",
      "<p>As usual, it feels like Apple shows us the toy examples and completely omits details about how this can work in the real world. Has anyone figured this out?</p>\n",
      "\n",
      "doc id :  32 ----- question ID : 60583049\n",
      "Tags :  <javascript><google-chrome><progressive-web-apps> \n",
      " <p>How can I close/exit my PWA?</p>\n",
      "\n",
      "<p>I had assumed I'd be able to do this:</p>\n",
      "\n",
      "<pre><code>window.close();\n",
      "</code></pre>\n",
      "\n",
      "<p>Unfortunately, that results in the usual error:</p>\n",
      "\n",
      "<blockquote>\n",
      "  <p>Scripts may close only the windows that were opened by it.</p>\n",
      "</blockquote>\n",
      "\n",
      "<p>Is there any way to programmatically close my PWA?</p>\n",
      "\n",
      "doc id :  36 ----- question ID : 67954414\n",
      "Tags :  <swift><async-await><swift5> \n",
      " <p>This is sort of a follow-up to my earlier <a href=\"https://stackoverflow.com/questions/67913756/asyncdetached-falling-back-into-main-thread-after-mainactor-call\">asyncDetached falling back into main thread after MainActor call</a>.</p>\n",
      "<p>Here's the complete code of an iOS view controller:</p>\n",
      "<pre><code>import UIKit\n",
      "\n",
      "func test1() {\n",
      "    print(&quot;test1&quot;, Thread.isMainThread) // true\n",
      "    Task {\n",
      "        print(&quot;test1 task&quot;, Thread.isMainThread) // false\n",
      "    }\n",
      "}\n",
      "class ViewController: UIViewController {\n",
      "    override func viewDidLoad() {\n",
      "        super.viewDidLoad()\n",
      "        test1()\n",
      "        test2()\n",
      "    }\n",
      "\n",
      "    func test2() {\n",
      "        print(&quot;test2&quot;, Thread.isMainThread) // true\n",
      "        Task {\n",
      "            print(&quot;test2 task&quot;, Thread.isMainThread) // true\n",
      "        }\n",
      "    }\n",
      "}\n",
      "</code></pre>\n",
      "<p>The two functions <code>test1</code> and <code>test2</code> are identical, and are being called from the very same place. Yet one of them runs its Task initializer <code>operation:</code> function on a background thread, and the other runs on the main thread.</p>\n",
      "<p>What determines this? I can only think it has to do with where the method is declared. But <em>what</em> does it have to do with where the method is declared?</p>\n",
      "\n",
      "doc id :  40 ----- question ID : 64012057\n",
      "Tags :  <c++><random><language-lawyer> \n",
      " <p>For shuffling two vectors in the same order, it's tempting to do something like</p>\n",
      "<pre><code>whatever_rng_type rng2(rng1);\n",
      "\n",
      "std::shuffle(vec1.begin(), vec1.end(), rng1);\n",
      "std::shuffle(vec2.begin(), vec2.end(), rng2);\n",
      "</code></pre>\n",
      "<p>where identical RNG states are used for the two shuffles. However, I don't see any requirement that these shuffles actually produce the same order in the <a href=\"http://www.open-std.org/jtc1/sc22/wg21/docs/papers/2013/n3690.pdf\" rel=\"noreferrer\">standard draft</a> I checked.</p>\n",
      "<p><code>std::shuffle</code> must use the provided RNG as its source of randomness, but the implementation might also do something like take a different code path for different element sizes. Maybe an implementation might use AVX512 gather/scatter instructions for some types and a generic, non-vectorized code path for others, and that could affect the result ordering.</p>\n",
      "<p>Is performing two shuffles with the same seed actually a safe way to get the same order? Is there something I missed in a later standard version, or a defect report or something?</p>\n",
      "\n",
      "doc id :  41 ----- question ID : 65614890\n",
      "Tags :  <java><java-8><annotations> \n",
      " <p>Does this have a purpose <code>static @NotNull @Other My.@NotNull @Other Builder createBuilder()</code></p>\n",
      "<pre><code>import java.lang.annotation.ElementType;\n",
      "import java.lang.annotation.Target;\n",
      "\n",
      "public class A {\n",
      "    static class My {\n",
      "        static class Builder {\n",
      "            public My build() {\n",
      "                return new My(); } } }\n",
      "\n",
      "    @Target({ElementType.METHOD, ElementType.TYPE_USE})\n",
      "    public @interface NotNull { }\n",
      "\n",
      "    @Target({ElementType.METHOD, ElementType.TYPE_USE})\n",
      "    public @interface Other { }\n",
      "\n",
      "    public static @NotNull @Other My.@NotNull @Other Builder createBuilder() {\n",
      "        return new My.Builder();\n",
      "    }\n",
      "}\n",
      "</code></pre>\n",
      "\n",
      "doc id :  49 ----- question ID : 60624851\n",
      "Tags :  <ios><swift><combine> \n",
      " <p>I see how to use <code>.retry</code> directly, to resubscribe after an error, like this:</p>\n",
      "\n",
      "<pre><code>    URLSession.shared.dataTaskPublisher(for:url)\n",
      "        .retry(3)\n",
      "</code></pre>\n",
      "\n",
      "<p>But that seems awfully simple-minded. What if I think that this error might go away if I wait awhile? I could insert a <code>.delay</code> operator, but then the delay operates even if there is no error. And there doesn't seem to be a way to apply an operator conditionally (i.e. only when there's an error).</p>\n",
      "\n",
      "<p>I see how I could work around this by writing a RetryWithDelay operator from scratch, and indeed such an operator has been written by third parties. But is there a way to say \"delay if there's an error\", purely using the operators we're given?</p>\n",
      "\n",
      "<p>My thought was that I could use <code>.catch</code>, because its function runs only if there is an error. But the function needs to return a publisher, and what publisher would we use? If we return <code>somePublisher.delay(...)</code> followed by <code>.retry</code>, we'd be applying <code>.retry</code> to the wrong publisher, wouldn't we?</p>\n",
      "\n",
      "doc id :  79 ----- question ID : 63646183\n",
      "Tags :  <typescript> \n",
      " <p>A function initially doesn't allow to change read-only properties (e.g. <code>name</code> in ES6):</p>\n",
      "<pre><code>let foo = function (n: number) {\n",
      "    return n;\n",
      "}\n",
      "\n",
      "foo.name = 'not foo'; // Cannot assign to 'name' because it is a read-only property\n",
      "</code></pre>\n",
      "<p>In order to work this around, <code>Writable</code> utility type from the reference was used:</p>\n",
      "<pre><code>type Writable&lt;T&gt; = {\n",
      "  -readonly [K in keyof T]: T[K];\n",
      "};\n",
      "</code></pre>\n",
      "<p>1. Read-only <code>name</code> is not affected by an intersection:</p>\n",
      "<pre><code>let writableFoo: typeof foo &amp; { name: string } = foo;\n",
      "writableFoo.name = 'not foo'; // Cannot assign to 'name' because it is a read-only property\n",
      "</code></pre>\n",
      "<p>2. <code>Writable</code> doesn't get <code>name</code> from function type and is not callable:</p>\n",
      "<pre><code>let writableFoo: Writable&lt;typeof foo&gt; = foo;\n",
      "writableFoo.name = 'not foo'; // Property 'name' does not exist on type 'Writable&lt;(n: number) =&gt; number&gt;'\n",
      "writableFoo(1); // This expression is not callable\n",
      "</code></pre>\n",
      "<p>3. <code>Writable</code> gets <code>name</code> from <code>Function</code> but is still not callable:</p>\n",
      "<pre><code>let writableFoo: Writable&lt;Function&gt; = foo;\n",
      "writableFoo.name = 'not foo';\n",
      "writableFoo(1); // This expression is not callable\n",
      "</code></pre>\n",
      "<p>4. <code>Omit</code> uses index signature and is not callable either:</p>\n",
      "<pre><code>let writableFoo: Omit&lt;typeof foo, 'name'&gt; &amp; { name: string } = foo;\n",
      "writableFoo.name = 'not foo';\n",
      "writableFoo(1); // This expression is not callable\n",
      "</code></pre>\n",
      "<p>The objective here is to type <code>writableFoo</code> to keep <code>writableFoo</code> callable and allow <code>name</code> to be changed, preferably without modifying other properties with <code>Writable</code>. It doesn't try to solve a specific coding problem but investigate specified type issues.</p>\n",
      "<p>Why does 1 not affect <code>readonly</code> modifier by intersection type?</p>\n",
      "<p>Why does 2 not get <code>name</code> despite it's recognized for <code>typeof foo</code> as <code>foo.name</code>?</p>\n",
      "<p>How can 2-4 get call signature while removing <code>readonly</code> modifier from <code>name</code>?</p>\n",
      "\n",
      "doc id :  82 ----- question ID : 61278180\n",
      "Tags :  <c++><syntax><floating-point><c++17><pseudo-destructor> \n",
      " <p>Consider the following demonstrative program.</p>\n",
      "\n",
      "<pre><code>#include &lt;iostream&gt;\n",
      "\n",
      "int main()\n",
      "{\n",
      "    typedef float T;\n",
      "\n",
      "    0.f.T::~T();\n",
      "}\n",
      "</code></pre>\n",
      "\n",
      "<p>This program is compiled by <code>Microsoft Visual Studio Community 2019</code>.</p>\n",
      "\n",
      "<p>But <code>clang</code> and <code>gcc</code> issue an error like this</p>\n",
      "\n",
      "<pre><code>prog.cc:7:5: error: unable to find numeric literal operator 'operator\"\"f.T'\n",
      "    7 |     0.f.T::~T();\n",
      "      |     ^~~~~\n",
      "</code></pre>\n",
      "\n",
      "<p>If to write the expression like <code>( 0.f ).T::~T()</code> then all three compilers compile the program.</p>\n",
      "\n",
      "<p>So a question arises: is this record <code>0.f.T::~T()</code> syntactically valid? And if not, then what syntactical rule is broken? </p>\n",
      "\n",
      "doc id :  84 ----- question ID : 67619477\n",
      "Tags :  <c><language-lawyer> \n",
      " <p>Is</p>\n",
      "<pre><code>int main()\n",
      "{\n",
      "    int a;\n",
      "    int b = (a = 0, a) + (a = 1, a);\n",
      "}\n",
      "</code></pre>\n",
      "<p>defined? Without the <code>, a</code> in each term, the program behaviour is clearly undefined due to multiple unsequenced writes to <code>a</code>, but don't the <code>,</code> introduce adequate sequencing points?</p>\n",
      "\n",
      "doc id :  88 ----- question ID : 66843397\n",
      "Tags :  <javascript><firebase-realtime-database> \n",
      " <p>I have an app where one user hosts a game, and then other users can vote on questions from the host. From the moment the host posts the question, the players have 20 seconds to vote.</p>\n",
      "<p>How can I show a countdown timer on all player's screens and keep them synchronized with the host?</p>\n",
      "\n",
      "done\n"
     ]
    }
   ],
   "source": [
    "# i is the doc id which starts from zero\n",
    "i=0\n",
    "try:\n",
    "    while(True):\n",
    "        tags = es.get(index='questions',id=i)['_source']['Tags']\n",
    "        tokenized_tags = tokenizer(tags)\n",
    "    \n",
    "        res = es.search(index='questions',query={\"bool\": {\"must_not\": {\"match\": {\"Body\":tokenized_tags }},\"filter\":{\"ids\":{ \"values\": [i] }}}})\n",
    "        value = res['hits']['total']['value'] # number of hits\n",
    "        if value :\n",
    "            res = es.get(index='questions',id=i)['_source']\n",
    "            print('doc id : ',i,'-----','question ID :',res['ID'])\n",
    "            print ('Tags : ', res['Tags'], \"\\n\",res['Body'])\n",
    "        i+=1\n",
    "except:\n",
    "    print('done')"
   ]
  },
  {
   "cell_type": "markdown",
   "metadata": {},
   "source": [
    "PART 2 : "
   ]
  },
  {
   "cell_type": "code",
   "execution_count": 60,
   "metadata": {},
   "outputs": [],
   "source": [
    "import pandas as pd\n",
    "df_a = pd.read_csv('C:\\\\Users\\\\A\\\\Music\\\\repos\\\\Information-Retrieval\\\\data\\\\answers.csv').fillna(\"\")"
   ]
  },
  {
   "cell_type": "code",
   "execution_count": 63,
   "metadata": {},
   "outputs": [
    {
     "data": {
      "text/plain": [
       "ObjectApiResponse({'acknowledged': True, 'shards_acknowledged': True, 'index': 'answers'})"
      ]
     },
     "execution_count": 63,
     "metadata": {},
     "output_type": "execute_result"
    }
   ],
   "source": [
    "mapping = {\n",
    "     \"properties\": {\n",
    "            \"ParentId\": {\"type\": \"integer\"},\n",
    "            \"CreationDate\": {\"type\": \"date\",\"format\": \"yyyy-MM-dd HH:mm:ss\"},\n",
    "            \"Score\": {\"type\": \"integer\"},\n",
    "            \"Body\": {\"type\": \"text\"},\n",
    "         }}\n",
    "\n",
    "es.indices.create(index=\"answers\",mappings=mapping)"
   ]
  },
  {
   "cell_type": "code",
   "execution_count": 64,
   "metadata": {},
   "outputs": [],
   "source": [
    "for i,row in df_a.iterrows():\n",
    "  doc = {\n",
    "      \"ParentId\" : row['ParentId'],\n",
    "      \"CreationDate\" : row[\"CreationDate\"],\n",
    "      \"Score\" : row[\"Score\"],\n",
    "      \"Body\" : row[\"Body\"],\n",
    "  }\n",
    "  es.index(index=\"answers\",id=i,document=doc)"
   ]
  },
  {
   "cell_type": "markdown",
   "metadata": {},
   "source": [
    "assignment 4"
   ]
  },
  {
   "cell_type": "code",
   "execution_count": 70,
   "metadata": {},
   "outputs": [],
   "source": [
    "def search_Id_Lowscore(id,score):\n",
    "    results = es.search(index='answers',query={\"bool\": {\"must\": [{\"term\": {\"ParentId\": id}}],\"filter\":{\"range\":{\"Score\": {\"gte\": score}}}}})\n",
    "    all_hits = results['hits']['hits']\n",
    "    print(results['hits']['total']['value'],' results \\n')\n",
    "    if results['hits']['total']['value'] == 0:\n",
    "        print('NOT FOUND')  \n",
    "    else:\n",
    "        for num, doc in enumerate(all_hits):\n",
    "            print (\"DOC ID:\", doc[\"_id\"], \"--->\",\"ParentId:\", doc['_source']['ParentId'], \"--->\",\"Score = \",doc['_source']['Score'],\"\\n\" ,doc['_source']['Body'], \"\\n\")"
   ]
  },
  {
   "cell_type": "code",
   "execution_count": 74,
   "metadata": {},
   "outputs": [
    {
     "name": "stdout",
     "output_type": "stream",
     "text": [
      "13  results \n",
      "\n",
      "DOC ID: 3 ---> ParentId: 62496779 ---> Score =  36 \n",
      " <p>Currently you cannot open an elevated <code>wt.exe</code> session from the command line without workarounds. Workarounds include using <a href=\"https://github.com/microsoft/terminal/issues/632#issuecomment-616740964\" rel=\"noreferrer\">gsudo</a>, Using <a href=\"https://github.com/microsoft/terminal/issues/632#issuecomment-616740964\" rel=\"noreferrer\">Task Scheduler</a> (I tested this one and it works but you need to use the full path to wt.exe and you can skip the shortcut creation step) OR if you are ok with a keyboard shortcut, the simplest way; using a keyboard shortcut to run Windows Terminal as Admin from the taskbar.</p>\n",
      "<p>For your use case:</p>\n",
      "<blockquote>\n",
      "<p>For my specific instance, I simply want to make it simpler to pop open\n",
      "an admin terminal, I don't need a way to elevate arbitrary commands,\n",
      "then I will happily use the commands I have already shown here.</p>\n",
      "</blockquote>\n",
      "<p>The simplest approach will work:</p>\n",
      "<p><strong>Pin Windows Terminal as the first item on the task bar. Then hit Win+Ctrl+Shift+1 to open it as admin.</strong></p>\n",
      "<p>If you really must launch Windows Terminal from the command line from within Windows Terminal then create a task in the Task Scheduler:</p>\n",
      "<ol>\n",
      "<li>Give the task a name, check 'Run with highest privileges'.</li>\n",
      "<li>Choose the 'Actions' tab, click 'New', select 'Start a program' as the action. Put the full path to <code>wt.exe</code> in the 'Program/script field'. Click OK. Click OK again.</li>\n",
      "<li>Click 'Conditions' tab, uncheck &quot;Start the task only if the computer is on AC power&quot;.</li>\n",
      "<li>Click 'Settings' tab, make sure &quot;Allow task to be run on demand&quot; is checked and uncheck &quot;Stop the task if running for longer than&quot;.</li>\n",
      "<li>Finally in your shell (Powershell), launch an elevated Windows Terminal session by running the command: <code>schtasks /run /TN &quot;TASK_NAME&quot;</code> where TASK_NAME is the name you gave the task in step 1.</li>\n",
      "</ol>\n",
      " \n",
      "\n",
      "DOC ID: 4 ---> ParentId: 62496779 ---> Score =  2 \n",
      " <p>In my particular case I also need Windows Terminal opened as administrator all the time. This is what I did, run &quot;where wt&quot; to display the path where Windows Terminal application exe is located, it should be C:\\Users\\YOURUSER\\AppData\\Local\\Microsoft\\WindowsApps\\wt.exe.\n",
      "I created a shortcut to that file and checked &quot;Run as administrator&quot; in the advanced properties, then I just pinned it to start and voila. You can delete your temporary shortcut after that if you want.</p>\n",
      " \n",
      "\n",
      "DOC ID: 5 ---> ParentId: 62496779 ---> Score =  17 \n",
      " <p>Try this:</p>\n",
      "<pre><code>powershell &quot;Start-Process -Verb RunAs cmd.exe '/c start wt.exe'&quot;\n",
      "</code></pre>\n",
      "<p>Also check out these links:</p>\n",
      "<p>WT.exe command line arguments:\n",
      "<a href=\"https://learn.microsoft.com/en-us/windows/terminal/command-line-arguments?tabs=windows\" rel=\"noreferrer\">https://learn.microsoft.com/en-us/windows/terminal/command-line-arguments?tabs=windows</a></p>\n",
      "<p>Article about adding Open Windows Terminal Command Prompt to the context menu in Explorer (includes Admin):\n",
      "<a href=\"https://dkcool.tailnet.net/2020/07/add-open-windows-terminal-command-prompt-to-the-explorer-context-menu-in-windows-10/\" rel=\"noreferrer\">https://dkcool.tailnet.net/2020/07/add-open-windows-terminal-command-prompt-to-the-explorer-context-menu-in-windows-10/</a></p>\n",
      "<p>Article about adding Open Admin Command Prompt to the context menu in Explorer:\n",
      "<a href=\"https://dkcool.tailnet.net/2019/05/add-open-admin-command-prompt-to-the-explorer-context-menu-in-windows-10/\" rel=\"noreferrer\">https://dkcool.tailnet.net/2019/05/add-open-admin-command-prompt-to-the-explorer-context-menu-in-windows-10/</a></p>\n",
      " \n",
      "\n",
      "DOC ID: 7 ---> ParentId: 62496779 ---> Score =  15 \n",
      " <p>Not a direct answer but another option if you have <a href=\"https://github.com/microsoft/PowerToys\" rel=\"noreferrer\">PowerToys</a> is to:</p>\n",
      "<ol>\n",
      "<li>Alt + Space, type Terminal,</li>\n",
      "<li>Select Run as Administrator (or Ctrl + Shift + Enter)</li>\n",
      "</ol>\n",
      "<p>You can install PowerToys using <a href=\"https://github.com/microsoft/winget-cli\" rel=\"noreferrer\">WinGet</a></p>\n",
      " \n",
      "\n",
      "DOC ID: 8 ---> ParentId: 62496779 ---> Score =  2 \n",
      " <p>You can create a shortcut to always run Windows Terminal as administrator using this powershell script:</p>\n",
      "<pre><code>$WshShell = New-Object -comObject WScript.Shell\n",
      "$Shortcut = $WshShell.CreateShortcut(&quot;$Home\\Desktop\\Windows Terminal.lnk&quot;)\n",
      "$Shortcut.TargetPath = &quot;$env:LOCALAPPDATA\\Microsoft\\WindowsApps\\Microsoft.WindowsTerminal_8wekyb3d8bbwe\\wt.exe&quot;\n",
      "$Shortcut.Save()\n",
      "\n",
      "$bytes = [System.IO.File]::ReadAllBytes(&quot;$Home\\Desktop\\Windows Terminal.lnk&quot;)\n",
      "$bytes[0x15] = $bytes[0x15] -bor 0x20 #set byte 21 (0x15) bit 6 (0x20) ON \n",
      "[System.IO.File]::WriteAllBytes(&quot;$Home\\Desktop\\Windows Terminal.lnk&quot;, $bytes)\n",
      "</code></pre>\n",
      "<p>You can just paste it and run it from Windows Powershell ISE, it will create a Windows Terminal.lnk file on your desktop. Whenever you double click on that shortcut Windows terminal will run as an admnnistrator</p>\n",
      " \n",
      "\n",
      "DOC ID: 9 ---> ParentId: 62496779 ---> Score =  1 \n",
      " <p>I know this answer does not fully match your question but given that also other answers were oriented in this way I hope this won't disturb the discussion.</p>\n",
      "<p>I always need to run PowerShell as Administrator and I only want to use Windows Terminal, which given it's restrictions cannot be configured to run always as Administrator.</p>\n",
      "<p>I hated the need to use shortcuts and other hacks I found being suggested online, so I think I found a better solution but you have to pay the cost of a 1/2 seconds at startup.</p>\n",
      "<ol>\n",
      "<li>Locate your user profile (A profile is a Windows PowerShell ISE script that runs automatically when you start a new session) using _ $PROFILE</li>\n",
      "<li>Edit profile with any preferred editor _ code $PROFILE</li>\n",
      "<li>Adde the following code to the profile file and save it</li>\n",
      "</ol>\n",
      "<pre><code>if (-NOT ([Security.Principal.WindowsPrincipal] [Security.Principal.WindowsIdentity]::GetCurrent()).IsInRole([Security.Principal.WindowsBuiltInRole] &quot;Administrator&quot;)) {\n",
      "    $host.ui.rawui.windowtitle=&quot;Bootstrapper&quot;\n",
      "    Start-Process -Verb RunAs wt\n",
      "} else {\n",
      "    $Processes = Get-Process | Where-Object {$_.mainWindowTitle -eq 'Bootstrapper' -and $_.name -eq 'WindowsTerminal'}\n",
      "    if($Processes.count -gt 0)\n",
      "    {\n",
      "        Stop-Process -Id $Processes[0].id\n",
      "    }\n",
      "}\n",
      "</code></pre>\n",
      "<p>What the script do?\n",
      "You can pin Windows Terminal icon to your application bar and when you click there WT will start as non elevated user, but the profile will understand if this is the case.\n",
      "When you are not running as Administrator it will change the name of the window and start a new WT as administrator.\n",
      "The new instance will also execute the profile file and if the instance is runinng as Administrator, it will look for the WT named Bootstrapper and kill it.\n",
      "This proces takes between one and two seconds, I prefer this way other than right clicking on the icon.</p>\n",
      " \n",
      "\n",
      "DOC ID: 10 ---> ParentId: 62496779 ---> Score =  12 \n",
      " <p>With recent releases, this issue appears to be fixed.  It works now, doing exactly as you originally tried and failed (<code>Start-Process -verb RunAs wt</code>).  I would recommend trying again now with the latest releases (at least Windows Terminal, and perhaps PowerShell as well).</p>\n",
      "<p>No need for workarounds anymore!!</p>\n",
      " \n",
      "\n",
      "DOC ID: 11 ---> ParentId: 62496779 ---> Score =  0 \n",
      " <p>It's likely you were just facing a Path issue.  I know that the command examples you gave (e.g. <code>Start-Process -verb RunAs wt</code>) have worked for me for some time (as mentioned in @fialdrexs's answer).</p>\n",
      "<p>Did you install Windows Terminal from a Github release or from the Store?</p>\n",
      " \n",
      "\n",
      "DOC ID: 12 ---> ParentId: 62496779 ---> Score =  -2 \n",
      " <p>Currently this problem was fixed, but it ended up with a weird issue. Running <code>wt.exe</code> from Win+R, searching it on start menu, and starting itself from the terminal, show the same error message.</p>\n",
      "<blockquote>\n",
      "<p>The application was unable to start correctly (0xc0000022). Click OK\n",
      "to close the application.</p>\n",
      "</blockquote>\n",
      "<p>However it works when executing <code>wt</code> via Command Prompt, PowerShell, and PowerShell Core.</p>\n",
      "<p>So just a quick workaround answer, start PowerShell and run the command,\n",
      "<code>Start-Process -Verb RunAs wt.exe</code>;\n",
      "or the simpler\n",
      "<code>start -verb runas wt</code></p>\n",
      " \n",
      "\n",
      "DOC ID: 13 ---> ParentId: 62496779 ---> Score =  0 \n",
      " <p>I currently have the following entry in my settings.json profiles list to add an elevated Windows Terminal to the drop down options:</p>\n",
      "<pre><code>{\n",
      "    // https://github.com/microsoft/terminal/issues/632#issuecomment-663686412\n",
      "    &quot;name&quot;: &quot;Windows Terminal (elevated)&quot;,\n",
      "    &quot;commandline&quot;: &quot;%SystemRoot%\\\\System32\\\\WindowsPowerShell\\\\v1.0\\\\powershell.exe -Command Start-Process -Verb RunAs \\&quot;shell:appsFolder\\\\Microsoft.WindowsTerminal_8wekyb3d8bbwe!App\\&quot;&quot;,\n",
      "    &quot;hidden&quot;: false,\n",
      "    &quot;icon&quot;: &quot;ms-appx:///Images/Square44x44Logo.targetsize-32.png&quot;\n",
      "}\n",
      "</code></pre>\n",
      "<p>The comment with the GitHub link should get you to where I originally found this information.</p>\n",
      " \n",
      "\n"
     ]
    }
   ],
   "source": [
    "search_Id_Lowscore(62496779,-100)"
   ]
  },
  {
   "cell_type": "code",
   "execution_count": 76,
   "metadata": {},
   "outputs": [
    {
     "name": "stdout",
     "output_type": "stream",
     "text": [
      "3  results \n",
      "\n",
      "DOC ID: 3 ---> ParentId: 62496779 ---> Score =  36 \n",
      " <p>Currently you cannot open an elevated <code>wt.exe</code> session from the command line without workarounds. Workarounds include using <a href=\"https://github.com/microsoft/terminal/issues/632#issuecomment-616740964\" rel=\"noreferrer\">gsudo</a>, Using <a href=\"https://github.com/microsoft/terminal/issues/632#issuecomment-616740964\" rel=\"noreferrer\">Task Scheduler</a> (I tested this one and it works but you need to use the full path to wt.exe and you can skip the shortcut creation step) OR if you are ok with a keyboard shortcut, the simplest way; using a keyboard shortcut to run Windows Terminal as Admin from the taskbar.</p>\n",
      "<p>For your use case:</p>\n",
      "<blockquote>\n",
      "<p>For my specific instance, I simply want to make it simpler to pop open\n",
      "an admin terminal, I don't need a way to elevate arbitrary commands,\n",
      "then I will happily use the commands I have already shown here.</p>\n",
      "</blockquote>\n",
      "<p>The simplest approach will work:</p>\n",
      "<p><strong>Pin Windows Terminal as the first item on the task bar. Then hit Win+Ctrl+Shift+1 to open it as admin.</strong></p>\n",
      "<p>If you really must launch Windows Terminal from the command line from within Windows Terminal then create a task in the Task Scheduler:</p>\n",
      "<ol>\n",
      "<li>Give the task a name, check 'Run with highest privileges'.</li>\n",
      "<li>Choose the 'Actions' tab, click 'New', select 'Start a program' as the action. Put the full path to <code>wt.exe</code> in the 'Program/script field'. Click OK. Click OK again.</li>\n",
      "<li>Click 'Conditions' tab, uncheck &quot;Start the task only if the computer is on AC power&quot;.</li>\n",
      "<li>Click 'Settings' tab, make sure &quot;Allow task to be run on demand&quot; is checked and uncheck &quot;Stop the task if running for longer than&quot;.</li>\n",
      "<li>Finally in your shell (Powershell), launch an elevated Windows Terminal session by running the command: <code>schtasks /run /TN &quot;TASK_NAME&quot;</code> where TASK_NAME is the name you gave the task in step 1.</li>\n",
      "</ol>\n",
      " \n",
      "\n",
      "DOC ID: 5 ---> ParentId: 62496779 ---> Score =  17 \n",
      " <p>Try this:</p>\n",
      "<pre><code>powershell &quot;Start-Process -Verb RunAs cmd.exe '/c start wt.exe'&quot;\n",
      "</code></pre>\n",
      "<p>Also check out these links:</p>\n",
      "<p>WT.exe command line arguments:\n",
      "<a href=\"https://learn.microsoft.com/en-us/windows/terminal/command-line-arguments?tabs=windows\" rel=\"noreferrer\">https://learn.microsoft.com/en-us/windows/terminal/command-line-arguments?tabs=windows</a></p>\n",
      "<p>Article about adding Open Windows Terminal Command Prompt to the context menu in Explorer (includes Admin):\n",
      "<a href=\"https://dkcool.tailnet.net/2020/07/add-open-windows-terminal-command-prompt-to-the-explorer-context-menu-in-windows-10/\" rel=\"noreferrer\">https://dkcool.tailnet.net/2020/07/add-open-windows-terminal-command-prompt-to-the-explorer-context-menu-in-windows-10/</a></p>\n",
      "<p>Article about adding Open Admin Command Prompt to the context menu in Explorer:\n",
      "<a href=\"https://dkcool.tailnet.net/2019/05/add-open-admin-command-prompt-to-the-explorer-context-menu-in-windows-10/\" rel=\"noreferrer\">https://dkcool.tailnet.net/2019/05/add-open-admin-command-prompt-to-the-explorer-context-menu-in-windows-10/</a></p>\n",
      " \n",
      "\n",
      "DOC ID: 7 ---> ParentId: 62496779 ---> Score =  15 \n",
      " <p>Not a direct answer but another option if you have <a href=\"https://github.com/microsoft/PowerToys\" rel=\"noreferrer\">PowerToys</a> is to:</p>\n",
      "<ol>\n",
      "<li>Alt + Space, type Terminal,</li>\n",
      "<li>Select Run as Administrator (or Ctrl + Shift + Enter)</li>\n",
      "</ol>\n",
      "<p>You can install PowerToys using <a href=\"https://github.com/microsoft/winget-cli\" rel=\"noreferrer\">WinGet</a></p>\n",
      " \n",
      "\n"
     ]
    }
   ],
   "source": [
    "search_Id_Lowscore(62496779,15)"
   ]
  },
  {
   "cell_type": "markdown",
   "metadata": {},
   "source": [
    "assignment 5"
   ]
  },
  {
   "cell_type": "code",
   "execution_count": 78,
   "metadata": {},
   "outputs": [],
   "source": [
    "def search_text_answers(text):\n",
    "    results = es.search(index='answers',query={\"match_phrase\":{\"Body\":text}})\n",
    "    all_hits = results['hits']['hits']\n",
    "    print(results['hits']['total']['value'],' results \\n')\n",
    "    if results['hits']['total']['value'] == 0:\n",
    "        print('NOT FOUND')  \n",
    "    else:\n",
    "        for num, doc in enumerate(all_hits):\n",
    "            print (\"DOC ID:\", doc[\"_id\"], \"--->\",doc['_source']['Body'], \"\\n\")"
   ]
  },
  {
   "cell_type": "code",
   "execution_count": 84,
   "metadata": {},
   "outputs": [
    {
     "name": "stdout",
     "output_type": "stream",
     "text": [
      "10  results \n",
      "\n",
      "DOC ID: 5 ---> <p>Try this:</p>\n",
      "<pre><code>powershell &quot;Start-Process -Verb RunAs cmd.exe '/c start wt.exe'&quot;\n",
      "</code></pre>\n",
      "<p>Also check out these links:</p>\n",
      "<p>WT.exe command line arguments:\n",
      "<a href=\"https://learn.microsoft.com/en-us/windows/terminal/command-line-arguments?tabs=windows\" rel=\"noreferrer\">https://learn.microsoft.com/en-us/windows/terminal/command-line-arguments?tabs=windows</a></p>\n",
      "<p>Article about adding Open Windows Terminal Command Prompt to the context menu in Explorer (includes Admin):\n",
      "<a href=\"https://dkcool.tailnet.net/2020/07/add-open-windows-terminal-command-prompt-to-the-explorer-context-menu-in-windows-10/\" rel=\"noreferrer\">https://dkcool.tailnet.net/2020/07/add-open-windows-terminal-command-prompt-to-the-explorer-context-menu-in-windows-10/</a></p>\n",
      "<p>Article about adding Open Admin Command Prompt to the context menu in Explorer:\n",
      "<a href=\"https://dkcool.tailnet.net/2019/05/add-open-admin-command-prompt-to-the-explorer-context-menu-in-windows-10/\" rel=\"noreferrer\">https://dkcool.tailnet.net/2019/05/add-open-admin-command-prompt-to-the-explorer-context-menu-in-windows-10/</a></p>\n",
      " \n",
      "\n",
      "DOC ID: 28 ---> <p>Windows Terminal has a feature to <a href=\"https://learn.microsoft.com/en-us/windows/terminal/customize-settings/profile-general#automatically-run-as-administrator-preview\" rel=\"noreferrer\">automatically run as administrator</a> in the preview; no need for workarounds now.</p>\n",
      " \n",
      "\n",
      "DOC ID: 3 ---> <p>Currently you cannot open an elevated <code>wt.exe</code> session from the command line without workarounds. Workarounds include using <a href=\"https://github.com/microsoft/terminal/issues/632#issuecomment-616740964\" rel=\"noreferrer\">gsudo</a>, Using <a href=\"https://github.com/microsoft/terminal/issues/632#issuecomment-616740964\" rel=\"noreferrer\">Task Scheduler</a> (I tested this one and it works but you need to use the full path to wt.exe and you can skip the shortcut creation step) OR if you are ok with a keyboard shortcut, the simplest way; using a keyboard shortcut to run Windows Terminal as Admin from the taskbar.</p>\n",
      "<p>For your use case:</p>\n",
      "<blockquote>\n",
      "<p>For my specific instance, I simply want to make it simpler to pop open\n",
      "an admin terminal, I don't need a way to elevate arbitrary commands,\n",
      "then I will happily use the commands I have already shown here.</p>\n",
      "</blockquote>\n",
      "<p>The simplest approach will work:</p>\n",
      "<p><strong>Pin Windows Terminal as the first item on the task bar. Then hit Win+Ctrl+Shift+1 to open it as admin.</strong></p>\n",
      "<p>If you really must launch Windows Terminal from the command line from within Windows Terminal then create a task in the Task Scheduler:</p>\n",
      "<ol>\n",
      "<li>Give the task a name, check 'Run with highest privileges'.</li>\n",
      "<li>Choose the 'Actions' tab, click 'New', select 'Start a program' as the action. Put the full path to <code>wt.exe</code> in the 'Program/script field'. Click OK. Click OK again.</li>\n",
      "<li>Click 'Conditions' tab, uncheck &quot;Start the task only if the computer is on AC power&quot;.</li>\n",
      "<li>Click 'Settings' tab, make sure &quot;Allow task to be run on demand&quot; is checked and uncheck &quot;Stop the task if running for longer than&quot;.</li>\n",
      "<li>Finally in your shell (Powershell), launch an elevated Windows Terminal session by running the command: <code>schtasks /run /TN &quot;TASK_NAME&quot;</code> where TASK_NAME is the name you gave the task in step 1.</li>\n",
      "</ol>\n",
      " \n",
      "\n",
      "DOC ID: 4 ---> <p>In my particular case I also need Windows Terminal opened as administrator all the time. This is what I did, run &quot;where wt&quot; to display the path where Windows Terminal application exe is located, it should be C:\\Users\\YOURUSER\\AppData\\Local\\Microsoft\\WindowsApps\\wt.exe.\n",
      "I created a shortcut to that file and checked &quot;Run as administrator&quot; in the advanced properties, then I just pinned it to start and voila. You can delete your temporary shortcut after that if you want.</p>\n",
      " \n",
      "\n",
      "DOC ID: 13 ---> <p>I currently have the following entry in my settings.json profiles list to add an elevated Windows Terminal to the drop down options:</p>\n",
      "<pre><code>{\n",
      "    // https://github.com/microsoft/terminal/issues/632#issuecomment-663686412\n",
      "    &quot;name&quot;: &quot;Windows Terminal (elevated)&quot;,\n",
      "    &quot;commandline&quot;: &quot;%SystemRoot%\\\\System32\\\\WindowsPowerShell\\\\v1.0\\\\powershell.exe -Command Start-Process -Verb RunAs \\&quot;shell:appsFolder\\\\Microsoft.WindowsTerminal_8wekyb3d8bbwe!App\\&quot;&quot;,\n",
      "    &quot;hidden&quot;: false,\n",
      "    &quot;icon&quot;: &quot;ms-appx:///Images/Square44x44Logo.targetsize-32.png&quot;\n",
      "}\n",
      "</code></pre>\n",
      "<p>The comment with the GitHub link should get you to where I originally found this information.</p>\n",
      " \n",
      "\n",
      "DOC ID: 8 ---> <p>You can create a shortcut to always run Windows Terminal as administrator using this powershell script:</p>\n",
      "<pre><code>$WshShell = New-Object -comObject WScript.Shell\n",
      "$Shortcut = $WshShell.CreateShortcut(&quot;$Home\\Desktop\\Windows Terminal.lnk&quot;)\n",
      "$Shortcut.TargetPath = &quot;$env:LOCALAPPDATA\\Microsoft\\WindowsApps\\Microsoft.WindowsTerminal_8wekyb3d8bbwe\\wt.exe&quot;\n",
      "$Shortcut.Save()\n",
      "\n",
      "$bytes = [System.IO.File]::ReadAllBytes(&quot;$Home\\Desktop\\Windows Terminal.lnk&quot;)\n",
      "$bytes[0x15] = $bytes[0x15] -bor 0x20 #set byte 21 (0x15) bit 6 (0x20) ON \n",
      "[System.IO.File]::WriteAllBytes(&quot;$Home\\Desktop\\Windows Terminal.lnk&quot;, $bytes)\n",
      "</code></pre>\n",
      "<p>You can just paste it and run it from Windows Powershell ISE, it will create a Windows Terminal.lnk file on your desktop. Whenever you double click on that shortcut Windows terminal will run as an admnnistrator</p>\n",
      " \n",
      "\n",
      "DOC ID: 14 ---> <p>Pin to the Taskbar and hold <kbd>Ctrl + Shift</kbd> while left clicking on the Windows Terminal icon.</p>\n",
      " \n",
      "\n",
      "DOC ID: 10 ---> <p>With recent releases, this issue appears to be fixed.  It works now, doing exactly as you originally tried and failed (<code>Start-Process -verb RunAs wt</code>).  I would recommend trying again now with the latest releases (at least Windows Terminal, and perhaps PowerShell as well).</p>\n",
      "<p>No need for workarounds anymore!!</p>\n",
      " \n",
      "\n",
      "DOC ID: 11 ---> <p>It's likely you were just facing a Path issue.  I know that the command examples you gave (e.g. <code>Start-Process -verb RunAs wt</code>) have worked for me for some time (as mentioned in @fialdrexs's answer).</p>\n",
      "<p>Did you install Windows Terminal from a Github release or from the Store?</p>\n",
      " \n",
      "\n",
      "DOC ID: 9 ---> <p>I know this answer does not fully match your question but given that also other answers were oriented in this way I hope this won't disturb the discussion.</p>\n",
      "<p>I always need to run PowerShell as Administrator and I only want to use Windows Terminal, which given it's restrictions cannot be configured to run always as Administrator.</p>\n",
      "<p>I hated the need to use shortcuts and other hacks I found being suggested online, so I think I found a better solution but you have to pay the cost of a 1/2 seconds at startup.</p>\n",
      "<ol>\n",
      "<li>Locate your user profile (A profile is a Windows PowerShell ISE script that runs automatically when you start a new session) using _ $PROFILE</li>\n",
      "<li>Edit profile with any preferred editor _ code $PROFILE</li>\n",
      "<li>Adde the following code to the profile file and save it</li>\n",
      "</ol>\n",
      "<pre><code>if (-NOT ([Security.Principal.WindowsPrincipal] [Security.Principal.WindowsIdentity]::GetCurrent()).IsInRole([Security.Principal.WindowsBuiltInRole] &quot;Administrator&quot;)) {\n",
      "    $host.ui.rawui.windowtitle=&quot;Bootstrapper&quot;\n",
      "    Start-Process -Verb RunAs wt\n",
      "} else {\n",
      "    $Processes = Get-Process | Where-Object {$_.mainWindowTitle -eq 'Bootstrapper' -and $_.name -eq 'WindowsTerminal'}\n",
      "    if($Processes.count -gt 0)\n",
      "    {\n",
      "        Stop-Process -Id $Processes[0].id\n",
      "    }\n",
      "}\n",
      "</code></pre>\n",
      "<p>What the script do?\n",
      "You can pin Windows Terminal icon to your application bar and when you click there WT will start as non elevated user, but the profile will understand if this is the case.\n",
      "When you are not running as Administrator it will change the name of the window and start a new WT as administrator.\n",
      "The new instance will also execute the profile file and if the instance is runinng as Administrator, it will look for the WT named Bootstrapper and kill it.\n",
      "This proces takes between one and two seconds, I prefer this way other than right clicking on the icon.</p>\n",
      " \n",
      "\n"
     ]
    }
   ],
   "source": [
    "search_text_answers('Windows Terminal')"
   ]
  },
  {
   "cell_type": "code",
   "execution_count": 83,
   "metadata": {},
   "outputs": [
    {
     "name": "stdout",
     "output_type": "stream",
     "text": [
      "18  results \n",
      "\n",
      "DOC ID: 5 ---> <p>Try this:</p>\n",
      "<pre><code>powershell &quot;Start-Process -Verb RunAs cmd.exe '/c start wt.exe'&quot;\n",
      "</code></pre>\n",
      "<p>Also check out these links:</p>\n",
      "<p>WT.exe command line arguments:\n",
      "<a href=\"https://learn.microsoft.com/en-us/windows/terminal/command-line-arguments?tabs=windows\" rel=\"noreferrer\">https://learn.microsoft.com/en-us/windows/terminal/command-line-arguments?tabs=windows</a></p>\n",
      "<p>Article about adding Open Windows Terminal Command Prompt to the context menu in Explorer (includes Admin):\n",
      "<a href=\"https://dkcool.tailnet.net/2020/07/add-open-windows-terminal-command-prompt-to-the-explorer-context-menu-in-windows-10/\" rel=\"noreferrer\">https://dkcool.tailnet.net/2020/07/add-open-windows-terminal-command-prompt-to-the-explorer-context-menu-in-windows-10/</a></p>\n",
      "<p>Article about adding Open Admin Command Prompt to the context menu in Explorer:\n",
      "<a href=\"https://dkcool.tailnet.net/2019/05/add-open-admin-command-prompt-to-the-explorer-context-menu-in-windows-10/\" rel=\"noreferrer\">https://dkcool.tailnet.net/2019/05/add-open-admin-command-prompt-to-the-explorer-context-menu-in-windows-10/</a></p>\n",
      " \n",
      "\n",
      "DOC ID: 8 ---> <p>You can create a shortcut to always run Windows Terminal as administrator using this powershell script:</p>\n",
      "<pre><code>$WshShell = New-Object -comObject WScript.Shell\n",
      "$Shortcut = $WshShell.CreateShortcut(&quot;$Home\\Desktop\\Windows Terminal.lnk&quot;)\n",
      "$Shortcut.TargetPath = &quot;$env:LOCALAPPDATA\\Microsoft\\WindowsApps\\Microsoft.WindowsTerminal_8wekyb3d8bbwe\\wt.exe&quot;\n",
      "$Shortcut.Save()\n",
      "\n",
      "$bytes = [System.IO.File]::ReadAllBytes(&quot;$Home\\Desktop\\Windows Terminal.lnk&quot;)\n",
      "$bytes[0x15] = $bytes[0x15] -bor 0x20 #set byte 21 (0x15) bit 6 (0x20) ON \n",
      "[System.IO.File]::WriteAllBytes(&quot;$Home\\Desktop\\Windows Terminal.lnk&quot;, $bytes)\n",
      "</code></pre>\n",
      "<p>You can just paste it and run it from Windows Powershell ISE, it will create a Windows Terminal.lnk file on your desktop. Whenever you double click on that shortcut Windows terminal will run as an admnnistrator</p>\n",
      " \n",
      "\n",
      "DOC ID: 147 ---> <p>I encounered this problem yesterday,and I has fixed it by update all available windows update.</p>\n",
      "<p><a href=\"https://support.microsoft.com/en-us/windows/what-to-try-if-your-touchscreen-doesn-t-work-f159b366-b3ef-99ad-24a4-31a4c62ab46d\" rel=\"nofollow noreferrer\">https://support.microsoft.com/en-us/windows/what-to-try-if-your-touchscreen-doesn-t-work-f159b366-b3ef-99ad-24a4-31a4c62ab46d</a></p>\n",
      " \n",
      "\n",
      "DOC ID: 28 ---> <p>Windows Terminal has a feature to <a href=\"https://learn.microsoft.com/en-us/windows/terminal/customize-settings/profile-general#automatically-run-as-administrator-preview\" rel=\"noreferrer\">automatically run as administrator</a> in the preview; no need for workarounds now.</p>\n",
      " \n",
      "\n",
      "DOC ID: 145 ---> <p>After going through quite a few discussions, documentations and Chromium issues here are the details related to the surfacing of the log message:</p>\n",
      "<pre><code>[9848:10684:1201/013233.169:ERROR:device_event_log_impl.cc(211)] [01:32:33.170] USB: usb_device_handle_win.cc:1020 Failed to read descriptor from node connection: A device attached to the system is not functioning. (0x1F)\n",
      "</code></pre>\n",
      "<hr />\n",
      "<h2>Details</h2>\n",
      "<p>It all started with the reporting of <em>chromium</em> issue <a href=\"https://bugs.chromium.org/p/chromium/issues/detail?id=637404\" rel=\"noreferrer\">Remove WebUSB's dependency on libusb on Windows</a> as:</p>\n",
      "<ul>\n",
      "<li>For Linux (probably Mac as well), both WebUSB notification and communication works correctly (after allowing user access to the device in udev rules).</li>\n",
      "<li>For Windows, it seems that libusb only works with a non-standard WinUsb driver (<a href=\"https://github.com/libusb/libusb/issues/255\" rel=\"noreferrer\">https://github.com/libusb/libusb/issues/255</a>).</li>\n",
      "</ul>\n",
      "<p>When the hardware is inserted and the VID/PID is unknown to the system, windows 10 correctly loads it's CDC driver for the CDC part and the WinUSB driver (version 10) for the WebUSB part (no red flags).  However, it seems that chrome never finds the device until I manually force an older WinUSB driver (version 6 - probably modified also) on the interface.</p>\n",
      "<p>The solution was implemented in a step-wise manner as follows:</p>\n",
      "<ol>\n",
      "<li><a href=\"https://bugs.chromium.org/p/chromium/issues/detail?id=637404#c10\" rel=\"noreferrer\">Start supporting some transfers in the new Windows USB backend</a></li>\n",
      "<li><a href=\"https://bugs.chromium.org/p/chromium/issues/detail?id=637404#c12\" rel=\"noreferrer\">Fix bulk/interrupt transfers in the new Windows USB backend</a></li>\n",
      "<li><a href=\"https://bugs.chromium.org/p/chromium/issues/detail?id=637404#c19\" rel=\"noreferrer\">[usb] Read BOS descriptors from the hub driver on Windows</a></li>\n",
      "<li><a href=\"https://bugs.chromium.org/p/chromium/issues/detail?id=637404#c21\" rel=\"noreferrer\">[usb] Collect all composite devices paths during enumeration on Windows</a></li>\n",
      "<li><a href=\"https://bugs.chromium.org/p/chromium/issues/detail?id=637404#c22\" rel=\"noreferrer\">[usb] Remove out parameters in UsbServiceWin helper functions</a></li>\n",
      "<li><a href=\"https://bugs.chromium.org/p/chromium/issues/detail?id=637404#c23\" rel=\"noreferrer\">[usb] Support composite devices in the new Windows backend</a></li>\n",
      "<li><a href=\"https://bugs.chromium.org/p/chromium/issues/detail?id=637404#c24\" rel=\"noreferrer\">[usb] Detect USB functions as Windows enumerates them</a></li>\n",
      "<li><a href=\"https://bugs.chromium.org/p/chromium/issues/detail?id=637404#c25\" rel=\"noreferrer\">[usb] Support composite devices with multiple functions</a></li>\n",
      "<li><a href=\"https://bugs.chromium.org/p/chromium/issues/detail?id=637404#c26\" rel=\"noreferrer\">[usb] Hold interface requests until Windows enumerates functions</a></li>\n",
      "<li><a href=\"https://bugs.chromium.org/p/chromium/issues/detail?id=637404#c27\" rel=\"noreferrer\">[usb] Add direction parameter to ClearHalt</a></li>\n",
      "<li><a href=\"https://bugs.chromium.org/p/chromium/issues/detail?id=637404#c28\" rel=\"noreferrer\">[usb] Count references to a WINUSB_INTERFACE_HANDLE</a></li>\n",
      "<li><a href=\"https://bugs.chromium.org/p/chromium/issues/detail?id=637404#c29\" rel=\"noreferrer\">[usb] Implement blocking operations in the Windows backend</a></li>\n",
      "</ol>\n",
      "<p>These changes ensured that the new backend was ready to be tested and was available through <a href=\"https://stackoverflow.com/questions/47656059/chrome-canary-headless-mode-does-not-work-on-windows10/47674154#47674154\">Chrome Canary</a> and chrome-dev-channel which you can access manually through:</p>\n",
      "<pre><code>chrome://flags#enable-new-usb-backend\n",
      "</code></pre>\n",
      "<p>More change requests were submitted as follows:</p>\n",
      "<ul>\n",
      "<li><a href=\"https://bugs.chromium.org/p/chromium/issues/detail?id=637404#c33\" rel=\"noreferrer\">[usb] Mark calls to SetupDiGetDeviceProperty as potentially blocking</a>: According to hang reports this function performs an RPC call which may take some time to complete. Mark calls with a base::ScopedBlockingCall so that the thread pool knows this task may be busy for a while.</li>\n",
      "<li><a href=\"https://bugs.chromium.org/p/chromium/issues/detail?id=637404#c34\" rel=\"noreferrer\">variations: Enable NewUsbBackend in field trial testing config</a>: This flag was experimental as beta-channel uses this change configuration as the default for testing.</li>\n",
      "</ul>\n",
      "<p>As the experimental launch of the new backend appeared to be stable, finally these configuration was enabled by default so that the chanege rolls out to all users of <a href=\"https://developers.google.com/web/updates/2020/11/nic87\" rel=\"noreferrer\"><strong>Chrome 87</strong></a> through <a href=\"https://bugs.chromium.org/p/chromium/issues/detail?id=637404#c35\" rel=\"noreferrer\">usb: Enable new Windows USB backend by default</a>. <a href=\"https://chromium.googlesource.com/chromium/src.git/+/999983a0fd1d3bea655df1f6d6e3bd9e3f3e2feb\" rel=\"noreferrer\">Revision</a> / <a href=\"https://chromium.googlesource.com/chromium/src/+/999983a0fd1d3bea655df1f6d6e3bd9e3f3e2feb\" rel=\"noreferrer\">Commit</a></p>\n",
      "<p>The idea was once this configuration becomes the default for a few milestones, <em>Chromium Team</em> will start removing the Windows-specific code from the old back-end and remove the flag.</p>\n",
      "<hr />\n",
      "<h2>Road Ahead</h2>\n",
      "<p><em>Chromium Team</em> have already merged the <a href=\"https://chromium.googlesource.com/chromium/src.git/+/3182b136ef56eadaf927a2f35446ddb06b133d9e\" rel=\"noreferrer\">revision</a>/<a href=\"https://crrev.com/3182b136ef56eadaf927a2f35446ddb06b133d9e\" rel=\"noreferrer\">commit</a> to <a href=\"https://bugs.chromium.org/p/chromium/issues/detail?id=637404#c37\" rel=\"noreferrer\">Extend new-usb-backend flag expiration</a> within <strong>Chrome v90</strong> which will be available soon.</p>\n",
      "<hr />\n",
      "<h2>Update</h2>\n",
      "<p>As per <a href=\"https://stackoverflow.com/users/4275660/reilly-grant\">@ReillyGrant</a>'s [Committer, WebDriver for Google Chrome] <a href=\"https://stackoverflow.com/questions/65080685/usb-usb-device-handle-win-cc1020-failed-to-read-descriptor-from-node-connectio/65081791#comment115197946_65081791\">comment</a> :</p>\n",
      "<blockquote>\n",
      "<p><em>...&quot; it would be good to reduce the log level for these messages so they don't appear on the console by default but we haven't landed code to do that yet&quot;...</em></p>\n",
      "</blockquote>\n",
      "<hr />\n",
      "<h2>References</h2>\n",
      "<p>You can find a couple of relevant detailed discussions in:</p>\n",
      "<ul>\n",
      "<li><a href=\"https://stackoverflow.com/questions/64927909/failed-to-read-descriptor-from-node-connection-a-device-attached-to-the-system/64928509#64928509\">Failed to read descriptor from node connection: A device attached to the system is not functioning error using ChromeDriver Selenium on Windows OS</a></li>\n",
      "<li><a href=\"https://stackoverflow.com/questions/64940553/failed-to-read-descriptor-from-node-connection-a-device-attached-to-the-system/64947966#64947966\">Failed to read descriptor from node connection: A device attached to the system is not functioning error using ChromeDriver Chrome through Selenium</a></li>\n",
      "</ul>\n",
      " \n",
      "\n",
      "DOC ID: 3 ---> <p>Currently you cannot open an elevated <code>wt.exe</code> session from the command line without workarounds. Workarounds include using <a href=\"https://github.com/microsoft/terminal/issues/632#issuecomment-616740964\" rel=\"noreferrer\">gsudo</a>, Using <a href=\"https://github.com/microsoft/terminal/issues/632#issuecomment-616740964\" rel=\"noreferrer\">Task Scheduler</a> (I tested this one and it works but you need to use the full path to wt.exe and you can skip the shortcut creation step) OR if you are ok with a keyboard shortcut, the simplest way; using a keyboard shortcut to run Windows Terminal as Admin from the taskbar.</p>\n",
      "<p>For your use case:</p>\n",
      "<blockquote>\n",
      "<p>For my specific instance, I simply want to make it simpler to pop open\n",
      "an admin terminal, I don't need a way to elevate arbitrary commands,\n",
      "then I will happily use the commands I have already shown here.</p>\n",
      "</blockquote>\n",
      "<p>The simplest approach will work:</p>\n",
      "<p><strong>Pin Windows Terminal as the first item on the task bar. Then hit Win+Ctrl+Shift+1 to open it as admin.</strong></p>\n",
      "<p>If you really must launch Windows Terminal from the command line from within Windows Terminal then create a task in the Task Scheduler:</p>\n",
      "<ol>\n",
      "<li>Give the task a name, check 'Run with highest privileges'.</li>\n",
      "<li>Choose the 'Actions' tab, click 'New', select 'Start a program' as the action. Put the full path to <code>wt.exe</code> in the 'Program/script field'. Click OK. Click OK again.</li>\n",
      "<li>Click 'Conditions' tab, uncheck &quot;Start the task only if the computer is on AC power&quot;.</li>\n",
      "<li>Click 'Settings' tab, make sure &quot;Allow task to be run on demand&quot; is checked and uncheck &quot;Stop the task if running for longer than&quot;.</li>\n",
      "<li>Finally in your shell (Powershell), launch an elevated Windows Terminal session by running the command: <code>schtasks /run /TN &quot;TASK_NAME&quot;</code> where TASK_NAME is the name you gave the task in step 1.</li>\n",
      "</ol>\n",
      " \n",
      "\n",
      "DOC ID: 4 ---> <p>In my particular case I also need Windows Terminal opened as administrator all the time. This is what I did, run &quot;where wt&quot; to display the path where Windows Terminal application exe is located, it should be C:\\Users\\YOURUSER\\AppData\\Local\\Microsoft\\WindowsApps\\wt.exe.\n",
      "I created a shortcut to that file and checked &quot;Run as administrator&quot; in the advanced properties, then I just pinned it to start and voila. You can delete your temporary shortcut after that if you want.</p>\n",
      " \n",
      "\n",
      "DOC ID: 13 ---> <p>I currently have the following entry in my settings.json profiles list to add an elevated Windows Terminal to the drop down options:</p>\n",
      "<pre><code>{\n",
      "    // https://github.com/microsoft/terminal/issues/632#issuecomment-663686412\n",
      "    &quot;name&quot;: &quot;Windows Terminal (elevated)&quot;,\n",
      "    &quot;commandline&quot;: &quot;%SystemRoot%\\\\System32\\\\WindowsPowerShell\\\\v1.0\\\\powershell.exe -Command Start-Process -Verb RunAs \\&quot;shell:appsFolder\\\\Microsoft.WindowsTerminal_8wekyb3d8bbwe!App\\&quot;&quot;,\n",
      "    &quot;hidden&quot;: false,\n",
      "    &quot;icon&quot;: &quot;ms-appx:///Images/Square44x44Logo.targetsize-32.png&quot;\n",
      "}\n",
      "</code></pre>\n",
      "<p>The comment with the GitHub link should get you to where I originally found this information.</p>\n",
      " \n",
      "\n",
      "DOC ID: 14 ---> <p>Pin to the Taskbar and hold <kbd>Ctrl + Shift</kbd> while left clicking on the Windows Terminal icon.</p>\n",
      " \n",
      "\n",
      "DOC ID: 9 ---> <p>I know this answer does not fully match your question but given that also other answers were oriented in this way I hope this won't disturb the discussion.</p>\n",
      "<p>I always need to run PowerShell as Administrator and I only want to use Windows Terminal, which given it's restrictions cannot be configured to run always as Administrator.</p>\n",
      "<p>I hated the need to use shortcuts and other hacks I found being suggested online, so I think I found a better solution but you have to pay the cost of a 1/2 seconds at startup.</p>\n",
      "<ol>\n",
      "<li>Locate your user profile (A profile is a Windows PowerShell ISE script that runs automatically when you start a new session) using _ $PROFILE</li>\n",
      "<li>Edit profile with any preferred editor _ code $PROFILE</li>\n",
      "<li>Adde the following code to the profile file and save it</li>\n",
      "</ol>\n",
      "<pre><code>if (-NOT ([Security.Principal.WindowsPrincipal] [Security.Principal.WindowsIdentity]::GetCurrent()).IsInRole([Security.Principal.WindowsBuiltInRole] &quot;Administrator&quot;)) {\n",
      "    $host.ui.rawui.windowtitle=&quot;Bootstrapper&quot;\n",
      "    Start-Process -Verb RunAs wt\n",
      "} else {\n",
      "    $Processes = Get-Process | Where-Object {$_.mainWindowTitle -eq 'Bootstrapper' -and $_.name -eq 'WindowsTerminal'}\n",
      "    if($Processes.count -gt 0)\n",
      "    {\n",
      "        Stop-Process -Id $Processes[0].id\n",
      "    }\n",
      "}\n",
      "</code></pre>\n",
      "<p>What the script do?\n",
      "You can pin Windows Terminal icon to your application bar and when you click there WT will start as non elevated user, but the profile will understand if this is the case.\n",
      "When you are not running as Administrator it will change the name of the window and start a new WT as administrator.\n",
      "The new instance will also execute the profile file and if the instance is runinng as Administrator, it will look for the WT named Bootstrapper and kill it.\n",
      "This proces takes between one and two seconds, I prefer this way other than right clicking on the icon.</p>\n",
      " \n",
      "\n"
     ]
    }
   ],
   "source": [
    "search_text_answers('Windows')"
   ]
  },
  {
   "cell_type": "markdown",
   "metadata": {},
   "source": [
    "assignment 6"
   ]
  },
  {
   "cell_type": "code",
   "execution_count": 85,
   "metadata": {},
   "outputs": [],
   "source": [
    "def search_answers_date(text,gte_date,lte_date):\n",
    "    results = es.search(index='answers',query={\"bool\": {\"must\": [{\"match_phrase\": {\"Body\":text}}],\"filter\":{\"range\":{\"CreationDate\": {\"gte\": gte_date,\"lte\": lte_date}}}}})\n",
    "    all_hits = results['hits']['hits']\n",
    "    print(results['hits']['total']['value'],' results \\n')\n",
    "    if results['hits']['total']['value'] == 0:\n",
    "        print('NOT FOUND')  \n",
    "    else:\n",
    "        for num, doc in enumerate(all_hits):\n",
    "            print (\"DOC ID:\", doc[\"_id\"], \"--->\",\"CreationDate = \",doc['_source']['CreationDate'],\"\\n\" ,doc['_source']['Body'], \"\\n\")"
   ]
  },
  {
   "cell_type": "code",
   "execution_count": 90,
   "metadata": {},
   "outputs": [
    {
     "name": "stdout",
     "output_type": "stream",
     "text": [
      "7  results \n",
      "\n",
      "DOC ID: 189 ---> <p>Make sure u have installed a correct python version.</p>\n",
      "<p>I have noted that it works on python version 3.7 or lower version.</p>\n",
      " \n",
      "\n",
      "DOC ID: 159 ---> <p>The <code>-&gt;</code> doesn't really do much in python. </p>\n",
      "\n",
      "<pre><code>&gt;&gt;&gt; def foo()-&gt;int:\n",
      "...     return \"yeet\"\n",
      "...\n",
      "&gt;&gt;&gt; foo()\n",
      "'yeet'\n",
      "</code></pre>\n",
      "\n",
      "<p>Similarly with denoting types in method signatures:</p>\n",
      "\n",
      "<pre><code>&gt;&gt;&gt; def bar(a: int):\n",
      "...     print(a)\n",
      "...\n",
      "&gt;&gt;&gt; bar(\"yeet\")\n",
      "'yeet'\n",
      "</code></pre>\n",
      "\n",
      "<p>The syntax is really just a means of commenting your code. Conceptually you could implement something of an interface by raising an exception in the constructor.</p>\n",
      "\n",
      "<pre><code>&gt;&gt;&gt; class foo:\n",
      "...     def __init__(self):\n",
      "...             raise()\n",
      "...     def someFunc(self):\n",
      "...             return(42)\n",
      "...\n",
      "&gt;&gt;&gt; class bar(foo):\n",
      "...     def __init__(self):\n",
      "...             self.whatEver = \"idk\"\n",
      "...\n",
      "&gt;&gt;&gt; a = bar()\n",
      "&gt;&gt;&gt; a.someFunc()\n",
      "42\n",
      "&gt;&gt;&gt; baz = foo()\n",
      "Traceback (most recent call last):\n",
      "  File \"&lt;stdin&gt;\", line 1, in &lt;module&gt;\n",
      "  File \"&lt;stdin&gt;\", line 3, in __init__\n",
      "TypeError: exceptions must derive from BaseException\n",
      "</code></pre>\n",
      "\n",
      "<p>However you will not get the benefits of type stringency that you are looking for because python isn't a <s>strongly typed</s> language. <code>Edit: Python doesn't use static typing.</code></p>\n",
      " \n",
      "\n",
      "DOC ID: 160 ---> <p>You could use a <code>typing.Union</code> but, it sounds like you really want <em>structural typing</em> not nominal. <a href=\"https://www.python.org/dev/peps/pep-0544/\" rel=\"noreferrer\">Python supports this using <code>typing.Protocol</code></a>, which is a supported part of the python type-hinting system, so <code>mypy</code> will understand it, for example:</p>\n",
      "\n",
      "<pre><code>import typing\n",
      "\n",
      "class Fooable(typing.Protocol):\n",
      "    def foo(self) -&gt; int:\n",
      "        ...\n",
      "\n",
      "class One(object):\n",
      "    def foo(self) -&gt; int:\n",
      "        return 42\n",
      "\n",
      "\n",
      "class Two(object):\n",
      "    def foo(self) -&gt; int:\n",
      "        return 142\n",
      "\n",
      "\n",
      "def factory(a: str) -&gt; Fooable:\n",
      "    if a == \"one\":\n",
      "        return One()\n",
      "\n",
      "    return Two()\n",
      "\n",
      "x = factory('one')\n",
      "x.foo()\n",
      "</code></pre>\n",
      "\n",
      "<p>Note, structural typing fits well with Python's duck-typing ethos. Python's typing system supports both structural and nominal forms.</p>\n",
      " \n",
      "\n",
      "DOC ID: 184 ---> <p>This works for me in all python version.</p>\n",
      "<pre><code>pip install webdriver-manager\n",
      "</code></pre>\n",
      "<p>Here's Lib, Check out:\n",
      "<a href=\"https://pypi.org/project/webdriver-manager/\" rel=\"nofollow noreferrer\">https://pypi.org/project/webdriver-manager/</a></p>\n",
      " \n",
      "\n",
      "DOC ID: 166 ---> <p>First install webdriver manager using the following command in command prompt opened from the python file path.</p>\n",
      "<pre><code>pip install webdriver-manager.\n",
      "</code></pre>\n",
      "<p>Next open your pycharm tool and go to <code>settings -&gt; project interpreter -&gt;</code> and click on + icon and search for webdriver-manager and install that.</p>\n",
      "<p>And run the below code:</p>\n",
      "<pre><code>from selenium import webdriver\n",
      "from webdriver_manager.chrome import ChromeDriverManager\n",
      "\n",
      "driver = webdriver.Chrome(ChromeDriverManager().install()) \n",
      "</code></pre>\n",
      " \n",
      "\n",
      "DOC ID: 186 ---> <p>some times just restarting your code editor can be the ultimate solution\n",
      "that is what worked for me after spending 2 hours on the web trying to find out why the webdriver_manager is not picked up by python</p>\n",
      "<p>use this to install</p>\n",
      "<pre><code>pip install webdriver_manager\n",
      "</code></pre>\n",
      "<p>and then restart your VScode if that is what you are using as a code editor\n",
      "I don't know why I have to but it worked the time waste.</p>\n",
      " \n",
      "\n",
      "DOC ID: 78 ---> <h2>Update (thanks to <a href=\"https://stackoverflow.com/users/5774070/vishal-kharde\">Vishal Kharde</a>)</h2>\n",
      "<p>The documentation now suggests:</p>\n",
      "<pre><code>pip install webdriver-manager\n",
      "</code></pre>\n",
      "<hr />\n",
      "<p><strong>Solution:</strong></p>\n",
      "<p>Install it like that:</p>\n",
      "<pre><code>pip install webdriver_manager\n",
      "</code></pre>\n",
      "<p>instead of <code>pip install webdrivermanager</code>.</p>\n",
      "<p><strong>Requirements:</strong></p>\n",
      "<p>The newest version, according to the documentation supports python 3.6 or newer versions:</p>\n",
      "<p><a href=\"https://i.stack.imgur.com/V42kY.png\" rel=\"noreferrer\"><img src=\"https://i.stack.imgur.com/V42kY.png\" alt=\"enter image description here\" /></a></p>\n",
      "<p><strong>Reference:</strong>\n",
      "<a href=\"https://pypi.org/project/webdriver-manager/\" rel=\"noreferrer\">https://pypi.org/project/webdriver-manager/</a></p>\n",
      " \n",
      "\n"
     ]
    }
   ],
   "source": [
    "search_text_answers(\"python\")"
   ]
  },
  {
   "cell_type": "code",
   "execution_count": 91,
   "metadata": {},
   "outputs": [
    {
     "name": "stdout",
     "output_type": "stream",
     "text": [
      "7  results \n",
      "\n",
      "DOC ID: 189 ---> CreationDate =  2022-06-26 10:35:54 \n",
      " <p>Make sure u have installed a correct python version.</p>\n",
      "<p>I have noted that it works on python version 3.7 or lower version.</p>\n",
      " \n",
      "\n",
      "DOC ID: 159 ---> CreationDate =  2020-03-20 00:15:38 \n",
      " <p>The <code>-&gt;</code> doesn't really do much in python. </p>\n",
      "\n",
      "<pre><code>&gt;&gt;&gt; def foo()-&gt;int:\n",
      "...     return \"yeet\"\n",
      "...\n",
      "&gt;&gt;&gt; foo()\n",
      "'yeet'\n",
      "</code></pre>\n",
      "\n",
      "<p>Similarly with denoting types in method signatures:</p>\n",
      "\n",
      "<pre><code>&gt;&gt;&gt; def bar(a: int):\n",
      "...     print(a)\n",
      "...\n",
      "&gt;&gt;&gt; bar(\"yeet\")\n",
      "'yeet'\n",
      "</code></pre>\n",
      "\n",
      "<p>The syntax is really just a means of commenting your code. Conceptually you could implement something of an interface by raising an exception in the constructor.</p>\n",
      "\n",
      "<pre><code>&gt;&gt;&gt; class foo:\n",
      "...     def __init__(self):\n",
      "...             raise()\n",
      "...     def someFunc(self):\n",
      "...             return(42)\n",
      "...\n",
      "&gt;&gt;&gt; class bar(foo):\n",
      "...     def __init__(self):\n",
      "...             self.whatEver = \"idk\"\n",
      "...\n",
      "&gt;&gt;&gt; a = bar()\n",
      "&gt;&gt;&gt; a.someFunc()\n",
      "42\n",
      "&gt;&gt;&gt; baz = foo()\n",
      "Traceback (most recent call last):\n",
      "  File \"&lt;stdin&gt;\", line 1, in &lt;module&gt;\n",
      "  File \"&lt;stdin&gt;\", line 3, in __init__\n",
      "TypeError: exceptions must derive from BaseException\n",
      "</code></pre>\n",
      "\n",
      "<p>However you will not get the benefits of type stringency that you are looking for because python isn't a <s>strongly typed</s> language. <code>Edit: Python doesn't use static typing.</code></p>\n",
      " \n",
      "\n",
      "DOC ID: 160 ---> CreationDate =  2020-03-20 00:28:38 \n",
      " <p>You could use a <code>typing.Union</code> but, it sounds like you really want <em>structural typing</em> not nominal. <a href=\"https://www.python.org/dev/peps/pep-0544/\" rel=\"noreferrer\">Python supports this using <code>typing.Protocol</code></a>, which is a supported part of the python type-hinting system, so <code>mypy</code> will understand it, for example:</p>\n",
      "\n",
      "<pre><code>import typing\n",
      "\n",
      "class Fooable(typing.Protocol):\n",
      "    def foo(self) -&gt; int:\n",
      "        ...\n",
      "\n",
      "class One(object):\n",
      "    def foo(self) -&gt; int:\n",
      "        return 42\n",
      "\n",
      "\n",
      "class Two(object):\n",
      "    def foo(self) -&gt; int:\n",
      "        return 142\n",
      "\n",
      "\n",
      "def factory(a: str) -&gt; Fooable:\n",
      "    if a == \"one\":\n",
      "        return One()\n",
      "\n",
      "    return Two()\n",
      "\n",
      "x = factory('one')\n",
      "x.foo()\n",
      "</code></pre>\n",
      "\n",
      "<p>Note, structural typing fits well with Python's duck-typing ethos. Python's typing system supports both structural and nominal forms.</p>\n",
      " \n",
      "\n",
      "DOC ID: 184 ---> CreationDate =  2021-12-04 10:31:14 \n",
      " <p>This works for me in all python version.</p>\n",
      "<pre><code>pip install webdriver-manager\n",
      "</code></pre>\n",
      "<p>Here's Lib, Check out:\n",
      "<a href=\"https://pypi.org/project/webdriver-manager/\" rel=\"nofollow noreferrer\">https://pypi.org/project/webdriver-manager/</a></p>\n",
      " \n",
      "\n",
      "DOC ID: 166 ---> CreationDate =  2020-12-10 14:43:05 \n",
      " <p>First install webdriver manager using the following command in command prompt opened from the python file path.</p>\n",
      "<pre><code>pip install webdriver-manager.\n",
      "</code></pre>\n",
      "<p>Next open your pycharm tool and go to <code>settings -&gt; project interpreter -&gt;</code> and click on + icon and search for webdriver-manager and install that.</p>\n",
      "<p>And run the below code:</p>\n",
      "<pre><code>from selenium import webdriver\n",
      "from webdriver_manager.chrome import ChromeDriverManager\n",
      "\n",
      "driver = webdriver.Chrome(ChromeDriverManager().install()) \n",
      "</code></pre>\n",
      " \n",
      "\n",
      "DOC ID: 186 ---> CreationDate =  2021-12-16 03:03:04 \n",
      " <p>some times just restarting your code editor can be the ultimate solution\n",
      "that is what worked for me after spending 2 hours on the web trying to find out why the webdriver_manager is not picked up by python</p>\n",
      "<p>use this to install</p>\n",
      "<pre><code>pip install webdriver_manager\n",
      "</code></pre>\n",
      "<p>and then restart your VScode if that is what you are using as a code editor\n",
      "I don't know why I have to but it worked the time waste.</p>\n",
      " \n",
      "\n",
      "DOC ID: 78 ---> CreationDate =  2020-08-15 01:01:03 \n",
      " <h2>Update (thanks to <a href=\"https://stackoverflow.com/users/5774070/vishal-kharde\">Vishal Kharde</a>)</h2>\n",
      "<p>The documentation now suggests:</p>\n",
      "<pre><code>pip install webdriver-manager\n",
      "</code></pre>\n",
      "<hr />\n",
      "<p><strong>Solution:</strong></p>\n",
      "<p>Install it like that:</p>\n",
      "<pre><code>pip install webdriver_manager\n",
      "</code></pre>\n",
      "<p>instead of <code>pip install webdrivermanager</code>.</p>\n",
      "<p><strong>Requirements:</strong></p>\n",
      "<p>The newest version, according to the documentation supports python 3.6 or newer versions:</p>\n",
      "<p><a href=\"https://i.stack.imgur.com/V42kY.png\" rel=\"noreferrer\"><img src=\"https://i.stack.imgur.com/V42kY.png\" alt=\"enter image description here\" /></a></p>\n",
      "<p><strong>Reference:</strong>\n",
      "<a href=\"https://pypi.org/project/webdriver-manager/\" rel=\"noreferrer\">https://pypi.org/project/webdriver-manager/</a></p>\n",
      " \n",
      "\n"
     ]
    }
   ],
   "source": [
    "search_answers_date(\"python\",\"2020-01-01 00:00:00\",\"2022-12-27 23:59:59\")"
   ]
  },
  {
   "cell_type": "code",
   "execution_count": 92,
   "metadata": {},
   "outputs": [
    {
     "name": "stdout",
     "output_type": "stream",
     "text": [
      "3  results \n",
      "\n",
      "DOC ID: 189 ---> CreationDate =  2022-06-26 10:35:54 \n",
      " <p>Make sure u have installed a correct python version.</p>\n",
      "<p>I have noted that it works on python version 3.7 or lower version.</p>\n",
      " \n",
      "\n",
      "DOC ID: 184 ---> CreationDate =  2021-12-04 10:31:14 \n",
      " <p>This works for me in all python version.</p>\n",
      "<pre><code>pip install webdriver-manager\n",
      "</code></pre>\n",
      "<p>Here's Lib, Check out:\n",
      "<a href=\"https://pypi.org/project/webdriver-manager/\" rel=\"nofollow noreferrer\">https://pypi.org/project/webdriver-manager/</a></p>\n",
      " \n",
      "\n",
      "DOC ID: 186 ---> CreationDate =  2021-12-16 03:03:04 \n",
      " <p>some times just restarting your code editor can be the ultimate solution\n",
      "that is what worked for me after spending 2 hours on the web trying to find out why the webdriver_manager is not picked up by python</p>\n",
      "<p>use this to install</p>\n",
      "<pre><code>pip install webdriver_manager\n",
      "</code></pre>\n",
      "<p>and then restart your VScode if that is what you are using as a code editor\n",
      "I don't know why I have to but it worked the time waste.</p>\n",
      " \n",
      "\n"
     ]
    }
   ],
   "source": [
    "search_answers_date(\"python\",\"2021-01-01 00:00:00\",\"2022-12-27 23:59:59\")"
   ]
  },
  {
   "cell_type": "markdown",
   "metadata": {},
   "source": [
    "PART 3"
   ]
  },
  {
   "cell_type": "code",
   "execution_count": 93,
   "metadata": {},
   "outputs": [],
   "source": [
    "import pandas as pd\n",
    "df_c = pd.read_csv('C:\\\\Users\\\\A\\\\Music\\\\repos\\\\Information-Retrieval\\\\data\\\\comments.csv').fillna(\"\")"
   ]
  },
  {
   "cell_type": "code",
   "execution_count": 95,
   "metadata": {},
   "outputs": [
    {
     "data": {
      "text/plain": [
       "ObjectApiResponse({'acknowledged': True, 'shards_acknowledged': True, 'index': 'comments'})"
      ]
     },
     "execution_count": 95,
     "metadata": {},
     "output_type": "execute_result"
    }
   ],
   "source": [
    "mapping = {\n",
    "     \"properties\": {\n",
    "            \"Id\": {\"type\": \"integer\"},\n",
    "            \"PostId\": {\"type\": \"integer\"},\n",
    "            \"Body\": {\"type\": \"text\"},\n",
    "         }}\n",
    "\n",
    "es.indices.create(index=\"comments\",mappings=mapping)"
   ]
  },
  {
   "cell_type": "code",
   "execution_count": 96,
   "metadata": {},
   "outputs": [],
   "source": [
    "for i,row in df_c.iterrows():\n",
    "    doc = {\n",
    "        \"Id\" : row['Id'],\n",
    "        \"PostId\" : row['PostId'],\n",
    "        \"Body\" : row[\"Text\"]\n",
    "    }\n",
    "    es.index(index=\"comments\",id=i,document=doc)\n",
    "    "
   ]
  },
  {
   "cell_type": "code",
   "execution_count": 97,
   "metadata": {},
   "outputs": [
    {
     "data": {
      "text/plain": [
       "ObjectApiResponse({'_index': 'comments', '_id': '0', '_version': 1, '_seq_no': 0, '_primary_term': 1, 'found': True, '_source': {'Id': 105375001, 'PostId': 59603086, 'Body': 'The question is answered in [Is is valid to construct std::set of pointer type?](https://stackoverflow.com/questions/53927571/is-is-valid-to-construct-stdset-of-pointer-type)'}})"
      ]
     },
     "execution_count": 97,
     "metadata": {},
     "output_type": "execute_result"
    }
   ],
   "source": [
    "es.get(index='comments',id=0)"
   ]
  },
  {
   "cell_type": "markdown",
   "metadata": {},
   "source": [
    "assignment 7\n"
   ]
  },
  {
   "cell_type": "code",
   "execution_count": 98,
   "metadata": {},
   "outputs": [
    {
     "name": "stdout",
     "output_type": "stream",
     "text": [
      "doc id :  0 ----- question ID : 62969917\n",
      "doc id :  1 ----- question ID : 65648897\n",
      "doc id :  3 ----- question ID : 60114639\n",
      "doc id :  5 ----- question ID : 60150749\n",
      "doc id :  6 ----- question ID : 66497269\n",
      "doc id :  7 ----- question ID : 60079472\n",
      "doc id :  10 ----- question ID : 64081701\n",
      "doc id :  11 ----- question ID : 64977541\n",
      "doc id :  12 ----- question ID : 63705739\n",
      "doc id :  13 ----- question ID : 63778276\n",
      "doc id :  14 ----- question ID : 59869486\n",
      "doc id :  15 ----- question ID : 61122378\n",
      "doc id :  16 ----- question ID : 69116668\n",
      "doc id :  18 ----- question ID : 61531317\n",
      "doc id :  19 ----- question ID : 68332664\n",
      "doc id :  20 ----- question ID : 67749284\n",
      "doc id :  21 ----- question ID : 69530502\n",
      "doc id :  22 ----- question ID : 67081496\n",
      "doc id :  23 ----- question ID : 60442205\n",
      "doc id :  26 ----- question ID : 62550828\n",
      "doc id :  28 ----- question ID : 63421086\n",
      "doc id :  29 ----- question ID : 65967690\n",
      "doc id :  31 ----- question ID : 61521819\n",
      "doc id :  32 ----- question ID : 60583049\n",
      "doc id :  33 ----- question ID : 60982068\n",
      "doc id :  34 ----- question ID : 67888049\n",
      "doc id :  35 ----- question ID : 61841254\n",
      "doc id :  38 ----- question ID : 61772822\n",
      "doc id :  39 ----- question ID : 59637100\n",
      "doc id :  40 ----- question ID : 64012057\n",
      "doc id :  41 ----- question ID : 65614890\n",
      "doc id :  44 ----- question ID : 64830671\n",
      "doc id :  48 ----- question ID : 67913756\n",
      "doc id :  50 ----- question ID : 62184501\n",
      "doc id :  52 ----- question ID : 61825087\n",
      "doc id :  55 ----- question ID : 68505026\n",
      "doc id :  57 ----- question ID : 61114929\n",
      "doc id :  59 ----- question ID : 61151278\n",
      "doc id :  61 ----- question ID : 59787879\n",
      "doc id :  63 ----- question ID : 59724711\n",
      "doc id :  65 ----- question ID : 63237657\n",
      "doc id :  66 ----- question ID : 60565299\n",
      "doc id :  68 ----- question ID : 60286204\n",
      "doc id :  69 ----- question ID : 62738704\n",
      "doc id :  72 ----- question ID : 66924519\n",
      "doc id :  74 ----- question ID : 68864640\n",
      "doc id :  75 ----- question ID : 62494522\n",
      "doc id :  77 ----- question ID : 67222143\n",
      "doc id :  80 ----- question ID : 68369058\n",
      "doc id :  81 ----- question ID : 66013007\n",
      "doc id :  82 ----- question ID : 61278180\n",
      "doc id :  83 ----- question ID : 59557910\n",
      "doc id :  84 ----- question ID : 67619477\n",
      "doc id :  88 ----- question ID : 66843397\n",
      "doc id :  91 ----- question ID : 69976189\n",
      "doc id :  93 ----- question ID : 63017136\n",
      "doc id :  94 ----- question ID : 69309346\n",
      "doc id :  98 ----- question ID : 65224327\n",
      "doc id :  99 ----- question ID : 59618213\n",
      "DONE\n"
     ]
    }
   ],
   "source": [
    "# i is the doc id which starts from zero\n",
    "i=0\n",
    "try:\n",
    "    while(True):\n",
    "        ID = es.get(index='questions',id=i)['_source']['ID']     # id of the question\n",
    "        tags = es.get(index='questions',id=i)['_source']['Tags'] # tags of the question\n",
    "        tokenized_tags = tokenizer(tags)\n",
    "\n",
    "        # finding comments of the question\n",
    "        res_comments = es.search(index='comments',query={\"bool\": {\"must\": {\"match\": {\"PostId\":ID}}}})\n",
    "        number_comments = res_comments['hits']['total']['value'] # number of comments for the question\n",
    "        for j in range(number_comments):\n",
    "            # we have to define \"size\" because size_limit is 10 by default and does not show more than that\n",
    "            comment_doc_id = es.search(index='comments',size=1000,query={\"bool\": {\"must\": {\"match\": {\"PostId\":ID}}}})['hits']['hits'][j]['_id']\n",
    "            res_tag = es.search(index='comments',query={\"bool\": {\"must\": {\"match\": {\"Body\":tokenized_tags }},\"filter\":{\"ids\":{ \"values\": [comment_doc_id] }}}})\n",
    "            value_tag = res_tag['hits']['total']['value'] # number of hits\n",
    "            if value_tag :\n",
    "                print('doc id : ',i,'-----','question ID :',ID)\n",
    "                break\n",
    "        i+=1\n",
    "except:\n",
    "    print('DONE')"
   ]
  },
  {
   "cell_type": "markdown",
   "metadata": {},
   "source": [
    "TEST"
   ]
  },
  {
   "cell_type": "code",
   "execution_count": 102,
   "metadata": {},
   "outputs": [
    {
     "data": {
      "text/plain": [
       "61536203"
      ]
     },
     "execution_count": 102,
     "metadata": {},
     "output_type": "execute_result"
    }
   ],
   "source": [
    "#id=24 not in results\n",
    "#getting Post ID\n",
    "es.get(index='questions',id=24)['_source']['ID']"
   ]
  },
  {
   "cell_type": "code",
   "execution_count": 103,
   "metadata": {},
   "outputs": [
    {
     "data": {
      "text/plain": [
       "'<javascript><node.js><firebase-realtime-database>'"
      ]
     },
     "execution_count": 103,
     "metadata": {},
     "output_type": "execute_result"
    }
   ],
   "source": [
    "#getting tags\n",
    "es.get(index='questions',id=24)['_source']['Tags']"
   ]
  },
  {
   "cell_type": "code",
   "execution_count": 104,
   "metadata": {},
   "outputs": [
    {
     "data": {
      "text/plain": [
       "ObjectApiResponse({'took': 1, 'timed_out': False, '_shards': {'total': 1, 'successful': 1, 'skipped': 0, 'failed': 0}, 'hits': {'total': {'value': 1, 'relation': 'eq'}, 'max_score': 1.0, 'hits': [{'_index': 'comments', '_id': '41', '_score': 1.0, '_source': {'Id': 109971099, 'PostId': 61536203, 'Body': 'Does the same rules apply to firestore too? Having increment call in a write batch assures the data is written without any problems? (Assuming 1write/sec/per doc limit)'}}]}})"
      ]
     },
     "execution_count": 104,
     "metadata": {},
     "output_type": "execute_result"
    }
   ],
   "source": [
    "#getting comment which is related to that post id and check tags inside the context\n",
    "es.search(index='comments',query={\"bool\": {\"must\": {\"match\": {\"PostId\":61536203}}}})"
   ]
  },
  {
   "cell_type": "code",
   "execution_count": 105,
   "metadata": {},
   "outputs": [
    {
     "data": {
      "text/plain": [
       "62969917"
      ]
     },
     "execution_count": 105,
     "metadata": {},
     "output_type": "execute_result"
    }
   ],
   "source": [
    "#id=0 is in results\n",
    "es.get(index='questions',id=0)['_source']['ID']"
   ]
  },
  {
   "cell_type": "code",
   "execution_count": 106,
   "metadata": {},
   "outputs": [
    {
     "data": {
      "text/plain": [
       "'<android><android-gradle-plugin><android-manifest><manifest>'"
      ]
     },
     "execution_count": 106,
     "metadata": {},
     "output_type": "execute_result"
    }
   ],
   "source": [
    "es.get(index='questions',id=0)['_source']['Tags']"
   ]
  },
  {
   "cell_type": "code",
   "execution_count": 107,
   "metadata": {},
   "outputs": [
    {
     "data": {
      "text/plain": [
       "ObjectApiResponse({'took': 1, 'timed_out': False, '_shards': {'total': 1, 'successful': 1, 'skipped': 0, 'failed': 0}, 'hits': {'total': {'value': 1, 'relation': 'eq'}, 'max_score': 1.0, 'hits': [{'_index': 'comments', '_id': '548', '_score': 1.0, '_source': {'Id': 130428881, 'PostId': 62969917, 'Body': 'yes it is working in case <query. tag in manifest classpath(\"com.android.tools.build:gradle:3.5.3\")\\n\\nCurrent setting:\\n\\nclasspath(\"com.android.tools.build:gradle:3.5.4\")'}}]}})"
      ]
     },
     "execution_count": 107,
     "metadata": {},
     "output_type": "execute_result"
    }
   ],
   "source": [
    "es.search(index='comments',query={\"bool\": {\"must\": {\"match\": {\"PostId\":62969917}}}})"
   ]
  }
 ],
 "metadata": {
  "kernelspec": {
   "display_name": "Python 3.8.5 64-bit",
   "language": "python",
   "name": "python3"
  },
  "language_info": {
   "codemirror_mode": {
    "name": "ipython",
    "version": 3
   },
   "file_extension": ".py",
   "mimetype": "text/x-python",
   "name": "python",
   "nbconvert_exporter": "python",
   "pygments_lexer": "ipython3",
   "version": "3.8.5"
  },
  "orig_nbformat": 4,
  "vscode": {
   "interpreter": {
    "hash": "dc8aa18c105b16b87bbd332e44487417c4bad76a2b017e28b1c3c8323f27c82e"
   }
  }
 },
 "nbformat": 4,
 "nbformat_minor": 2
}
