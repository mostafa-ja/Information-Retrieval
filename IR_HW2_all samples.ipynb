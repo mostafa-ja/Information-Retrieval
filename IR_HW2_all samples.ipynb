{
 "cells": [
  {
   "cell_type": "code",
   "execution_count": 2,
   "metadata": {},
   "outputs": [],
   "source": [
    "import urllib.request,sys,time\n",
    "from bs4 import BeautifulSoup\n",
    "import requests\n",
    "import pandas as pd\n",
    "import re"
   ]
  },
  {
   "cell_type": "code",
   "execution_count": 25,
   "metadata": {},
   "outputs": [
    {
     "name": "stdout",
     "output_type": "stream",
     "text": [
      "15\n",
      "20\n",
      "16\n",
      "20\n",
      "17\n",
      "20\n",
      "18\n",
      "20\n",
      "19\n",
      "18\n",
      "20\n",
      "0\n",
      "YES\n"
     ]
    }
   ],
   "source": [
    "# we know our sample archive for testing , has just 19 pages , no more\n",
    "page_number = 15\n",
    "url = \"https://www.asriran.com/fa/archive?service_id=1&sec_id=-1&cat_id=1&rpp=20&from_date=1401/01/01&to_date=1401/01/28&p=\"\n",
    "while True:\n",
    "    url1 = url + str(page_number)\n",
    "    page = requests.get(url1)\n",
    "    soup = BeautifulSoup(page.text, \"html.parser\")\n",
    "    articles=soup.find_all('article',attrs={'vizhe_cv col-xs-12 col-sm-6'})\n",
    "    print(page_number)\n",
    "    print(len(articles))\n",
    "    if len(articles)==0 :\n",
    "        print('YES')\n",
    "        break\n",
    "    page_number += 1\n"
   ]
  },
  {
   "cell_type": "code",
   "execution_count": 38,
   "metadata": {},
   "outputs": [
    {
     "data": {
      "text/plain": [
       "<select class=\"text\" dir=\"rtl\" id=\"cats_combo\" name=\"cat_id\"><option value=\"0\">همه</option><option selected=\"\" value=\"1\">سیاسی</option><option value=\"39\">اخبار سلامت</option><option value=\"43\">واژه خانه</option><option value=\"44\">که بود و چه کرد</option><option value=\"45\">قرآن</option><option value=\"4\">اقتصادی</option><option value=\"5\">اجتماعی </option><option value=\"6\">ورزشی</option><option value=\"25\">سلامت</option><option value=\"3\">بین الملل</option><option value=\"2\">سیاست خارجی</option><option value=\"8\">فرهنگی/هنری</option><option value=\"29\">محیط زیست</option><option value=\"14\">فناوری و IT</option><option value=\"7\">علمی</option><option value=\"9\">حوادث</option><option value=\"15\">سرگرمی</option><option value=\"21\">عمومی</option><option value=\"22\">کاربران</option><option value=\"23\">کافه گفت و گو</option><option value=\"24\">سفر و تفریح</option></select>"
      ]
     },
     "execution_count": 38,
     "metadata": {},
     "output_type": "execute_result"
    }
   ],
   "source": [
    "url = \"https://www.asriran.com/fa/archive?service_id=1&sec_id=-1&cat_id=1&rpp=20&from_date=1401/01/01&to_date=1401/01/28&p=1\"\n",
    "page = requests.get(url)\n",
    "soup = BeautifulSoup(page.text, \"html.parser\")\n",
    "soup.find(\"select\",attrs={'name':\"cat_id\"})"
   ]
  },
  {
   "attachments": {},
   "cell_type": "markdown",
   "metadata": {},
   "source": [
    "همه = 0\n",
    "سیاسی = 1\n",
    "اخبار سلامت = 39\n",
    "واژه خانه = 43\n",
    "که بوذ و چه کرد = 44\n",
    "قرآن = 45\n",
    "اقتصادی = 4\n",
    "اجتماعی = 5\n",
    "ورزشی = 6\n",
    "سلامت = 25\n",
    "بین الملل = 3\n",
    "سیاست خارجی = 2\n",
    "فرهنگی هنری = 8\n",
    "محیط زیست = 29\n",
    "فناوری = 14\n",
    "علمی = 7\n",
    "حوادث = 9\n",
    "سرگرمی = 15\n",
    "عمومی = 21\n",
    "کاربران = 22\n",
    "کافه گفت و گو = 23\n",
    "سفر و تفریح = 24"
   ]
  },
  {
   "cell_type": "code",
   "execution_count": null,
   "metadata": {},
   "outputs": [],
   "source": [
    "page_number = 1\n",
    "start_date = '1401/01/01'\n",
    "end_date = '1401/01/28'\n",
    "subject_id = 39\n",
    "url = 'https://www.asriran.com/fa/archive?service_id=1&sec_id=-1&cat_id='+str(subject_id)+'&rpp=20&from_date='+start_date+'&to_date='+end_date+'&p='\n",
    "while True:\n",
    "    url1 = url + str(page_number)\n",
    "    page = requests.get(url1)\n",
    "    soup = BeautifulSoup(page.text, \"html.parser\")\n",
    "    articles=soup.find_all('article',attrs={'vizhe_cv col-xs-12 col-sm-6'})\n",
    "    print(page_number)\n",
    "    print(len(articles))\n",
    "    if len(articles)==0 :\n",
    "        print('YES')\n",
    "        break\n",
    "    \n",
    "    for article in articles:\n",
    "        \n",
    "\n",
    "\n",
    "    page_number += 1\n"
   ]
  },
  {
   "attachments": {},
   "cell_type": "markdown",
   "metadata": {},
   "source": [
    "<select name=\"cat_id\" class=\"text\" id=\"cats_combo\" dir=\"rtl\"><option value=\"0\">همه</option><option value=\"1\">سیاسی</option><option selected=\"\" value=\"39\">اخبار سلامت</option><option value=\"43\">واژه خانه</option><option value=\"44\">که بود و چه کرد</option><option value=\"45\">قرآن</option><option value=\"4\">اقتصادی</option><option value=\"5\">اجتماعی </option><option value=\"6\">ورزشی</option><option value=\"25\">سلامت</option><option value=\"3\">بین الملل</option><option value=\"2\">سیاست خارجی</option><option value=\"8\">فرهنگی/هنری</option><option value=\"29\">محیط زیست</option><option value=\"14\">فناوری و IT</option><option value=\"7\">علمی</option><option value=\"9\">حوادث</option><option value=\"15\">سرگرمی</option><option value=\"21\">عمومی</option><option value=\"22\">کاربران</option><option value=\"23\">کافه گفت و گو</option><option value=\"24\">سفر و تفریح</option></select>"
   ]
  }
 ],
 "metadata": {
  "kernelspec": {
   "display_name": "Python 3",
   "language": "python",
   "name": "python3"
  },
  "language_info": {
   "codemirror_mode": {
    "name": "ipython",
    "version": 3
   },
   "file_extension": ".py",
   "mimetype": "text/x-python",
   "name": "python",
   "nbconvert_exporter": "python",
   "pygments_lexer": "ipython3",
   "version": "3.11.1"
  },
  "orig_nbformat": 4,
  "vscode": {
   "interpreter": {
    "hash": "37ee99bff104f98bd1f5372e2ee364e0f3435400cb3778afef49450308d28634"
   }
  }
 },
 "nbformat": 4,
 "nbformat_minor": 2
}
