{
 "cells": [
  {
   "cell_type": "code",
   "execution_count": 2,
   "metadata": {},
   "outputs": [],
   "source": [
    "import urllib.request,sys,time\n",
    "from bs4 import BeautifulSoup\n",
    "import requests\n",
    "import pandas as pd\n",
    "import re"
   ]
  },
  {
   "cell_type": "code",
   "execution_count": 25,
   "metadata": {},
   "outputs": [
    {
     "name": "stdout",
     "output_type": "stream",
     "text": [
      "15\n",
      "20\n",
      "16\n",
      "20\n",
      "17\n",
      "20\n",
      "18\n",
      "20\n",
      "19\n",
      "18\n",
      "20\n",
      "0\n",
      "YES\n"
     ]
    }
   ],
   "source": [
    "# we know our sample archive for testing , has just 19 pages , no more\n",
    "page_number = 15\n",
    "url = \"https://www.asriran.com/fa/archive?service_id=1&sec_id=-1&cat_id=1&rpp=20&from_date=1401/01/01&to_date=1401/01/28&p=\"\n",
    "while True:\n",
    "    url1 = url + str(page_number)\n",
    "    page = requests.get(url1)\n",
    "    soup = BeautifulSoup(page.text, \"html.parser\")\n",
    "    articles=soup.find_all('article',attrs={'vizhe_cv col-xs-12 col-sm-6'})\n",
    "    print(page_number)\n",
    "    print(len(articles))\n",
    "    if len(articles)==0 :\n",
    "        print('YES')\n",
    "        break\n",
    "    page_number += 1\n"
   ]
  },
  {
   "cell_type": "code",
   "execution_count": 38,
   "metadata": {},
   "outputs": [
    {
     "data": {
      "text/plain": [
       "<select class=\"text\" dir=\"rtl\" id=\"cats_combo\" name=\"cat_id\"><option value=\"0\">همه</option><option selected=\"\" value=\"1\">سیاسی</option><option value=\"39\">اخبار سلامت</option><option value=\"43\">واژه خانه</option><option value=\"44\">که بود و چه کرد</option><option value=\"45\">قرآن</option><option value=\"4\">اقتصادی</option><option value=\"5\">اجتماعی </option><option value=\"6\">ورزشی</option><option value=\"25\">سلامت</option><option value=\"3\">بین الملل</option><option value=\"2\">سیاست خارجی</option><option value=\"8\">فرهنگی/هنری</option><option value=\"29\">محیط زیست</option><option value=\"14\">فناوری و IT</option><option value=\"7\">علمی</option><option value=\"9\">حوادث</option><option value=\"15\">سرگرمی</option><option value=\"21\">عمومی</option><option value=\"22\">کاربران</option><option value=\"23\">کافه گفت و گو</option><option value=\"24\">سفر و تفریح</option></select>"
      ]
     },
     "execution_count": 38,
     "metadata": {},
     "output_type": "execute_result"
    }
   ],
   "source": [
    "url = \"https://www.asriran.com/fa/archive?service_id=1&sec_id=-1&cat_id=1&rpp=20&from_date=1401/01/01&to_date=1401/01/28&p=1\"\n",
    "page = requests.get(url)\n",
    "soup = BeautifulSoup(page.text, \"html.parser\")\n",
    "soup.find(\"select\",attrs={'name':\"cat_id\"})"
   ]
  },
  {
   "attachments": {},
   "cell_type": "markdown",
   "metadata": {},
   "source": [
    "همه = 0\n",
    "سیاسی = 1\n",
    "اخبار سلامت = 39\n",
    "واژه خانه = 43\n",
    "که بوذ و چه کرد = 44\n",
    "قرآن = 45\n",
    "اقتصادی = 4\n",
    "اجتماعی = 5\n",
    "ورزشی = 6\n",
    "سلامت = 25\n",
    "بین الملل = 3\n",
    "سیاست خارجی = 2\n",
    "فرهنگی هنری = 8\n",
    "محیط زیست = 29\n",
    "فناوری = 14\n",
    "علمی = 7\n",
    "حوادث = 9\n",
    "سرگرمی = 15\n",
    "عمومی = 21\n",
    "کاربران = 22\n",
    "کافه گفت و گو = 23\n",
    "سفر و تفریح = 24"
   ]
  },
  {
   "cell_type": "code",
   "execution_count": 44,
   "metadata": {},
   "outputs": [
    {
     "name": "stdout",
     "output_type": "stream",
     "text": [
      "1\n",
      "20\n",
      "2\n",
      "20\n",
      "3\n",
      "20\n",
      "4\n",
      "1\n",
      "5\n",
      "0\n",
      "YES\n"
     ]
    }
   ],
   "source": [
    "upperframe=[] \n",
    "page_number = 1\n",
    "start_date = '1401/01/01'\n",
    "end_date = '1401/01/28'\n",
    "subject_id = 39\n",
    "url = 'https://www.asriran.com/fa/archive?service_id=1&sec_id=-1&cat_id='+str(subject_id)+'&rpp=20&from_date='+start_date+'&to_date='+end_date+'&p='\n",
    "while True:\n",
    "    url1 = url + str(page_number)\n",
    "    page = requests.get(url1)\n",
    "    soup = BeautifulSoup(page.text, \"html.parser\")\n",
    "    articles=soup.find_all('article',attrs={'vizhe_cv col-xs-12 col-sm-6'})\n",
    "    print(page_number)\n",
    "    print(len(articles))\n",
    "    if len(articles)==0 :\n",
    "        print('YES')\n",
    "        break\n",
    "    \n",
    "    for article in articles:\n",
    "        title = article.find(\"a\",attrs={'class':\"vizhe_title\"}).text.strip()\n",
    "        link = article.find(\"a\").get('href').strip()\n",
    "        link = 'https://www.asriran.com' + link\n",
    "        summary = article.find(\"div\",attrs={'class':\"vizhe_lead\"}).text.strip()\n",
    "        date = article.find(\"span\",attrs={'class':\"tarikh_archive\"}).text.strip()\n",
    "\n",
    "        url2 = link\n",
    "        page2 = requests.get(url2)\n",
    "        soup2 = BeautifulSoup(page2.text, \"html.parser\")\n",
    "\n",
    "        subject = soup2.find(\"div\",attrs={'class':\"news_path\"}).find_all(\"a\")[-1].text\n",
    "        \n",
    "        body = soup2.find(\"div\",attrs={'class':\"body\"}).text.strip()[:-155]\n",
    "\n",
    "        news_id = soup2.find(\"div\",attrs={'class':\"news_nav news_id_c\"}).text.strip()\n",
    "        news_id = int(re.findall(r'\\d+', news_id)[0])\n",
    "\n",
    "        short_link = soup2.find(\"div\",attrs={'class':\"short-link row\"}).find(\"a\").get('href').strip()\n",
    "        short_link = 'https://www.asriran.com' + short_link\n",
    "\n",
    "        \n",
    "        frame = [news_id,date,subject,title,summary,body,short_link]\n",
    "        upperframe.append(frame)\n",
    "\n",
    "    page_number += 1\n"
   ]
  },
  {
   "cell_type": "code",
   "execution_count": 46,
   "metadata": {},
   "outputs": [
    {
     "data": {
      "text/html": [
       "<div>\n",
       "<style scoped>\n",
       "    .dataframe tbody tr th:only-of-type {\n",
       "        vertical-align: middle;\n",
       "    }\n",
       "\n",
       "    .dataframe tbody tr th {\n",
       "        vertical-align: top;\n",
       "    }\n",
       "\n",
       "    .dataframe thead th {\n",
       "        text-align: right;\n",
       "    }\n",
       "</style>\n",
       "<table border=\"1\" class=\"dataframe\">\n",
       "  <thead>\n",
       "    <tr style=\"text-align: right;\">\n",
       "      <th></th>\n",
       "      <th>News_ID</th>\n",
       "      <th>Date</th>\n",
       "      <th>Subject</th>\n",
       "      <th>Title</th>\n",
       "      <th>Summary</th>\n",
       "      <th>Body</th>\n",
       "      <th>Short_link</th>\n",
       "    </tr>\n",
       "  </thead>\n",
       "  <tbody>\n",
       "    <tr>\n",
       "      <th>0</th>\n",
       "      <td>835547</td>\n",
       "      <td>۱۴۰۱/۰۱/۲۸</td>\n",
       "      <td>اخبار سلامت</td>\n",
       "      <td>افزایش مرگ‌ومیر جهانی کرونا در \"تعطیلات آخر هفته\"</td>\n",
       "      <td>این یافته‌ها حاکی از آن است که در ایالات متحده...</td>\n",
       "      <td>نتایج یک مطالعه جهانی نشان داده است که در طول ...</td>\n",
       "      <td>https://www.asriran.com/003VMZ</td>\n",
       "    </tr>\n",
       "    <tr>\n",
       "      <th>1</th>\n",
       "      <td>835532</td>\n",
       "      <td>۱۴۰۱/۰۱/۲۸</td>\n",
       "      <td>اخبار سلامت</td>\n",
       "      <td>ابتلا به سرخک در استان قزوین</td>\n",
       "      <td>وی تاکید کرد: تزریق نوبت اول واکسیناسیون دانش‌...</td>\n",
       "      <td>معاون بهداشت دانشگاه علوم پزشکی قزوین گفت: در ...</td>\n",
       "      <td>https://www.asriran.com/003VMK</td>\n",
       "    </tr>\n",
       "    <tr>\n",
       "      <th>2</th>\n",
       "      <td>835531</td>\n",
       "      <td>۱۴۰۱/۰۱/۲۸</td>\n",
       "      <td>اخبار سلامت</td>\n",
       "      <td>متخصص بیماری‌های عفونی: کرونا در ایران در حال ...</td>\n",
       "      <td>موارد بیماری کرونا در دنیا رو به کاهش است؛ به ...</td>\n",
       "      <td>فارس نوشت: استاد بیماری‌های عفونی با بیان اینک...</td>\n",
       "      <td>https://www.asriran.com/003VMJ</td>\n",
       "    </tr>\n",
       "    <tr>\n",
       "      <th>3</th>\n",
       "      <td>835475</td>\n",
       "      <td>۱۴۰۱/۰۱/۲۸</td>\n",
       "      <td>اخبار سلامت</td>\n",
       "      <td>همه چیز درباره واریانت XE کرونا</td>\n",
       "      <td>در پیک ششم هیچ خانواده‌ای نداریم که مبتلا نشده...</td>\n",
       "      <td>رییس مرکز تحقیقات ویروس شناسی دانشگاه علوم پزش...</td>\n",
       "      <td>https://www.asriran.com/003VLP</td>\n",
       "    </tr>\n",
       "    <tr>\n",
       "      <th>4</th>\n",
       "      <td>835474</td>\n",
       "      <td>۱۴۰۱/۰۱/۲۸</td>\n",
       "      <td>اخبار سلامت</td>\n",
       "      <td>چرا فضانوردان دچار سنگ کلیه می‌شوند؟</td>\n",
       "      <td>گذراندن زمان در شرایط ریزگرانش با کاهش تراکم ا...</td>\n",
       "      <td>زمانی که فضانوردان به فضا سفر می‌کنند می‌توانن...</td>\n",
       "      <td>https://www.asriran.com/003VLO</td>\n",
       "    </tr>\n",
       "  </tbody>\n",
       "</table>\n",
       "</div>"
      ],
      "text/plain": [
       "   News_ID        Date      Subject  \\\n",
       "0   835547  ۱۴۰۱/۰۱/۲۸  اخبار سلامت   \n",
       "1   835532  ۱۴۰۱/۰۱/۲۸  اخبار سلامت   \n",
       "2   835531  ۱۴۰۱/۰۱/۲۸  اخبار سلامت   \n",
       "3   835475  ۱۴۰۱/۰۱/۲۸  اخبار سلامت   \n",
       "4   835474  ۱۴۰۱/۰۱/۲۸  اخبار سلامت   \n",
       "\n",
       "                                               Title  \\\n",
       "0  افزایش مرگ‌ومیر جهانی کرونا در \"تعطیلات آخر هفته\"   \n",
       "1                       ابتلا به سرخک در استان قزوین   \n",
       "2  متخصص بیماری‌های عفونی: کرونا در ایران در حال ...   \n",
       "3                    همه چیز درباره واریانت XE کرونا   \n",
       "4               چرا فضانوردان دچار سنگ کلیه می‌شوند؟   \n",
       "\n",
       "                                             Summary  \\\n",
       "0  این یافته‌ها حاکی از آن است که در ایالات متحده...   \n",
       "1  وی تاکید کرد: تزریق نوبت اول واکسیناسیون دانش‌...   \n",
       "2  موارد بیماری کرونا در دنیا رو به کاهش است؛ به ...   \n",
       "3  در پیک ششم هیچ خانواده‌ای نداریم که مبتلا نشده...   \n",
       "4  گذراندن زمان در شرایط ریزگرانش با کاهش تراکم ا...   \n",
       "\n",
       "                                                Body  \\\n",
       "0  نتایج یک مطالعه جهانی نشان داده است که در طول ...   \n",
       "1  معاون بهداشت دانشگاه علوم پزشکی قزوین گفت: در ...   \n",
       "2  فارس نوشت: استاد بیماری‌های عفونی با بیان اینک...   \n",
       "3  رییس مرکز تحقیقات ویروس شناسی دانشگاه علوم پزش...   \n",
       "4  زمانی که فضانوردان به فضا سفر می‌کنند می‌توانن...   \n",
       "\n",
       "                       Short_link  \n",
       "0  https://www.asriran.com/003VMZ  \n",
       "1  https://www.asriran.com/003VMK  \n",
       "2  https://www.asriran.com/003VMJ  \n",
       "3  https://www.asriran.com/003VLP  \n",
       "4  https://www.asriran.com/003VLO  "
      ]
     },
     "execution_count": 46,
     "metadata": {},
     "output_type": "execute_result"
    }
   ],
   "source": [
    "data=pd.DataFrame(upperframe, columns=['News_ID','Date','Subject','Title','Summary','Body','Short_link'])\n",
    "data.head()"
   ]
  },
  {
   "cell_type": "code",
   "execution_count": 61,
   "metadata": {},
   "outputs": [],
   "source": [
    "data.to_csv('data.csv', encoding='utf-8', index=False)"
   ]
  },
  {
   "cell_type": "code",
   "execution_count": 74,
   "metadata": {},
   "outputs": [
    {
     "data": {
      "text/plain": [
       "'نتایج یک مطالعه جهانی نشان داده است که در طول همه گیری کووید ۱۹، میانگین آماریِ مرگ و میرهای ناشی از این بیماری در روزهای تعطیل آخر هفته در مقایسه با سایر روزهای هفته بیشتر بوده است به گزارش ایسنا، متخصصان می گویند که ثبت موارد بیشتری از مرگ و میر ناشی از کووید-۱۹ در روزهای آخر هفته دلایل مختلفی دارد کارشناسان با پذیرش این نکته که \"تاخیر در اعلام آمار فوتی ها\" در روزهای آخر هفته می تواند یک عامل موثر در افزایش میانگین آمار قربانیان در این روزها باشد، اظهار داشتند: با این حال فاکتورهای دیگر از جمله کمبود نیروی انسانی در مراکز خدمات درمانی و کاهش ظرفیت های خدماتی طی روزهای آخر هفته نیز احتمالا در این افزایش آماری نقش دارند به گفته متخصصان، به طور کلی میانگین تعداد مرگ و میر ناشی از کرونا در سراسر جهان طی آخر هفته ها در مقایسه با روزهای دیگر هفته، ۶ درصد بیشتر بوده است. بنابر این محاسبات، میانگین آمار فوتی ها در روزهای آخر هفته ۸۵۳۲ و در دیگر روزهای هفته ۸۰۸۳ بوده است کارشناسان دانشگاه تورنتو در کانادا تمامی موارد مرگ و میر گزارش شده به پایگاه داده کووید-۱۹ سازمان جهانی بهداشت را در فاصله هفتم مارس ۲۰۲۰ تا هفتم مارس ۲۰۲۲ مورد تجزیه و تحلیل قرار دادند این یافته ها حاکی از آن است که در ایالات متحده به طور متوسط  ۱۴۸۳ مورد مرگ و میر ناشی از کرونا در تعطیلات آخر هفته گزارش شده در حالی که این میانگین آماری در سایر روزهای هفته، ۱۲۲۰ مورد بوده است که افزایش ۲۲ درصدی را نشان می دهد همچنین برزیل به طور متوسط  ۱۰۶۱ مورد مرگ در روزهای آخر هفته و ۸۲۳ مورد فوت در دیگر روزها را داشته است که نشان دهنده افزایش ۲۹ درصدی است. در انگلیس نیز به طور متوسط  ۲۳۹ مورد فوت ناشی از کرونا در روزهای آخر هفته ثبت شده در حالی که این رقم در دیگر روزها ۲۱۵ مورد بوده که افزایش ۱۱ درصدی را نشان می دهد به گزارش روزنامه ایندیپندنت، یکی از کارشناسان این بررسی در عین حال متذکر شده است: از آنجا که این روال در برخی کشورها متفاوت است مثلا در آلمان در روزهای آخر هفته ، میانگین مرگ ومیر کمتری در مقایسه با دیگر روزهای هفته گزارش شده، بنابراین تاخیرهای بوروکراتیک در اعلام آمار قربانیان کرونا در تعطیلات آخر هفته نمی تواند به طور کامل توجیه کننده این تفاوت  در گزارش دهی آمار در روزهای مختلف باشد و در عوض این اختلاف آماری که \"اثر آخر هفته\" نام گرفته، احتمالا به دلیل کمبود کارکنان، ظرفیت و تجربه بالینی است علاوه بر این، یافته های ما نشان می دهد که با وجود بهبود عملکرد سیستم سلامت و آگاهی در طول دوره همه گیری، این مشکل حل نشده است وی تاکید کرد: شرایط فعلی، فرصتی را برای سیستم های بهداشتی بوجود آورده تا مراقبت های بالینی خود را در تمام روزهای هفته بهبود بخشند.                           '"
      ]
     },
     "execution_count": 74,
     "metadata": {},
     "output_type": "execute_result"
    }
   ],
   "source": [
    "data['Body'][0].replace(\"\\u200c\",\" \").replace(\".\\n\",\" \").replace(\"\\u200b\\u200b\",\" \")"
   ]
  }
 ],
 "metadata": {
  "kernelspec": {
   "display_name": "Python 3",
   "language": "python",
   "name": "python3"
  },
  "language_info": {
   "codemirror_mode": {
    "name": "ipython",
    "version": 3
   },
   "file_extension": ".py",
   "mimetype": "text/x-python",
   "name": "python",
   "nbconvert_exporter": "python",
   "pygments_lexer": "ipython3",
   "version": "3.11.1"
  },
  "orig_nbformat": 4,
  "vscode": {
   "interpreter": {
    "hash": "37ee99bff104f98bd1f5372e2ee364e0f3435400cb3778afef49450308d28634"
   }
  }
 },
 "nbformat": 4,
 "nbformat_minor": 2
}
