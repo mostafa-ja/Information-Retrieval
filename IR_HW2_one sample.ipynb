{
  "cells": [
    {
      "cell_type": "markdown",
      "metadata": {
        "colab_type": "text",
        "id": "view-in-github"
      },
      "source": [
        "<a href=\"https://colab.research.google.com/github/mostafa-ja/Information-Retrieval/blob/main/IR_HW2.ipynb\" target=\"_parent\"><img src=\"https://colab.research.google.com/assets/colab-badge.svg\" alt=\"Open In Colab\"/></a>"
      ]
    },
    {
      "cell_type": "code",
      "execution_count": 14,
      "metadata": {
        "id": "xvT2v_liulzy"
      },
      "outputs": [],
      "source": [
        "import urllib.request,sys,time\n",
        "from bs4 import BeautifulSoup\n",
        "import requests\n",
        "import pandas as pd\n",
        "import re"
      ]
    },
    {
      "attachments": {},
      "cell_type": "markdown",
      "metadata": {},
      "source": [
        "<a rel=\"nofollow\" class=\"next\" title=\"next\" href=\"?service_id=1&amp;sec_id=-1&amp;cat_id=-1&amp;rpp=20&amp;from_date=1401/01/01&amp;to_date=1401/01/28&amp;p=2\">►</a>"
      ]
    },
    {
      "cell_type": "code",
      "execution_count": 15,
      "metadata": {},
      "outputs": [
        {
          "data": {
            "text/plain": [
              "200"
            ]
          },
          "execution_count": 15,
          "metadata": {},
          "output_type": "execute_result"
        }
      ],
      "source": [
        "page_number = 1\n",
        "subject_number = 0 #all\n",
        "url = 'https://www.asriran.com/fa/archive?service_id=1&sec_id=-1&cat_id='+str(subject_number)+'0&rpp=20&from_date=1401/01/01&to_date=1401/01/28&p='+str(page_number)\n",
        "page = requests.get(url)\n",
        "page.status_code"
      ]
    },
    {
      "cell_type": "code",
      "execution_count": 16,
      "metadata": {},
      "outputs": [],
      "source": [
        "soup = BeautifulSoup(page.text, \"html.parser\")"
      ]
    },
    {
      "cell_type": "code",
      "execution_count": 17,
      "metadata": {},
      "outputs": [
        {
          "data": {
            "text/plain": [
              "20"
            ]
          },
          "execution_count": 17,
          "metadata": {},
          "output_type": "execute_result"
        }
      ],
      "source": [
        "articles=soup.find_all('article',attrs={'vizhe_cv col-xs-12 col-sm-6'})\n",
        "len(articles)"
      ]
    },
    {
      "cell_type": "code",
      "execution_count": 18,
      "metadata": {},
      "outputs": [
        {
          "data": {
            "text/plain": [
              "'قالیباف: وقتی خروج از برجام اتفاق افتاد حتی آب خوردنمان را هم به برجام گره زدیم/ فرصت خطا کردن نداریم/  فهرست بلندبالایی از مشکلات وجود دارد'"
            ]
          },
          "execution_count": 18,
          "metadata": {},
          "output_type": "execute_result"
        }
      ],
      "source": [
        "title = articles[1].find(\"a\",attrs={'class':\"vizhe_title\"}).text.strip()\n",
        "title"
      ]
    },
    {
      "cell_type": "code",
      "execution_count": 19,
      "metadata": {},
      "outputs": [
        {
          "data": {
            "text/plain": [
              "'https://www.asriran.com/fa/news/835667/قالیباف-وقتی-خروج-از-برجام-اتفاق-افتاد-حتی-آب-خوردنمان-را-هم-به-برجام-گره-زدیم-فرصت-خطا-کردن-نداریم-فهرست-بلندبالایی-از-مشکلات-وجود-دارد'"
            ]
          },
          "execution_count": 19,
          "metadata": {},
          "output_type": "execute_result"
        }
      ],
      "source": [
        "link = articles[1].find(\"a\").get('href').strip()\n",
        "link = 'https://www.asriran.com' + link\n",
        "link"
      ]
    },
    {
      "cell_type": "code",
      "execution_count": 20,
      "metadata": {},
      "outputs": [
        {
          "data": {
            "text/plain": [
              "'امروز نیازمند جهاد تصمیم در مجلس و دولت هستیم تا بر مشکلات فائق آییم در غیر این صورت مشمول تذکر رهبری خواهیم شد. در مجلس کمر همت بستیم تا به دور از اختلافات تصمیم بگیریم و با رویکرد مشخص حرکت کنیم.'"
            ]
          },
          "execution_count": 20,
          "metadata": {},
          "output_type": "execute_result"
        }
      ],
      "source": [
        "summary = articles[1].find(\"div\",attrs={'class':\"vizhe_lead\"}).text.strip()\n",
        "summary"
      ]
    },
    {
      "cell_type": "code",
      "execution_count": 21,
      "metadata": {},
      "outputs": [
        {
          "data": {
            "text/plain": [
              "'۱۴۰۱/۰۱/۲۸'"
            ]
          },
          "execution_count": 21,
          "metadata": {},
          "output_type": "execute_result"
        }
      ],
      "source": [
        "date = articles[1].find(\"span\",attrs={'class':\"tarikh_archive\"}).text.strip()\n",
        "date"
      ]
    },
    {
      "cell_type": "code",
      "execution_count": 22,
      "metadata": {},
      "outputs": [
        {
          "data": {
            "text/plain": [
              "'۲۳:۴۰'"
            ]
          },
          "execution_count": 22,
          "metadata": {},
          "output_type": "execute_result"
        }
      ],
      "source": [
        "time = articles[1].find(\"span\",attrs={'class':\"hours_archive\"}).text.strip()\n",
        "time"
      ]
    },
    {
      "cell_type": "code",
      "execution_count": 23,
      "metadata": {},
      "outputs": [
        {
          "name": "stdout",
          "output_type": "stream",
          "text": [
            "رئیس مجلس شورای اسلامی تاکید کرد: تاخیر در تصمیم باعث تردید می‌شود و تردید موجب تغییر در تصمیم قبل خواهد شد بنابراین تاخیر و تردید و تغییر نباید دامن جبهه انقلاب را در تصمیمات شجاعانه بگیرد.\n",
            "به گزارش ایرنا، محمدباقر قالیباف در نشست صمیمی نمایندگان مجلس با رئیس جمهور و اعضای هیات دولت، گفت: در روزهای اخیر رهبر معظم انقلاب نکات مهمی را در بعد اخلاقی و مسائل مهم توسعه بیان کردند. یکی از مهم ترین تذکراتی که ممکن است مشمول افراد حاضر در این جلسه شود این است که ممکن است در روز قیامت برای کارهای نکرده از ما سوال کنند، لذا هر لحظه غفلت ما ممکن است به عظمت اسلام و مسلمین یا رزق و روزی و عمر مردم و یا ثمره انقلاب اسلامی آسیب بزند.\n",
            "رئیس مجلس شورای اسلامی افزود: ما نباید فرصت ها را از دست دهیم زیرا این فرصت ها قابل تکرار نیست. روزی در این کشور ۱۱۹ میلیارد دلار در سال درآمد داشتیم و در دوره ای هم به جهت تحریم ها برای ۱۰ میلیارد دلار درآمد در سال تلاش می کردیم امروزه می فهمیم که با ۱۱۹ میلیارد دلار چه کارها و اقداماتی می توانستیم بکنیم که نکردیم. ما باید توجه داشته باشیم که این اتفاقات تکرار شدنی نیستند.\n",
            "وی در ادامه اظهار کرد: در دولت گذشته در دوره ای منتظر مذاکرات، احیای برجام و اجرای آن ماندیم، وقتی هم که خروج از برجام اتفاق افتاد ما مسائل مختلف حتی آب خوردنمان را هم به برجام گره زدیم. آن دوران باید برای ما درس عبرت شود و در کنار پیگیری مذاکرات و رفع تحریم ها که دغدغه ما است، مسائل کشور را بدون توجه به برجام دنبال کنیم.\n",
            "رئیس قوه مقننه یادآور شد: مسائل مذکور سبب شده کوچک‌ترین بحثی در مذاکرات در نرخ ارز یا خودرو تاثیراتی ایجاد کند لذا برای پرهیز از تخلفات و اشتباهات گذشته و شرایطی که اقتصادمان را شرطی کرده بودند باید از تکرار مجدد آن ها جلوگیری کنیم و در واقع ما فرصت خطا کردن نداریم. مجموعه جبهه انقلاب که در مسند مسوولیت و قدرت قرار گرفته محکوم به موفقیت است بنابراین مجلس و دولت و قوه قضائیه مجزا از یکدیگر نیستند و ما یکپارچه هستیم و مردم از ما چنین انتظار دارند.\n",
            "قالیباف تصریح کرد: ما باید برای ساخت ایران قوی تلاش کنیم لذا به تصمیمات مهم نیاز داریم در حقیقت مسائل ما روشن و راهکارها مشخص است. عوارض احتمالی هم وجود دارد. قطعا محاسنی هم در این زمینه وجود خواهد داشت، در چنین شرایطی تاخیر در تصمیم باعث تردید می شود و تردید موجب تغییر در تصمیم قبل خواهد شد بنابراین تاخیر و تردید و تغییر نباید دامن جبهه انقلاب را در تصمیمات شجاعانه بگیرد.\n",
            "وی افزود: فهرست بلندبالایی از مشکلات وجود دارد و ما باید اولویت ها را مشخص کنیم و جسارت داشته باشیم و با درایت و همدلی به سمت هم افزایی حرکت کنیم.\n",
            "رئیس مجلس شورای اسلامی یادآور شد: امروز نیازمند جهاد تصمیم در مجلس و دولت هستیم تا بر مشکلات فائق آییم در غیر این صورت مشمول تذکر رهبری خواهیم شد. جهاد تصمیم به این معنا است که پس از مشورت، کار کارشناسی و بحث و جدل جمع بندی کنیم و سپس با اراده و محکم کار را براساس جمع بندی صورت گرفته انجام دهیم و از تهدید داخلی و خارجی و جوسازی های رسانه ای احساس نگرانی نکنیم. ما باید کار را با اخلاص و طبق سنت های الهی آغاز کنیم.\n",
            "قالیباف با بیان اینکه هرچه پیش روی ماست فرصت است، گفت: فرصت ها دو نوع هستند فرصت های باریسک و فرصت‌های بدون ریسک که در کارهای انقلابی مبتنی بر عقلانیت و باورهای دینی باید فرصت های با ریسک را انتخاب کنیم زیرا آن‌ها می توانند تحولات بزرگی را رقم زنند.\n",
            "رئیس قوه مقننه با بیان اینکه جهاد تصمیم رمز تبدیل فرصت های با ریسک به تحولات بزرگ در کشور است، گفت: در سال ۱۴۰۱ در آستانه تنظیم برنامه هفتم توسعه هستیم لذا باید اجازه دهیم تصمیمات شجاعانه گرفته شود چرا که با تصمیم های بزرگ می توانیم جراحی های بزرگ و تحولات بزرگی را ایجاد کنیم. ما در مجلس برای رقم زدن این حرکت مهم کمر همت بستیم تا به دور از اختلافات تصمیم بگیریم و با رویکرد مشخص حرکت کنیم. اختلافات سلیقه ای طبیعی است و اختلافاتی که منافع مردم و قانون را در نظر نگیرد ناپسند خواهد بود.                           \n"
          ]
        }
      ],
      "source": [
        "url2 = link\n",
        "page2 = requests.get(url2)\n",
        "soup2 = BeautifulSoup(page2.text, \"html.parser\")\n",
        "body = soup2.find(\"div\",attrs={'class':\"body\"}).text.strip()\n",
        "print(body[:-155])"
      ]
    },
    {
      "cell_type": "code",
      "execution_count": 24,
      "metadata": {},
      "outputs": [
        {
          "data": {
            "text/plain": [
              "'کد خبر                                  ۸۳۵۶۶۷'"
            ]
          },
          "execution_count": 24,
          "metadata": {},
          "output_type": "execute_result"
        }
      ],
      "source": [
        "news_id = soup2.find(\"div\",attrs={'class':\"news_nav news_id_c\"}).text.strip()\n",
        "news_id"
      ]
    },
    {
      "cell_type": "code",
      "execution_count": 25,
      "metadata": {},
      "outputs": [
        {
          "data": {
            "text/plain": [
              "['۸۳۵۶۶۷']"
            ]
          },
          "execution_count": 25,
          "metadata": {},
          "output_type": "execute_result"
        }
      ],
      "source": [
        "re.findall(r'\\d+', news_id)"
      ]
    },
    {
      "cell_type": "code",
      "execution_count": 26,
      "metadata": {},
      "outputs": [
        {
          "data": {
            "text/plain": [
              "835667"
            ]
          },
          "execution_count": 26,
          "metadata": {},
          "output_type": "execute_result"
        }
      ],
      "source": [
        "int(re.findall(r'\\d+', news_id)[0])"
      ]
    },
    {
      "cell_type": "code",
      "execution_count": 27,
      "metadata": {},
      "outputs": [
        {
          "data": {
            "text/plain": [
              "'https://www.asriran.com/003VOV'"
            ]
          },
          "execution_count": 27,
          "metadata": {},
          "output_type": "execute_result"
        }
      ],
      "source": [
        "short_link = soup2.find(\"div\",attrs={'class':\"short-link row\"}).find(\"a\").get('href').strip()\n",
        "short_link = 'https://www.asriran.com' + short_link\n",
        "short_link"
      ]
    },
    {
      "cell_type": "code",
      "execution_count": 63,
      "metadata": {},
      "outputs": [
        {
          "data": {
            "text/plain": [
              "'سیاسی'"
            ]
          },
          "execution_count": 63,
          "metadata": {},
          "output_type": "execute_result"
        }
      ],
      "source": [
        "soup2.find(\"div\",attrs={'class':\"news_path\"}).find_all(\"a\")[-1].text"
      ]
    },
    {
      "cell_type": "code",
      "execution_count": 28,
      "metadata": {},
      "outputs": [
        {
          "data": {
            "text/plain": [
              "['صفحه نخست', 'سیاسی']"
            ]
          },
          "execution_count": 28,
          "metadata": {},
          "output_type": "execute_result"
        }
      ],
      "source": [
        "raw_tags = soup2.find(\"div\",attrs={'class':\"news_path\"}).find_all(\"a\")\n",
        "tags = []\n",
        "for raw_tag in raw_tags:\n",
        "    tags.append(raw_tag.text)\n",
        "tags"
      ]
    },
    {
      "cell_type": "code",
      "execution_count": 30,
      "metadata": {},
      "outputs": [
        {
          "data": {
            "text/plain": [
              "[[1, 2, 3, 4, 3, 2, 1, 0], [5, 6, 7, 8, 7, 6, 5, 4]]"
            ]
          },
          "execution_count": 30,
          "metadata": {},
          "output_type": "execute_result"
        }
      ],
      "source": [
        "frame = []\n",
        "frame.append([1,2,3,4,3,2,1,0])\n",
        "frame.append([5,6,7,8,7,6,5,4])\n",
        "frame"
      ]
    },
    {
      "cell_type": "code",
      "execution_count": 31,
      "metadata": {},
      "outputs": [
        {
          "data": {
            "text/html": [
              "<div>\n",
              "<style scoped>\n",
              "    .dataframe tbody tr th:only-of-type {\n",
              "        vertical-align: middle;\n",
              "    }\n",
              "\n",
              "    .dataframe tbody tr th {\n",
              "        vertical-align: top;\n",
              "    }\n",
              "\n",
              "    .dataframe thead th {\n",
              "        text-align: right;\n",
              "    }\n",
              "</style>\n",
              "<table border=\"1\" class=\"dataframe\">\n",
              "  <thead>\n",
              "    <tr style=\"text-align: right;\">\n",
              "      <th></th>\n",
              "      <th>News_ID</th>\n",
              "      <th>Date</th>\n",
              "      <th>Subject</th>\n",
              "      <th>Title</th>\n",
              "      <th>Summary</th>\n",
              "      <th>Body</th>\n",
              "      <th>Short_link</th>\n",
              "      <th>Tags</th>\n",
              "    </tr>\n",
              "  </thead>\n",
              "  <tbody>\n",
              "    <tr>\n",
              "      <th>0</th>\n",
              "      <td>1</td>\n",
              "      <td>2</td>\n",
              "      <td>3</td>\n",
              "      <td>4</td>\n",
              "      <td>3</td>\n",
              "      <td>2</td>\n",
              "      <td>1</td>\n",
              "      <td>0</td>\n",
              "    </tr>\n",
              "    <tr>\n",
              "      <th>1</th>\n",
              "      <td>5</td>\n",
              "      <td>6</td>\n",
              "      <td>7</td>\n",
              "      <td>8</td>\n",
              "      <td>7</td>\n",
              "      <td>6</td>\n",
              "      <td>5</td>\n",
              "      <td>4</td>\n",
              "    </tr>\n",
              "  </tbody>\n",
              "</table>\n",
              "</div>"
            ],
            "text/plain": [
              "   News_ID  Date  Subject  Title  Summary  Body  Short_link  Tags\n",
              "0        1     2        3      4        3     2           1     0\n",
              "1        5     6        7      8        7     6           5     4"
            ]
          },
          "execution_count": 31,
          "metadata": {},
          "output_type": "execute_result"
        }
      ],
      "source": [
        "data=pd.DataFrame(frame, columns=['News_ID','Date','Subject','Title','Summary','Body','Short_link','Tags'])\n",
        "data.head()"
      ]
    }
  ],
  "metadata": {
    "colab": {
      "authorship_tag": "ABX9TyOUSO1wGmr1GoxHGMnDG+SU",
      "include_colab_link": true,
      "provenance": []
    },
    "kernelspec": {
      "display_name": "Python 3",
      "language": "python",
      "name": "python3"
    },
    "language_info": {
      "codemirror_mode": {
        "name": "ipython",
        "version": 3
      },
      "file_extension": ".py",
      "mimetype": "text/x-python",
      "name": "python",
      "nbconvert_exporter": "python",
      "pygments_lexer": "ipython3",
      "version": "3.11.1"
    },
    "vscode": {
      "interpreter": {
        "hash": "37ee99bff104f98bd1f5372e2ee364e0f3435400cb3778afef49450308d28634"
      }
    }
  },
  "nbformat": 4,
  "nbformat_minor": 0
}
