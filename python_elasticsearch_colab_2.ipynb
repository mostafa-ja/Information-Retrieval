{
  "nbformat": 4,
  "nbformat_minor": 0,
  "metadata": {
    "colab": {
      "provenance": [],
      "collapsed_sections": [],
      "authorship_tag": "ABX9TyMaFON1+EvivrdrRO/YmE4d",
      "include_colab_link": true
    },
    "kernelspec": {
      "name": "python3",
      "display_name": "Python 3"
    },
    "language_info": {
      "name": "python"
    }
  },
  "cells": [
    {
      "cell_type": "markdown",
      "metadata": {
        "id": "view-in-github",
        "colab_type": "text"
      },
      "source": [
        "<a href=\"https://colab.research.google.com/github/mostafa-ja/Information-Retrieval/blob/main/python_elasticsearch_colab_2.ipynb\" target=\"_parent\"><img src=\"https://colab.research.google.com/assets/colab-badge.svg\" alt=\"Open In Colab\"/></a>"
      ]
    },
    {
      "cell_type": "code",
      "execution_count": null,
      "metadata": {
        "id": "M2KPb3By1369"
      },
      "outputs": [],
      "source": []
    },
    {
      "cell_type": "code",
      "execution_count": 1,
      "metadata": {
        "id": "IsDqz0tsLwZc"
      },
      "outputs": [],
      "source": [
        "%%capture\n",
        "\n",
        "!pip install elasticsearch==7.14.0\n",
        "!apt install default-jdk > /dev/null"
      ]
    },
    {
      "cell_type": "code",
      "execution_count": 2,
      "metadata": {
        "id": "Bnz8q7BBLv9c"
      },
      "outputs": [],
      "source": [
        "try:\n",
        "  import os\n",
        "  import elasticsearch\n",
        "  from elasticsearch import Elasticsearch\n",
        "  import numpy as np\n",
        "  import pandas as pd\n",
        "  import sys\n",
        "  import json\n",
        "  from ast import literal_eval\n",
        "  from tqdm import tqdm \n",
        "  import datetime\n",
        "  from elasticsearch import helpers\n",
        "  \n",
        "except Exception as e:\n",
        "  print(f\"error: {e}\")"
      ]
    },
    {
      "cell_type": "code",
      "execution_count": 3,
      "metadata": {
        "id": "k4idJB7WEjY5"
      },
      "outputs": [],
      "source": [
        "# Download & extract Elasticsearch 7.0.0\n",
        "\n",
        "!wget https://artifacts.elastic.co/downloads/elasticsearch/elasticsearch-7.0.0-linux-x86_64.tar.gz -q\n",
        "!tar -xzf elasticsearch-7.0.0-linux-x86_64.tar.gz\n",
        "!chown -R daemon:daemon elasticsearch-7.0.0"
      ]
    },
    {
      "cell_type": "code",
      "execution_count": 4,
      "metadata": {
        "id": "dTFy3CkDKk2j"
      },
      "outputs": [],
      "source": [
        "# Creating daemon instance of elasticsearch\n",
        "import os\n",
        "from subprocess import Popen, PIPE, STDOUT\n",
        "es_server = Popen(['elasticsearch-7.0.0/bin/elasticsearch'], \n",
        "                  stdout=PIPE, stderr=STDOUT,\n",
        "                  preexec_fn=lambda: os.setuid(1)  # as daemon\n",
        "                 )"
      ]
    },
    {
      "cell_type": "code",
      "execution_count": 5,
      "metadata": {
        "id": "r0ye1uYoLC4b"
      },
      "outputs": [],
      "source": [
        "# This part is important, since it takes a little amount of time for instance to load\n",
        "import time\n",
        "time.sleep(20)"
      ]
    },
    {
      "cell_type": "code",
      "execution_count": 6,
      "metadata": {
        "colab": {
          "base_uri": "https://localhost:8080/"
        },
        "id": "_M4c4HNvLOvy",
        "outputId": "d2621686-ca43-4c95-be57-9413efb6a0dd"
      },
      "outputs": [
        {
          "output_type": "stream",
          "name": "stdout",
          "text": [
            "daemon       203      73 99 23:07 ?        00:00:24 /content/elasticsearch-7.0.0/jdk/bin/java -Xms1g -Xmx1g -XX:+UseConcMarkSweepGC -XX:CMSInitiatingOccupancyFraction=75 -XX:+UseCMSInitiatingOccupancyOnly -Des.networkaddress.cache.ttl=60 -Des.networkaddress.cache.negative.ttl=10 -XX:+AlwaysPreTouch -Xss1m -Djava.awt.headless=true -Dfile.encoding=UTF-8 -Djna.nosys=true -XX:-OmitStackTraceInFastThrow -Dio.netty.noUnsafe=true -Dio.netty.noKeySetOptimization=true -Dio.netty.recycler.maxCapacityPerThread=0 -Dlog4j.shutdownHookEnabled=false -Dlog4j2.disable.jmx=true -Djava.io.tmpdir=/tmp/elasticsearch-7170510686066020961 -XX:+HeapDumpOnOutOfMemoryError -XX:HeapDumpPath=data -XX:ErrorFile=logs/hs_err_pid%p.log -Xlog:gc*,gc+age=trace,safepoint:file=logs/gc.log:utctime,pid,tags:filecount=32,filesize=64m -Djava.locale.providers=COMPAT -Dio.netty.allocator.type=unpooled -Des.path.home=/content/elasticsearch-7.0.0 -Des.path.conf=/content/elasticsearch-7.0.0/config -Des.distribution.flavor=default -Des.distribution.type=tar -Des.bundled_jdk=true -cp /content/elasticsearch-7.0.0/lib/* org.elasticsearch.bootstrap.Elasticsearch\n",
            "daemon       289     203  0 23:07 ?        00:00:00 /content/elasticsearch-7.0.0/modules/x-pack-ml/platform/linux-x86_64/bin/controller\n",
            "root         329     327  0 23:08 ?        00:00:00 grep elasticsearch\n"
          ]
        }
      ],
      "source": [
        "%%bash\n",
        "# If you get 1 root & 2 daemon process then Elasticsearch instance has started successfully\n",
        "ps -ef | grep elasticsearch"
      ]
    },
    {
      "cell_type": "code",
      "execution_count": 7,
      "metadata": {
        "id": "z-q-WRLiLSqR",
        "colab": {
          "base_uri": "https://localhost:8080/"
        },
        "outputId": "9629a098-b2b3-4a0e-d4bc-606ad44694d3"
      },
      "outputs": [
        {
          "output_type": "stream",
          "name": "stdout",
          "text": [
            "{\n",
            "  \"name\" : \"482541c6dd41\",\n",
            "  \"cluster_name\" : \"elasticsearch\",\n",
            "  \"cluster_uuid\" : \"xm8dlnzIRFmGeU_xteYJ0Q\",\n",
            "  \"version\" : {\n",
            "    \"number\" : \"7.0.0\",\n",
            "    \"build_flavor\" : \"default\",\n",
            "    \"build_type\" : \"tar\",\n",
            "    \"build_hash\" : \"b7e28a7\",\n",
            "    \"build_date\" : \"2019-04-05T22:55:32.697037Z\",\n",
            "    \"build_snapshot\" : false,\n",
            "    \"lucene_version\" : \"8.0.0\",\n",
            "    \"minimum_wire_compatibility_version\" : \"6.7.0\",\n",
            "    \"minimum_index_compatibility_version\" : \"6.0.0-beta1\"\n",
            "  },\n",
            "  \"tagline\" : \"You Know, for Search\"\n",
            "}\n"
          ]
        }
      ],
      "source": [
        "# Check if elasticsearch is running\n",
        "!curl -sX GET \"localhost:9200/\""
      ]
    },
    {
      "cell_type": "code",
      "source": [
        "from elasticsearch import Elasticsearch\n",
        "\n",
        "# Adds the HTTP header 'Authorization: Basic <base64 username:password>'\n",
        "es = Elasticsearch(\n",
        "    \"http://localhost:9200\",\n",
        "    #ca_certs=\"/path/to/http_ca.crt\",\n",
        "  \n",
        ")\n",
        "\n",
        "print(es.ping())\n"
      ],
      "metadata": {
        "colab": {
          "base_uri": "https://localhost:8080/"
        },
        "id": "HE34KsjyR4H3",
        "outputId": "d46f7acb-5f8c-41cf-c709-a4da283756b9"
      },
      "execution_count": 8,
      "outputs": [
        {
          "output_type": "stream",
          "name": "stdout",
          "text": [
            "True\n"
          ]
        }
      ]
    },
    {
      "cell_type": "code",
      "source": [
        "es.info()\n"
      ],
      "metadata": {
        "colab": {
          "base_uri": "https://localhost:8080/"
        },
        "id": "2yMXVqkmftGN",
        "outputId": "89220f98-9868-49e9-c213-5c6a278ee582"
      },
      "execution_count": 9,
      "outputs": [
        {
          "output_type": "execute_result",
          "data": {
            "text/plain": [
              "{'name': '482541c6dd41',\n",
              " 'cluster_name': 'elasticsearch',\n",
              " 'cluster_uuid': 'xm8dlnzIRFmGeU_xteYJ0Q',\n",
              " 'version': {'number': '7.0.0',\n",
              "  'build_flavor': 'default',\n",
              "  'build_type': 'tar',\n",
              "  'build_hash': 'b7e28a7',\n",
              "  'build_date': '2019-04-05T22:55:32.697037Z',\n",
              "  'build_snapshot': False,\n",
              "  'lucene_version': '8.0.0',\n",
              "  'minimum_wire_compatibility_version': '6.7.0',\n",
              "  'minimum_index_compatibility_version': '6.0.0-beta1'},\n",
              " 'tagline': 'You Know, for Search'}"
            ]
          },
          "metadata": {},
          "execution_count": 9
        }
      ]
    },
    {
      "cell_type": "code",
      "source": [
        "import pandas as pd\n",
        "df = pd.read_csv('QueryResults.csv')"
      ],
      "metadata": {
        "id": "O-CgGToj2phr"
      },
      "execution_count": 11,
      "outputs": []
    },
    {
      "cell_type": "code",
      "source": [
        "df.head(2)"
      ],
      "metadata": {
        "colab": {
          "base_uri": "https://localhost:8080/",
          "height": 240
        },
        "id": "aTY4vJ1l3Bpu",
        "outputId": "5df915fb-16d4-4cd7-e944-85164978cd61"
      },
      "execution_count": 12,
      "outputs": [
        {
          "output_type": "execute_result",
          "data": {
            "text/plain": [
              "        Id  Reputation         CreationDate         DisplayName  \\\n",
              "0  9515207      333744  2018-03-19 07:56:42  CertainPerformance   \n",
              "1   115145      966823  2009-05-31 16:20:08         CommonsWare   \n",
              "\n",
              "        LastAccessDate               WebsiteUrl                     Location  \\\n",
              "0  2022-10-23 05:48:50                      NaN              Austin, TX, USA   \n",
              "1  2022-10-22 22:47:55  https://commonsware.com  Pennsylvania, United States   \n",
              "\n",
              "                                             AboutMe   Views  UpVotes  ...  \\\n",
              "0  <p>Check out my <a href=\"https://github.com/Ce...   45265     4555  ...   \n",
              "1  <p>Mark Murphy, founder of CommonsWare, writes...  269088    13183  ...   \n",
              "\n",
              "          LastEditDate     LastActivityDate  Title  Tags  AnswerCount  \\\n",
              "0  2020-08-24 13:58:33  2020-08-24 13:58:33    NaN   NaN          NaN   \n",
              "1  2020-12-02 00:04:04  2020-12-02 00:04:04    NaN   NaN          NaN   \n",
              "\n",
              "   CommentCount  FavoriteCount  ClosedDate CommunityOwnedDate  ContentLicense  \n",
              "0             1            NaN         NaN                NaN    CC BY-SA 4.0  \n",
              "1            12            NaN         NaN                NaN    CC BY-SA 4.0  \n",
              "\n",
              "[2 rows x 37 columns]"
            ],
            "text/html": [
              "\n",
              "  <div id=\"df-b29ecd30-0dbd-4da3-a060-a76f75289dd5\">\n",
              "    <div class=\"colab-df-container\">\n",
              "      <div>\n",
              "<style scoped>\n",
              "    .dataframe tbody tr th:only-of-type {\n",
              "        vertical-align: middle;\n",
              "    }\n",
              "\n",
              "    .dataframe tbody tr th {\n",
              "        vertical-align: top;\n",
              "    }\n",
              "\n",
              "    .dataframe thead th {\n",
              "        text-align: right;\n",
              "    }\n",
              "</style>\n",
              "<table border=\"1\" class=\"dataframe\">\n",
              "  <thead>\n",
              "    <tr style=\"text-align: right;\">\n",
              "      <th></th>\n",
              "      <th>Id</th>\n",
              "      <th>Reputation</th>\n",
              "      <th>CreationDate</th>\n",
              "      <th>DisplayName</th>\n",
              "      <th>LastAccessDate</th>\n",
              "      <th>WebsiteUrl</th>\n",
              "      <th>Location</th>\n",
              "      <th>AboutMe</th>\n",
              "      <th>Views</th>\n",
              "      <th>UpVotes</th>\n",
              "      <th>...</th>\n",
              "      <th>LastEditDate</th>\n",
              "      <th>LastActivityDate</th>\n",
              "      <th>Title</th>\n",
              "      <th>Tags</th>\n",
              "      <th>AnswerCount</th>\n",
              "      <th>CommentCount</th>\n",
              "      <th>FavoriteCount</th>\n",
              "      <th>ClosedDate</th>\n",
              "      <th>CommunityOwnedDate</th>\n",
              "      <th>ContentLicense</th>\n",
              "    </tr>\n",
              "  </thead>\n",
              "  <tbody>\n",
              "    <tr>\n",
              "      <th>0</th>\n",
              "      <td>9515207</td>\n",
              "      <td>333744</td>\n",
              "      <td>2018-03-19 07:56:42</td>\n",
              "      <td>CertainPerformance</td>\n",
              "      <td>2022-10-23 05:48:50</td>\n",
              "      <td>NaN</td>\n",
              "      <td>Austin, TX, USA</td>\n",
              "      <td>&lt;p&gt;Check out my &lt;a href=\"https://github.com/Ce...</td>\n",
              "      <td>45265</td>\n",
              "      <td>4555</td>\n",
              "      <td>...</td>\n",
              "      <td>2020-08-24 13:58:33</td>\n",
              "      <td>2020-08-24 13:58:33</td>\n",
              "      <td>NaN</td>\n",
              "      <td>NaN</td>\n",
              "      <td>NaN</td>\n",
              "      <td>1</td>\n",
              "      <td>NaN</td>\n",
              "      <td>NaN</td>\n",
              "      <td>NaN</td>\n",
              "      <td>CC BY-SA 4.0</td>\n",
              "    </tr>\n",
              "    <tr>\n",
              "      <th>1</th>\n",
              "      <td>115145</td>\n",
              "      <td>966823</td>\n",
              "      <td>2009-05-31 16:20:08</td>\n",
              "      <td>CommonsWare</td>\n",
              "      <td>2022-10-22 22:47:55</td>\n",
              "      <td>https://commonsware.com</td>\n",
              "      <td>Pennsylvania, United States</td>\n",
              "      <td>&lt;p&gt;Mark Murphy, founder of CommonsWare, writes...</td>\n",
              "      <td>269088</td>\n",
              "      <td>13183</td>\n",
              "      <td>...</td>\n",
              "      <td>2020-12-02 00:04:04</td>\n",
              "      <td>2020-12-02 00:04:04</td>\n",
              "      <td>NaN</td>\n",
              "      <td>NaN</td>\n",
              "      <td>NaN</td>\n",
              "      <td>12</td>\n",
              "      <td>NaN</td>\n",
              "      <td>NaN</td>\n",
              "      <td>NaN</td>\n",
              "      <td>CC BY-SA 4.0</td>\n",
              "    </tr>\n",
              "  </tbody>\n",
              "</table>\n",
              "<p>2 rows × 37 columns</p>\n",
              "</div>\n",
              "      <button class=\"colab-df-convert\" onclick=\"convertToInteractive('df-b29ecd30-0dbd-4da3-a060-a76f75289dd5')\"\n",
              "              title=\"Convert this dataframe to an interactive table.\"\n",
              "              style=\"display:none;\">\n",
              "        \n",
              "  <svg xmlns=\"http://www.w3.org/2000/svg\" height=\"24px\"viewBox=\"0 0 24 24\"\n",
              "       width=\"24px\">\n",
              "    <path d=\"M0 0h24v24H0V0z\" fill=\"none\"/>\n",
              "    <path d=\"M18.56 5.44l.94 2.06.94-2.06 2.06-.94-2.06-.94-.94-2.06-.94 2.06-2.06.94zm-11 1L8.5 8.5l.94-2.06 2.06-.94-2.06-.94L8.5 2.5l-.94 2.06-2.06.94zm10 10l.94 2.06.94-2.06 2.06-.94-2.06-.94-.94-2.06-.94 2.06-2.06.94z\"/><path d=\"M17.41 7.96l-1.37-1.37c-.4-.4-.92-.59-1.43-.59-.52 0-1.04.2-1.43.59L10.3 9.45l-7.72 7.72c-.78.78-.78 2.05 0 2.83L4 21.41c.39.39.9.59 1.41.59.51 0 1.02-.2 1.41-.59l7.78-7.78 2.81-2.81c.8-.78.8-2.07 0-2.86zM5.41 20L4 18.59l7.72-7.72 1.47 1.35L5.41 20z\"/>\n",
              "  </svg>\n",
              "      </button>\n",
              "      \n",
              "  <style>\n",
              "    .colab-df-container {\n",
              "      display:flex;\n",
              "      flex-wrap:wrap;\n",
              "      gap: 12px;\n",
              "    }\n",
              "\n",
              "    .colab-df-convert {\n",
              "      background-color: #E8F0FE;\n",
              "      border: none;\n",
              "      border-radius: 50%;\n",
              "      cursor: pointer;\n",
              "      display: none;\n",
              "      fill: #1967D2;\n",
              "      height: 32px;\n",
              "      padding: 0 0 0 0;\n",
              "      width: 32px;\n",
              "    }\n",
              "\n",
              "    .colab-df-convert:hover {\n",
              "      background-color: #E2EBFA;\n",
              "      box-shadow: 0px 1px 2px rgba(60, 64, 67, 0.3), 0px 1px 3px 1px rgba(60, 64, 67, 0.15);\n",
              "      fill: #174EA6;\n",
              "    }\n",
              "\n",
              "    [theme=dark] .colab-df-convert {\n",
              "      background-color: #3B4455;\n",
              "      fill: #D2E3FC;\n",
              "    }\n",
              "\n",
              "    [theme=dark] .colab-df-convert:hover {\n",
              "      background-color: #434B5C;\n",
              "      box-shadow: 0px 1px 3px 1px rgba(0, 0, 0, 0.15);\n",
              "      filter: drop-shadow(0px 1px 2px rgba(0, 0, 0, 0.3));\n",
              "      fill: #FFFFFF;\n",
              "    }\n",
              "  </style>\n",
              "\n",
              "      <script>\n",
              "        const buttonEl =\n",
              "          document.querySelector('#df-b29ecd30-0dbd-4da3-a060-a76f75289dd5 button.colab-df-convert');\n",
              "        buttonEl.style.display =\n",
              "          google.colab.kernel.accessAllowed ? 'block' : 'none';\n",
              "\n",
              "        async function convertToInteractive(key) {\n",
              "          const element = document.querySelector('#df-b29ecd30-0dbd-4da3-a060-a76f75289dd5');\n",
              "          const dataTable =\n",
              "            await google.colab.kernel.invokeFunction('convertToInteractive',\n",
              "                                                     [key], {});\n",
              "          if (!dataTable) return;\n",
              "\n",
              "          const docLinkHtml = 'Like what you see? Visit the ' +\n",
              "            '<a target=\"_blank\" href=https://colab.research.google.com/notebooks/data_table.ipynb>data table notebook</a>'\n",
              "            + ' to learn more about interactive tables.';\n",
              "          element.innerHTML = '';\n",
              "          dataTable['output_type'] = 'display_data';\n",
              "          await google.colab.output.renderOutput(dataTable, element);\n",
              "          const docLink = document.createElement('div');\n",
              "          docLink.innerHTML = docLinkHtml;\n",
              "          element.appendChild(docLink);\n",
              "        }\n",
              "      </script>\n",
              "    </div>\n",
              "  </div>\n",
              "  "
            ]
          },
          "metadata": {},
          "execution_count": 12
        }
      ]
    },
    {
      "cell_type": "code",
      "source": [
        "df['Body'][0]"
      ],
      "metadata": {
        "colab": {
          "base_uri": "https://localhost:8080/",
          "height": 174
        },
        "id": "fXUSqdkJ3jAG",
        "outputId": "62f72452-960e-41c6-863e-b3bc6e0774a3"
      },
      "execution_count": 15,
      "outputs": [
        {
          "output_type": "execute_result",
          "data": {
            "text/plain": [
              "'<p>You need to put a <code>.</code> after the <code>?</code> to use optional chaining:</p>\\n<pre><code>myArray.filter(x =&gt; x.testKey === myTestKey)?.[0]\\n</code></pre>\\n<p><a href=\"https://www.typescriptlang.org/play/#code/MYewdgzgLgBAtgTwCoFNoGkUJgXhgcgCMBDAJ3wG4BYAKFElkQEFTTjs8BtAbxijSiYEALgIAzECHwwAvgBoYvfhiyiiZaTIC61OuGgxSaAK4AbWHmat2AOjEBLcylIAKAB64AfDDc3lgrFwcS2QBIQBKAH4bTgAGHVp6CBBTFBtTEABzFyMIMyhwiiA\" rel=\"noreferrer\">Playground link</a></p>\\n<p>Using just the <code>?</code> alone makes the compiler think you\\'re trying to use the conditional operator (and then it throws an error since it doesn\\'t see a <code>:</code> later)</p>\\n<p>Optional chaining isn\\'t just a TypeScript thing - it is a finished proposal <a href=\"https://developer.mozilla.org/en-US/docs/Web/JavaScript/Reference/Operators/Optional_chaining\" rel=\"noreferrer\">in plain JavaScript</a> too.</p>\\n<p>It can be used with bracket notation like above, but it can also be used with dot notation property access:</p>\\n<p><div class=\"snippet\" data-lang=\"js\" data-hide=\"false\" data-console=\"true\" data-babel=\"false\">\\r\\n<div class=\"snippet-code\">\\r\\n<pre class=\"snippet-code-js lang-js prettyprint-override\"><code>const obj = {\\n  prop2: {\\n    nested2: \\'val2\\'\\n  }\\n};\\n\\nconsole.log(\\n  obj.prop1?.nested1,\\n  obj.prop2?.nested2\\n);</code></pre>\\r\\n</div>\\r\\n</div>\\r\\n</p>\\n<p>And with function calls:</p>\\n<p><div class=\"snippet\" data-lang=\"js\" data-hide=\"false\" data-console=\"true\" data-babel=\"false\">\\r\\n<div class=\"snippet-code\">\\r\\n<pre class=\"snippet-code-js lang-js prettyprint-override\"><code>const obj = {\\n  fn2: () =&gt; console.log(\\'fn2 running\\')\\n};\\n\\nobj.fn1?.();\\nobj.fn2?.();</code></pre>\\r\\n</div>\\r\\n</div>\\r\\n</p>\\n'"
            ],
            "application/vnd.google.colaboratory.intrinsic+json": {
              "type": "string"
            }
          },
          "metadata": {},
          "execution_count": 15
        }
      ]
    },
    {
      "cell_type": "code",
      "source": [
        "df.columns"
      ],
      "metadata": {
        "colab": {
          "base_uri": "https://localhost:8080/"
        },
        "id": "RkGO4KGR3ch6",
        "outputId": "361d19cc-aebb-485b-9708-7dc4918f953a"
      },
      "execution_count": 13,
      "outputs": [
        {
          "output_type": "execute_result",
          "data": {
            "text/plain": [
              "Index(['Id', 'Reputation', 'CreationDate', 'DisplayName', 'LastAccessDate',\n",
              "       'WebsiteUrl', 'Location', 'AboutMe', 'Views', 'UpVotes', 'DownVotes',\n",
              "       'ProfileImageUrl', 'EmailHash', 'AccountId', 'Id.1', 'PostTypeId',\n",
              "       'AcceptedAnswerId', 'ParentId', 'CreationDate.1', 'DeletionDate',\n",
              "       'Score', 'ViewCount', 'Body', 'OwnerUserId', 'OwnerDisplayName',\n",
              "       'LastEditorUserId', 'LastEditorDisplayName', 'LastEditDate',\n",
              "       'LastActivityDate', 'Title', 'Tags', 'AnswerCount', 'CommentCount',\n",
              "       'FavoriteCount', 'ClosedDate', 'CommunityOwnedDate', 'ContentLicense'],\n",
              "      dtype='object')"
            ]
          },
          "metadata": {},
          "execution_count": 13
        }
      ]
    },
    {
      "cell_type": "code",
      "source": [
        "request_body = {\n",
        "\t    \"settings\":{\n",
        "        \"number_of_shards\":1,\n",
        "        \"number_of_replicas\":0\n",
        "    },\n",
        "\n",
        "\t    'mappings': {\n",
        "\t        \"properties\": {\n",
        "            \"ID\": {\"type\": \"integer\"},\n",
        "            \"CreationDate\": {\"type\": \"date\"},\n",
        "            \"UpVotes\": {\"type\": \"integer\"},\n",
        "            \"cast\": {\"type\": \"text\", \"analyzer\": \"standard\"},\n",
        "            \"genre\": {\"type\": \"text\", \"analyzer\": \"standard\"},\n",
        "            \"plot\": {\"type\": \"text\", \"analyzer\": \"english\"},\n",
        "            \"year\": {\"type\": \"integer\"},\n",
        "            \"wiki_page\": {\"type\": \"keyword\"}\n",
        "      }}\n",
        "\t}"
      ],
      "metadata": {
        "id": "fGXfR5qi3pzs"
      },
      "execution_count": null,
      "outputs": []
    }
  ]
}