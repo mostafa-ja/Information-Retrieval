{
 "cells": [
  {
   "cell_type": "markdown",
   "metadata": {},
   "source": [
    "A.Loading elasticsearch"
   ]
  },
  {
   "cell_type": "code",
   "execution_count": 2,
   "metadata": {},
   "outputs": [
    {
     "name": "stdout",
     "output_type": "stream",
     "text": [
      "True\n"
     ]
    }
   ],
   "source": [
    "from elasticsearch import Elasticsearch\n",
    "\n",
    "# Adds the HTTP header 'Authorization: Basic <base64 username:password>'\n",
    "es = Elasticsearch(\n",
    "    \"http://localhost:9200\",\n",
    "    basic_auth=(\"elastic\", \"lxDO2mQDVQPrxE3FRWAy\")\n",
    ")\n",
    "\n",
    "print(es.ping())"
   ]
  },
  {
   "cell_type": "code",
   "execution_count": 44,
   "metadata": {},
   "outputs": [
    {
     "name": "stderr",
     "output_type": "stream",
     "text": [
      "<ipython-input-44-917cf5300b8f>:1: ElasticsearchWarning: this request accesses system indices: [.transform-internal-007, .kibana_8.4.3_001, .apm-agent-configuration, .kibana_security_session_1, .tasks, .security-7, .apm-custom-link, .kibana_task_manager_8.4.3_001, .security-profile-8, .async-search], but in a future major version, direct access to system indices will be prevented by default\n",
      "  es.indices.get_alias().keys()\n"
     ]
    },
    {
     "data": {
      "text/plain": [
       "dict_keys(['.kibana-event-log-8.4.3-000001', 'ecommerce_data', 'a', 'comments', 'news_headlines', '.transform-internal-007', '.kibana_8.4.3_001', '.apm-agent-configuration', 'questions2', '.kibana_security_session_1', '.tasks', 'metrics-endpoint.metadata_current_default', '.security-7', 'favorite_candy', '.apm-custom-link', '.kibana_task_manager_8.4.3_001', '.security-profile-8', '.async-search', '.transform-notifications-000002', '.metrics-endpoint.metadata_united_default'])"
      ]
     },
     "execution_count": 44,
     "metadata": {},
     "output_type": "execute_result"
    }
   ],
   "source": [
    "es.indices.get_alias().keys()"
   ]
  },
  {
   "cell_type": "code",
   "execution_count": 45,
   "metadata": {},
   "outputs": [
    {
     "data": {
      "text/plain": [
       "ObjectApiResponse({'acknowledged': True})"
      ]
     },
     "execution_count": 45,
     "metadata": {},
     "output_type": "execute_result"
    }
   ],
   "source": [
    "es.indices.delete(index=\"questions\")"
   ]
  },
  {
   "cell_type": "markdown",
   "metadata": {},
   "source": [
    "B.Importing data for assignments(1,2,3)"
   ]
  },
  {
   "cell_type": "code",
   "execution_count": 3,
   "metadata": {},
   "outputs": [],
   "source": [
    "import pandas as pd\n",
    "df_q = pd.read_csv('C:\\\\Users\\\\A\\\\Music\\\\repos\\\\Information-Retrieval\\\\data\\\\questions.csv').fillna(\"\")"
   ]
  },
  {
   "cell_type": "code",
   "execution_count": 47,
   "metadata": {},
   "outputs": [
    {
     "data": {
      "text/html": [
       "<div>\n",
       "<style scoped>\n",
       "    .dataframe tbody tr th:only-of-type {\n",
       "        vertical-align: middle;\n",
       "    }\n",
       "\n",
       "    .dataframe tbody tr th {\n",
       "        vertical-align: top;\n",
       "    }\n",
       "\n",
       "    .dataframe thead th {\n",
       "        text-align: right;\n",
       "    }\n",
       "</style>\n",
       "<table border=\"1\" class=\"dataframe\">\n",
       "  <thead>\n",
       "    <tr style=\"text-align: right;\">\n",
       "      <th></th>\n",
       "      <th>Id</th>\n",
       "      <th>Reputation</th>\n",
       "      <th>CreationDate</th>\n",
       "      <th>DisplayName</th>\n",
       "      <th>LastAccessDate</th>\n",
       "      <th>WebsiteUrl</th>\n",
       "      <th>Location</th>\n",
       "      <th>AboutMe</th>\n",
       "      <th>Views</th>\n",
       "      <th>UpVotes</th>\n",
       "      <th>...</th>\n",
       "      <th>LastEditDate</th>\n",
       "      <th>LastActivityDate</th>\n",
       "      <th>Title</th>\n",
       "      <th>Tags</th>\n",
       "      <th>AnswerCount</th>\n",
       "      <th>CommentCount</th>\n",
       "      <th>FavoriteCount</th>\n",
       "      <th>ClosedDate</th>\n",
       "      <th>CommunityOwnedDate</th>\n",
       "      <th>ContentLicense</th>\n",
       "    </tr>\n",
       "  </thead>\n",
       "  <tbody>\n",
       "    <tr>\n",
       "      <th>0</th>\n",
       "      <td>115145</td>\n",
       "      <td>967227</td>\n",
       "      <td>2009-05-31 16:20:08</td>\n",
       "      <td>CommonsWare</td>\n",
       "      <td>2022-10-29 23:14:28</td>\n",
       "      <td>https://commonsware.com</td>\n",
       "      <td>Pennsylvania, United States</td>\n",
       "      <td>&lt;p&gt;Mark Murphy, founder of CommonsWare, writes...</td>\n",
       "      <td>269231</td>\n",
       "      <td>13193</td>\n",
       "      <td>...</td>\n",
       "      <td>2022-08-19 16:46:16</td>\n",
       "      <td>2022-08-19 16:46:16</td>\n",
       "      <td>How can I fix \"unexpected element &lt;queries&gt; fo...</td>\n",
       "      <td>&lt;android&gt;&lt;android-gradle-plugin&gt;&lt;android-manif...</td>\n",
       "      <td>7</td>\n",
       "      <td>1</td>\n",
       "      <td>30</td>\n",
       "      <td></td>\n",
       "      <td></td>\n",
       "      <td>CC BY-SA 4.0</td>\n",
       "    </tr>\n",
       "    <tr>\n",
       "      <th>1</th>\n",
       "      <td>85371</td>\n",
       "      <td>358430</td>\n",
       "      <td>2009-03-31 21:38:26</td>\n",
       "      <td>sehe</td>\n",
       "      <td>2022-10-29 15:03:44</td>\n",
       "      <td></td>\n",
       "      <td>Netherlands</td>\n",
       "      <td>&lt;p&gt;I'm a developer at heart.&lt;/p&gt;\\n&lt;p&gt;I love C+...</td>\n",
       "      <td>34058</td>\n",
       "      <td>16475</td>\n",
       "      <td>...</td>\n",
       "      <td>2021-03-06 02:51:07</td>\n",
       "      <td>2021-03-06 02:51:07</td>\n",
       "      <td>C++20 behaviour breaking existing code with eq...</td>\n",
       "      <td>&lt;c++&gt;&lt;c++17&gt;&lt;c++20&gt;&lt;spaceship-operator&gt;</td>\n",
       "      <td>1</td>\n",
       "      <td>4</td>\n",
       "      <td>21</td>\n",
       "      <td></td>\n",
       "      <td></td>\n",
       "      <td>CC BY-SA 4.0</td>\n",
       "    </tr>\n",
       "  </tbody>\n",
       "</table>\n",
       "<p>2 rows × 37 columns</p>\n",
       "</div>"
      ],
      "text/plain": [
       "       Id  Reputation         CreationDate  DisplayName       LastAccessDate  \\\n",
       "0  115145      967227  2009-05-31 16:20:08  CommonsWare  2022-10-29 23:14:28   \n",
       "1   85371      358430  2009-03-31 21:38:26         sehe  2022-10-29 15:03:44   \n",
       "\n",
       "                WebsiteUrl                     Location  \\\n",
       "0  https://commonsware.com  Pennsylvania, United States   \n",
       "1                                           Netherlands   \n",
       "\n",
       "                                             AboutMe   Views  UpVotes  ...  \\\n",
       "0  <p>Mark Murphy, founder of CommonsWare, writes...  269231    13193  ...   \n",
       "1  <p>I'm a developer at heart.</p>\\n<p>I love C+...   34058    16475  ...   \n",
       "\n",
       "          LastEditDate     LastActivityDate  \\\n",
       "0  2022-08-19 16:46:16  2022-08-19 16:46:16   \n",
       "1  2021-03-06 02:51:07  2021-03-06 02:51:07   \n",
       "\n",
       "                                               Title  \\\n",
       "0  How can I fix \"unexpected element <queries> fo...   \n",
       "1  C++20 behaviour breaking existing code with eq...   \n",
       "\n",
       "                                                Tags  AnswerCount  \\\n",
       "0  <android><android-gradle-plugin><android-manif...            7   \n",
       "1            <c++><c++17><c++20><spaceship-operator>            1   \n",
       "\n",
       "   CommentCount FavoriteCount ClosedDate CommunityOwnedDate ContentLicense  \n",
       "0             1            30                                 CC BY-SA 4.0  \n",
       "1             4            21                                 CC BY-SA 4.0  \n",
       "\n",
       "[2 rows x 37 columns]"
      ]
     },
     "execution_count": 47,
     "metadata": {},
     "output_type": "execute_result"
    }
   ],
   "source": [
    "df_q.head(2)"
   ]
  },
  {
   "cell_type": "code",
   "execution_count": 48,
   "metadata": {},
   "outputs": [
    {
     "data": {
      "text/plain": [
       "Index(['Id', 'Reputation', 'CreationDate', 'DisplayName', 'LastAccessDate',\n",
       "       'WebsiteUrl', 'Location', 'AboutMe', 'Views', 'UpVotes', 'DownVotes',\n",
       "       'ProfileImageUrl', 'EmailHash', 'AccountId', 'Id.1', 'PostTypeId',\n",
       "       'AcceptedAnswerId', 'ParentId', 'CreationDate.1', 'DeletionDate',\n",
       "       'Score', 'ViewCount', 'Body', 'OwnerUserId', 'OwnerDisplayName',\n",
       "       'LastEditorUserId', 'LastEditorDisplayName', 'LastEditDate',\n",
       "       'LastActivityDate', 'Title', 'Tags', 'AnswerCount', 'CommentCount',\n",
       "       'FavoriteCount', 'ClosedDate', 'CommunityOwnedDate', 'ContentLicense'],\n",
       "      dtype='object')"
      ]
     },
     "execution_count": 48,
     "metadata": {},
     "output_type": "execute_result"
    }
   ],
   "source": [
    "df_q.columns"
   ]
  },
  {
   "cell_type": "code",
   "execution_count": 7,
   "metadata": {},
   "outputs": [
    {
     "data": {
      "text/plain": [
       "51"
      ]
     },
     "execution_count": 7,
     "metadata": {},
     "output_type": "execute_result"
    }
   ],
   "source": [
    "# df_q['Id']=users.id\n",
    "len(df_q['Id'].unique())"
   ]
  },
  {
   "cell_type": "code",
   "execution_count": 8,
   "metadata": {},
   "outputs": [
    {
     "data": {
      "text/plain": [
       "100"
      ]
     },
     "execution_count": 8,
     "metadata": {},
     "output_type": "execute_result"
    }
   ],
   "source": [
    "# df_q['Id.1'] = posts.id\n",
    "len(df_q['Id.1'].unique())"
   ]
  },
  {
   "cell_type": "markdown",
   "metadata": {},
   "source": [
    "C.Indexing data based on the assignment"
   ]
  },
  {
   "cell_type": "code",
   "execution_count": 49,
   "metadata": {},
   "outputs": [
    {
     "data": {
      "text/plain": [
       "ObjectApiResponse({'acknowledged': True, 'shards_acknowledged': True, 'index': 'questions'})"
      ]
     },
     "execution_count": 49,
     "metadata": {},
     "output_type": "execute_result"
    }
   ],
   "source": [
    "mapping = {\n",
    "     \"properties\": {\n",
    "            \"ID\": {\"type\": \"integer\"},\n",
    "            \"Body\": {\"type\": \"text\"},\n",
    "            \"Tags\": {\"type\": \"text\"}\n",
    "            #\"CreationDate\": {\"type\": \"date\",\"format\": \"yyyy-MM-dd HH:mm:ss\"},\n",
    "            #\"UpVotes\": {\"type\": \"integer\"},\n",
    "            #\"Score\": {\"type\": \"integer\"},\n",
    "            #\"OwnerUserId\": {\"type\": \"integer\"},\n",
    "         }}\n",
    "\n",
    "es.indices.create(index=\"questions\",mappings=mapping)"
   ]
  },
  {
   "cell_type": "code",
   "execution_count": 50,
   "metadata": {},
   "outputs": [],
   "source": [
    "for i,row in df_q.iterrows():\n",
    "  doc = {\n",
    "      \"ID\" : row['Id.1'], # id.1=posts.id\n",
    "      \"Body\" : row[\"Body\"],\n",
    "      \"Tags\" : (row[\"Tags\"] if row[\"Tags\"]!= 'non' else '')\n",
    "      #\"CreationDate\" : row[\"CreationDate\"], no need\n",
    "      #\"UpVotes\" : row[\"UpVotes\"], no need\n",
    "      #\"Score\" : row[\"Score\"],\n",
    "      #\"OwnerUserId\" : row[\"OwnerUserId\"],\n",
    "  }\n",
    "  \n",
    "  es.index(index=\"questions\",id=i,document=doc)"
   ]
  },
  {
   "cell_type": "markdown",
   "metadata": {},
   "source": [
    "C_2.Checking indexed data"
   ]
  },
  {
   "cell_type": "code",
   "execution_count": 51,
   "metadata": {},
   "outputs": [
    {
     "data": {
      "text/plain": [
       "ObjectApiResponse({'questions': {'aliases': {}, 'mappings': {'properties': {'Body': {'type': 'text'}, 'ID': {'type': 'integer'}, 'Tags': {'type': 'text'}}}, 'settings': {'index': {'routing': {'allocation': {'include': {'_tier_preference': 'data_content'}}}, 'number_of_shards': '1', 'provided_name': 'questions', 'creation_date': '1667249323318', 'number_of_replicas': '1', 'uuid': '4fAFSMx5SVOoXWRSs70NFg', 'version': {'created': '8040399'}}}}})"
      ]
     },
     "execution_count": 51,
     "metadata": {},
     "output_type": "execute_result"
    }
   ],
   "source": [
    "es.indices.get(index='questions')"
   ]
  },
  {
   "cell_type": "code",
   "execution_count": 52,
   "metadata": {},
   "outputs": [
    {
     "data": {
      "text/plain": [
       "ObjectApiResponse({'_shards': {'total': 2, 'successful': 1, 'failed': 0}})"
      ]
     },
     "execution_count": 52,
     "metadata": {},
     "output_type": "execute_result"
    }
   ],
   "source": [
    "es.indices.refresh(index=\"questions\")\n"
   ]
  },
  {
   "cell_type": "code",
   "execution_count": 53,
   "metadata": {},
   "outputs": [
    {
     "data": {
      "text/plain": [
       "ListApiResponse([{'epoch': '1667249376', 'timestamp': '20:49:36', 'count': '100'}])"
      ]
     },
     "execution_count": 53,
     "metadata": {},
     "output_type": "execute_result"
    }
   ],
   "source": [
    "es.cat.count(index=\"questions\", format=\"json\")"
   ]
  },
  {
   "cell_type": "code",
   "execution_count": null,
   "metadata": {},
   "outputs": [],
   "source": [
    "res = es.get(index=\"questions\", id=0)\n",
    "res"
   ]
  },
  {
   "cell_type": "code",
   "execution_count": 55,
   "metadata": {},
   "outputs": [
    {
     "data": {
      "text/plain": [
       "'<android><android-gradle-plugin><android-manifest><manifest>'"
      ]
     },
     "execution_count": 55,
     "metadata": {},
     "output_type": "execute_result"
    }
   ],
   "source": [
    "res['_source']['Tags']"
   ]
  },
  {
   "cell_type": "code",
   "execution_count": 56,
   "metadata": {},
   "outputs": [
    {
     "data": {
      "text/plain": [
       "dict_keys(['_index', '_id', '_version', '_seq_no', '_primary_term', 'found', '_source'])"
      ]
     },
     "execution_count": 56,
     "metadata": {},
     "output_type": "execute_result"
    }
   ],
   "source": [
    "res.keys()"
   ]
  },
  {
   "cell_type": "code",
   "execution_count": 58,
   "metadata": {},
   "outputs": [
    {
     "name": "stdout",
     "output_type": "stream",
     "text": [
      "dict_keys(['took', 'timed_out', '_shards', 'hits'])\n",
      "dict_keys(['total', 'max_score', 'hits'])\n",
      "dict_keys(['_index', '_id', '_score', '_source'])\n",
      "dict_keys(['ID', 'Body', 'Tags'])\n"
     ]
    }
   ],
   "source": [
    "resp = es.search(index=\"questions\", query={\"match\":{\"Body\":\"program\"}})\n",
    "print(resp.keys())\n",
    "print(resp['hits'].keys())\n",
    "print(resp['hits']['hits'][0].keys()) #resp['hits']['hits'] is a list of results\n",
    "print(resp['hits']['hits'][0]['_source'].keys())"
   ]
  },
  {
   "cell_type": "code",
   "execution_count": 59,
   "metadata": {},
   "outputs": [
    {
     "data": {
      "text/plain": [
       "{'_index': 'questions',\n",
       " '_id': '82',\n",
       " '_score': 3.8813283,\n",
       " '_source': {'ID': 61278180,\n",
       "  'Body': '<p>Consider the following demonstrative program.</p>\\n\\n<pre><code>#include &lt;iostream&gt;\\n\\nint main()\\n{\\n    typedef float T;\\n\\n    0.f.T::~T();\\n}\\n</code></pre>\\n\\n<p>This program is compiled by <code>Microsoft Visual Studio Community 2019</code>.</p>\\n\\n<p>But <code>clang</code> and <code>gcc</code> issue an error like this</p>\\n\\n<pre><code>prog.cc:7:5: error: unable to find numeric literal operator \\'operator\"\"f.T\\'\\n    7 |     0.f.T::~T();\\n      |     ^~~~~\\n</code></pre>\\n\\n<p>If to write the expression like <code>( 0.f ).T::~T()</code> then all three compilers compile the program.</p>\\n\\n<p>So a question arises: is this record <code>0.f.T::~T()</code> syntactically valid? And if not, then what syntactical rule is broken? </p>\\n',\n",
       "  'Tags': '<c++><syntax><floating-point><c++17><pseudo-destructor>'}}"
      ]
     },
     "execution_count": 59,
     "metadata": {},
     "output_type": "execute_result"
    }
   ],
   "source": [
    "# first result\n",
    "resp['hits']['hits'][0]\n"
   ]
  },
  {
   "cell_type": "code",
   "execution_count": 60,
   "metadata": {},
   "outputs": [
    {
     "data": {
      "text/plain": [
       "{'ID': 61278180,\n",
       " 'Body': '<p>Consider the following demonstrative program.</p>\\n\\n<pre><code>#include &lt;iostream&gt;\\n\\nint main()\\n{\\n    typedef float T;\\n\\n    0.f.T::~T();\\n}\\n</code></pre>\\n\\n<p>This program is compiled by <code>Microsoft Visual Studio Community 2019</code>.</p>\\n\\n<p>But <code>clang</code> and <code>gcc</code> issue an error like this</p>\\n\\n<pre><code>prog.cc:7:5: error: unable to find numeric literal operator \\'operator\"\"f.T\\'\\n    7 |     0.f.T::~T();\\n      |     ^~~~~\\n</code></pre>\\n\\n<p>If to write the expression like <code>( 0.f ).T::~T()</code> then all three compilers compile the program.</p>\\n\\n<p>So a question arises: is this record <code>0.f.T::~T()</code> syntactically valid? And if not, then what syntactical rule is broken? </p>\\n',\n",
       " 'Tags': '<c++><syntax><floating-point><c++17><pseudo-destructor>'}"
      ]
     },
     "execution_count": 60,
     "metadata": {},
     "output_type": "execute_result"
    }
   ],
   "source": [
    "resp['hits']['hits'][0]['_source']"
   ]
  },
  {
   "cell_type": "code",
   "execution_count": null,
   "metadata": {},
   "outputs": [],
   "source": [
    "resp['hits']['hits'][0]['_source']['Body']"
   ]
  },
  {
   "cell_type": "code",
   "execution_count": null,
   "metadata": {},
   "outputs": [],
   "source": [
    "print(f\"Got {resp['hits']['total']['value']} Hits:\" )\n",
    "for hit in resp['hits']['hits']: #resp['hits']['hits'] is a list of results \n",
    "    print(hit['_source']['ID'])"
   ]
  },
  {
   "cell_type": "markdown",
   "metadata": {},
   "source": [
    "Assignment(1)"
   ]
  },
  {
   "cell_type": "code",
   "execution_count": 65,
   "metadata": {},
   "outputs": [],
   "source": [
    "def search_text(text):\n",
    "    results = es.search(index='questions',query={\"match\":{\"Body\":text}})\n",
    "    all_hits = results['hits']['hits']\n",
    "\n",
    "    # see how many \"hits\" it returned using the len() function\n",
    "    print (\"total hits :\", results['hits']['total']['value'], \"\\n\")\n",
    "    \n",
    "    # iterate the nested dictionaries inside the [\"hits\"][\"hits\"] list and print results\n",
    "    if results['hits']['total']['value'] == 0:\n",
    "        print('NOT FOUND')  \n",
    "    else:\n",
    "        for num, doc in enumerate(all_hits):\n",
    "            print (\"DOC ID:\", doc[\"_id\"], \"\\n\", doc['_source']['Body'], \"\\n\")"
   ]
  },
  {
   "cell_type": "code",
   "execution_count": 66,
   "metadata": {},
   "outputs": [
    {
     "name": "stdout",
     "output_type": "stream",
     "text": [
      "total hits : 1 \n",
      "\n",
      "DOC ID: 76 \n",
      " <p>I have existing code such as this:</p>\n",
      "\n",
      "<pre><code>String sql = \"CREATE TABLE \" + tableName + \" (\\n\" +\n",
      "        \"  id_ UUID DEFAULT random_uuid() PRIMARY KEY ,\\n\" +\n",
      "        \"  when_ TIMESTAMP WITHOUT TIME ZONE NOT NULL\\n\" +\n",
      "        \"  duration_ STRING NOT NULL\\n\" +\n",
      "        \");\";\n",
      "</code></pre>\n",
      "\n",
      "<p>…in a project in IntelliJ 2020.1.1 (preview) Ultimate edition where the JDK settings are configured for language level <code>14 (Preview) - Records, patters, text blocks</code>. </p>\n",
      "\n",
      "<p>So I expected IntelliJ to offer a conversion to text blocks among the items display when I click on the yellow light bulb that appears next to this line of code. But I see no such offer.</p>\n",
      "\n",
      "<p><a href=\"https://i.stack.imgur.com/f18mc.png\" rel=\"noreferrer\"><img src=\"https://i.stack.imgur.com/f18mc.png\" alt=\"screen shot of pop-up menu displayed by clicking on yellow light bulb next to this line of code\"></a></p>\n",
      "\n",
      "<p>I am surprised to not find such an offer, as the JetBrains company claims to support <a href=\"https://openjdk.java.net/jeps/368\" rel=\"noreferrer\"><em>JEP 368: Text Blocks (Second Preview)</em></a> in their 2020.1 version of IntelliJ, as discussed <a href=\"https://blog.jetbrains.com/idea/2020/03/java-14-and-intellij-idea/\" rel=\"noreferrer\">here</a> and <a href=\"https://blog.jetbrains.com/idea/2019/11/java-13-and-intellij-idea/\" rel=\"noreferrer\">here</a>. </p>\n",
      "\n",
      "<p>➥ Does IntelliJ offer some way to convert old string concatenation to text blocks? </p>\n",
      " \n",
      "\n"
     ]
    }
   ],
   "source": [
    "search_text('concatenation')"
   ]
  },
  {
   "cell_type": "markdown",
   "metadata": {},
   "source": [
    "Assignment(2)"
   ]
  },
  {
   "cell_type": "code",
   "execution_count": 6,
   "metadata": {},
   "outputs": [
    {
     "data": {
      "text/plain": [
       "0     62969917\n",
       "1     65648897\n",
       "2     67289057\n",
       "3     60114639\n",
       "4     61590721\n",
       "        ...   \n",
       "95    63788646\n",
       "96    64034156\n",
       "97    68024935\n",
       "98    65224327\n",
       "99    59618213\n",
       "Name: Id.1, Length: 100, dtype: int64"
      ]
     },
     "execution_count": 6,
     "metadata": {},
     "output_type": "execute_result"
    }
   ],
   "source": [
    "df_q['Id.1']"
   ]
  },
  {
   "cell_type": "code",
   "execution_count": 88,
   "metadata": {},
   "outputs": [],
   "source": [
    "def search_id(number):\n",
    "    results = es.search(index='questions',query={\"match\":{\"ID\":number}})\n",
    "    all_hits = results['hits']['hits']\n",
    "    print(\"number of results = \",results['hits']['total']['value'],\"\\n\")\n",
    "    if results['hits']['total']['value'] == 0:\n",
    "        print('NOT FOUND')  \n",
    "    else:\n",
    "        for num, doc in enumerate(all_hits):\n",
    "            print (\"DOC ID:\", doc[\"_id\"], \"\\n\", doc['_source']['Body'], \"\\n\")"
   ]
  },
  {
   "cell_type": "code",
   "execution_count": 89,
   "metadata": {},
   "outputs": [
    {
     "name": "stdout",
     "output_type": "stream",
     "text": [
      "number of results =  1 \n",
      "\n",
      "DOC ID: 96 \n",
      " <p><em><strong>Short problem description:</strong></em> I had created two new AWS EC2 server instances on Redhat Linux and Ubuntu operating system. I was trying to login to it through SSH via Putty but was getting errors(detailed errors further in question). This is just a short description.</p>\n",
      "<p><em><strong>Detailed problem description:</strong></em> I generated a new .pem file after creating a free tier Amazon EC2(Elastic Compute Cloud) server of Ubuntu 20 O.S version. Then I have used <code>PuttyGen</code> software in my Windows-10 O.S p.c. While trying to login through putty it was giving me an error as shown in the following error description, due to this I was not able to login to aws machines, I have further investigated the issue and all details of troubleshooting steps are mentioned in detailed manner in this self answered question(other suggestions/solutions are welcome).</p>\n",
      "<p><em><strong>Error's description:</strong></em></p>\n",
      "<p><code>&quot;Server refused our key&quot;</code> On terminal AND <code>&quot;NO supported authentication method available(server sent:public ke;gssapi-with-mic)&quot;</code></p>\n",
      "<p><a href=\"https://i.stack.imgur.com/5sGRK.jpg\" rel=\"noreferrer\"><img src=\"https://i.stack.imgur.com/5sGRK.jpg\" alt=\"enter image description here\" /></a></p>\n",
      " \n",
      "\n"
     ]
    }
   ],
   "source": [
    "search_id(64034156)"
   ]
  },
  {
   "cell_type": "markdown",
   "metadata": {},
   "source": [
    "Assignment(3)"
   ]
  },
  {
   "cell_type": "code",
   "execution_count": 8,
   "metadata": {},
   "outputs": [
    {
     "data": {
      "text/plain": [
       "array(['<android><android-gradle-plugin><android-manifest><manifest>',\n",
       "       '<c++><c++17><c++20><spaceship-operator>', '<c#><stackalloc>',\n",
       "       '<selenium><google-chrome><selenium-chromedriver><chromium><renderer>',\n",
       "       '<c++><class><language-lawyer><c++20><standard-layout>',\n",
       "       '<c++><aggregate-initialization>',\n",
       "       '<c++><c++17><c++20><stdtuple><spaceship-operator>',\n",
       "       '<android><alarmmanager>', '<javascript><typescript><firebase>',\n",
       "       '<windows-terminal>', '<ios><swift><nsdiffabledatasourcesnapshot>',\n",
       "       '<c++><c++14>', '<android><android-app-signing>',\n",
       "       '<c#><oop><attributes><c#-9.0><record-classes>',\n",
       "       '<java><java-stream><iterable>',\n",
       "       '<macos><text-to-speech><macos-catalina><siri><nsspeechsynthesizer>',\n",
       "       '<c#><nameof>', '<ios><swift><combine>', '<javafx>',\n",
       "       '<arrays><swift>', '<android><android-workmanager><android-12>',\n",
       "       '<android><android-permissions>',\n",
       "       '<r><dplyr><data.table><tidyverse><recode>',\n",
       "       '<c++><language-lawyer>',\n",
       "       '<javascript><node.js><firebase-realtime-database>',\n",
       "       '<c++><c++20><c++-concepts>', '<java><jvm><java-11>',\n",
       "       '<ios><uitableview><ios14>',\n",
       "       '<python><selenium><windows-10><sublimetext3><webdrivermanager-python>',\n",
       "       '<android><storage-access-framework><android-11>',\n",
       "       '<android><encrypted-shared-preference>',\n",
       "       '<performance><assembly><x86-16><bios><vga>',\n",
       "       '<javascript><google-chrome><progressive-web-apps>',\n",
       "       '<google-cloud-platform><google-cloud-storage><google-cloud-build><google-cloud-run>',\n",
       "       '<c#><.net><random><fisher-yates-shuffle>',\n",
       "       '<swift><async-await><swift5>', '<ios><uibutton><ios15>',\n",
       "       '<javascript><node.js><google-chrome><v8><for-of-loop>',\n",
       "       '<swift><option-type><combine><swift-keypath>',\n",
       "       '<c++><random><language-lawyer>', '<java><java-8><annotations>',\n",
       "       '<python><selenium><google-chrome><selenium-chromedriver><webusb>',\n",
       "       '<c++><sorting><pointers><language-lawyer><strict-weak-ordering>',\n",
       "       '<macos><native><apple-silicon>',\n",
       "       '<ios><swift><async-await><grand-central-dispatch><swift5>',\n",
       "       '<r><ggplot2><facet><ggproto>', '<r><sample>',\n",
       "       '<swift><async-await><swift5><mainactor>',\n",
       "       '<javascript><arrays><performance-testing><subclass><v8>',\n",
       "       '<reactjs><jestjs><react-router><react-router-dom><react-testing-library>',\n",
       "       '<r><odbc><dbi><nanodbc>', '<intellij-idea>', '<awk>',\n",
       "       '<c><language-lawyer>', '<c++><language-lawyer><c++20>',\n",
       "       '<c++><endianness><constexpr><c++20>', '<c#><idisposable><c#-8.0>',\n",
       "       '<c><floating-point>',\n",
       "       '<c++><templates><language-lawyer><c++17><template-argument-deduction>',\n",
       "       '<java><language-lawyer>',\n",
       "       '<c><pointers><language-lawyer><incomplete-type>',\n",
       "       '<python><python-3.x><python-venv>', '<android><google-play>',\n",
       "       '<android><xml><parsing><apk><android-manifest>',\n",
       "       '<android><maven><kotlin><jitpack><kdoc>',\n",
       "       '<ios><mobile><mobile-safari><mobile-chrome>',\n",
       "       '<ruby><closures><proc>', '<swift><types>', '<android>',\n",
       "       '<javascript><vue.js><webpack><vue-cli><webpack-splitchunks>',\n",
       "       '<powershell><character-encoding><command-line-interface><io-redirection><quoting>',\n",
       "       '<swift><actor><swift5><structured-concurrency>',\n",
       "       '<java><clock><java-time>',\n",
       "       '<java><intellij-idea><java-text-blocks>',\n",
       "       '<javascript><floating-point><ieee-754>',\n",
       "       '<java><android><firebase><kotlin><firebase-realtime-database>',\n",
       "       '<typescript>', '<r><devtools><cran><testthat>', '<c><scanf>',\n",
       "       '<c++><syntax><floating-point><c++17><pseudo-destructor>',\n",
       "       '<algorithm><matlab><time-series><signal-processing><data-analysis>',\n",
       "       '<android><google-maps><caching><google-places-api>',\n",
       "       '<python><python-3.x><types>',\n",
       "       '<javascript><static><es6-class><ecmascript-next><class-fields>',\n",
       "       '<javascript><firebase-realtime-database>', '<ruby><rbenv>',\n",
       "       '<arrays><numpy><sorting><duplicates>',\n",
       "       '<c++><language-lawyer><variadic-templates><c++20><c++-concepts>',\n",
       "       '<sql-server><entity-framework-core><sequence><ef-core-3.1>',\n",
       "       '<c#><performance><.net-core-3.1><.net-4.8>', '<rust>',\n",
       "       '<.net-core><azure-pipelines>',\n",
       "       '<amazon-web-services><powershell><shell><amazon-ec2><ssh>',\n",
       "       '<supertest><msw>',\n",
       "       '<spring-boot><intellij-idea><spring-cloud><junit5>',\n",
       "       '<rust><macros><hygiene><rust-proc-macros>'], dtype=object)"
      ]
     },
     "execution_count": 8,
     "metadata": {},
     "output_type": "execute_result"
    }
   ],
   "source": [
    "df_q['Tags'].unique()"
   ]
  },
  {
   "cell_type": "code",
   "execution_count": 25,
   "metadata": {},
   "outputs": [
    {
     "name": "stdout",
     "output_type": "stream",
     "text": [
      "13\n",
      "DOC ID: 20 ---> <android><android-workmanager><android-12> \n",
      "\n",
      "DOC ID: 21 ---> <android><android-permissions> \n",
      "\n",
      "DOC ID: 71 ---> <android> \n",
      "\n",
      "DOC ID: 12 ---> <android><android-app-signing> \n",
      "\n",
      "DOC ID: 0 ---> <android><android-gradle-plugin><android-manifest><manifest> \n",
      "\n",
      "DOC ID: 7 ---> <android><alarmmanager> \n",
      "\n",
      "DOC ID: 29 ---> <android><storage-access-framework><android-11> \n",
      "\n",
      "DOC ID: 66 ---> <android><xml><parsing><apk><android-manifest> \n",
      "\n",
      "DOC ID: 65 ---> <android><google-play> \n",
      "\n",
      "DOC ID: 30 ---> <android><encrypted-shared-preference> \n",
      "\n"
     ]
    }
   ],
   "source": [
    "results = es.search(index='questions',query={\"match\":{\"Tags\":\"android\" }})\n",
    "\n",
    "\n",
    "all_hits = results['hits']['hits']\n",
    "print(results['hits']['total']['value'])\n",
    "if results['hits']['total']['value'] == 0:\n",
    "    print('NOT FOUND')  \n",
    "else:\n",
    "    for num, doc in enumerate(all_hits):\n",
    "        print (\"DOC ID:\", doc[\"_id\"], \"--->\", doc['_source']['Tags'], \"\\n\")"
   ]
  },
  {
   "cell_type": "code",
   "execution_count": 11,
   "metadata": {},
   "outputs": [
    {
     "name": "stdout",
     "output_type": "stream",
     "text": [
      "13\n",
      "DOC ID: 20 ---> <android><android-workmanager><android-12> \n",
      "\n",
      "DOC ID: 21 ---> <android><android-permissions> \n",
      "\n",
      "DOC ID: 71 ---> <android> \n",
      "\n",
      "DOC ID: 12 ---> <android><android-app-signing> \n",
      "\n",
      "DOC ID: 0 ---> <android><android-gradle-plugin><android-manifest><manifest> \n",
      "\n",
      "DOC ID: 7 ---> <android><alarmmanager> \n",
      "\n",
      "DOC ID: 29 ---> <android><storage-access-framework><android-11> \n",
      "\n",
      "DOC ID: 66 ---> <android><xml><parsing><apk><android-manifest> \n",
      "\n",
      "DOC ID: 65 ---> <android><google-play> \n",
      "\n",
      "DOC ID: 30 ---> <android><encrypted-shared-preference> \n",
      "\n"
     ]
    }
   ],
   "source": [
    "results = es.search(index='questions',query={\"bool\": {\"must\": [{\"term\":{\"Tags\":\"android\" }}]}})\n",
    "\n",
    "\n",
    "all_hits = results['hits']['hits']\n",
    "print(results['hits']['total']['value'])\n",
    "if results['hits']['total']['value'] == 0:\n",
    "    print('NOT FOUND')  \n",
    "else:\n",
    "    for num, doc in enumerate(all_hits):\n",
    "        print (\"DOC ID:\", doc[\"_id\"], \"--->\", doc['_source']['Tags'], \"\\n\")"
   ]
  },
  {
   "cell_type": "code",
   "execution_count": 99,
   "metadata": {},
   "outputs": [
    {
     "name": "stdout",
     "output_type": "stream",
     "text": [
      "36\n",
      "DOC ID: 3 ---> <selenium><google-chrome><selenium-chromedriver><chromium><renderer> \n",
      "\n",
      "DOC ID: 15 ---> <macos><text-to-speech><macos-catalina><siri><nsspeechsynthesizer> \n",
      "\n",
      "DOC ID: 18 ---> <javafx> \n",
      "\n",
      "DOC ID: 19 ---> <arrays><swift> \n",
      "\n",
      "DOC ID: 22 ---> <r><dplyr><data.table><tidyverse><recode> \n",
      "\n",
      "DOC ID: 31 ---> <performance><assembly><x86-16><bios><vga> \n",
      "\n",
      "DOC ID: 33 ---> <google-cloud-platform><google-cloud-storage><google-cloud-build><google-cloud-run> \n",
      "\n",
      "DOC ID: 36 ---> <swift><async-await><swift5> \n",
      "\n",
      "DOC ID: 39 ---> <swift><option-type><combine><swift-keypath> \n",
      "\n",
      "DOC ID: 42 ---> <python><selenium><google-chrome><selenium-chromedriver><webusb> \n",
      "\n"
     ]
    }
   ],
   "source": [
    "results = es.search(index='questions',query={\"bool\": {\"must_not\": [{\"match\":{\"Tags\":\"android c java ios windows javascript \" }}]}})\n",
    "\n",
    "\n",
    "all_hits = results['hits']['hits']\n",
    "print(results['hits']['total']['value'])\n",
    "if results['hits']['total']['value'] == 0:\n",
    "    print('NOT FOUND')  \n",
    "else:\n",
    "    for num, doc in enumerate(all_hits):\n",
    "        print (\"DOC ID:\", doc[\"_id\"], \"--->\", doc['_source']['Tags'], \"\\n\")"
   ]
  },
  {
   "cell_type": "code",
   "execution_count": 22,
   "metadata": {},
   "outputs": [
    {
     "data": {
      "text/plain": [
       "['c++', 'c++17', 'c++20', 'spaceship-operator']"
      ]
     },
     "execution_count": 22,
     "metadata": {},
     "output_type": "execute_result"
    }
   ],
   "source": [
    "a='<c++><c++17><c++20><spaceship-operator>'\n",
    "a = a.replace('<',\"\")\n",
    "a = a.replace('>',\" \")\n",
    "a.split(\" \")[:-1]"
   ]
  },
  {
   "cell_type": "code",
   "execution_count": 81,
   "metadata": {},
   "outputs": [],
   "source": [
    "def tokenizer(tags):\n",
    "    tags = tags.replace('<',\"\")\n",
    "    tags = tags.replace('>',\" \")\n",
    "    return tags"
   ]
  },
  {
   "cell_type": "code",
   "execution_count": 77,
   "metadata": {},
   "outputs": [
    {
     "data": {
      "text/plain": [
       "'c++ c++17 c++20 spaceship-operator '"
      ]
     },
     "execution_count": 77,
     "metadata": {},
     "output_type": "execute_result"
    }
   ],
   "source": [
    "tokenizer('<c++><c++17><c++20><spaceship-operator>')"
   ]
  },
  {
   "cell_type": "code",
   "execution_count": 45,
   "metadata": {},
   "outputs": [
    {
     "data": {
      "text/plain": [
       "1"
      ]
     },
     "execution_count": 45,
     "metadata": {},
     "output_type": "execute_result"
    }
   ],
   "source": [
    "es.search(index='questions',query={\"bool\": {\"must\": {\"match\": {\"Body\":\"android\" }},\"filter\":{\"ids\":{ \"values\": [0] }}}})['hits']['total']['value']"
   ]
  },
  {
   "cell_type": "code",
   "execution_count": 47,
   "metadata": {},
   "outputs": [
    {
     "data": {
      "text/plain": [
       "62969917"
      ]
     },
     "execution_count": 47,
     "metadata": {},
     "output_type": "execute_result"
    }
   ],
   "source": [
    "es.get(index='questions',id=0)['_source']['ID']"
   ]
  },
  {
   "cell_type": "code",
   "execution_count": 119,
   "metadata": {},
   "outputs": [
    {
     "name": "stdout",
     "output_type": "stream",
     "text": [
      "doc id :  27 ----- question ID : 63075418\n",
      "doc id :  32 ----- question ID : 60583049\n",
      "doc id :  36 ----- question ID : 67954414\n",
      "doc id :  40 ----- question ID : 64012057\n",
      "doc id :  41 ----- question ID : 65614890\n",
      "doc id :  49 ----- question ID : 60624851\n",
      "doc id :  79 ----- question ID : 63646183\n",
      "doc id :  82 ----- question ID : 61278180\n",
      "doc id :  84 ----- question ID : 67619477\n",
      "doc id :  88 ----- question ID : 66843397\n",
      "done\n"
     ]
    }
   ],
   "source": [
    "# i is the doc id which starts from zero\n",
    "i=0\n",
    "try:\n",
    "    while(True):\n",
    "        tags = es.get(index='questions',id=i)['_source']['Tags']\n",
    "        tokenized_tags = tokenizer(tags)\n",
    "    \n",
    "        res = es.search(index='questions',query={\"bool\": {\"must_not\": {\"match\": {\"Body\":tokenized_tags }},\"filter\":{\"ids\":{ \"values\": [i] }}}})\n",
    "        value = res['hits']['total']['value'] # number of hits\n",
    "        if value :\n",
    "            ID = es.get(index='questions',id=i)['_source']['ID']\n",
    "            print('doc id : ',i,'-----','question ID :',ID)\n",
    "        i+=1\n",
    "except:\n",
    "    print('done')"
   ]
  },
  {
   "cell_type": "code",
   "execution_count": 117,
   "metadata": {},
   "outputs": [
    {
     "name": "stdout",
     "output_type": "stream",
     "text": [
      "27\n",
      "32\n",
      "36\n",
      "40\n",
      "41\n",
      "49\n",
      "79\n",
      "82\n",
      "84\n",
      "88\n"
     ]
    }
   ],
   "source": [
    "IDs = []\n",
    "for i in range(100):\n",
    "    tags = es.get(index='questions',id=i)['_source']['Tags']\n",
    "    tokenized_tags = tokenizer(tags)\n",
    "    \n",
    "    res = es.search(index='questions',query={\"bool\": {\"must_not\": {\"match\": {\"Body\":tokenized_tags }},\"filter\":{\"ids\":{ \"values\": [i] }}}})\n",
    "    value = res['hits']['total']['value'] # number of hits\n",
    "    if value :\n",
    "        IDs.append(es.get(index='questions',id=i)['_source']['ID'])\n",
    "        print(i)"
   ]
  },
  {
   "cell_type": "code",
   "execution_count": 70,
   "metadata": {},
   "outputs": [
    {
     "data": {
      "text/plain": [
       "'<ios><uitableview><ios14>'"
      ]
     },
     "execution_count": 70,
     "metadata": {},
     "output_type": "execute_result"
    }
   ],
   "source": [
    "es.get(index='questions',id=27)['_source']['Tags']"
   ]
  },
  {
   "cell_type": "code",
   "execution_count": 72,
   "metadata": {},
   "outputs": [
    {
     "data": {
      "text/plain": [
       "ObjectApiResponse({'took': 1, 'timed_out': False, '_shards': {'total': 1, 'successful': 1, 'skipped': 0, 'failed': 0}, 'hits': {'total': {'value': 0, 'relation': 'eq'}, 'max_score': None, 'hits': []}})"
      ]
     },
     "execution_count": 72,
     "metadata": {},
     "output_type": "execute_result"
    }
   ],
   "source": [
    "es.search(index='questions',query={\"bool\": {\"must\": {\"match\": {\"Body\":'ios' }},\"filter\":{\"ids\":{ \"values\": [27] }}}})"
   ]
  },
  {
   "cell_type": "code",
   "execution_count": 73,
   "metadata": {},
   "outputs": [
    {
     "data": {
      "text/plain": [
       "ObjectApiResponse({'took': 1, 'timed_out': False, '_shards': {'total': 1, 'successful': 1, 'skipped': 0, 'failed': 0}, 'hits': {'total': {'value': 0, 'relation': 'eq'}, 'max_score': None, 'hits': []}})"
      ]
     },
     "execution_count": 73,
     "metadata": {},
     "output_type": "execute_result"
    }
   ],
   "source": [
    "es.search(index='questions',query={\"bool\": {\"must\": {\"match\": {\"Body\":'uitableview' }},\"filter\":{\"ids\":{ \"values\": [27] }}}})"
   ]
  },
  {
   "cell_type": "code",
   "execution_count": null,
   "metadata": {},
   "outputs": [],
   "source": []
  },
  {
   "cell_type": "markdown",
   "metadata": {},
   "source": [
    "PART 2 : "
   ]
  },
  {
   "cell_type": "code",
   "execution_count": 120,
   "metadata": {},
   "outputs": [],
   "source": [
    "import pandas as pd\n",
    "df_a = pd.read_csv('C:\\\\Users\\\\A\\\\Music\\\\repos\\\\Information-Retrieval\\\\data\\\\answers.csv').fillna(\"\")"
   ]
  },
  {
   "cell_type": "code",
   "execution_count": 121,
   "metadata": {},
   "outputs": [
    {
     "data": {
      "text/plain": [
       "Index(['Id', 'PostTypeId', 'AcceptedAnswerId', 'ParentId', 'CreationDate',\n",
       "       'DeletionDate', 'Score', 'ViewCount', 'Body', 'OwnerUserId',\n",
       "       'OwnerDisplayName', 'LastEditorUserId', 'LastEditorDisplayName',\n",
       "       'LastEditDate', 'LastActivityDate', 'Title', 'Tags', 'AnswerCount',\n",
       "       'CommentCount', 'FavoriteCount', 'ClosedDate', 'CommunityOwnedDate',\n",
       "       'ContentLicense'],\n",
       "      dtype='object')"
      ]
     },
     "execution_count": 121,
     "metadata": {},
     "output_type": "execute_result"
    }
   ],
   "source": [
    "df_a.columns"
   ]
  },
  {
   "cell_type": "code",
   "execution_count": 127,
   "metadata": {},
   "outputs": [
    {
     "data": {
      "text/plain": [
       "97"
      ]
     },
     "execution_count": 127,
     "metadata": {},
     "output_type": "execute_result"
    }
   ],
   "source": [
    "len(df_a['ParentId'].unique())"
   ]
  },
  {
   "cell_type": "code",
   "execution_count": 128,
   "metadata": {},
   "outputs": [
    {
     "data": {
      "text/plain": [
       "ObjectApiResponse({'acknowledged': True})"
      ]
     },
     "execution_count": 128,
     "metadata": {},
     "output_type": "execute_result"
    }
   ],
   "source": [
    "es.indices.delete(index=\"answers\")"
   ]
  },
  {
   "cell_type": "code",
   "execution_count": 129,
   "metadata": {},
   "outputs": [
    {
     "data": {
      "text/plain": [
       "ObjectApiResponse({'acknowledged': True, 'shards_acknowledged': True, 'index': 'comments'})"
      ]
     },
     "execution_count": 129,
     "metadata": {},
     "output_type": "execute_result"
    }
   ],
   "source": [
    "mapping = {\n",
    "     \"properties\": {\n",
    "            \"ParentId\": {\"type\": \"integer\"},\n",
    "            \"CreationDate\": {\"type\": \"date\",\"format\": \"yyyy-MM-dd HH:mm:ss\"},\n",
    "            \"Score\": {\"type\": \"integer\"},\n",
    "            \"Body\": {\"type\": \"text\"},\n",
    "         }}\n",
    "\n",
    "es.indices.create(index=\"comments\",mappings=mapping)"
   ]
  },
  {
   "cell_type": "code",
   "execution_count": 130,
   "metadata": {},
   "outputs": [],
   "source": [
    "for i,row in df_a.iterrows():\n",
    "  doc = {\n",
    "      \"ParentId\" : row['ParentId'],\n",
    "      \"CreationDate\" : row[\"CreationDate\"],\n",
    "      \"Score\" : row[\"Score\"],\n",
    "      \"Body\" : row[\"Body\"],\n",
    "  }\n",
    "  es.index(index=\"answers\",id=i,document=doc)"
   ]
  },
  {
   "cell_type": "markdown",
   "metadata": {},
   "source": [
    "assignment 4"
   ]
  },
  {
   "cell_type": "code",
   "execution_count": 136,
   "metadata": {},
   "outputs": [
    {
     "name": "stdout",
     "output_type": "stream",
     "text": [
      "1  results \n",
      "\n",
      "DOC ID: 0 ---> Score =  88 \n",
      " <p>Indeed, C++20 unfortunately makes this code infinitely recursive.</p>\n",
      "<p>Here's a reduced example:</p>\n",
      "<pre class=\"lang-cpp prettyprint-override\"><code>struct F {\n",
      "    /*implicit*/ F(int t_) : t(t_) {}\n",
      "\n",
      "    // member: #1\n",
      "    bool operator==(F const&amp; o) const { return t == o.t; }\n",
      "\n",
      "    // non-member: #2\n",
      "    friend bool operator==(const int&amp; y, const F&amp; x) { return x == y; }\n",
      "\n",
      "private:\n",
      "    int t;\n",
      "};\n",
      "</code></pre>\n",
      "<p>Let's just look at <code>42 == F{42}</code>.</p>\n",
      "<p>In C++17, we only had one candidate: the non-member candidate (<code>#2</code>), so we select that. Its body, <code>x == y</code>, itself only has one candidate: the member candidate (<code>#1</code>) which involves implicitly converting <code>y</code> into an <code>F</code>. And then that member candidate compares the two integer members and this is totally fine.</p>\n",
      "<p>In C++20, the initial expression <code>42 == F{42}</code> now has <em>two</em> candidates: both the non-member candidate (<code>#2</code>) as before and now also the reversed member candidate (<code>#1</code> reversed). <code>#2</code> is the better match - we exactly match both arguments instead of invoking a conversion, so it's selected.</p>\n",
      "<p>Now, however, <code>x == y</code> now has <em>two</em> candidates: the member candidate again (<code>#1</code>), but also the reversed non-member candidate (<code>#2</code> reversed). <code>#2</code> is the better match again for the same reason that it was a better match before: no conversions necessary. So we evaluate <code>y == x</code> instead. Infinite recursion.</p>\n",
      "<p>Non-reversed candidates are preferred to reversed candidates, but only as a tiebreaker. Better conversion sequence is always first.</p>\n",
      "<hr />\n",
      "<p>Okay great, how can we fix it? The simplest option is removing the non-member candidate entirely:</p>\n",
      "<pre class=\"lang-cpp prettyprint-override\"><code>struct F {\n",
      "    /*implicit*/ F(int t_) : t(t_) {}\n",
      "\n",
      "    bool operator==(F const&amp; o) const { return t == o.t; }\n",
      "\n",
      "private:\n",
      "    int t;\n",
      "};\n",
      "</code></pre>\n",
      "<p><code>42 == F{42}</code> here evaluates as <code>F{42}.operator==(42)</code>, which works fine.</p>\n",
      "<p>If we want to keep the non-member candidate, we can add its reversed candidate explicitly:</p>\n",
      "<pre class=\"lang-cpp prettyprint-override\"><code>struct F {\n",
      "    /*implicit*/ F(int t_) : t(t_) {}\n",
      "    bool operator==(F const&amp; o) const { return t == o.t; }\n",
      "    bool operator==(int i) const { return t == i; }\n",
      "    friend bool operator==(const int&amp; y, const F&amp; x) { return x == y; }\n",
      "\n",
      "private:\n",
      "    int t;\n",
      "};\n",
      "</code></pre>\n",
      "<p>This makes <code>42 == F{42}</code> still choose the non-member candidate, but now <code>x == y</code> in the body there will prefer the member candidate, which then does the normal equality.</p>\n",
      "<p>This last version can also remove the non-member candidate. The following also works without recursion for all test cases (and is how I would write comparisons in C++20 going forward):</p>\n",
      "<pre class=\"lang-cpp prettyprint-override\"><code>struct F {\n",
      "    /*implicit*/ F(int t_) : t(t_) {}\n",
      "    bool operator==(F const&amp; o) const { return t == o.t; }\n",
      "    bool operator==(int i) const { return t == i; }\n",
      "\n",
      "private:\n",
      "    int t;\n",
      "};\n",
      "</code></pre>\n",
      " \n",
      "\n"
     ]
    }
   ],
   "source": [
    "results = es.search(index='answers',query={\"bool\": {\"must\": [{\"term\": {\"ParentId\": 65648897}}],\"filter\":{\"range\":{\"Score\": {\"gte\": 5}}}}})\n",
    "all_hits = results['hits']['hits']\n",
    "print(results['hits']['total']['value'],' results \\n')\n",
    "if results['hits']['total']['value'] == 0:\n",
    "    print('NOT FOUND')  \n",
    "else:\n",
    "    for num, doc in enumerate(all_hits):\n",
    "        print (\"DOC ID:\", doc[\"_id\"], \"--->\",\"Score = \",doc['_source']['Score'],\"\\n\" ,doc['_source']['Body'], \"\\n\")"
   ]
  },
  {
   "cell_type": "code",
   "execution_count": 45,
   "metadata": {},
   "outputs": [
    {
     "name": "stdout",
     "output_type": "stream",
     "text": [
      "1\n",
      "DOC ID: 483 ---> ...but allowing such behavior means that any programmer who can't be certain a loop would terminate, but who would be willing to have a program hang until externally killed if it fails to do so, would need to add directives to block all of the useful optimizations that would be facilitated by a parallel execution model.  Do you see any upside to the clang/LLVM view of infinite loops? \n",
      "\n"
     ]
    }
   ],
   "source": [
    "results = es.search(index='comments',query={\"match_phrase\":{\"Text\":\"such behavior\"}})\n",
    "all_hits = results['hits']['hits']\n",
    "print(results['hits']['total']['value'])\n",
    "if results['hits']['total']['value'] == 0:\n",
    "    print('NOT FOUND')  \n",
    "else:\n",
    "    for num, doc in enumerate(all_hits):\n",
    "        print (\"DOC ID:\", doc[\"_id\"], \"--->\",doc['_source']['Text'], \"\\n\")"
   ]
  },
  {
   "cell_type": "code",
   "execution_count": 53,
   "metadata": {},
   "outputs": [
    {
     "name": "stdout",
     "output_type": "stream",
     "text": [
      "3\n",
      "DOC ID: 483 ---> CreationDate =  2022-02-01 22:35:26 \n",
      " ...but allowing such behavior means that any programmer who can't be certain a loop would terminate, but who would be willing to have a program hang until externally killed if it fails to do so, would need to add directives to block all of the useful optimizations that would be facilitated by a parallel execution model.  Do you see any upside to the clang/LLVM view of infinite loops? \n",
      "\n",
      "DOC ID: 467 ---> CreationDate =  2022-02-04 16:41:07 \n",
      " @EricTowers: What's ironic and sad is that in the common cases where optimizations allowed by the Standard should have value,--those where either hanging or skipping the loop would be equally acceptable behaviors, but unbounded UB would not be--the only way to guard against UB is for the programmer to write the program in such a way that the loop could not be skipped, thus negating any benefit the optimization could have offered. \n",
      "\n",
      "DOC ID: 232 ---> CreationDate =  2022-04-06 15:09:04 \n",
      " @BenW  It is just that when you have more than one groups, the default option removes the last in the order.  thus, there is still a group attribute i.e. year in your example.  Suppose you are doing some other operations on the entire column after summarise e.g. get the percentage etc with this group attribute, it may or may not be your desired.  This varies with the number of groups as well.  It is up to the programmer to determine whether they are okay with surprises or not \n",
      "\n"
     ]
    }
   ],
   "source": [
    "results = es.search(index='comments',query={\"bool\": {\"must\": [{\"match_phrase\": {\"Text\":\"programmer\"}}],\"filter\":{\"range\":{\"CreationDate\": {\"gte\": \"2020-09-27 10:37:31\",\"lte\": \"2022-09-27 10:37:31\"}}}}})\n",
    "all_hits = results['hits']['hits']\n",
    "print(results['hits']['total']['value'])\n",
    "if results['hits']['total']['value'] == 0:\n",
    "    print('NOT FOUND')  \n",
    "else:\n",
    "    for num, doc in enumerate(all_hits):\n",
    "        print (\"DOC ID:\", doc[\"_id\"], \"--->\",\"CreationDate = \",doc['_source']['CreationDate'],\"\\n\" ,doc['_source']['Text'], \"\\n\")"
   ]
  }
 ],
 "metadata": {
  "kernelspec": {
   "display_name": "Python 3.8.5 64-bit",
   "language": "python",
   "name": "python3"
  },
  "language_info": {
   "codemirror_mode": {
    "name": "ipython",
    "version": 3
   },
   "file_extension": ".py",
   "mimetype": "text/x-python",
   "name": "python",
   "nbconvert_exporter": "python",
   "pygments_lexer": "ipython3",
   "version": "3.8.5"
  },
  "orig_nbformat": 4,
  "vscode": {
   "interpreter": {
    "hash": "dc8aa18c105b16b87bbd332e44487417c4bad76a2b017e28b1c3c8323f27c82e"
   }
  }
 },
 "nbformat": 4,
 "nbformat_minor": 2
}
