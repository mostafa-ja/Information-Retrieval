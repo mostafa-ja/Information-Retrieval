{
 "cells": [
  {
   "cell_type": "code",
   "execution_count": null,
   "metadata": {},
   "outputs": [],
   "source": [
    "# Take the user's parameters and put them into a Python\n",
    "# dictionary structured like an Elasticsearch query:\n",
    "query_body = {\"query\": {\"bool\": {\"must\": {\"match\": {\"some_field\": user_request } } } }}\n",
    "\n",
    "# call the client's search() method, and have it return results\n",
    "result = es.search(index=\"some_index\", body=query_body)\n",
    "\n",
    "# see how many \"hits\" it returned using the len() function\n",
    "print (\"total hits:\", len(result[\"hits\"][\"hits\"]))\n"
   ]
  },
  {
   "cell_type": "markdown",
   "metadata": {},
   "source": [
    "A.Loading elasticsearch"
   ]
  },
  {
   "cell_type": "code",
   "execution_count": 2,
   "metadata": {},
   "outputs": [
    {
     "name": "stdout",
     "output_type": "stream",
     "text": [
      "False\n"
     ]
    }
   ],
   "source": [
    "from elasticsearch import Elasticsearch\n",
    "\n",
    "# Adds the HTTP header 'Authorization: Basic <base64 username:password>'\n",
    "es = Elasticsearch(\n",
    "    \"http://localhost:9200\",\n",
    "    basic_auth=(\"elastic\", \"lxDO2mQDVQPrxE3FRWAy\")\n",
    ")\n",
    "\n",
    "print(es.ping())"
   ]
  },
  {
   "cell_type": "code",
   "execution_count": 5,
   "metadata": {},
   "outputs": [
    {
     "name": "stderr",
     "output_type": "stream",
     "text": [
      "<ipython-input-5-2b814a79a8f7>:1: ElasticsearchWarning: this request accesses system indices: [.transform-internal-007, .kibana_8.4.3_001, .apm-agent-configuration, .kibana_security_session_1, .tasks, .security-7, .apm-custom-link, .kibana_task_manager_8.4.3_001, .security-profile-8, .async-search], but in a future major version, direct access to system indices will be prevented by default\n",
      "  es.indices.get_alias()\n"
     ]
    },
    {
     "data": {
      "text/plain": [
       "ObjectApiResponse({'.kibana-event-log-8.4.3-000001': {'aliases': {'.kibana-event-log-8.4.3': {'is_write_index': True, 'is_hidden': True}}}, 'ecommerce_data': {'aliases': {}}, 'a': {'aliases': {}}, 'comments': {'aliases': {}}, 'news_headlines': {'aliases': {}}, '.transform-internal-007': {'aliases': {}}, '.kibana_8.4.3_001': {'aliases': {'.kibana': {'is_hidden': True}, '.kibana_8.4.3': {'is_hidden': True}}}, '.apm-agent-configuration': {'aliases': {}}, 'questions2': {'aliases': {}}, 'questions': {'aliases': {}}, '.kibana_security_session_1': {'aliases': {'.kibana_security_session': {'is_hidden': True}}}, '.tasks': {'aliases': {}}, 'metrics-endpoint.metadata_current_default': {'aliases': {}}, '.security-7': {'aliases': {'.security': {'is_hidden': True}}}, 'favorite_candy': {'aliases': {}}, '.apm-custom-link': {'aliases': {}}, '.kibana_task_manager_8.4.3_001': {'aliases': {'.kibana_task_manager': {'is_hidden': True}, '.kibana_task_manager_8.4.3': {'is_hidden': True}}}, '.security-profile-8': {'aliases': {'.security-profile': {'is_hidden': True}}}, '.async-search': {'aliases': {}}, '.transform-notifications-000002': {'aliases': {'.transform-notifications-read': {'is_hidden': True}}}, '.metrics-endpoint.metadata_united_default': {'aliases': {}}})"
      ]
     },
     "execution_count": 5,
     "metadata": {},
     "output_type": "execute_result"
    }
   ],
   "source": [
    "es.indices.get_alias()"
   ]
  },
  {
   "cell_type": "code",
   "execution_count": 17,
   "metadata": {},
   "outputs": [
    {
     "data": {
      "text/plain": [
       "ObjectApiResponse({'acknowledged': True})"
      ]
     },
     "execution_count": 17,
     "metadata": {},
     "output_type": "execute_result"
    }
   ],
   "source": [
    "es.indices.delete(index=\"questions\")"
   ]
  },
  {
   "cell_type": "markdown",
   "metadata": {},
   "source": [
    "B.Importing data for assignments(1,2,3)"
   ]
  },
  {
   "cell_type": "code",
   "execution_count": 1,
   "metadata": {},
   "outputs": [],
   "source": [
    "import pandas as pd\n",
    "df_q = pd.read_csv('C:\\\\Users\\\\A\\\\Music\\\\repos\\\\Information-Retrieval\\\\data\\\\questions.csv').fillna(\"\")"
   ]
  },
  {
   "cell_type": "code",
   "execution_count": 2,
   "metadata": {},
   "outputs": [
    {
     "data": {
      "text/html": [
       "<div>\n",
       "<style scoped>\n",
       "    .dataframe tbody tr th:only-of-type {\n",
       "        vertical-align: middle;\n",
       "    }\n",
       "\n",
       "    .dataframe tbody tr th {\n",
       "        vertical-align: top;\n",
       "    }\n",
       "\n",
       "    .dataframe thead th {\n",
       "        text-align: right;\n",
       "    }\n",
       "</style>\n",
       "<table border=\"1\" class=\"dataframe\">\n",
       "  <thead>\n",
       "    <tr style=\"text-align: right;\">\n",
       "      <th></th>\n",
       "      <th>Id</th>\n",
       "      <th>Reputation</th>\n",
       "      <th>CreationDate</th>\n",
       "      <th>DisplayName</th>\n",
       "      <th>LastAccessDate</th>\n",
       "      <th>WebsiteUrl</th>\n",
       "      <th>Location</th>\n",
       "      <th>AboutMe</th>\n",
       "      <th>Views</th>\n",
       "      <th>UpVotes</th>\n",
       "      <th>...</th>\n",
       "      <th>LastEditDate</th>\n",
       "      <th>LastActivityDate</th>\n",
       "      <th>Title</th>\n",
       "      <th>Tags</th>\n",
       "      <th>AnswerCount</th>\n",
       "      <th>CommentCount</th>\n",
       "      <th>FavoriteCount</th>\n",
       "      <th>ClosedDate</th>\n",
       "      <th>CommunityOwnedDate</th>\n",
       "      <th>ContentLicense</th>\n",
       "    </tr>\n",
       "  </thead>\n",
       "  <tbody>\n",
       "    <tr>\n",
       "      <th>0</th>\n",
       "      <td>115145</td>\n",
       "      <td>967227</td>\n",
       "      <td>2009-05-31 16:20:08</td>\n",
       "      <td>CommonsWare</td>\n",
       "      <td>2022-10-29 23:14:28</td>\n",
       "      <td>https://commonsware.com</td>\n",
       "      <td>Pennsylvania, United States</td>\n",
       "      <td>&lt;p&gt;Mark Murphy, founder of CommonsWare, writes...</td>\n",
       "      <td>269231</td>\n",
       "      <td>13193</td>\n",
       "      <td>...</td>\n",
       "      <td>2022-08-19 16:46:16</td>\n",
       "      <td>2022-08-19 16:46:16</td>\n",
       "      <td>How can I fix \"unexpected element &lt;queries&gt; fo...</td>\n",
       "      <td>&lt;android&gt;&lt;android-gradle-plugin&gt;&lt;android-manif...</td>\n",
       "      <td>7</td>\n",
       "      <td>1</td>\n",
       "      <td>30</td>\n",
       "      <td></td>\n",
       "      <td></td>\n",
       "      <td>CC BY-SA 4.0</td>\n",
       "    </tr>\n",
       "    <tr>\n",
       "      <th>1</th>\n",
       "      <td>85371</td>\n",
       "      <td>358430</td>\n",
       "      <td>2009-03-31 21:38:26</td>\n",
       "      <td>sehe</td>\n",
       "      <td>2022-10-29 15:03:44</td>\n",
       "      <td></td>\n",
       "      <td>Netherlands</td>\n",
       "      <td>&lt;p&gt;I'm a developer at heart.&lt;/p&gt;\\n&lt;p&gt;I love C+...</td>\n",
       "      <td>34058</td>\n",
       "      <td>16475</td>\n",
       "      <td>...</td>\n",
       "      <td>2021-03-06 02:51:07</td>\n",
       "      <td>2021-03-06 02:51:07</td>\n",
       "      <td>C++20 behaviour breaking existing code with eq...</td>\n",
       "      <td>&lt;c++&gt;&lt;c++17&gt;&lt;c++20&gt;&lt;spaceship-operator&gt;</td>\n",
       "      <td>1</td>\n",
       "      <td>4</td>\n",
       "      <td>21</td>\n",
       "      <td></td>\n",
       "      <td></td>\n",
       "      <td>CC BY-SA 4.0</td>\n",
       "    </tr>\n",
       "  </tbody>\n",
       "</table>\n",
       "<p>2 rows × 37 columns</p>\n",
       "</div>"
      ],
      "text/plain": [
       "       Id  Reputation         CreationDate  DisplayName       LastAccessDate  \\\n",
       "0  115145      967227  2009-05-31 16:20:08  CommonsWare  2022-10-29 23:14:28   \n",
       "1   85371      358430  2009-03-31 21:38:26         sehe  2022-10-29 15:03:44   \n",
       "\n",
       "                WebsiteUrl                     Location  \\\n",
       "0  https://commonsware.com  Pennsylvania, United States   \n",
       "1                                           Netherlands   \n",
       "\n",
       "                                             AboutMe   Views  UpVotes  ...  \\\n",
       "0  <p>Mark Murphy, founder of CommonsWare, writes...  269231    13193  ...   \n",
       "1  <p>I'm a developer at heart.</p>\\n<p>I love C+...   34058    16475  ...   \n",
       "\n",
       "          LastEditDate     LastActivityDate  \\\n",
       "0  2022-08-19 16:46:16  2022-08-19 16:46:16   \n",
       "1  2021-03-06 02:51:07  2021-03-06 02:51:07   \n",
       "\n",
       "                                               Title  \\\n",
       "0  How can I fix \"unexpected element <queries> fo...   \n",
       "1  C++20 behaviour breaking existing code with eq...   \n",
       "\n",
       "                                                Tags  AnswerCount  \\\n",
       "0  <android><android-gradle-plugin><android-manif...            7   \n",
       "1            <c++><c++17><c++20><spaceship-operator>            1   \n",
       "\n",
       "   CommentCount FavoriteCount ClosedDate CommunityOwnedDate ContentLicense  \n",
       "0             1            30                                 CC BY-SA 4.0  \n",
       "1             4            21                                 CC BY-SA 4.0  \n",
       "\n",
       "[2 rows x 37 columns]"
      ]
     },
     "execution_count": 2,
     "metadata": {},
     "output_type": "execute_result"
    }
   ],
   "source": [
    "df_q.head(2)"
   ]
  },
  {
   "cell_type": "code",
   "execution_count": 9,
   "metadata": {},
   "outputs": [
    {
     "data": {
      "text/plain": [
       "Index(['Id', 'Reputation', 'CreationDate', 'DisplayName', 'LastAccessDate',\n",
       "       'WebsiteUrl', 'Location', 'AboutMe', 'Views', 'UpVotes', 'DownVotes',\n",
       "       'ProfileImageUrl', 'EmailHash', 'AccountId', 'Id.1', 'PostTypeId',\n",
       "       'AcceptedAnswerId', 'ParentId', 'CreationDate.1', 'DeletionDate',\n",
       "       'Score', 'ViewCount', 'Body', 'OwnerUserId', 'OwnerDisplayName',\n",
       "       'LastEditorUserId', 'LastEditorDisplayName', 'LastEditDate',\n",
       "       'LastActivityDate', 'Title', 'Tags', 'AnswerCount', 'CommentCount',\n",
       "       'FavoriteCount', 'ClosedDate', 'CommunityOwnedDate', 'ContentLicense'],\n",
       "      dtype='object')"
      ]
     },
     "execution_count": 9,
     "metadata": {},
     "output_type": "execute_result"
    }
   ],
   "source": [
    "df_q.columns"
   ]
  },
  {
   "cell_type": "code",
   "execution_count": 10,
   "metadata": {},
   "outputs": [
    {
     "data": {
      "text/plain": [
       "51"
      ]
     },
     "execution_count": 10,
     "metadata": {},
     "output_type": "execute_result"
    }
   ],
   "source": [
    "# df_q['Id']=users.id\n",
    "len(df_q['Id'].unique())"
   ]
  },
  {
   "cell_type": "code",
   "execution_count": 11,
   "metadata": {},
   "outputs": [
    {
     "data": {
      "text/plain": [
       "100"
      ]
     },
     "execution_count": 11,
     "metadata": {},
     "output_type": "execute_result"
    }
   ],
   "source": [
    "# df_q['Id.1'] = posts.id\n",
    "len(df_q['Id.1'].unique())"
   ]
  },
  {
   "cell_type": "markdown",
   "metadata": {},
   "source": [
    "C.Indexing data based on the assignment"
   ]
  },
  {
   "cell_type": "code",
   "execution_count": 18,
   "metadata": {},
   "outputs": [
    {
     "data": {
      "text/plain": [
       "ObjectApiResponse({'acknowledged': True, 'shards_acknowledged': True, 'index': 'questions'})"
      ]
     },
     "execution_count": 18,
     "metadata": {},
     "output_type": "execute_result"
    }
   ],
   "source": [
    "mapping = {\n",
    "     \"properties\": {\n",
    "            \"ID\": {\"type\": \"integer\"},\n",
    "            \"Body\": {\"type\": \"text\"},\n",
    "            \"Tags\": {\"type\": \"keyword\"}\n",
    "            #\"CreationDate\": {\"type\": \"date\",\"format\": \"yyyy-MM-dd HH:mm:ss\"},\n",
    "            #\"UpVotes\": {\"type\": \"integer\"},\n",
    "            #\"Score\": {\"type\": \"integer\"},\n",
    "            #\"OwnerUserId\": {\"type\": \"integer\"},\n",
    "         }}\n",
    "\n",
    "es.indices.create(index=\"questions\",mappings=mapping)"
   ]
  },
  {
   "cell_type": "code",
   "execution_count": 19,
   "metadata": {},
   "outputs": [],
   "source": [
    "for i,row in df_q.iterrows():\n",
    "  doc = {\n",
    "      \"ID\" : row['Id.1'], # id.1=posts.id\n",
    "      \"Body\" : row[\"Body\"],\n",
    "      \"Tags\" : (row[\"Tags\"] if row[\"Tags\"]!= 'non' else '')\n",
    "      #\"CreationDate\" : row[\"CreationDate\"], no need\n",
    "      #\"UpVotes\" : row[\"UpVotes\"], no need\n",
    "      #\"Score\" : row[\"Score\"],\n",
    "      #\"OwnerUserId\" : row[\"OwnerUserId\"],\n",
    "  }\n",
    "  \n",
    "  es.index(index=\"questions\",id=i,document=doc)"
   ]
  },
  {
   "cell_type": "markdown",
   "metadata": {},
   "source": [
    "C_2.Checking indexed data"
   ]
  },
  {
   "cell_type": "code",
   "execution_count": 20,
   "metadata": {},
   "outputs": [
    {
     "data": {
      "text/plain": [
       "ObjectApiResponse({'_index': 'questions', '_id': '0', '_version': 1, '_seq_no': 0, '_primary_term': 1, 'found': True, '_source': {'ID': 62969917, 'Body': '<p>All of a sudden, I am getting this build error in my Android project:</p>\\n<pre><code>unexpected element &lt;queries&gt; found in &lt;manifest&gt;\\n</code></pre>\\n<p>How do I fix it?</p>\\n', 'Tags': '<android><android-gradle-plugin><android-manifest><manifest>'}})"
      ]
     },
     "execution_count": 20,
     "metadata": {},
     "output_type": "execute_result"
    }
   ],
   "source": [
    "es.get(index=\"questions\",id=0)"
   ]
  },
  {
   "cell_type": "code",
   "execution_count": 21,
   "metadata": {},
   "outputs": [
    {
     "data": {
      "text/plain": [
       "ObjectApiResponse({'questions': {'aliases': {}, 'mappings': {'properties': {'Body': {'type': 'text'}, 'ID': {'type': 'integer'}, 'Tags': {'type': 'keyword'}}}, 'settings': {'index': {'routing': {'allocation': {'include': {'_tier_preference': 'data_content'}}}, 'number_of_shards': '1', 'provided_name': 'questions', 'creation_date': '1667153386414', 'number_of_replicas': '1', 'uuid': 'fRdaMkObQta1zhDPbODuTA', 'version': {'created': '8040399'}}}}})"
      ]
     },
     "execution_count": 21,
     "metadata": {},
     "output_type": "execute_result"
    }
   ],
   "source": [
    "es.indices.get(index='questions')"
   ]
  },
  {
   "cell_type": "code",
   "execution_count": 22,
   "metadata": {},
   "outputs": [
    {
     "data": {
      "text/plain": [
       "ObjectApiResponse({'_shards': {'total': 2, 'successful': 1, 'failed': 0}})"
      ]
     },
     "execution_count": 22,
     "metadata": {},
     "output_type": "execute_result"
    }
   ],
   "source": [
    "es.indices.refresh(index=\"questions\")\n"
   ]
  },
  {
   "cell_type": "code",
   "execution_count": 23,
   "metadata": {},
   "outputs": [
    {
     "data": {
      "text/plain": [
       "ListApiResponse([{'epoch': '1667153446', 'timestamp': '18:10:46', 'count': '100'}])"
      ]
     },
     "execution_count": 23,
     "metadata": {},
     "output_type": "execute_result"
    }
   ],
   "source": [
    "es.cat.count(index=\"questions\", format=\"json\")"
   ]
  },
  {
   "cell_type": "code",
   "execution_count": 30,
   "metadata": {},
   "outputs": [
    {
     "data": {
      "text/plain": [
       "ObjectApiResponse({'_index': 'questions', '_id': '1', '_version': 1, '_seq_no': 1, '_primary_term': 1, 'found': True, '_source': {'ID': 65648897, 'Body': '<p>I ran into this while debugging <a href=\"https://stackoverflow.com/questions/65638680/using-boost-strong-typedef-to-differentiate-arg-types-but-causing-seg-fault/65643014?noredirect=1#comment116069484_65643014\">this question</a>.</p>\\n<p>I trimmed it down all the way to just using <a href=\"https://www.boost.org/doc/libs/1_75_0/libs/utility/operators.htm\" rel=\"noreferrer\">Boost Operators</a>:</p>\\n<ol>\\n<li><p><strong>Compiler Explorer <a href=\"https://godbolt.org/z/q89brM\" rel=\"noreferrer\">C++17</a> <a href=\"https://godbolt.org/z/szYx9E\" rel=\"noreferrer\">C++20</a></strong></p>\\n<pre><code>#include &lt;boost/operators.hpp&gt;\\n\\nstruct F : boost::totally_ordered1&lt;F, boost::totally_ordered2&lt;F, int&gt;&gt; {\\n    /*implicit*/ F(int t_) : t(t_) {}\\n    bool operator==(F const&amp; o) const { return t == o.t; }\\n    bool operator&lt; (F const&amp; o) const { return t &lt;  o.t; }\\n  private: int t;\\n};\\n\\nint main() {\\n    #pragma GCC diagnostic ignored &quot;-Wunused&quot;\\n    F { 42 } == F{ 42 }; // OKAY\\n    42 == F{42};         // C++17 OK, C++20 infinite recursion\\n    F { 42 } == 42;      // C++17 OK, C++20 infinite recursion\\n}\\n</code></pre>\\n<p>This program compiles and runs fine with C++17 (ubsan/asan enabled) in both GCC and Clang.</p>\\n</li>\\n<li><p>When you change the <em>implicit</em> constructor to <code>explicit</code>, the problematic lines obviously <strong><a href=\"https://godbolt.org/z/hq4fve\" rel=\"noreferrer\">no longer compile on C++17</a></strong></p>\\n</li>\\n</ol>\\n<p>Surprisingly both versions <strong>compile on C++20 (<a href=\"https://godbolt.org/z/onMzo5\" rel=\"noreferrer\">v1</a> and <a href=\"https://godbolt.org/z/b1Pav5\" rel=\"noreferrer\">v2</a>)</strong>, but they lead to <strong>infinite recursion</strong> (crash or tight loop, depending on optimization level) on the two lines that wouldn\\'t compile on C++17.</p>\\n<p>Obviously this kind of silent bug creeping in by upgrading to C++20 is worrisome.</p>\\n<p>Questions:</p>\\n<ul>\\n<li>Is this c++20 behaviour conformant (I expect so)</li>\\n<li>What exactly is interfering? I suspect it might be due to c++20\\'s new &quot;spaceship operator&quot; support, but don\\'t understand <strong>how</strong> it changes the behaviour of this code.</li>\\n</ul>\\n', 'Tags': '<c++><c++17><c++20><spaceship-operator>'}})"
      ]
     },
     "execution_count": 30,
     "metadata": {},
     "output_type": "execute_result"
    }
   ],
   "source": [
    "res = es.get(index=\"questions\", id=1)\n",
    "res"
   ]
  },
  {
   "cell_type": "code",
   "execution_count": 29,
   "metadata": {},
   "outputs": [
    {
     "data": {
      "text/plain": [
       "'<c++><c++17><c++20><spaceship-operator>'"
      ]
     },
     "execution_count": 29,
     "metadata": {},
     "output_type": "execute_result"
    }
   ],
   "source": [
    "res['_source']['Tags']"
   ]
  },
  {
   "cell_type": "code",
   "execution_count": 27,
   "metadata": {},
   "outputs": [
    {
     "data": {
      "text/plain": [
       "dict_keys(['_index', '_id', '_version', '_seq_no', '_primary_term', 'found', '_source'])"
      ]
     },
     "execution_count": 27,
     "metadata": {},
     "output_type": "execute_result"
    }
   ],
   "source": [
    "res.keys()"
   ]
  },
  {
   "cell_type": "code",
   "execution_count": 34,
   "metadata": {},
   "outputs": [],
   "source": [
    "resp = es.search(index=\"questions\", query={\"match\":{\"Body\":\"program\"}})"
   ]
  },
  {
   "cell_type": "code",
   "execution_count": 35,
   "metadata": {},
   "outputs": [
    {
     "data": {
      "text/plain": [
       "{'_index': 'questions',\n",
       " '_id': '82',\n",
       " '_score': 3.8813283,\n",
       " '_source': {'ID': 61278180,\n",
       "  'Body': '<p>Consider the following demonstrative program.</p>\\n\\n<pre><code>#include &lt;iostream&gt;\\n\\nint main()\\n{\\n    typedef float T;\\n\\n    0.f.T::~T();\\n}\\n</code></pre>\\n\\n<p>This program is compiled by <code>Microsoft Visual Studio Community 2019</code>.</p>\\n\\n<p>But <code>clang</code> and <code>gcc</code> issue an error like this</p>\\n\\n<pre><code>prog.cc:7:5: error: unable to find numeric literal operator \\'operator\"\"f.T\\'\\n    7 |     0.f.T::~T();\\n      |     ^~~~~\\n</code></pre>\\n\\n<p>If to write the expression like <code>( 0.f ).T::~T()</code> then all three compilers compile the program.</p>\\n\\n<p>So a question arises: is this record <code>0.f.T::~T()</code> syntactically valid? And if not, then what syntactical rule is broken? </p>\\n',\n",
       "  'Tags': '<c++><syntax><floating-point><c++17><pseudo-destructor>'}}"
      ]
     },
     "execution_count": 35,
     "metadata": {},
     "output_type": "execute_result"
    }
   ],
   "source": [
    "# first result\n",
    "resp['hits']['hits'][0]\n"
   ]
  },
  {
   "cell_type": "code",
   "execution_count": 36,
   "metadata": {},
   "outputs": [
    {
     "data": {
      "text/plain": [
       "{'ID': 61278180,\n",
       " 'Body': '<p>Consider the following demonstrative program.</p>\\n\\n<pre><code>#include &lt;iostream&gt;\\n\\nint main()\\n{\\n    typedef float T;\\n\\n    0.f.T::~T();\\n}\\n</code></pre>\\n\\n<p>This program is compiled by <code>Microsoft Visual Studio Community 2019</code>.</p>\\n\\n<p>But <code>clang</code> and <code>gcc</code> issue an error like this</p>\\n\\n<pre><code>prog.cc:7:5: error: unable to find numeric literal operator \\'operator\"\"f.T\\'\\n    7 |     0.f.T::~T();\\n      |     ^~~~~\\n</code></pre>\\n\\n<p>If to write the expression like <code>( 0.f ).T::~T()</code> then all three compilers compile the program.</p>\\n\\n<p>So a question arises: is this record <code>0.f.T::~T()</code> syntactically valid? And if not, then what syntactical rule is broken? </p>\\n',\n",
       " 'Tags': '<c++><syntax><floating-point><c++17><pseudo-destructor>'}"
      ]
     },
     "execution_count": 36,
     "metadata": {},
     "output_type": "execute_result"
    }
   ],
   "source": [
    "resp['hits']['hits'][0]['_source']"
   ]
  },
  {
   "cell_type": "code",
   "execution_count": 40,
   "metadata": {},
   "outputs": [
    {
     "data": {
      "text/plain": [
       "'<p>Consider the following demonstrative program.</p>\\n\\n<pre><code>#include &lt;iostream&gt;\\n\\nint main()\\n{\\n    typedef float T;\\n\\n    0.f.T::~T();\\n}\\n</code></pre>\\n\\n<p>This program is compiled by <code>Microsoft Visual Studio Community 2019</code>.</p>\\n\\n<p>But <code>clang</code> and <code>gcc</code> issue an error like this</p>\\n\\n<pre><code>prog.cc:7:5: error: unable to find numeric literal operator \\'operator\"\"f.T\\'\\n    7 |     0.f.T::~T();\\n      |     ^~~~~\\n</code></pre>\\n\\n<p>If to write the expression like <code>( 0.f ).T::~T()</code> then all three compilers compile the program.</p>\\n\\n<p>So a question arises: is this record <code>0.f.T::~T()</code> syntactically valid? And if not, then what syntactical rule is broken? </p>\\n'"
      ]
     },
     "execution_count": 40,
     "metadata": {},
     "output_type": "execute_result"
    }
   ],
   "source": [
    "resp['hits']['hits'][0]['_source']['Body']"
   ]
  },
  {
   "cell_type": "code",
   "execution_count": 39,
   "metadata": {},
   "outputs": [
    {
     "name": "stdout",
     "output_type": "stream",
     "text": [
      "Got 12 Hits:\n",
      "61278180\n",
      "68505026\n",
      "60627249\n",
      "59787879\n",
      "67619477\n",
      "59603086\n",
      "65080685\n",
      "60114639\n",
      "65648897\n",
      "63705739\n"
     ]
    }
   ],
   "source": [
    "print(f\"Got {resp['hits']['total']['value']} Hits:\" )\n",
    "for hit in resp['hits']['hits']:\n",
    "    print(hit['_source']['ID'])"
   ]
  },
  {
   "cell_type": "markdown",
   "metadata": {},
   "source": [
    "Assignment(1)"
   ]
  },
  {
   "cell_type": "code",
   "execution_count": 41,
   "metadata": {},
   "outputs": [],
   "source": [
    "def search_text(text):\n",
    "    results = es.search(index='questions',query={\"match\":{\"Body\":text}})\n",
    "    all_hits = results['hits']['hits']\n",
    "\n",
    "    # see how many \"hits\" it returned using the len() function\n",
    "    print (\"total hits :\", results['hits']['total']['value'], \"\\n\")\n",
    "    \n",
    "    # iterate the nested dictionaries inside the [\"hits\"][\"hits\"] list and print results\n",
    "    if results['hits']['total']['value'] == 0:\n",
    "        print('NOT FOUND')  \n",
    "    else:\n",
    "        for num, doc in enumerate(all_hits):\n",
    "            print (\"DOC ID:\", doc[\"_id\"], \"\\n\", doc['_source']['Body'], \"\\n\")"
   ]
  },
  {
   "cell_type": "code",
   "execution_count": 46,
   "metadata": {},
   "outputs": [
    {
     "name": "stdout",
     "output_type": "stream",
     "text": [
      "total hits : 1 \n",
      "\n",
      "DOC ID: 76 \n",
      " <p>I have existing code such as this:</p>\n",
      "\n",
      "<pre><code>String sql = \"CREATE TABLE \" + tableName + \" (\\n\" +\n",
      "        \"  id_ UUID DEFAULT random_uuid() PRIMARY KEY ,\\n\" +\n",
      "        \"  when_ TIMESTAMP WITHOUT TIME ZONE NOT NULL\\n\" +\n",
      "        \"  duration_ STRING NOT NULL\\n\" +\n",
      "        \");\";\n",
      "</code></pre>\n",
      "\n",
      "<p>…in a project in IntelliJ 2020.1.1 (preview) Ultimate edition where the JDK settings are configured for language level <code>14 (Preview) - Records, patters, text blocks</code>. </p>\n",
      "\n",
      "<p>So I expected IntelliJ to offer a conversion to text blocks among the items display when I click on the yellow light bulb that appears next to this line of code. But I see no such offer.</p>\n",
      "\n",
      "<p><a href=\"https://i.stack.imgur.com/f18mc.png\" rel=\"noreferrer\"><img src=\"https://i.stack.imgur.com/f18mc.png\" alt=\"screen shot of pop-up menu displayed by clicking on yellow light bulb next to this line of code\"></a></p>\n",
      "\n",
      "<p>I am surprised to not find such an offer, as the JetBrains company claims to support <a href=\"https://openjdk.java.net/jeps/368\" rel=\"noreferrer\"><em>JEP 368: Text Blocks (Second Preview)</em></a> in their 2020.1 version of IntelliJ, as discussed <a href=\"https://blog.jetbrains.com/idea/2020/03/java-14-and-intellij-idea/\" rel=\"noreferrer\">here</a> and <a href=\"https://blog.jetbrains.com/idea/2019/11/java-13-and-intellij-idea/\" rel=\"noreferrer\">here</a>. </p>\n",
      "\n",
      "<p>➥ Does IntelliJ offer some way to convert old string concatenation to text blocks? </p>\n",
      " \n",
      "\n"
     ]
    }
   ],
   "source": [
    "search_text('concatenation')"
   ]
  },
  {
   "cell_type": "markdown",
   "metadata": {},
   "source": [
    "Assignment(2)"
   ]
  },
  {
   "cell_type": "code",
   "execution_count": 18,
   "metadata": {},
   "outputs": [
    {
     "data": {
      "text/plain": [
       "0     62969917\n",
       "1     65648897\n",
       "2     67289057\n",
       "3     60114639\n",
       "4     61590721\n",
       "        ...   \n",
       "95    63788646\n",
       "96    64034156\n",
       "97    68024935\n",
       "98    65224327\n",
       "99    59618213\n",
       "Name: Id.1, Length: 100, dtype: int64"
      ]
     },
     "execution_count": 18,
     "metadata": {},
     "output_type": "execute_result"
    }
   ],
   "source": [
    "df_q['Id.1']"
   ]
  },
  {
   "cell_type": "code",
   "execution_count": 21,
   "metadata": {},
   "outputs": [],
   "source": [
    "def search_id(number):\n",
    "    results = es.search(index='questions',query={\"match\":{\"ID\":number}})\n",
    "    all_hits = results['hits']['hits']\n",
    "    print(results['hits']['total']['value'])\n",
    "    if results['hits']['total']['value'] == 0:\n",
    "        print('NOT FOUND')  \n",
    "    else:\n",
    "        for num, doc in enumerate(all_hits):\n",
    "            print (\"DOC ID:\", doc[\"_id\"], \"--->\", doc['_source'], \"\\n\")"
   ]
  },
  {
   "cell_type": "code",
   "execution_count": 25,
   "metadata": {},
   "outputs": [
    {
     "name": "stdout",
     "output_type": "stream",
     "text": [
      "1\n",
      "DOC ID: 96 ---> {'ID': 64034156, 'Body': '<p><em><strong>Short problem description:</strong></em> I had created two new AWS EC2 server instances on Redhat Linux and Ubuntu operating system. I was trying to login to it through SSH via Putty but was getting errors(detailed errors further in question). This is just a short description.</p>\\n<p><em><strong>Detailed problem description:</strong></em> I generated a new .pem file after creating a free tier Amazon EC2(Elastic Compute Cloud) server of Ubuntu 20 O.S version. Then I have used <code>PuttyGen</code> software in my Windows-10 O.S p.c. While trying to login through putty it was giving me an error as shown in the following error description, due to this I was not able to login to aws machines, I have further investigated the issue and all details of troubleshooting steps are mentioned in detailed manner in this self answered question(other suggestions/solutions are welcome).</p>\\n<p><em><strong>Error\\'s description:</strong></em></p>\\n<p><code>&quot;Server refused our key&quot;</code> On terminal AND <code>&quot;NO supported authentication method available(server sent:public ke;gssapi-with-mic)&quot;</code></p>\\n<p><a href=\"https://i.stack.imgur.com/5sGRK.jpg\" rel=\"noreferrer\"><img src=\"https://i.stack.imgur.com/5sGRK.jpg\" alt=\"enter image description here\" /></a></p>\\n', 'Tags': '<amazon-web-services><powershell><shell><amazon-ec2><ssh>'} \n",
      "\n"
     ]
    }
   ],
   "source": [
    "search_id(64034156)"
   ]
  },
  {
   "cell_type": "markdown",
   "metadata": {},
   "source": [
    "Assignment(3)"
   ]
  },
  {
   "cell_type": "code",
   "execution_count": 3,
   "metadata": {},
   "outputs": [
    {
     "ename": "ConnectionError",
     "evalue": "Connection error caused by: ConnectionError(Connection error caused by: NewConnectionError(<urllib3.connection.HTTPConnection object at 0x0000023AE415BE80>: Failed to establish a new connection: [WinError 10061] No connection could be made because the target machine actively refused it))",
     "output_type": "error",
     "traceback": [
      "\u001b[1;31m---------------------------------------------------------------------------\u001b[0m",
      "\u001b[1;31mConnectionError\u001b[0m                           Traceback (most recent call last)",
      "\u001b[1;32m<ipython-input-3-7b57cf1aa2cb>\u001b[0m in \u001b[0;36m<module>\u001b[1;34m\u001b[0m\n\u001b[1;32m----> 1\u001b[1;33m \u001b[0mres\u001b[0m \u001b[1;33m=\u001b[0m \u001b[0mes\u001b[0m\u001b[1;33m.\u001b[0m\u001b[0mget\u001b[0m\u001b[1;33m(\u001b[0m\u001b[0mindex\u001b[0m\u001b[1;33m=\u001b[0m\u001b[1;34m\"questions\"\u001b[0m\u001b[1;33m,\u001b[0m \u001b[0mid\u001b[0m\u001b[1;33m=\u001b[0m\u001b[1;36m0\u001b[0m\u001b[1;33m)\u001b[0m\u001b[1;33m\u001b[0m\u001b[1;33m\u001b[0m\u001b[0m\n\u001b[0m\u001b[0;32m      2\u001b[0m \u001b[0mres\u001b[0m\u001b[1;33m\u001b[0m\u001b[1;33m\u001b[0m\u001b[0m\n",
      "\u001b[1;32mc:\\Users\\A\\AppData\\Local\\Programs\\PythonCodingPack\\lib\\site-packages\\elasticsearch\\_sync\\client\\utils.py\u001b[0m in \u001b[0;36mwrapped\u001b[1;34m(*args, **kwargs)\u001b[0m\n\u001b[0;32m    412\u001b[0m                         \u001b[1;32mpass\u001b[0m\u001b[1;33m\u001b[0m\u001b[1;33m\u001b[0m\u001b[0m\n\u001b[0;32m    413\u001b[0m \u001b[1;33m\u001b[0m\u001b[0m\n\u001b[1;32m--> 414\u001b[1;33m             \u001b[1;32mreturn\u001b[0m \u001b[0mapi\u001b[0m\u001b[1;33m(\u001b[0m\u001b[1;33m*\u001b[0m\u001b[0margs\u001b[0m\u001b[1;33m,\u001b[0m \u001b[1;33m**\u001b[0m\u001b[0mkwargs\u001b[0m\u001b[1;33m)\u001b[0m\u001b[1;33m\u001b[0m\u001b[1;33m\u001b[0m\u001b[0m\n\u001b[0m\u001b[0;32m    415\u001b[0m \u001b[1;33m\u001b[0m\u001b[0m\n\u001b[0;32m    416\u001b[0m         \u001b[1;32mreturn\u001b[0m \u001b[0mwrapped\u001b[0m  \u001b[1;31m# type: ignore[return-value]\u001b[0m\u001b[1;33m\u001b[0m\u001b[1;33m\u001b[0m\u001b[0m\n",
      "\u001b[1;32mc:\\Users\\A\\AppData\\Local\\Programs\\PythonCodingPack\\lib\\site-packages\\elasticsearch\\_sync\\client\\__init__.py\u001b[0m in \u001b[0;36mget\u001b[1;34m(self, index, id, error_trace, filter_path, human, preference, pretty, realtime, refresh, routing, source, source_excludes, source_includes, stored_fields, version, version_type)\u001b[0m\n\u001b[0;32m   1943\u001b[0m             \u001b[0m__query\u001b[0m\u001b[1;33m[\u001b[0m\u001b[1;34m\"version_type\"\u001b[0m\u001b[1;33m]\u001b[0m \u001b[1;33m=\u001b[0m \u001b[0mversion_type\u001b[0m\u001b[1;33m\u001b[0m\u001b[1;33m\u001b[0m\u001b[0m\n\u001b[0;32m   1944\u001b[0m         \u001b[0m__headers\u001b[0m \u001b[1;33m=\u001b[0m \u001b[1;33m{\u001b[0m\u001b[1;34m\"accept\"\u001b[0m\u001b[1;33m:\u001b[0m \u001b[1;34m\"application/json\"\u001b[0m\u001b[1;33m}\u001b[0m\u001b[1;33m\u001b[0m\u001b[1;33m\u001b[0m\u001b[0m\n\u001b[1;32m-> 1945\u001b[1;33m         return self.perform_request(  # type: ignore[return-value]\n\u001b[0m\u001b[0;32m   1946\u001b[0m             \u001b[1;34m\"GET\"\u001b[0m\u001b[1;33m,\u001b[0m \u001b[0m__path\u001b[0m\u001b[1;33m,\u001b[0m \u001b[0mparams\u001b[0m\u001b[1;33m=\u001b[0m\u001b[0m__query\u001b[0m\u001b[1;33m,\u001b[0m \u001b[0mheaders\u001b[0m\u001b[1;33m=\u001b[0m\u001b[0m__headers\u001b[0m\u001b[1;33m\u001b[0m\u001b[1;33m\u001b[0m\u001b[0m\n\u001b[0;32m   1947\u001b[0m         )\n",
      "\u001b[1;32mc:\\Users\\A\\AppData\\Local\\Programs\\PythonCodingPack\\lib\\site-packages\\elasticsearch\\_sync\\client\\_base.py\u001b[0m in \u001b[0;36mperform_request\u001b[1;34m(self, method, path, params, headers, body)\u001b[0m\n\u001b[0;32m    284\u001b[0m             \u001b[0mtarget\u001b[0m \u001b[1;33m=\u001b[0m \u001b[0mpath\u001b[0m\u001b[1;33m\u001b[0m\u001b[1;33m\u001b[0m\u001b[0m\n\u001b[0;32m    285\u001b[0m \u001b[1;33m\u001b[0m\u001b[0m\n\u001b[1;32m--> 286\u001b[1;33m         meta, resp_body = self.transport.perform_request(\n\u001b[0m\u001b[0;32m    287\u001b[0m             \u001b[0mmethod\u001b[0m\u001b[1;33m,\u001b[0m\u001b[1;33m\u001b[0m\u001b[1;33m\u001b[0m\u001b[0m\n\u001b[0;32m    288\u001b[0m             \u001b[0mtarget\u001b[0m\u001b[1;33m,\u001b[0m\u001b[1;33m\u001b[0m\u001b[1;33m\u001b[0m\u001b[0m\n",
      "\u001b[1;32mc:\\Users\\A\\AppData\\Local\\Programs\\PythonCodingPack\\lib\\site-packages\\elastic_transport\\_transport.py\u001b[0m in \u001b[0;36mperform_request\u001b[1;34m(self, method, target, body, headers, max_retries, retry_on_status, retry_on_timeout, request_timeout, client_meta)\u001b[0m\n\u001b[0;32m    327\u001b[0m             \u001b[0mstart_time\u001b[0m \u001b[1;33m=\u001b[0m \u001b[0mtime\u001b[0m\u001b[1;33m.\u001b[0m\u001b[0mtime\u001b[0m\u001b[1;33m(\u001b[0m\u001b[1;33m)\u001b[0m\u001b[1;33m\u001b[0m\u001b[1;33m\u001b[0m\u001b[0m\n\u001b[0;32m    328\u001b[0m             \u001b[1;32mtry\u001b[0m\u001b[1;33m:\u001b[0m\u001b[1;33m\u001b[0m\u001b[1;33m\u001b[0m\u001b[0m\n\u001b[1;32m--> 329\u001b[1;33m                 meta, raw_data = node.perform_request(\n\u001b[0m\u001b[0;32m    330\u001b[0m                     \u001b[0mmethod\u001b[0m\u001b[1;33m,\u001b[0m\u001b[1;33m\u001b[0m\u001b[1;33m\u001b[0m\u001b[0m\n\u001b[0;32m    331\u001b[0m                     \u001b[0mtarget\u001b[0m\u001b[1;33m,\u001b[0m\u001b[1;33m\u001b[0m\u001b[1;33m\u001b[0m\u001b[0m\n",
      "\u001b[1;32mc:\\Users\\A\\AppData\\Local\\Programs\\PythonCodingPack\\lib\\site-packages\\elastic_transport\\_node\\_http_urllib3.py\u001b[0m in \u001b[0;36mperform_request\u001b[1;34m(self, method, target, body, headers, request_timeout)\u001b[0m\n\u001b[0;32m    197\u001b[0m                 \u001b[0mexception\u001b[0m\u001b[1;33m=\u001b[0m\u001b[0merr\u001b[0m\u001b[1;33m,\u001b[0m\u001b[1;33m\u001b[0m\u001b[1;33m\u001b[0m\u001b[0m\n\u001b[0;32m    198\u001b[0m             )\n\u001b[1;32m--> 199\u001b[1;33m             \u001b[1;32mraise\u001b[0m \u001b[0merr\u001b[0m \u001b[1;32mfrom\u001b[0m \u001b[1;32mNone\u001b[0m\u001b[1;33m\u001b[0m\u001b[1;33m\u001b[0m\u001b[0m\n\u001b[0m\u001b[0;32m    200\u001b[0m \u001b[1;33m\u001b[0m\u001b[0m\n\u001b[0;32m    201\u001b[0m         meta = ApiResponseMeta(\n",
      "\u001b[1;31mConnectionError\u001b[0m: Connection error caused by: ConnectionError(Connection error caused by: NewConnectionError(<urllib3.connection.HTTPConnection object at 0x0000023AE415BE80>: Failed to establish a new connection: [WinError 10061] No connection could be made because the target machine actively refused it))"
     ]
    }
   ],
   "source": [
    "res = es.get(index=\"questions\", id=0)\n",
    "res"
   ]
  },
  {
   "cell_type": "code",
   "execution_count": null,
   "metadata": {},
   "outputs": [],
   "source": []
  },
  {
   "cell_type": "code",
   "execution_count": 27,
   "metadata": {},
   "outputs": [
    {
     "data": {
      "text/plain": [
       "array(['<android><android-gradle-plugin><android-manifest><manifest>',\n",
       "       '<c++><c++17><c++20><spaceship-operator>', '<c#><stackalloc>',\n",
       "       '<selenium><google-chrome><selenium-chromedriver><chromium><renderer>',\n",
       "       '<c++><class><language-lawyer><c++20><standard-layout>',\n",
       "       '<c++><aggregate-initialization>',\n",
       "       '<c++><c++17><c++20><stdtuple><spaceship-operator>',\n",
       "       '<android><alarmmanager>', '<javascript><typescript><firebase>',\n",
       "       '<windows-terminal>', '<ios><swift><nsdiffabledatasourcesnapshot>',\n",
       "       '<c++><c++14>', '<android><android-app-signing>',\n",
       "       '<c#><oop><attributes><c#-9.0><record-classes>',\n",
       "       '<java><java-stream><iterable>',\n",
       "       '<macos><text-to-speech><macos-catalina><siri><nsspeechsynthesizer>',\n",
       "       '<c#><nameof>', '<ios><swift><combine>', '<javafx>',\n",
       "       '<arrays><swift>', '<android><android-workmanager><android-12>',\n",
       "       '<android><android-permissions>',\n",
       "       '<r><dplyr><data.table><tidyverse><recode>',\n",
       "       '<c++><language-lawyer>',\n",
       "       '<javascript><node.js><firebase-realtime-database>',\n",
       "       '<c++><c++20><c++-concepts>', '<java><jvm><java-11>',\n",
       "       '<ios><uitableview><ios14>',\n",
       "       '<python><selenium><windows-10><sublimetext3><webdrivermanager-python>',\n",
       "       '<android><storage-access-framework><android-11>',\n",
       "       '<android><encrypted-shared-preference>',\n",
       "       '<performance><assembly><x86-16><bios><vga>',\n",
       "       '<javascript><google-chrome><progressive-web-apps>',\n",
       "       '<google-cloud-platform><google-cloud-storage><google-cloud-build><google-cloud-run>',\n",
       "       '<c#><.net><random><fisher-yates-shuffle>',\n",
       "       '<swift><async-await><swift5>', '<ios><uibutton><ios15>',\n",
       "       '<javascript><node.js><google-chrome><v8><for-of-loop>',\n",
       "       '<swift><option-type><combine><swift-keypath>',\n",
       "       '<c++><random><language-lawyer>', '<java><java-8><annotations>',\n",
       "       '<python><selenium><google-chrome><selenium-chromedriver><webusb>',\n",
       "       '<c++><sorting><pointers><language-lawyer><strict-weak-ordering>',\n",
       "       '<macos><native><apple-silicon>',\n",
       "       '<ios><swift><async-await><grand-central-dispatch><swift5>',\n",
       "       '<r><ggplot2><facet><ggproto>', '<r><sample>',\n",
       "       '<swift><async-await><swift5><mainactor>',\n",
       "       '<javascript><arrays><performance-testing><subclass><v8>',\n",
       "       '<reactjs><jestjs><react-router><react-router-dom><react-testing-library>',\n",
       "       '<r><odbc><dbi><nanodbc>', '<intellij-idea>', '<awk>',\n",
       "       '<c><language-lawyer>', '<c++><language-lawyer><c++20>',\n",
       "       '<c++><endianness><constexpr><c++20>', '<c#><idisposable><c#-8.0>',\n",
       "       '<c><floating-point>',\n",
       "       '<c++><templates><language-lawyer><c++17><template-argument-deduction>',\n",
       "       '<java><language-lawyer>',\n",
       "       '<c><pointers><language-lawyer><incomplete-type>',\n",
       "       '<python><python-3.x><python-venv>', '<android><google-play>',\n",
       "       '<android><xml><parsing><apk><android-manifest>',\n",
       "       '<android><maven><kotlin><jitpack><kdoc>',\n",
       "       '<ios><mobile><mobile-safari><mobile-chrome>',\n",
       "       '<ruby><closures><proc>', '<swift><types>', '<android>',\n",
       "       '<javascript><vue.js><webpack><vue-cli><webpack-splitchunks>',\n",
       "       '<powershell><character-encoding><command-line-interface><io-redirection><quoting>',\n",
       "       '<swift><actor><swift5><structured-concurrency>',\n",
       "       '<java><clock><java-time>',\n",
       "       '<java><intellij-idea><java-text-blocks>',\n",
       "       '<javascript><floating-point><ieee-754>',\n",
       "       '<java><android><firebase><kotlin><firebase-realtime-database>',\n",
       "       '<typescript>', '<r><devtools><cran><testthat>', '<c><scanf>',\n",
       "       '<c++><syntax><floating-point><c++17><pseudo-destructor>',\n",
       "       '<algorithm><matlab><time-series><signal-processing><data-analysis>',\n",
       "       '<android><google-maps><caching><google-places-api>',\n",
       "       '<python><python-3.x><types>',\n",
       "       '<javascript><static><es6-class><ecmascript-next><class-fields>',\n",
       "       '<javascript><firebase-realtime-database>', '<ruby><rbenv>',\n",
       "       '<arrays><numpy><sorting><duplicates>',\n",
       "       '<c++><language-lawyer><variadic-templates><c++20><c++-concepts>',\n",
       "       '<sql-server><entity-framework-core><sequence><ef-core-3.1>',\n",
       "       '<c#><performance><.net-core-3.1><.net-4.8>', '<rust>',\n",
       "       '<.net-core><azure-pipelines>',\n",
       "       '<amazon-web-services><powershell><shell><amazon-ec2><ssh>',\n",
       "       '<supertest><msw>',\n",
       "       '<spring-boot><intellij-idea><spring-cloud><junit5>',\n",
       "       '<rust><macros><hygiene><rust-proc-macros>'], dtype=object)"
      ]
     },
     "execution_count": 27,
     "metadata": {},
     "output_type": "execute_result"
    }
   ],
   "source": [
    "df_q['Tags'].unique()"
   ]
  },
  {
   "cell_type": "code",
   "execution_count": null,
   "metadata": {},
   "outputs": [],
   "source": []
  },
  {
   "cell_type": "code",
   "execution_count": 1,
   "metadata": {},
   "outputs": [
    {
     "ename": "NameError",
     "evalue": "name 'es' is not defined",
     "output_type": "error",
     "traceback": [
      "\u001b[1;31m---------------------------------------------------------------------------\u001b[0m",
      "\u001b[1;31mNameError\u001b[0m                                 Traceback (most recent call last)",
      "\u001b[1;32m<ipython-input-1-3b5d14aac94b>\u001b[0m in \u001b[0;36m<module>\u001b[1;34m\u001b[0m\n\u001b[1;32m----> 1\u001b[1;33m \u001b[0mresults\u001b[0m \u001b[1;33m=\u001b[0m \u001b[0mes\u001b[0m\u001b[1;33m.\u001b[0m\u001b[0msearch\u001b[0m\u001b[1;33m(\u001b[0m\u001b[0mindex\u001b[0m\u001b[1;33m=\u001b[0m\u001b[1;34m'questions'\u001b[0m\u001b[1;33m,\u001b[0m\u001b[0mquery\u001b[0m\u001b[1;33m=\u001b[0m\u001b[1;33m{\u001b[0m\u001b[1;34m\"bool\"\u001b[0m\u001b[1;33m:\u001b[0m \u001b[1;33m{\u001b[0m\u001b[1;34m\"must\"\u001b[0m\u001b[1;33m:\u001b[0m \u001b[1;33m[\u001b[0m\u001b[1;33m{\u001b[0m\u001b[1;34m\"term\"\u001b[0m\u001b[1;33m:\u001b[0m\u001b[1;33m{\u001b[0m\u001b[1;34m\"Tags\"\u001b[0m\u001b[1;33m:\u001b[0m\u001b[1;34m\"android\"\u001b[0m \u001b[1;33m}\u001b[0m\u001b[1;33m}\u001b[0m\u001b[1;33m]\u001b[0m\u001b[1;33m}\u001b[0m\u001b[1;33m}\u001b[0m\u001b[1;33m)\u001b[0m\u001b[1;33m\u001b[0m\u001b[1;33m\u001b[0m\u001b[0m\n\u001b[0m\u001b[0;32m      2\u001b[0m \u001b[1;33m\u001b[0m\u001b[0m\n\u001b[0;32m      3\u001b[0m \u001b[1;33m\u001b[0m\u001b[0m\n\u001b[0;32m      4\u001b[0m \u001b[0mall_hits\u001b[0m \u001b[1;33m=\u001b[0m \u001b[0mresults\u001b[0m\u001b[1;33m[\u001b[0m\u001b[1;34m'hits'\u001b[0m\u001b[1;33m]\u001b[0m\u001b[1;33m[\u001b[0m\u001b[1;34m'hits'\u001b[0m\u001b[1;33m]\u001b[0m\u001b[1;33m\u001b[0m\u001b[1;33m\u001b[0m\u001b[0m\n\u001b[0;32m      5\u001b[0m \u001b[0mprint\u001b[0m\u001b[1;33m(\u001b[0m\u001b[0mresults\u001b[0m\u001b[1;33m[\u001b[0m\u001b[1;34m'hits'\u001b[0m\u001b[1;33m]\u001b[0m\u001b[1;33m[\u001b[0m\u001b[1;34m'total'\u001b[0m\u001b[1;33m]\u001b[0m\u001b[1;33m[\u001b[0m\u001b[1;34m'value'\u001b[0m\u001b[1;33m]\u001b[0m\u001b[1;33m)\u001b[0m\u001b[1;33m\u001b[0m\u001b[1;33m\u001b[0m\u001b[0m\n",
      "\u001b[1;31mNameError\u001b[0m: name 'es' is not defined"
     ]
    }
   ],
   "source": [
    "results = es.search(index='questions',query={\"bool\": {\"must\": [{\"term\":{\"Tags\":\"android\" }}]}})\n",
    "\n",
    "\n",
    "all_hits = results['hits']['hits']\n",
    "print(results['hits']['total']['value'])\n",
    "if results['hits']['total']['value'] == 0:\n",
    "    print('NOT FOUND')  \n",
    "else:\n",
    "    for num, doc in enumerate(all_hits):\n",
    "        print (\"DOC ID:\", doc[\"_id\"], \"--->\", doc['_source']['Tags'], \"\\n\")"
   ]
  },
  {
   "cell_type": "code",
   "execution_count": 147,
   "metadata": {},
   "outputs": [
    {
     "name": "stdout",
     "output_type": "stream",
     "text": [
      "1\n",
      "DOC ID: 6 ---> <android><android-gradle-plugin><android-manifest><manifest> \n",
      "\n"
     ]
    }
   ],
   "source": [
    "results = es.search(index='questions',query={\"bool\": {\"must\": [{\"wildcard\":{\"Tags\":\"*android*\" }}]}})\n",
    "\n",
    "\n",
    "all_hits = results['hits']['hits']\n",
    "print(results['hits']['total']['value'])\n",
    "if results['hits']['total']['value'] == 0:\n",
    "    print('NOT FOUND')  \n",
    "else:\n",
    "    for num, doc in enumerate(all_hits):\n",
    "        print (\"DOC ID:\", doc[\"_id\"], \"--->\", doc['_source']['Tags'], \"\\n\")"
   ]
  },
  {
   "cell_type": "code",
   "execution_count": 148,
   "metadata": {},
   "outputs": [
    {
     "name": "stdout",
     "output_type": "stream",
     "text": [
      "2\n",
      "DOC ID: 6 ---> <android><android-gradle-plugin><android-manifest><manifest> \n",
      "\n",
      "DOC ID: 23 ---> <c++><c++17><c++20><spaceship-operator> \n",
      "\n"
     ]
    }
   ],
   "source": [
    "results = es.search(index='questions',query={\"bool\": {\"must_not\": [{\"match\":{\"Tags\":\"\" }}]}})\n",
    "\n",
    "\n",
    "all_hits = results['hits']['hits']\n",
    "print(results['hits']['total']['value'])\n",
    "if results['hits']['total']['value'] == 0:\n",
    "    print('NOT FOUND')  \n",
    "else:\n",
    "    for num, doc in enumerate(all_hits):\n",
    "        print (\"DOC ID:\", doc[\"_id\"], \"--->\", doc['_source']['Tags'], \"\\n\")"
   ]
  },
  {
   "cell_type": "code",
   "execution_count": null,
   "metadata": {},
   "outputs": [],
   "source": []
  },
  {
   "cell_type": "code",
   "execution_count": 2,
   "metadata": {},
   "outputs": [],
   "source": [
    "import pandas as pd\n",
    "df2 = pd.read_csv('C:\\\\Users\\\\A\\\\Desktop\\\\comments.csv').fillna(\"\")"
   ]
  },
  {
   "cell_type": "code",
   "execution_count": 3,
   "metadata": {},
   "outputs": [
    {
     "data": {
      "text/plain": [
       "Index(['Id', 'PostId', 'Score', 'Text', 'CreationDate', 'UserDisplayName',\n",
       "       'UserId', 'ContentLicense'],\n",
       "      dtype='object')"
      ]
     },
     "execution_count": 3,
     "metadata": {},
     "output_type": "execute_result"
    }
   ],
   "source": [
    "df2.columns"
   ]
  },
  {
   "cell_type": "code",
   "execution_count": null,
   "metadata": {},
   "outputs": [],
   "source": [
    "results = es.search(index='questions',query={\"bool\": { \"should\": [ {\"term\": {\"Tags\": \"android\" }},  \n",
    "      ]\n",
    "    }\n",
    "  })\n",
    "\n",
    "\n",
    "all_hits = results['hits']['hits']\n",
    "print(results['hits']['total']['value'])\n",
    "if results['hits']['total']['value'] == 0:\n",
    "    print('NOT FOUND')  \n",
    "else:\n",
    "    for num, doc in enumerate(all_hits):\n",
    "        print (\"DOC ID:\", doc[\"_id\"], \"--->\", doc['_source']['Tags'], \"\\n\")"
   ]
  },
  {
   "cell_type": "code",
   "execution_count": null,
   "metadata": {},
   "outputs": [],
   "source": [
    "df2['CreationDate'].unique()"
   ]
  },
  {
   "cell_type": "code",
   "execution_count": 30,
   "metadata": {},
   "outputs": [
    {
     "data": {
      "text/plain": [
       "array([59734482, 59837471, 59871821, 59928620, 60071551, 60128446,\n",
       "       60020384, 60466572, 60461828, 60551320, 60602455, 60626081,\n",
       "       60969045, 61009026, 61337953, 61645042, 61622333, 61736789,\n",
       "       62140681, 62057615, 62431424, 62601621, 62714182, 62347506,\n",
       "       62625899, 62807914, 63124766, 62734983, 64083083, 60013101,\n",
       "       63580047, 63724548, 63826218, 64252780, 60405256, 64476015,\n",
       "       62656145, 59623717, 63727364, 63117292, 63826219, 60202636,\n",
       "       60979785, 62347613, 60266696, 64545863, 59857409, 65174592,\n",
       "       62969918, 65648897, 67145373, 67414097, 61981767, 67979333,\n",
       "       68152911, 68938785, 64839917, 69843565, 70011062, 70258852,\n",
       "       70340785, 61147681, 61732176, 61922965, 66348974, 66993654,\n",
       "       59658315, 62761032, 61531318, 68221126, 64795010, 64081011,\n",
       "       63102614, 61236803, 59675191, 69271299, 70099102, 66309040,\n",
       "       65379845, 69503445, 62978895, 63778277, 69875984, 64747517,\n",
       "       62784897, 66405205, 64134704, 70231955, 64310139, 62969917],\n",
       "      dtype=int64)"
      ]
     },
     "execution_count": 30,
     "metadata": {},
     "output_type": "execute_result"
    }
   ],
   "source": [
    "df2['PostId'].unique()"
   ]
  },
  {
   "cell_type": "code",
   "execution_count": 8,
   "metadata": {},
   "outputs": [
    {
     "data": {
      "text/plain": [
       "90"
      ]
     },
     "execution_count": 8,
     "metadata": {},
     "output_type": "execute_result"
    }
   ],
   "source": [
    "len(df2['PostId'].unique())"
   ]
  },
  {
   "cell_type": "code",
   "execution_count": 25,
   "metadata": {},
   "outputs": [
    {
     "data": {
      "text/plain": [
       "ObjectApiResponse({'acknowledged': True, 'shards_acknowledged': True, 'index': 'comments'})"
      ]
     },
     "execution_count": 25,
     "metadata": {},
     "output_type": "execute_result"
    }
   ],
   "source": [
    "mapping = {\n",
    "     \"properties\": {\n",
    "            \"PostId\": {\"type\": \"integer\"},\n",
    "            \"CreationDate\": {\"type\": \"date\",\"format\": \"yyyy-MM-dd HH:mm:ss\"},\n",
    "            \"Score\": {\"type\": \"integer\"},\n",
    "            \"Text\": {\"type\": \"text\"},\n",
    "         }}\n",
    "\n",
    "es.indices.create(index=\"comments\",mappings=mapping)"
   ]
  },
  {
   "cell_type": "code",
   "execution_count": 29,
   "metadata": {},
   "outputs": [],
   "source": [
    "for i,row in df2.iterrows():\n",
    "  doc = {\n",
    "      \"PostId\" : row['PostId'],\n",
    "      \"CreationDate\" : row[\"CreationDate\"],\n",
    "      \"Score\" : row[\"Score\"],\n",
    "      \"Text\" : row[\"Text\"],\n",
    "  }\n",
    "  es.index(index=\"comments\",id=i,document=doc)"
   ]
  },
  {
   "cell_type": "code",
   "execution_count": 40,
   "metadata": {},
   "outputs": [
    {
     "name": "stdout",
     "output_type": "stream",
     "text": [
      "4\n",
      "DOC ID: 1 ---> Score =  46 \n",
      " The RTL override is _not_ used for writing right-to-left languages. Those automatically render RTL.  The bigger problem is shared characters like numbers.  For those, the renderer has to _guess_ LTR vs RTL based on context.  Developers insert the RTL override character to force the renderer to render neutral direction characters in the desired direction. \n",
      "\n",
      "DOC ID: 22 ---> Score =  11 \n",
      " @Jordan.J.D yes, they should change selection appropriately in most software that handles RTL text properly. \n",
      "\n",
      "DOC ID: 273 ---> Score =  14 \n",
      " Do these characters change the way my browser chooses to highlight on double click as well? when I try to double click OP's string it highlights the beginning quote, and end dot and end quote, nothing in between. Interesting. \n",
      "\n",
      "DOC ID: 275 ---> Score =  6 \n",
      " @Moo It’s used *in the context of writing RTL languages in certain situations.* I didn’t want to go into too much detail as it’s irrelevant to this question. \n",
      "\n"
     ]
    }
   ],
   "source": [
    "results = es.search(index='comments',query={\"bool\": {\"must\": [{\"term\": {\"PostId\": 59837471}}],\"filter\":{\"range\":{\"Score\": {\"gte\": 5}}}}})\n",
    "all_hits = results['hits']['hits']\n",
    "print(results['hits']['total']['value'])\n",
    "if results['hits']['total']['value'] == 0:\n",
    "    print('NOT FOUND')  \n",
    "else:\n",
    "    for num, doc in enumerate(all_hits):\n",
    "        print (\"DOC ID:\", doc[\"_id\"], \"--->\",\"Score = \",doc['_source']['Score'],\"\\n\" ,doc['_source']['Text'], \"\\n\")"
   ]
  },
  {
   "cell_type": "code",
   "execution_count": 45,
   "metadata": {},
   "outputs": [
    {
     "name": "stdout",
     "output_type": "stream",
     "text": [
      "1\n",
      "DOC ID: 483 ---> ...but allowing such behavior means that any programmer who can't be certain a loop would terminate, but who would be willing to have a program hang until externally killed if it fails to do so, would need to add directives to block all of the useful optimizations that would be facilitated by a parallel execution model.  Do you see any upside to the clang/LLVM view of infinite loops? \n",
      "\n"
     ]
    }
   ],
   "source": [
    "results = es.search(index='comments',query={\"match_phrase\":{\"Text\":\"such behavior\"}})\n",
    "all_hits = results['hits']['hits']\n",
    "print(results['hits']['total']['value'])\n",
    "if results['hits']['total']['value'] == 0:\n",
    "    print('NOT FOUND')  \n",
    "else:\n",
    "    for num, doc in enumerate(all_hits):\n",
    "        print (\"DOC ID:\", doc[\"_id\"], \"--->\",doc['_source']['Text'], \"\\n\")"
   ]
  },
  {
   "cell_type": "code",
   "execution_count": 53,
   "metadata": {},
   "outputs": [
    {
     "name": "stdout",
     "output_type": "stream",
     "text": [
      "3\n",
      "DOC ID: 483 ---> CreationDate =  2022-02-01 22:35:26 \n",
      " ...but allowing such behavior means that any programmer who can't be certain a loop would terminate, but who would be willing to have a program hang until externally killed if it fails to do so, would need to add directives to block all of the useful optimizations that would be facilitated by a parallel execution model.  Do you see any upside to the clang/LLVM view of infinite loops? \n",
      "\n",
      "DOC ID: 467 ---> CreationDate =  2022-02-04 16:41:07 \n",
      " @EricTowers: What's ironic and sad is that in the common cases where optimizations allowed by the Standard should have value,--those where either hanging or skipping the loop would be equally acceptable behaviors, but unbounded UB would not be--the only way to guard against UB is for the programmer to write the program in such a way that the loop could not be skipped, thus negating any benefit the optimization could have offered. \n",
      "\n",
      "DOC ID: 232 ---> CreationDate =  2022-04-06 15:09:04 \n",
      " @BenW  It is just that when you have more than one groups, the default option removes the last in the order.  thus, there is still a group attribute i.e. year in your example.  Suppose you are doing some other operations on the entire column after summarise e.g. get the percentage etc with this group attribute, it may or may not be your desired.  This varies with the number of groups as well.  It is up to the programmer to determine whether they are okay with surprises or not \n",
      "\n"
     ]
    }
   ],
   "source": [
    "results = es.search(index='comments',query={\"bool\": {\"must\": [{\"match_phrase\": {\"Text\":\"programmer\"}}],\"filter\":{\"range\":{\"CreationDate\": {\"gte\": \"2020-09-27 10:37:31\",\"lte\": \"2022-09-27 10:37:31\"}}}}})\n",
    "all_hits = results['hits']['hits']\n",
    "print(results['hits']['total']['value'])\n",
    "if results['hits']['total']['value'] == 0:\n",
    "    print('NOT FOUND')  \n",
    "else:\n",
    "    for num, doc in enumerate(all_hits):\n",
    "        print (\"DOC ID:\", doc[\"_id\"], \"--->\",\"CreationDate = \",doc['_source']['CreationDate'],\"\\n\" ,doc['_source']['Text'], \"\\n\")"
   ]
  }
 ],
 "metadata": {
  "kernelspec": {
   "display_name": "Python 3.8.5 64-bit",
   "language": "python",
   "name": "python3"
  },
  "language_info": {
   "codemirror_mode": {
    "name": "ipython",
    "version": 3
   },
   "file_extension": ".py",
   "mimetype": "text/x-python",
   "name": "python",
   "nbconvert_exporter": "python",
   "pygments_lexer": "ipython3",
   "version": "3.8.5"
  },
  "orig_nbformat": 4,
  "vscode": {
   "interpreter": {
    "hash": "dc8aa18c105b16b87bbd332e44487417c4bad76a2b017e28b1c3c8323f27c82e"
   }
  }
 },
 "nbformat": 4,
 "nbformat_minor": 2
}
