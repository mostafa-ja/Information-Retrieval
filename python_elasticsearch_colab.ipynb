{
  "cells": [
    {
      "cell_type": "markdown",
      "metadata": {
        "colab_type": "text",
        "id": "view-in-github"
      },
      "source": [
        "<a href=\"https://colab.research.google.com/github/mostafa-ja/Information-Retrieval/blob/main/python_elasticsearch_colab.ipynb\" target=\"_parent\"><img src=\"https://colab.research.google.com/assets/colab-badge.svg\" alt=\"Open In Colab\"/></a>"
      ]
    },
    {
      "cell_type": "code",
      "execution_count": 1,
      "metadata": {
        "id": "IsDqz0tsLwZc"
      },
      "outputs": [],
      "source": [
        "%%capture\n",
        "\n",
        "!pip install elasticsearch==7.14.0\n",
        "!apt install default-jdk > /dev/null"
      ]
    },
    {
      "cell_type": "code",
      "execution_count": 2,
      "metadata": {
        "id": "Bnz8q7BBLv9c"
      },
      "outputs": [],
      "source": [
        "try:\n",
        "  import os\n",
        "  import elasticsearch\n",
        "  from elasticsearch import Elasticsearch\n",
        "  import numpy as np\n",
        "  import pandas as pd\n",
        "  import sys\n",
        "  import json\n",
        "  from ast import literal_eval\n",
        "  from tqdm import tqdm \n",
        "  import datetime\n",
        "  from elasticsearch import helpers\n",
        "  \n",
        "except Exception as e:\n",
        "  print(f\"error: {e}\")"
      ]
    },
    {
      "cell_type": "code",
      "execution_count": 3,
      "metadata": {
        "id": "k4idJB7WEjY5"
      },
      "outputs": [],
      "source": [
        "# Download & extract Elasticsearch 7.0.0\n",
        "\n",
        "!wget https://artifacts.elastic.co/downloads/elasticsearch/elasticsearch-7.0.0-linux-x86_64.tar.gz -q\n",
        "!tar -xzf elasticsearch-7.0.0-linux-x86_64.tar.gz\n",
        "!chown -R daemon:daemon elasticsearch-7.0.0"
      ]
    },
    {
      "cell_type": "code",
      "execution_count": 4,
      "metadata": {
        "id": "dTFy3CkDKk2j"
      },
      "outputs": [],
      "source": [
        "# Creating daemon instance of elasticsearch\n",
        "import os\n",
        "from subprocess import Popen, PIPE, STDOUT\n",
        "es_server = Popen(['elasticsearch-7.0.0/bin/elasticsearch'], \n",
        "                  stdout=PIPE, stderr=STDOUT,\n",
        "                  preexec_fn=lambda: os.setuid(1)  # as daemon\n",
        "                 )"
      ]
    },
    {
      "cell_type": "code",
      "execution_count": 5,
      "metadata": {
        "id": "r0ye1uYoLC4b"
      },
      "outputs": [],
      "source": [
        "# This part is important, since it takes a little amount of time for instance to load\n",
        "import time\n",
        "time.sleep(20)"
      ]
    },
    {
      "cell_type": "code",
      "execution_count": 6,
      "metadata": {
        "colab": {
          "base_uri": "https://localhost:8080/"
        },
        "id": "_M4c4HNvLOvy",
        "outputId": "edf5c1cf-0939-461d-985c-9c652aeb23ca"
      },
      "outputs": [
        {
          "name": "stdout",
          "output_type": "stream",
          "text": [
            "daemon       207      74 99 22:50 ?        00:00:21 /content/elasticsearch-7.0.0/jdk/bin/java -Xms1g -Xmx1g -XX:+UseConcMarkSweepGC -XX:CMSInitiatingOccupancyFraction=75 -XX:+UseCMSInitiatingOccupancyOnly -Des.networkaddress.cache.ttl=60 -Des.networkaddress.cache.negative.ttl=10 -XX:+AlwaysPreTouch -Xss1m -Djava.awt.headless=true -Dfile.encoding=UTF-8 -Djna.nosys=true -XX:-OmitStackTraceInFastThrow -Dio.netty.noUnsafe=true -Dio.netty.noKeySetOptimization=true -Dio.netty.recycler.maxCapacityPerThread=0 -Dlog4j.shutdownHookEnabled=false -Dlog4j2.disable.jmx=true -Djava.io.tmpdir=/tmp/elasticsearch-13325590698578125707 -XX:+HeapDumpOnOutOfMemoryError -XX:HeapDumpPath=data -XX:ErrorFile=logs/hs_err_pid%p.log -Xlog:gc*,gc+age=trace,safepoint:file=logs/gc.log:utctime,pid,tags:filecount=32,filesize=64m -Djava.locale.providers=COMPAT -Dio.netty.allocator.type=unpooled -Des.path.home=/content/elasticsearch-7.0.0 -Des.path.conf=/content/elasticsearch-7.0.0/config -Des.distribution.flavor=default -Des.distribution.type=tar -Des.bundled_jdk=true -cp /content/elasticsearch-7.0.0/lib/* org.elasticsearch.bootstrap.Elasticsearch\n",
            "daemon       295     207  0 22:50 ?        00:00:00 /content/elasticsearch-7.0.0/modules/x-pack-ml/platform/linux-x86_64/bin/controller\n",
            "root         332     330  0 22:50 ?        00:00:00 grep elasticsearch\n"
          ]
        }
      ],
      "source": [
        "%%bash\n",
        "# If you get 1 root & 2 daemon process then Elasticsearch instance has started successfully\n",
        "ps -ef | grep elasticsearch"
      ]
    },
    {
      "cell_type": "code",
      "execution_count": 7,
      "metadata": {
        "colab": {
          "base_uri": "https://localhost:8080/"
        },
        "id": "z-q-WRLiLSqR",
        "outputId": "72f137d1-ea92-4c30-c051-27c719250972"
      },
      "outputs": [
        {
          "name": "stdout",
          "output_type": "stream",
          "text": [
            "{\n",
            "  \"name\" : \"d1c34cef11da\",\n",
            "  \"cluster_name\" : \"elasticsearch\",\n",
            "  \"cluster_uuid\" : \"vTt4U0ZGTTOYkh6IOEaO4Q\",\n",
            "  \"version\" : {\n",
            "    \"number\" : \"7.0.0\",\n",
            "    \"build_flavor\" : \"default\",\n",
            "    \"build_type\" : \"tar\",\n",
            "    \"build_hash\" : \"b7e28a7\",\n",
            "    \"build_date\" : \"2019-04-05T22:55:32.697037Z\",\n",
            "    \"build_snapshot\" : false,\n",
            "    \"lucene_version\" : \"8.0.0\",\n",
            "    \"minimum_wire_compatibility_version\" : \"6.7.0\",\n",
            "    \"minimum_index_compatibility_version\" : \"6.0.0-beta1\"\n",
            "  },\n",
            "  \"tagline\" : \"You Know, for Search\"\n",
            "}\n"
          ]
        }
      ],
      "source": [
        "# Check if elasticsearch is running\n",
        "!curl -sX GET \"localhost:9200/\""
      ]
    },
    {
      "cell_type": "code",
      "execution_count": 8,
      "metadata": {
        "colab": {
          "base_uri": "https://localhost:8080/"
        },
        "id": "HE34KsjyR4H3",
        "outputId": "5885c242-790e-4013-9ccc-07225b93e807"
      },
      "outputs": [
        {
          "name": "stdout",
          "output_type": "stream",
          "text": [
            "True\n"
          ]
        }
      ],
      "source": [
        "from elasticsearch import Elasticsearch\n",
        "\n",
        "# Adds the HTTP header 'Authorization: Basic <base64 username:password>'\n",
        "es = Elasticsearch(\n",
        "    \"http://localhost:9200\",\n",
        "    #ca_certs=\"/path/to/http_ca.crt\",\n",
        "  \n",
        ")\n",
        "\n",
        "print(es.ping())\n"
      ]
    },
    {
      "cell_type": "code",
      "execution_count": 9,
      "metadata": {
        "colab": {
          "base_uri": "https://localhost:8080/"
        },
        "id": "2yMXVqkmftGN",
        "outputId": "79c4a8ae-f6ab-4cc5-ab64-6466199a1242"
      },
      "outputs": [
        {
          "data": {
            "text/plain": [
              "{'name': 'd1c34cef11da',\n",
              " 'cluster_name': 'elasticsearch',\n",
              " 'cluster_uuid': 'vTt4U0ZGTTOYkh6IOEaO4Q',\n",
              " 'version': {'number': '7.0.0',\n",
              "  'build_flavor': 'default',\n",
              "  'build_type': 'tar',\n",
              "  'build_hash': 'b7e28a7',\n",
              "  'build_date': '2019-04-05T22:55:32.697037Z',\n",
              "  'build_snapshot': False,\n",
              "  'lucene_version': '8.0.0',\n",
              "  'minimum_wire_compatibility_version': '6.7.0',\n",
              "  'minimum_index_compatibility_version': '6.0.0-beta1'},\n",
              " 'tagline': 'You Know, for Search'}"
            ]
          },
          "execution_count": 9,
          "metadata": {},
          "output_type": "execute_result"
        }
      ],
      "source": [
        "es.info()\n"
      ]
    },
    {
      "cell_type": "code",
      "execution_count": 10,
      "metadata": {
        "colab": {
          "base_uri": "https://localhost:8080/"
        },
        "id": "dTVoXrTcfs7i",
        "outputId": "1a865e19-dafd-4c3d-add4-92edc7b5bec9"
      },
      "outputs": [
        {
          "name": "stdout",
          "output_type": "stream",
          "text": [
            "Looking in indexes: https://pypi.org/simple, https://us-python.pkg.dev/colab-wheels/public/simple/\n",
            "Requirement already satisfied: kaggle in /usr/local/lib/python3.7/dist-packages (1.5.12)\n",
            "Requirement already satisfied: urllib3 in /usr/local/lib/python3.7/dist-packages (from kaggle) (1.24.3)\n",
            "Requirement already satisfied: requests in /usr/local/lib/python3.7/dist-packages (from kaggle) (2.23.0)\n",
            "Requirement already satisfied: certifi in /usr/local/lib/python3.7/dist-packages (from kaggle) (2022.9.24)\n",
            "Requirement already satisfied: six>=1.10 in /usr/local/lib/python3.7/dist-packages (from kaggle) (1.15.0)\n",
            "Requirement already satisfied: python-dateutil in /usr/local/lib/python3.7/dist-packages (from kaggle) (2.8.2)\n",
            "Requirement already satisfied: python-slugify in /usr/local/lib/python3.7/dist-packages (from kaggle) (6.1.2)\n",
            "Requirement already satisfied: tqdm in /usr/local/lib/python3.7/dist-packages (from kaggle) (4.64.1)\n",
            "Requirement already satisfied: text-unidecode>=1.3 in /usr/local/lib/python3.7/dist-packages (from python-slugify->kaggle) (1.3)\n",
            "Requirement already satisfied: idna<3,>=2.5 in /usr/local/lib/python3.7/dist-packages (from requests->kaggle) (2.10)\n",
            "Requirement already satisfied: chardet<4,>=3.0.2 in /usr/local/lib/python3.7/dist-packages (from requests->kaggle) (3.0.4)\n"
          ]
        }
      ],
      "source": [
        "# 3.Install Kaggle API.\n",
        "!pip install kaggle"
      ]
    },
    {
      "cell_type": "code",
      "execution_count": 11,
      "metadata": {
        "id": "EXkGwP94fsyg"
      },
      "outputs": [],
      "source": [
        "# 4.Run the following code to configure the path to “kaggle.json”\n",
        "import os\n",
        "os.environ['KAGGLE_CONFIG_DIR'] = \"/content\""
      ]
    },
    {
      "cell_type": "code",
      "execution_count": 12,
      "metadata": {
        "colab": {
          "base_uri": "https://localhost:8080/"
        },
        "id": "bHMObQjQhmOB",
        "outputId": "42acd77b-dc0b-4c1c-d50a-b363c84bda39"
      },
      "outputs": [
        {
          "name": "stdout",
          "output_type": "stream",
          "text": [
            "Warning: Your Kaggle API key is readable by other users on this system! To fix this, you can run 'chmod 600 /content/kaggle.json'\n",
            "Downloading wikipedia-movie-plots.zip to /content\n",
            " 97% 29.0M/29.9M [00:00<00:00, 98.1MB/s]\n",
            "100% 29.9M/29.9M [00:00<00:00, 94.4MB/s]\n"
          ]
        }
      ],
      "source": [
        "!kaggle datasets download -d jrobischon/wikipedia-movie-plots"
      ]
    },
    {
      "cell_type": "code",
      "execution_count": 13,
      "metadata": {
        "id": "3OSmuUxehmK4"
      },
      "outputs": [],
      "source": [
        "import zipfile\n",
        "with zipfile.ZipFile('/content/wikipedia-movie-plots.zip', 'r') as zip_ref:\n",
        "    zip_ref.extractall('/content')"
      ]
    },
    {
      "cell_type": "code",
      "execution_count": 14,
      "metadata": {
        "id": "RrMFjGKZhmHn"
      },
      "outputs": [],
      "source": [
        "import pandas as pd\n",
        "df = pd.read_csv('wiki_movie_plots_deduped.csv').dropna().sample(5000, random_state=42)\n",
        "# .dropna() : Remove missing values.\n",
        "#.sample() : Return n(here 5000) random sample of items from an axis of object."
      ]
    },
    {
      "cell_type": "code",
      "execution_count": 15,
      "metadata": {
        "colab": {
          "base_uri": "https://localhost:8080/",
          "height": 243
        },
        "id": "W1DSRVtIhmEO",
        "outputId": "1acfda79-2c7a-44f3-a28c-0d52199c618b"
      },
      "outputs": [
        {
          "data": {
            "text/html": [
              "\n",
              "  <div id=\"df-21a58a0a-39a9-4f4c-a51e-f768d0490ebd\">\n",
              "    <div class=\"colab-df-container\">\n",
              "      <div>\n",
              "<style scoped>\n",
              "    .dataframe tbody tr th:only-of-type {\n",
              "        vertical-align: middle;\n",
              "    }\n",
              "\n",
              "    .dataframe tbody tr th {\n",
              "        vertical-align: top;\n",
              "    }\n",
              "\n",
              "    .dataframe thead th {\n",
              "        text-align: right;\n",
              "    }\n",
              "</style>\n",
              "<table border=\"1\" class=\"dataframe\">\n",
              "  <thead>\n",
              "    <tr style=\"text-align: right;\">\n",
              "      <th></th>\n",
              "      <th>Release Year</th>\n",
              "      <th>Title</th>\n",
              "      <th>Origin/Ethnicity</th>\n",
              "      <th>Director</th>\n",
              "      <th>Cast</th>\n",
              "      <th>Genre</th>\n",
              "      <th>Wiki Page</th>\n",
              "      <th>Plot</th>\n",
              "    </tr>\n",
              "  </thead>\n",
              "  <tbody>\n",
              "    <tr>\n",
              "      <th>10286</th>\n",
              "      <td>1984</td>\n",
              "      <td>Songwriter</td>\n",
              "      <td>American</td>\n",
              "      <td>Alan Rudolph</td>\n",
              "      <td>Willie Nelson, Kris Kristofferson, Melinda Dillon</td>\n",
              "      <td>drama</td>\n",
              "      <td>https://en.wikipedia.org/wiki/Songwriter_(1984...</td>\n",
              "      <td>The film concerns Doc Jenkins, (Willie Nelson)...</td>\n",
              "    </tr>\n",
              "    <tr>\n",
              "      <th>28335</th>\n",
              "      <td>2012</td>\n",
              "      <td>Da Thadiya (ഡാ തടിയാ)</td>\n",
              "      <td>Malayalam</td>\n",
              "      <td>Aashiq Abu</td>\n",
              "      <td>Shekhar Menon, Ann Augustine, Sreenath Bhasi, ...</td>\n",
              "      <td>romance, comedy</td>\n",
              "      <td>https://en.wikipedia.org/wiki/Da_Thadiya</td>\n",
              "      <td>The film tells the love story of an obese yout...</td>\n",
              "    </tr>\n",
              "  </tbody>\n",
              "</table>\n",
              "</div>\n",
              "      <button class=\"colab-df-convert\" onclick=\"convertToInteractive('df-21a58a0a-39a9-4f4c-a51e-f768d0490ebd')\"\n",
              "              title=\"Convert this dataframe to an interactive table.\"\n",
              "              style=\"display:none;\">\n",
              "        \n",
              "  <svg xmlns=\"http://www.w3.org/2000/svg\" height=\"24px\"viewBox=\"0 0 24 24\"\n",
              "       width=\"24px\">\n",
              "    <path d=\"M0 0h24v24H0V0z\" fill=\"none\"/>\n",
              "    <path d=\"M18.56 5.44l.94 2.06.94-2.06 2.06-.94-2.06-.94-.94-2.06-.94 2.06-2.06.94zm-11 1L8.5 8.5l.94-2.06 2.06-.94-2.06-.94L8.5 2.5l-.94 2.06-2.06.94zm10 10l.94 2.06.94-2.06 2.06-.94-2.06-.94-.94-2.06-.94 2.06-2.06.94z\"/><path d=\"M17.41 7.96l-1.37-1.37c-.4-.4-.92-.59-1.43-.59-.52 0-1.04.2-1.43.59L10.3 9.45l-7.72 7.72c-.78.78-.78 2.05 0 2.83L4 21.41c.39.39.9.59 1.41.59.51 0 1.02-.2 1.41-.59l7.78-7.78 2.81-2.81c.8-.78.8-2.07 0-2.86zM5.41 20L4 18.59l7.72-7.72 1.47 1.35L5.41 20z\"/>\n",
              "  </svg>\n",
              "      </button>\n",
              "      \n",
              "  <style>\n",
              "    .colab-df-container {\n",
              "      display:flex;\n",
              "      flex-wrap:wrap;\n",
              "      gap: 12px;\n",
              "    }\n",
              "\n",
              "    .colab-df-convert {\n",
              "      background-color: #E8F0FE;\n",
              "      border: none;\n",
              "      border-radius: 50%;\n",
              "      cursor: pointer;\n",
              "      display: none;\n",
              "      fill: #1967D2;\n",
              "      height: 32px;\n",
              "      padding: 0 0 0 0;\n",
              "      width: 32px;\n",
              "    }\n",
              "\n",
              "    .colab-df-convert:hover {\n",
              "      background-color: #E2EBFA;\n",
              "      box-shadow: 0px 1px 2px rgba(60, 64, 67, 0.3), 0px 1px 3px 1px rgba(60, 64, 67, 0.15);\n",
              "      fill: #174EA6;\n",
              "    }\n",
              "\n",
              "    [theme=dark] .colab-df-convert {\n",
              "      background-color: #3B4455;\n",
              "      fill: #D2E3FC;\n",
              "    }\n",
              "\n",
              "    [theme=dark] .colab-df-convert:hover {\n",
              "      background-color: #434B5C;\n",
              "      box-shadow: 0px 1px 3px 1px rgba(0, 0, 0, 0.15);\n",
              "      filter: drop-shadow(0px 1px 2px rgba(0, 0, 0, 0.3));\n",
              "      fill: #FFFFFF;\n",
              "    }\n",
              "  </style>\n",
              "\n",
              "      <script>\n",
              "        const buttonEl =\n",
              "          document.querySelector('#df-21a58a0a-39a9-4f4c-a51e-f768d0490ebd button.colab-df-convert');\n",
              "        buttonEl.style.display =\n",
              "          google.colab.kernel.accessAllowed ? 'block' : 'none';\n",
              "\n",
              "        async function convertToInteractive(key) {\n",
              "          const element = document.querySelector('#df-21a58a0a-39a9-4f4c-a51e-f768d0490ebd');\n",
              "          const dataTable =\n",
              "            await google.colab.kernel.invokeFunction('convertToInteractive',\n",
              "                                                     [key], {});\n",
              "          if (!dataTable) return;\n",
              "\n",
              "          const docLinkHtml = 'Like what you see? Visit the ' +\n",
              "            '<a target=\"_blank\" href=https://colab.research.google.com/notebooks/data_table.ipynb>data table notebook</a>'\n",
              "            + ' to learn more about interactive tables.';\n",
              "          element.innerHTML = '';\n",
              "          dataTable['output_type'] = 'display_data';\n",
              "          await google.colab.output.renderOutput(dataTable, element);\n",
              "          const docLink = document.createElement('div');\n",
              "          docLink.innerHTML = docLinkHtml;\n",
              "          element.appendChild(docLink);\n",
              "        }\n",
              "      </script>\n",
              "    </div>\n",
              "  </div>\n",
              "  "
            ],
            "text/plain": [
              "       Release Year                  Title Origin/Ethnicity      Director  \\\n",
              "10286          1984             Songwriter         American  Alan Rudolph   \n",
              "28335          2012  Da Thadiya (ഡാ തടിയാ)        Malayalam    Aashiq Abu   \n",
              "\n",
              "                                                    Cast            Genre  \\\n",
              "10286  Willie Nelson, Kris Kristofferson, Melinda Dillon            drama   \n",
              "28335  Shekhar Menon, Ann Augustine, Sreenath Bhasi, ...  romance, comedy   \n",
              "\n",
              "                                               Wiki Page  \\\n",
              "10286  https://en.wikipedia.org/wiki/Songwriter_(1984...   \n",
              "28335           https://en.wikipedia.org/wiki/Da_Thadiya   \n",
              "\n",
              "                                                    Plot  \n",
              "10286  The film concerns Doc Jenkins, (Willie Nelson)...  \n",
              "28335  The film tells the love story of an obese yout...  "
            ]
          },
          "execution_count": 15,
          "metadata": {},
          "output_type": "execute_result"
        }
      ],
      "source": [
        "df.head(2)"
      ]
    },
    {
      "cell_type": "code",
      "execution_count": 16,
      "metadata": {
        "colab": {
          "base_uri": "https://localhost:8080/"
        },
        "id": "sLVjafo_kk--",
        "outputId": "3120f06e-7b40-4a21-9760-b27e3e4c08f1"
      },
      "outputs": [
        {
          "data": {
            "text/plain": [
              "(5000, 8)"
            ]
          },
          "execution_count": 16,
          "metadata": {},
          "output_type": "execute_result"
        }
      ],
      "source": [
        "df.shape\n"
      ]
    },
    {
      "cell_type": "code",
      "execution_count": 17,
      "metadata": {
        "colab": {
          "base_uri": "https://localhost:8080/"
        },
        "id": "cHMLqP5ekk50",
        "outputId": "a9945316-39c0-492f-d57d-920f794694f7"
      },
      "outputs": [
        {
          "data": {
            "text/plain": [
              "10286              drama\n",
              "28335    romance, comedy\n",
              "10742              drama\n",
              "28533              drama\n",
              "24808            romance\n",
              "              ...       \n",
              "23671     action / crime\n",
              "14874              drama\n",
              "3015              comedy\n",
              "15350             comedy\n",
              "23728    romantic-comedy\n",
              "Name: Genre, Length: 5000, dtype: object"
            ]
          },
          "execution_count": 17,
          "metadata": {},
          "output_type": "execute_result"
        }
      ],
      "source": [
        "df['Genre']"
      ]
    },
    {
      "cell_type": "code",
      "execution_count": 19,
      "metadata": {
        "colab": {
          "base_uri": "https://localhost:8080/"
        },
        "id": "vDZ_A5_giCwK",
        "outputId": "ba2e73d0-14c8-44cc-a30e-39299bee1611"
      },
      "outputs": [
        {
          "data": {
            "text/plain": [
              "{'acknowledged': True, 'shards_acknowledged': True, 'index': 'example_index'}"
            ]
          },
          "execution_count": 19,
          "metadata": {},
          "output_type": "execute_result"
        }
      ],
      "source": [
        "request_body = {\n",
        "\t    \"settings\":{\n",
        "        \"number_of_shards\":1,\n",
        "        \"number_of_replicas\":0\n",
        "    },\n",
        "\n",
        "\t    'mappings': {\n",
        "\t        \"properties\": {\n",
        "            \"title\": {\"type\": \"text\", \"analyzer\": \"english\"},\n",
        "            \"ethnicity\": {\"type\": \"text\", \"analyzer\": \"standard\"},\n",
        "            \"director\": {\"type\": \"text\", \"analyzer\": \"standard\"},\n",
        "            \"cast\": {\"type\": \"text\", \"analyzer\": \"standard\"},\n",
        "            \"genre\": {\"type\": \"text\", \"analyzer\": \"standard\"},\n",
        "            \"plot\": {\"type\": \"text\", \"analyzer\": \"english\"},\n",
        "            \"year\": {\"type\": \"integer\"},\n",
        "            \"wiki_page\": {\"type\": \"keyword\"}\n",
        "      }}\n",
        "\t}\n",
        "\n",
        "es.indices.create(index = 'example_index', body = request_body)"
      ]
    },
    {
      "cell_type": "code",
      "execution_count": 20,
      "metadata": {
        "colab": {
          "base_uri": "https://localhost:8080/"
        },
        "id": "pe0f54ShiCsy",
        "outputId": "5efb0a19-6fbc-40b6-c4b5-17fb98a8aeab"
      },
      "outputs": [
        {
          "name": "stdout",
          "output_type": "stream",
          "text": [
            "10286 \n",
            "\n",
            "Release Year                                                     1984\n",
            "Title                                                      Songwriter\n",
            "Origin/Ethnicity                                             American\n",
            "Director                                                 Alan Rudolph\n",
            "Cast                Willie Nelson, Kris Kristofferson, Melinda Dillon\n",
            "Genre                                                           drama\n",
            "Wiki Page           https://en.wikipedia.org/wiki/Songwriter_(1984...\n",
            "Plot                The film concerns Doc Jenkins, (Willie Nelson)...\n",
            "Name: 10286, dtype: object\n"
          ]
        }
      ],
      "source": [
        "for i, row in df.iterrows():\n",
        "  print(i,'\\n')\n",
        "  print(row)\n",
        "  break"
      ]
    },
    {
      "cell_type": "code",
      "execution_count": 21,
      "metadata": {
        "colab": {
          "base_uri": "https://localhost:8080/"
        },
        "id": "3dA5mv97vllo",
        "outputId": "9d5d2770-73bd-43bd-a717-613a112a3ace"
      },
      "outputs": [
        {
          "data": {
            "text/plain": [
              "pandas.core.series.Series"
            ]
          },
          "execution_count": 21,
          "metadata": {},
          "output_type": "execute_result"
        }
      ],
      "source": [
        "type(row)"
      ]
    },
    {
      "cell_type": "code",
      "execution_count": 22,
      "metadata": {
        "colab": {
          "base_uri": "https://localhost:8080/",
          "height": 35
        },
        "id": "AHhtVTyOvliM",
        "outputId": "4f3b8d00-42bc-429a-8390-eae60f69596a"
      },
      "outputs": [
        {
          "data": {
            "application/vnd.google.colaboratory.intrinsic+json": {
              "type": "string"
            },
            "text/plain": [
              "'Songwriter'"
            ]
          },
          "execution_count": 22,
          "metadata": {},
          "output_type": "execute_result"
        }
      ],
      "source": [
        "row['Title']"
      ]
    },
    {
      "cell_type": "code",
      "execution_count": 23,
      "metadata": {
        "id": "lxFK6BmFvlfE"
      },
      "outputs": [],
      "source": [
        "for i, row in df.iterrows():\n",
        "  doc = {\n",
        "        \"title\": row[\"Title\"],\n",
        "        \"ethnicity\": row[\"Origin/Ethnicity\"],\n",
        "        \"director\": row[\"Director\"],\n",
        "        \"cast\": row[\"Cast\"],\n",
        "        \"genre\": row[\"Genre\"],\n",
        "        \"plot\": row[\"Plot\"],\n",
        "        \"year\": row[\"Release Year\"],\n",
        "        \"wiki_page\": row[\"Wiki Page\"]\n",
        "    }\n",
        "\n",
        "  es.index(index=\"movies\",id=i,body=doc)\n"
      ]
    },
    {
      "cell_type": "code",
      "execution_count": 32,
      "metadata": {
        "colab": {
          "base_uri": "https://localhost:8080/"
        },
        "id": "-qUwLLQSy2cL",
        "outputId": "a314f71e-9aad-4036-bff1-c41c913fff30"
      },
      "outputs": [
        {
          "data": {
            "text/plain": [
              "{'movies': {'aliases': {},\n",
              "  'mappings': {'properties': {'cast': {'type': 'text',\n",
              "     'fields': {'keyword': {'type': 'keyword', 'ignore_above': 256}}},\n",
              "    'director': {'type': 'text',\n",
              "     'fields': {'keyword': {'type': 'keyword', 'ignore_above': 256}}},\n",
              "    'ethnicity': {'type': 'text',\n",
              "     'fields': {'keyword': {'type': 'keyword', 'ignore_above': 256}}},\n",
              "    'genre': {'type': 'text',\n",
              "     'fields': {'keyword': {'type': 'keyword', 'ignore_above': 256}}},\n",
              "    'plot': {'type': 'text',\n",
              "     'fields': {'keyword': {'type': 'keyword', 'ignore_above': 256}}},\n",
              "    'title': {'type': 'text',\n",
              "     'fields': {'keyword': {'type': 'keyword', 'ignore_above': 256}}},\n",
              "    'wiki_page': {'type': 'text',\n",
              "     'fields': {'keyword': {'type': 'keyword', 'ignore_above': 256}}},\n",
              "    'year': {'type': 'long'}}},\n",
              "  'settings': {'index': {'creation_date': '1666997470216',\n",
              "    'number_of_shards': '1',\n",
              "    'number_of_replicas': '1',\n",
              "    'uuid': 'GqFi9-YkRxyNqMSlzRgENQ',\n",
              "    'version': {'created': '7000099'},\n",
              "    'provided_name': 'movies'}}}}"
            ]
          },
          "execution_count": 32,
          "metadata": {},
          "output_type": "execute_result"
        }
      ],
      "source": [
        "es.indices.get(index='movies')"
      ]
    },
    {
      "cell_type": "markdown",
      "metadata": {
        "id": "syXqqgo2z4EN"
      },
      "source": [
        "\n",
        "\n",
        "```\n",
        "from elasticsearch.helpers import bulk\n",
        "\n",
        "bulk_data = []\n",
        "for i,row in df.iterrows():\n",
        "    bulk_data.append(\n",
        "        {\n",
        "            \"_index\": \"movies\",\n",
        "            \"_id\": i,\n",
        "            \"_source\": {        \n",
        "                \"title\": row[\"Title\"],\n",
        "                \"ethnicity\": row[\"Origin/Ethnicity\"],\n",
        "                \"director\": row[\"Director\"],\n",
        "                \"cast\": row[\"Cast\"],\n",
        "                \"genre\": row[\"Genre\"],\n",
        "                \"plot\": row[\"Plot\"],\n",
        "                \"year\": row[\"Release Year\"],\n",
        "                \"wiki_page\": row[\"Wiki Page\"],\n",
        "            }\n",
        "        }\n",
        "    )\n",
        "bulk(es, bulk_data)\n",
        "```\n",
        "\n"
      ]
    },
    {
      "cell_type": "code",
      "execution_count": 34,
      "metadata": {
        "colab": {
          "base_uri": "https://localhost:8080/"
        },
        "id": "gQzr7HoAznfH",
        "outputId": "254e6cfb-829e-4e27-ed37-e7902ee348b0"
      },
      "outputs": [
        {
          "data": {
            "text/plain": [
              "{'_shards': {'total': 2, 'successful': 1, 'failed': 0}}"
            ]
          },
          "execution_count": 34,
          "metadata": {},
          "output_type": "execute_result"
        }
      ],
      "source": [
        "es.indices.refresh(index=\"movies\")"
      ]
    },
    {
      "cell_type": "code",
      "execution_count": 35,
      "metadata": {
        "colab": {
          "base_uri": "https://localhost:8080/"
        },
        "id": "833Br-fczncV",
        "outputId": "83252e29-ff48-4467-b280-a813a6eaec1a"
      },
      "outputs": [
        {
          "data": {
            "text/plain": [
              "[{'epoch': '1666997900', 'timestamp': '22:58:20', 'count': '5000'}]"
            ]
          },
          "execution_count": 35,
          "metadata": {},
          "output_type": "execute_result"
        }
      ],
      "source": [
        "es.cat.count(index=\"movies\", format=\"json\")"
      ]
    },
    {
      "cell_type": "code",
      "execution_count": 36,
      "metadata": {
        "colab": {
          "base_uri": "https://localhost:8080/"
        },
        "id": "5AwU9vrkznZU",
        "outputId": "eb979c15-3f0f-47fa-cd2d-9e0e44beaa6e"
      },
      "outputs": [
        {
          "data": {
            "text/plain": [
              "{'took': 73,\n",
              " 'timed_out': False,\n",
              " '_shards': {'total': 1, 'successful': 1, 'skipped': 0, 'failed': 0},\n",
              " 'hits': {'total': {'value': 7, 'relation': 'eq'},\n",
              "  'max_score': 10.923738,\n",
              "  'hits': [{'_index': 'movies',\n",
              "    '_type': '_doc',\n",
              "    '_id': '9140',\n",
              "    '_score': 10.923738,\n",
              "    '_source': {'title': 'The Fortune',\n",
              "     'ethnicity': 'American',\n",
              "     'director': 'Mike Nichols',\n",
              "     'cast': 'Warren Beatty, Jack Nicholson, Stockard Channing',\n",
              "     'genre': 'comedy',\n",
              "     'plot': 'Nicky Wilson (Beatty) and Oscar Sullivan (Nicholson) are inept 1920s scam artists in Northeastern United States who see pay dirt in the guise of Fredericka Quintessa \"Freddie\" Bigard (Stockard Channing), the millionaire heiress to a sanitary napkin fortune. She loves the already married Nicky, but because the Mann Act prohibits him from taking her across state lines and engaging in immoral relations, he proposes that she marry Oscar and then carry on an affair with the man she wants. Oscar, who is wanted for embezzlement and anxious to get out of town, is happy to comply with the plan, although he intends to claim his spousal privileges after they are wed.\\r\\nOnce they reach Los Angeles, the men try everything they can to separate Freddie from her inheritance without success, but with sufficient determination to arouse her suspicions. When she announces her plan to donate her money to charity, Nicky and Oscar conclude that murder might be their only recourse if they\\'re going to get rich quick. Eventually arrested for the murder, Nicky and Oscar confess everything to the L.A.P.D.. This leads to unusual complications when the arresting detective meets the very-alive Fredddie, who passed out and was oblivious to the entire \"murder\", and is shocked to hear the story.',\n",
              "     'year': 1975,\n",
              "     'wiki_page': 'https://en.wikipedia.org/wiki/The_Fortune'}},\n",
              "   {'_index': 'movies',\n",
              "    '_type': '_doc',\n",
              "    '_id': '8812',\n",
              "    '_score': 10.923738,\n",
              "    '_source': {'title': 'The King of Marvin Gardens',\n",
              "     'ethnicity': 'American',\n",
              "     'director': 'Bob Rafelson',\n",
              "     'cast': 'Jack Nicholson, Ellen Burstyn, Bruce Dern',\n",
              "     'genre': 'drama',\n",
              "     'plot': \"David and Jason are estranged brothers, the former a depressive living with his grandfather in Philadelphia where he runs a late-night radio talk show and the latter an extrovert con man working for gang boss Lewis in Atlantic City, where he lives with the manic-depressive Sally, former beauty queen and prostitute, and her stepdaughter Jessica. Begging David to come to Atlantic City and bail him out of jail, Jason once freed persuades him to stay on in his hotel suite with the two women.\\r\\nTensions grow between the four as Jason pursues a ludicrous dream of conning a Japanese syndicate into buying a Hawaiian island where he will build and run a casino. The sceptical David has no faith in Jason's scam, while Jason chides David for wallowing in his dark, lonely depressed life. Sally, increasingly neurotic over losing her looks, cuts off her hair and throws away her cosmetics. When Jason starts packing to leave for Hawaii, in rage and despair she shoots him dead. David escorts his brother's corpse home to Philadelphia by train.\",\n",
              "     'year': 1972,\n",
              "     'wiki_page': 'https://en.wikipedia.org/wiki/The_King_of_Marvin_Gardens'}},\n",
              "   {'_index': 'movies',\n",
              "    '_type': '_doc',\n",
              "    '_id': '10871',\n",
              "    '_score': 10.287026,\n",
              "    '_source': {'title': 'The Witches of Eastwick',\n",
              "     'ethnicity': 'American',\n",
              "     'director': 'George Miller',\n",
              "     'cast': 'Susan Sarandon, Cher, Michelle Pfeiffer, Jack Nicholson',\n",
              "     'genre': 'comedy',\n",
              "     'plot': 'Alexandra Medford (Cher), Jane Spofford (Susan Sarandon), and Sukie Ridgemont (Michelle Pfeiffer) are three dissatisfied women living in the picturesque town of Eastwick, Rhode Island. Alex is a sculptor and single mother of one daughter; Jane is a newly divorced music teacher unable to have children; while Sukie has six daughters and works as a columnist for the Eastwick Word, the local newspaper. The three friends all have lost their husbands (Alex\\'s died, Jane\\'s divorced her, and Sukie\\'s abandoned her). Unaware that they are witches, the women unwittingly form a coven where they have weekly get-togethers and share their fantasies about ideal men.\\r\\nA mysterious man (Jack Nicholson) arrives in town and stirs up trouble by buying the town\\'s landmark property: the Lennox Mansion. The arrival of this enigmatic stranger fascinates the townsfolk, all except for Felicia Alden (Veronica Cartwright), the devoutly religious wife of newspaper editor Clyde Alden (Richard Jenkins), Sukie\\'s boss. Felicia senses that this man (whose name is easily forgotten) is up to no good. One night, at one of Jane\\'s music recitals, the strange man appears and makes a spectacle of himself, which leads to more gossip. After the recital, Jane receives a bouquet of flowers with the initial D written on it. This sparks Sukie\\'s memory, finally revealing the man\\'s name as Daryl Van Horne. However, as chaos over the name spreads through the crowd, Sukie\\'s bead necklace inexplicably breaks and falls to the floor, causing Felicia (who had mocked Daryl\\'s name) to trip down a large staircase and break her leg.\\r\\nThe following day, Daryl sets out to seduce Alex. As he converses with her, he says insensitive, disgusting, and rude things every time he speaks. Appalled, she tells him off, refuses his amorous advances, and begins to walk out. Before she opens the door, he speaks to her, manipulating her emotions until she eventually agrees. The next morning, Daryl visits the shy and insecure Jane. As the two sit down and share polite conversation, Jane explains that the Lennox Mansion was built on a site where alleged witches were burned at the stake. Later that night, Daryl encourages Jane to play her cello with wild abandon, never before achieved, playing faster and faster while accompanied by Daryl on the piano, until finally the strings break, the cello bursts into flame, and Jane flings herself upon Daryl with passion. The following week, Daryl invites all three of the women to his mansion, his sights now on Sukie. Later, as envy and rivalry emerge among the women, they inadvertently levitate a tennis ball. Finally aware of their magical abilities, the women agree to share Daryl.\\r\\nAs the women spend more time at Daryl\\'s mansion, Felicia spreads rumors about their indecency. Alex, Jane, and Sukie become social outcasts. As the witches begin to question their loyalty to Daryl, he causes them to unknowingly cast a spell against Felicia. Later that night, while ranting to her husband about Daryl being the Devil, Felicia begins to vomit cherry stones. Horrified by her uncontrollable behavior, Clyde kills her with a fire poker.\\r\\nAfter Felicia\\'s death, the three women become fearful of their powers and agree to avoid each other and Daryl until the situation has quieted down. Upset by this abandonment, Daryl uses his own powers to bring their worst fears to life. Alex awakens to a bed full of snakes; Jane\\'s body begins rapidly aging; and Sukie experiences sudden, agonizing pain. Realizing the only way to get rid of Daryl is by using witchcraft against him, the women reunite with him, pretending to have made amends.\\r\\nThe next morning, Daryl sets out to buy bagels and ice cream, as per the request of the three women. While he is out of the mansion, Alex uses wax and Daryl\\'s hair to create a voodoo doll in his image and the three women begin to harm the doll, hoping that Daryl will leave as a result. As the spell takes effect, Daryl - still in town - is buffeted by a sudden wind and begins to feel excruciating pain (each event corresponding to something the doll undergoes). He runs inside a church to hide from the wind and finds it full of people praying. Realizing the source of his troubles, he begins ranting about the women, cursing them as a group before vomiting cherry pits like Felicia did. An enraged Daryl then races home to punish the witches for their betrayal. Realizing their plot to make Daryl leave was ineffective, they attempt to hide their spell and toss the voodoo doll into a fire just as he enters the mansion. Daryl vanishes as a result, but not before reverting to a large, monstrous form that attempts to shake the mansion apart.\\r\\nEighteen months later, the women are living together in Daryl\\'s mansion, each with a new baby son (each boy shares his mother\\'s hair color). The boys are playing together when Daryl appears on a wall filled with video screens and invites them to \"give Daddy a kiss.\" Before they can do so, Alex, Jane, and Sukie appear and switch off the televisions.',\n",
              "     'year': 1987,\n",
              "     'wiki_page': 'https://en.wikipedia.org/wiki/The_Witches_of_Eastwick_(film)'}},\n",
              "   {'_index': 'movies',\n",
              "    '_type': '_doc',\n",
              "    '_id': '14362',\n",
              "    '_score': 7.9655824,\n",
              "    '_source': {'title': \"Something's Gotta Give\",\n",
              "     'ethnicity': 'American',\n",
              "     'director': 'Nancy Meyers',\n",
              "     'cast': 'Jack Nicholson, Diane Keaton, Keanu Reeves, Amanda Peet, Frances McDormand, Jon Favreau',\n",
              "     'genre': 'romantic comedy',\n",
              "     'plot': 'Harry Sanborn is a wealthy New York music mogul who has had a 40-year habit of dating women under 30, including his latest conquest, Marin Klein. The two drive to her mother\\'s Hamptons beach house expecting to be alone, but are surprised by Marin\\'s mother, successful playwright Erica Barry, who is there with her sister Zoe.\\r\\nAfter an awkward dinner, the night turns disastrous when — during foreplay with Marin — Harry has a heart attack and is rushed to a hospital. The doctor, Julian Mercer, tells Harry to stay nearby for a few days, so Harry ends up staying with Erica. Their personalities clash and make for awkward living arrangements—until they get to know each other. The fact that Harry is dating her daughter and that Julian has fallen for Erica leave the two struggling to deal with relationships.\\r\\nMarin and Harry agree to break up. He and Erica spend more time together and eventually consummate their relationship. Harry discovers that his improving health means that he no longer has to stay with Erica, so he heads home.\\r\\nMarin receives news that her father, Dave Klein, Erica\\'s ex-husband, whom Erica still allows to direct her plays, is getting remarried to Kristen, an ear, nose and throat doctor who is only two years older than Marin. Although Erica is unaffected by the news, Marin is devastated and pressures her mother into accompanying her to a family dinner. Erica is the life of the party until she sees Harry at another table with another woman. In the argument that follows, Harry suffers from what he believes is another heart attack, but he is told by the young ER physician, Dr. Martinez, who treats him like her father, that it was only a panic attack.\\r\\nAlthough she is heartbroken, Erica figures that these events would be great to use in a play. Harry hears about it and rushes to the NYC theater where it is being rehearsed. Despite her denials, it is quickly obvious that she has used the most personal details of their affair in the play. Erica coolly rebuffs his every insinuation that he cares about her and hints that his character will die in the play—for a laugh. He then has another panic attack and is again treated by Dr.\\xa0Martinez, who warns him that he needs to learn to \"decompress\".\\r\\nSix months pass. Erica\\'s play is a huge success. Harry pays Marin a visit to apologize for anything he ever did to hurt her. She replies that he was nothing but nice to her and happily tells him that she is pregnant and has a new husband. Harry expresses a desire to see Erica. Marin tells him that her mother is in Paris celebrating her birthday. Harry decides to surprise Erica. Remembering how they had once planned to spend their birthdays together there, he shows up at the Parisian restaurant where she is seated at a table. Harry explains that over the past six months he reached out to all of the women he ever had affairs with, and even though repeatedly rebuffed at first, finally broke through. They all had identical harsh stories that helped him learn how \"I arrived at being me.\" He tells Erica that his trip to find her was the last and the farthest. Julian appears. All along, Erica has been waiting at the restaurant for Julian, whom she is now dating.\\r\\nHarry and Erica get along well during the dinner, but they part outside the restaurant. While he is gazing in heartache over the river Seine, Erica pulls up in a taxi. She explains that Julian figured out what was happening between them and decided to step aside to let her be with Harry. Harry explains that his search the last six months has made him realize he truly loves Erica. Harry and Erica kiss.\\r\\nA year later, at a New York restaurant, Erica and Harry, now married, are out with Marin, her husband and her new baby daughter, as one big happy family.',\n",
              "     'year': 2003,\n",
              "     'wiki_page': 'https://en.wikipedia.org/wiki/Something%27s_Gotta_Give_(film)'}},\n",
              "   {'_index': 'movies',\n",
              "    '_type': '_doc',\n",
              "    '_id': '10742',\n",
              "    '_score': 7.9655824,\n",
              "    '_source': {'title': 'Ironweed',\n",
              "     'ethnicity': 'American',\n",
              "     'director': 'Héctor Babenco',\n",
              "     'cast': \"Jack Nicholson, Meryl Streep, Tom Waits, Fred Gwynne; Michael O'Keefe, Carroll Baker\",\n",
              "     'genre': 'drama',\n",
              "     'plot': \"Francis Phelan (Jack Nicholson) is a washed-up baseball player who deserted his family back in the 1910s when he accidentally dropped his son and killed him. It is assumed in the film that he was drunk at the time until he later claims he was just tired and doesn't understand why no one will believe in his story. Since then, Phelan has been a bum, punishing himself. Wandering into his hometown of Albany on Halloween in 1938, Phelan seeks out his lover and drinking companion, Helen Archer (Meryl Streep). The two meet up in a mission managed by Reverend Chester (James Gammon), and later in Oscar Reo's (Fred Gwynne) gin mill.\\r\\nOver the next few days, Phelan takes a few minor jobs to support Helen, while haunted by visions of his past. Francis comes back to his old family house and tries to make peace with his wife Annie Phelan (Carroll Baker), his son Billy (Michael O'Keefe) and Peg (Diane Venora). Meanwhile, a group of local vigilantes take it upon themselves to drive the homeless out of Albany. During the course of the day, a series of events change Francis' life forever.\",\n",
              "     'year': 1987,\n",
              "     'wiki_page': 'https://en.wikipedia.org/wiki/Ironweed_(film)'}},\n",
              "   {'_index': 'movies',\n",
              "    '_type': '_doc',\n",
              "    '_id': '11550',\n",
              "    '_score': 6.7474413,\n",
              "    '_source': {'title': 'The Two Jakes',\n",
              "     'ethnicity': 'American',\n",
              "     'director': 'Jack Nicholson',\n",
              "     'cast': 'Jack Nicholson, Harvey Keitel, Meg Tilly, Madeleine Stowe, Eli Wallach, Ruben Blades, Perry Lopez, Richard Farnsworth',\n",
              "     'genre': 'crime drama',\n",
              "     'plot': 'In Los Angeles in 1948, Julius \"Jake\" Berman hires private investigator J. J. \"Jake\" Gittes to catch his wife, Kitty, in the act of committing adultery. During the sting, Berman kills his rival, who also happens to be his business partner in a real estate development company. Gittes, not having known this, suddenly finds himself under scrutiny for his role in the possible crime, all of which centers around a wire recording that captured the illicit love meeting, the confrontation, and the killing of Mark Bodine. It calls into question if Berman knew and killed his partner to wrest control of the partnership, making it murder, or was an act of jealousy, which may qualify as \"temporary insanity\" and be permitted as a defense to a charge of murder.\\r\\nGittes must convince LAPD captain Escobar that he should not be charged as an accomplice. Oddly, Berman seems unconcerned with the possibility that he may be accused of murder. Gittes has the recording, which Berman\\'s attorney, Cotton Weinberger, and mobster friend Mickey Nice, both want, locked in a safe in his office in L.A., which is being rocked by earthquakes. Berman\\'s housing development in the Valley also is experiencing seismic activities. Gittes is nearly killed in a gas explosion, waking to find Berman and wife, Kitty, standing over him.\\r\\nGittes has a confrontation, and later a sexual encounter, with Lilian Bodine, the dead man\\'s angry widow. He is presented with proof that Earl Rawley, a wealthy and ruthless oil man, may be drilling under the Bodine and Berman development, though Rawley has denied it. This leads to a need to determine who owns the mineral rights to the land. Gittes discovers that the rights are owned by one Katherine Mulwray, daughter of Evelyn Mulwray, his love interest from twelve years prior. He also discovers that the deed transfers were executed in such a way as to attempt to hide Katherine Mulwray\\'s prior ownership and continued claim of the mineral rights.\\r\\nGittes operatives have seen Berman in the company of a blond woman along with Mickey, and a bodyguard. With a bit of sleuthing Gittes determines that the woman is an oncologist and is treating Berman for cancer somewhere below the waist. Gittes confronts Berman with this knowledge and gets a full confession. Along the way, Gittes discovers that Berman is not going to survive and the entire set-up was to ensure that Kitty was protected once he died.\\r\\nIn order to get Kitty to talk to him, Gittes must prove that Berman set out to kill his partner. Once accomplished, Kitty agrees to meet Gittes and tell him what she knows about Berman. In the process of discussing Berman\\'s possible motivations, mineral rights, and the possible whereabouts of Katherine, it is revealed that Kitty and Katherine are the same person. Kitty had never suspected that her husband is dying.\\r\\nIn order to prove premeditation, passion, and perhaps even connections to a woman long missing, seemingly everyone wants the recording, which Gittes refuses to give up until the day of the inquest. Somehow, Gittes edits the recording, leaving Katherine\\'s name chopped out of the dialog, shooting, and aftermath of Lillian\\'s murder. This makes the inquest a short, satisfying meeting where the judge has no reason to suspect murder, and Berman is now free of criminal charges. Confronted with the knowledge Gittes has of his terminal illness, Berman, knowing the model house he is in is filled with natural gas, convinces Gittes and Mickey to leave him alone in the house so he can \"have a smoke.\" He doesn\\'t want an autopsy to interfere with Kitty\\'s inheritance. As they drive off, the house explodes.\\r\\nThe story ends with Kitty and Gittes in his office. They speak of regrets, and Kitty kisses Gittes, who rejects her advances, saying \"That\\'s your problem, kid. You don\\'t know who you\\'re kidding.\" She leaves, telling him to \"Think of me time to time\". Gittes tells her, \"It never goes away.\"',\n",
              "     'year': 1990,\n",
              "     'wiki_page': 'https://en.wikipedia.org/wiki/The_Two_Jakes'}},\n",
              "   {'_index': 'movies',\n",
              "    '_type': '_doc',\n",
              "    '_id': '12772',\n",
              "    '_score': 5.1670833,\n",
              "    '_source': {'title': 'Mars Attacks!',\n",
              "     'ethnicity': 'American',\n",
              "     'director': 'Tim Burton',\n",
              "     'cast': 'Jack Nicholson, Glenn Close, Annette Bening, Pierce Brosnan, Danny DeVito, Jim Brown, Sarah Jessica Parker, Martin Short, Michael J. Fox, Lukas Haas, Natalie Portman',\n",
              "     'genre': 'science fiction comedy',\n",
              "     'plot': 'In Kentucky, a family watches in confusion as a herd of cattle starts running past their home, on fire. A spaceship explodes before it returns to Mars, and hundreds of other Martian ships leave Mars and head towards Earth. President James Dale, along with his aides, addresses the United States concerning the historic event. The President\\'s science aides set up a first contact meeting with the Martians in Pahrump, Nevada as President Dale watches the development on TV with his wife Marsha and his daughter Taffy.\\r\\nUsing a translation machine, the Ambassador of Mars announces that they \"come in peace\". When a hippie releases a dove as a symbol of peace, the Ambassador shoots it before he and the other Martians slaughter a large number of people at the event, including General Casey, news reporter Jason Stone and Billy-Glenn Norris before capturing chat-show host Nathalie Lake and her pet Chihuahua.\\r\\nThinking that the Martians assumed that the dove was a symbol of war, President Dale tells Professor Donald Kessler to renegotiate with the Martians, whose ambassador is invited to address the United States Congress. At this meeting, the Martians massacre most of Congress. Donald begs the Martian Ambassador to stop, but is rendered unconscious and taken aboard their ship, where he is later shown with his body parts dismembered and his disembodied head remaining animated. General Decker tries to convince President Dale to retaliate with nuclear warfare, but the President refuses.\\r\\nAfter a failed attempt to assassinate President Dale, the Martians invade Earth, starting with Washington, D.C. As they attack the White House, the Secret Service evacuates the President, but the First Lady Marsha is crushed to death by the Nancy Reagan chandelier. Taffy vanishes during the chaos. After the U.S. government unsuccessfully attempts a nuclear attack on the mother ship, the Martians expand their invasion to the rest of the Earth, defacing world landmarks for amusement as they do so. That night, the Martians breach the bunker where Dale has been taken and the leader reduces Decker to the size of an insect before killing him. The Martians kill everyone else in the bunker except for Dale, who makes an impassioned speech in an attempt to plea for peace and his life. The Martians seem convinced, but then use a false hand to kill the President.\\r\\nAs the Martians ravage Las Vegas, Byron Williams, a former world champion boxer, leads a small group of survivors consisting of Barbara Land, Tom Jones, a waitress named Cindy, and a lawyer to an airfield in the hopes of flying a small jet to safety. They barely make it, losing the lawyer in the process, but discover a large group of Martians stationed there as they are preparing to take off. Byron creates a diversion by challenging them to a fistfight. While he succeeds in killing the Ambassador, he is outnumbered and overwhelmed, but Tom, Barbara, and Cindy escape.\\r\\nBilly-Glenn\\'s brother Richie discovers that the Martians\\' heads explode when they hear Slim Whitman\\'s \"Indian Love Call\". He and his grandmother Florence drive around town, using the song to kill Martians. The military thereafter broadcast the song around the globe, killing most of the Martians and their leader, and causing the few remaining survivors to try to flee. Nathalie and Donald\\'s disembodied heads kiss while the Martian spaceship they are on crashes into the ocean.\\r\\nIn the aftermath, Richie and Florence are awarded the Medal of Honor by Taffy, the only surviving member of the government. Byron, who survived the Martian brawl, arrives in D.C. to reunite with his former wife and their two sons as the devastation is being cleaned up. Barbara, Cindy, and Tom Jones emerge from a cave with some animals to see dozens of crashed Martian ships in Lake Tahoe.',\n",
              "     'year': 1996,\n",
              "     'wiki_page': 'https://en.wikipedia.org/wiki/Mars_Attacks!'}}]}}"
            ]
          },
          "execution_count": 36,
          "metadata": {},
          "output_type": "execute_result"
        }
      ],
      "source": [
        "resp = es.search(\n",
        "    index=\"movies\",\n",
        "    body={\n",
        "        \"query\": {\n",
        "            \"bool\": {\n",
        "                \"must\": {\n",
        "                    \"match_phrase\": {\n",
        "                        \"cast\": \"jack nicholson\",\n",
        "                    }\n",
        "                },\n",
        "                \"filter\": {\"bool\": {\"must_not\": {\"match_phrase\": {\"director\": \"roman polanski\"}}}},\n",
        "            },\n",
        "        },            \n",
        "    }\n",
        ")\n",
        "resp"
      ]
    },
    {
      "cell_type": "code",
      "execution_count": null,
      "metadata": {
        "id": "FN6JlPUbznWN"
      },
      "outputs": [],
      "source": []
    },
    {
      "cell_type": "code",
      "execution_count": null,
      "metadata": {
        "id": "80_4YnsIznRz"
      },
      "outputs": [],
      "source": []
    },
    {
      "cell_type": "code",
      "execution_count": 24,
      "metadata": {
        "colab": {
          "base_uri": "https://localhost:8080/"
        },
        "id": "zRp47bcJR91J",
        "outputId": "3eaeddf1-497e-486d-e00f-af383cd3a046"
      },
      "outputs": [
        {
          "data": {
            "text/plain": [
              "{'acknowledged': True, 'shards_acknowledged': True, 'index': 'tutorial3'}"
            ]
          },
          "execution_count": 24,
          "metadata": {},
          "output_type": "execute_result"
        }
      ],
      "source": [
        "es.indices.create(index='tutorial3')"
      ]
    },
    {
      "cell_type": "code",
      "execution_count": 25,
      "metadata": {
        "colab": {
          "base_uri": "https://localhost:8080/"
        },
        "id": "aDwyltEsS_XQ",
        "outputId": "217b7ae1-255d-4ce4-dfd3-4b899b4fef56"
      },
      "outputs": [
        {
          "name": "stdout",
          "output_type": "stream",
          "text": [
            "{'tutorial3': {'aliases': {}}, 'movies': {'aliases': {}}, 'example_index': {'aliases': {}}}\n"
          ]
        }
      ],
      "source": [
        "indices = es.indices.get_alias() \n",
        "print(indices)"
      ]
    },
    {
      "cell_type": "code",
      "execution_count": 26,
      "metadata": {
        "colab": {
          "base_uri": "https://localhost:8080/"
        },
        "id": "UMnkHDLVS_TD",
        "outputId": "d61ad70c-583a-47e5-924d-e8bbba2541c6"
      },
      "outputs": [
        {
          "data": {
            "text/plain": [
              "{'took': 35,\n",
              " 'timed_out': False,\n",
              " '_shards': {'total': 1, 'successful': 1, 'skipped': 0, 'failed': 0},\n",
              " 'hits': {'total': {'value': 0, 'relation': 'eq'},\n",
              "  'max_score': None,\n",
              "  'hits': []}}"
            ]
          },
          "execution_count": 26,
          "metadata": {},
          "output_type": "execute_result"
        }
      ],
      "source": [
        "es.search(index='tutorial3')\n"
      ]
    },
    {
      "cell_type": "code",
      "execution_count": 27,
      "metadata": {
        "colab": {
          "base_uri": "https://localhost:8080/"
        },
        "id": "xrXiU4RZjBzE",
        "outputId": "b21aced1-3853-400d-e41c-93847df89404"
      },
      "outputs": [
        {
          "name": "stdout",
          "output_type": "stream",
          "text": [
            "--2022-10-28 22:51:52--  https://gist.githubusercontent.com/lynnkwong/c5ee4a0f4963d8c2c3281fecf32b5dae/raw/e3e1a243c69bc9653cb020360b86af4f9b5ba04b/b9ed00e0fdf0-laptops-data.csv\n",
            "Resolving gist.githubusercontent.com (gist.githubusercontent.com)... 185.199.108.133, 185.199.109.133, 185.199.110.133, ...\n",
            "Connecting to gist.githubusercontent.com (gist.githubusercontent.com)|185.199.108.133|:443... connected.\n",
            "HTTP request sent, awaiting response... 200 OK\n",
            "Length: 11875 (12K) [text/plain]\n",
            "Saving to: ‘b9ed00e0fdf0-laptops-data.csv’\n",
            "\n",
            "b9ed00e0fdf0-laptop 100%[===================>]  11.60K  --.-KB/s    in 0s      \n",
            "\n",
            "2022-10-28 22:51:53 (98.7 MB/s) - ‘b9ed00e0fdf0-laptops-data.csv’ saved [11875/11875]\n",
            "\n"
          ]
        }
      ],
      "source": [
        "!wget 'https://gist.githubusercontent.com/lynnkwong/c5ee4a0f4963d8c2c3281fecf32b5dae/raw/e3e1a243c69bc9653cb020360b86af4f9b5ba04b/b9ed00e0fdf0-laptops-data.csv'"
      ]
    },
    {
      "cell_type": "code",
      "execution_count": 28,
      "metadata": {
        "id": "mn2o4PGpgdpO"
      },
      "outputs": [],
      "source": [
        "import csv\n",
        "import json\n",
        "\n",
        "colums = [\"id\", \"name\", \"price\", \"brand\", \"cpu\", \"memory\", \"storage\"]\n",
        "index_name = \"laptops-demo\"\n",
        "\n",
        "with open(\"b9ed00e0fdf0-laptops-data.csv\", \"r\") as fi:\n",
        "    reader = csv.DictReader(\n",
        "        fi, fieldnames=colums, delimiter=\",\", quotechar='\"'\n",
        "    )\n",
        "\n",
        "    # This skips the first row which is the header of the CSV file.\n",
        "    next(reader)\n",
        "\n",
        "    actions = []\n",
        "    for row in reader:\n",
        "        action = {\"index\": {\"_index\": index_name, \"_id\": int(row[\"id\"])}}\n",
        "        doc = {\n",
        "            \"id\": int(row[\"id\"]),\n",
        "            \"name\": row[\"name\"],\n",
        "            \"price\": float(row[\"price\"]),\n",
        "            \"brand\": row[\"brand\"],\n",
        "            \"attributes\": [\n",
        "                {\"attribute_name\": \"cpu\", \"attribute_value\": row[\"cpu\"]},\n",
        "                {\"attribute_name\": \"memory\", \"attribute_value\": row[\"memory\"]},\n",
        "                {\n",
        "                    \"attribute_name\": \"storage\",\n",
        "                    \"attribute_value\": row[\"storage\"],\n",
        "                },\n",
        "            ],\n",
        "        }\n",
        "        actions.append(json.dumps(action))\n",
        "        actions.append(json.dumps(doc))\n",
        "\n",
        "    with open(\"laptops_demo.json\", \"w\") as fo:\n",
        "        fo.write(\"\\n\".join(actions))\n",
        "\n",
        "    es.bulk(body=\"\\n\".join(actions))\n"
      ]
    },
    {
      "cell_type": "code",
      "execution_count": 28,
      "metadata": {
        "id": "lknAlQLwgdju"
      },
      "outputs": [],
      "source": []
    },
    {
      "cell_type": "code",
      "execution_count": 28,
      "metadata": {
        "id": "9gO1MYcKgdgY"
      },
      "outputs": [],
      "source": []
    },
    {
      "cell_type": "code",
      "execution_count": 29,
      "metadata": {
        "id": "VA2rCmbBZEsO"
      },
      "outputs": [],
      "source": [
        "import requests, json, os"
      ]
    },
    {
      "cell_type": "code",
      "execution_count": 30,
      "metadata": {
        "colab": {
          "base_uri": "https://localhost:8080/",
          "height": 200
        },
        "id": "NeCE8-AJZSPZ",
        "outputId": "419801cb-597b-4381-f12b-195aaac57818"
      },
      "outputs": [
        {
          "ename": "NameError",
          "evalue": "ignored",
          "output_type": "error",
          "traceback": [
            "\u001b[0;31m---------------------------------------------------------------------------\u001b[0m",
            "\u001b[0;31mNameError\u001b[0m                                 Traceback (most recent call last)",
            "\u001b[0;32m<ipython-input-30-af99eb7225a4>\u001b[0m in \u001b[0;36m<module>\u001b[0;34m\u001b[0m\n\u001b[1;32m      1\u001b[0m \u001b[0;32mimport\u001b[0m \u001b[0mzipfile\u001b[0m\u001b[0;34m\u001b[0m\u001b[0;34m\u001b[0m\u001b[0m\n\u001b[0;32m----> 2\u001b[0;31m \u001b[0;32mwith\u001b[0m \u001b[0mzipfile\u001b[0m\u001b[0;34m.\u001b[0m\u001b[0mZipFile\u001b[0m\u001b[0;34m(\u001b[0m\u001b[0mpath_to_zip_file\u001b[0m\u001b[0;34m,\u001b[0m \u001b[0;34m'r'\u001b[0m\u001b[0;34m)\u001b[0m \u001b[0;32mas\u001b[0m \u001b[0mzip_ref\u001b[0m\u001b[0;34m:\u001b[0m\u001b[0;34m\u001b[0m\u001b[0;34m\u001b[0m\u001b[0m\n\u001b[0m\u001b[1;32m      3\u001b[0m     \u001b[0mzip_ref\u001b[0m\u001b[0;34m.\u001b[0m\u001b[0mextractall\u001b[0m\u001b[0;34m(\u001b[0m\u001b[0mdirectory_to_extract_to\u001b[0m\u001b[0;34m)\u001b[0m\u001b[0;34m\u001b[0m\u001b[0;34m\u001b[0m\u001b[0m\n",
            "\u001b[0;31mNameError\u001b[0m: name 'path_to_zip_file' is not defined"
          ]
        }
      ],
      "source": [
        "import zipfile\n",
        "with zipfile.ZipFile(path_to_zip_file, 'r') as zip_ref:\n",
        "    zip_ref.extractall(directory_to_extract_to)"
      ]
    },
    {
      "cell_type": "code",
      "execution_count": null,
      "metadata": {
        "id": "ZbOI9ulcZJA6"
      },
      "outputs": [],
      "source": [
        "directory = '/path/to/files/'"
      ]
    },
    {
      "cell_type": "code",
      "execution_count": null,
      "metadata": {
        "id": "kiLvW_tWS_Pv"
      },
      "outputs": [],
      "source": [
        "i=1\n",
        "for filename in os.listdir(directory):\n",
        "    if filename.endswith(\".json\"):\n",
        "        f = open(filename)\n",
        "        docket_content = f.read()\n",
        "        # Send the data into es\n",
        "        es.index(index='myindex', ignore=400, doc_type='docket', \n",
        "        id=i, body=json.loads(docket_content))\n",
        "        i = i + 1"
      ]
    },
    {
      "cell_type": "code",
      "execution_count": null,
      "metadata": {
        "id": "uXxwLjJaY_zf"
      },
      "outputs": [],
      "source": []
    },
    {
      "cell_type": "code",
      "execution_count": null,
      "metadata": {
        "id": "d0mpIY3zY_qv"
      },
      "outputs": [],
      "source": []
    },
    {
      "cell_type": "code",
      "execution_count": null,
      "metadata": {
        "id": "m56tEVXJY_k-"
      },
      "outputs": [],
      "source": []
    },
    {
      "cell_type": "code",
      "execution_count": null,
      "metadata": {
        "id": "3L54ASj6GCyd"
      },
      "outputs": [],
      "source": [
        "# Importing test dataset\n",
        "!git clone https://github.com/HamidRezaAttar/Elasticsearch-Jupyter-Colab\n",
        "dataset = pd.read_csv(\"/content/Elasticsearch-Jupyter-Colab/data/test.csv.gz\", compression=\"gzip\")\n",
        "dataset.drop(\"id\", axis=1, inplace=True)\n",
        "print(f\"shape of dataset: {dataset.shape}\")\n",
        "dataset.head()"
      ]
    },
    {
      "cell_type": "code",
      "execution_count": null,
      "metadata": {
        "id": "WUk9TTMkM714"
      },
      "outputs": [],
      "source": [
        "# Define settings & mappings of Elasticsearch index\n",
        "Settings = {\n",
        "    \"settings\":{\n",
        "        \"number_of_shards\":1,\n",
        "        \"number_of_replicas\":0\n",
        "    },\n",
        "    \"mappings\":{\n",
        "        \"properties\":{\n",
        "            \"article\":{\n",
        "                \"type\":\"text\"\n",
        "            },\n",
        "            \"highlights\":{\n",
        "                \"type\":\"text\"\n",
        "            }\n",
        "        }\n",
        "    }\n",
        "}"
      ]
    },
    {
      "cell_type": "code",
      "execution_count": null,
      "metadata": {
        "id": "jmqnsJgbNAZg"
      },
      "outputs": [],
      "source": [
        "def json_formatter(dataset, index_name, index_type='_doc'):\n",
        "    \"\"\"\n",
        "    This function is used to create JSON formatted dictionaries for Elasticsearch.\n",
        "\n",
        "    Args:\n",
        "      dataset: The dataset you want to apply this function.\n",
        "      index_name: Name of the index in Elasticsearch\n",
        "      index_type: Type of the index in Elasticsearch.\n",
        "      Note: It is suggested to keep index_type as '_doc' since it is deprecated from version 6.\n",
        "      Note: This function formats all columns of your dataset, if you want to apply this to special columns only,\n",
        "      you can delete the second for loop and add your custom fields.\n",
        "    \"\"\"\n",
        "    try:\n",
        "        List = []\n",
        "        columns = dataset.columns\n",
        "        for idx, row in dataset.iterrows():\n",
        "            dic = {}\n",
        "            dic['_index'] = index_name\n",
        "            dic['_type'] = index_type\n",
        "            source = {}\n",
        "            for i in dataset.columns:\n",
        "                source[i] = row[i]\n",
        "            dic['_source'] = source\n",
        "            List.append(dic)\n",
        "        return List\n",
        "    \n",
        "    except Exception as e:\n",
        "        print(\"There is a problem: {}\".format(e))"
      ]
    },
    {
      "cell_type": "code",
      "execution_count": null,
      "metadata": {
        "id": "-h3ydafWNCL5"
      },
      "outputs": [],
      "source": [
        "MY_INDEX = es.indices.create(index=\"news_index\", ignore=[400,404], body=Settings)\n",
        "MY_INDEX"
      ]
    },
    {
      "cell_type": "code",
      "execution_count": null,
      "metadata": {
        "id": "srN4ob0eNDnO"
      },
      "outputs": [],
      "source": [
        "json_Formatted_dataset = json_formatter(dataset=dataset, index_name='news_index', index_type='_doc')\n",
        "json_Formatted_dataset[0]"
      ]
    },
    {
      "cell_type": "code",
      "execution_count": null,
      "metadata": {
        "id": "dlM9xps9NFh6"
      },
      "outputs": [],
      "source": [
        "# For importing Data to elasticsearch we use elasticsearch's bulk API from elasticsearch.helpers\n",
        "try:\n",
        "    res = helpers.bulk(es, json_Formatted_dataset)\n",
        "    print(\"successfully imported to elasticsearch.\")\n",
        "except Exception as e:\n",
        "    print(f\"error: {e}\")"
      ]
    },
    {
      "cell_type": "code",
      "execution_count": null,
      "metadata": {
        "id": "KgU86UyYNHLq"
      },
      "outputs": [],
      "source": [
        "# Get 10 sample of data\n",
        "query = es.search(\n",
        "    index=\"news_index\",\n",
        "    body={\n",
        "      \"size\":10,\n",
        "      \"query\": {\n",
        "        \"match_all\":{}\n",
        "      }\n",
        "    }\n",
        ")\n",
        "\n",
        "output = pd.json_normalize((query['hits']['hits']))\n",
        "output"
      ]
    },
    {
      "cell_type": "code",
      "execution_count": null,
      "metadata": {
        "id": "HIRf3Q9QNiz2"
      },
      "outputs": [],
      "source": [
        "# Complicated query\n",
        "query = es.search(\n",
        "    index=\"news_index\",\n",
        "    body={\n",
        "        \"size\":20,\n",
        "        \"query\":{\n",
        "            \"bool\":{\n",
        "                \"must\":[\n",
        "                        {\"match\":{\"article\":\"teenage boy\"}}\n",
        "                ],\n",
        "                \"should\":[\n",
        "                        {\"match\":{\"highlights\":\"drunk\"}}\n",
        "                ]\n",
        "            }\n",
        "        }\n",
        "    }\n",
        ")\n",
        "\n",
        "output = pd.json_normalize((query['hits']['hits']))\n",
        "output"
      ]
    },
    {
      "cell_type": "code",
      "execution_count": null,
      "metadata": {
        "id": "ijCxUR1XOL-g"
      },
      "outputs": [],
      "source": [
        "# More complicated query\n",
        "query = es.search( \n",
        "    index=\"news_index\",\n",
        "    body={\n",
        "        \"size\":20,\n",
        "        \"query\":{\n",
        "            \"bool\":{\n",
        "                \"must\":[\n",
        "                        {\"multi_match\":{\n",
        "                            \"query\":\"The Hunger Games\",\n",
        "                            \"fields\":[\"article\",\"highlights\"]\n",
        "                        }}\n",
        "                ]\n",
        "            }\n",
        "        }\n",
        "    }\n",
        ")\n",
        "\n",
        "output = pd.json_normalize((query['hits']['hits']))\n",
        "output"
      ]
    }
  ],
  "metadata": {
    "colab": {
      "collapsed_sections": [],
      "include_colab_link": true,
      "provenance": []
    },
    "kernelspec": {
      "display_name": "Python 3",
      "language": "python",
      "name": "python3"
    },
    "language_info": {
      "codemirror_mode": {
        "name": "ipython",
        "version": 3
      },
      "file_extension": ".py",
      "mimetype": "text/x-python",
      "name": "python",
      "nbconvert_exporter": "python",
      "pygments_lexer": "ipython3",
      "version": "3.8.5 (tags/v3.8.5:580fbb0, Jul 20 2020, 15:57:54) [MSC v.1924 64 bit (AMD64)]"
    },
    "vscode": {
      "interpreter": {
        "hash": "dc8aa18c105b16b87bbd332e44487417c4bad76a2b017e28b1c3c8323f27c82e"
      }
    }
  },
  "nbformat": 4,
  "nbformat_minor": 0
}
