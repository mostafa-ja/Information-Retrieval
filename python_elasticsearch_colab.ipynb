{
  "cells": [
    {
      "cell_type": "markdown",
      "metadata": {
        "id": "view-in-github",
        "colab_type": "text"
      },
      "source": [
        "<a href=\"https://colab.research.google.com/github/mostafa-ja/Information-Retrieval/blob/main/python_elasticsearch_colab.ipynb\" target=\"_parent\"><img src=\"https://colab.research.google.com/assets/colab-badge.svg\" alt=\"Open In Colab\"/></a>"
      ]
    },
    {
      "cell_type": "code",
      "execution_count": 1,
      "metadata": {
        "id": "IsDqz0tsLwZc"
      },
      "outputs": [],
      "source": [
        "%%capture\n",
        "\n",
        "!pip install elasticsearch==7.14.0\n",
        "!apt install default-jdk > /dev/null"
      ]
    },
    {
      "cell_type": "code",
      "execution_count": 2,
      "metadata": {
        "id": "Bnz8q7BBLv9c"
      },
      "outputs": [],
      "source": [
        "try:\n",
        "  import os\n",
        "  import elasticsearch\n",
        "  from elasticsearch import Elasticsearch\n",
        "  import numpy as np\n",
        "  import pandas as pd\n",
        "  import sys\n",
        "  import json\n",
        "  from ast import literal_eval\n",
        "  from tqdm import tqdm \n",
        "  import datetime\n",
        "  from elasticsearch import helpers\n",
        "  \n",
        "except Exception as e:\n",
        "  print(f\"error: {e}\")"
      ]
    },
    {
      "cell_type": "code",
      "execution_count": 3,
      "metadata": {
        "id": "k4idJB7WEjY5"
      },
      "outputs": [],
      "source": [
        "# Download & extract Elasticsearch 7.0.0\n",
        "\n",
        "!wget https://artifacts.elastic.co/downloads/elasticsearch/elasticsearch-7.0.0-linux-x86_64.tar.gz -q\n",
        "!tar -xzf elasticsearch-7.0.0-linux-x86_64.tar.gz\n",
        "!chown -R daemon:daemon elasticsearch-7.0.0"
      ]
    },
    {
      "cell_type": "code",
      "execution_count": 4,
      "metadata": {
        "id": "dTFy3CkDKk2j"
      },
      "outputs": [],
      "source": [
        "# Creating daemon instance of elasticsearch\n",
        "import os\n",
        "from subprocess import Popen, PIPE, STDOUT\n",
        "es_server = Popen(['elasticsearch-7.0.0/bin/elasticsearch'], \n",
        "                  stdout=PIPE, stderr=STDOUT,\n",
        "                  preexec_fn=lambda: os.setuid(1)  # as daemon\n",
        "                 )"
      ]
    },
    {
      "cell_type": "code",
      "execution_count": 5,
      "metadata": {
        "id": "r0ye1uYoLC4b"
      },
      "outputs": [],
      "source": [
        "# This part is important, since it takes a little amount of time for instance to load\n",
        "import time\n",
        "time.sleep(20)"
      ]
    },
    {
      "cell_type": "code",
      "execution_count": 6,
      "metadata": {
        "colab": {
          "base_uri": "https://localhost:8080/"
        },
        "id": "_M4c4HNvLOvy",
        "outputId": "edf5c1cf-0939-461d-985c-9c652aeb23ca"
      },
      "outputs": [
        {
          "output_type": "stream",
          "name": "stdout",
          "text": [
            "daemon       207      74 99 22:50 ?        00:00:21 /content/elasticsearch-7.0.0/jdk/bin/java -Xms1g -Xmx1g -XX:+UseConcMarkSweepGC -XX:CMSInitiatingOccupancyFraction=75 -XX:+UseCMSInitiatingOccupancyOnly -Des.networkaddress.cache.ttl=60 -Des.networkaddress.cache.negative.ttl=10 -XX:+AlwaysPreTouch -Xss1m -Djava.awt.headless=true -Dfile.encoding=UTF-8 -Djna.nosys=true -XX:-OmitStackTraceInFastThrow -Dio.netty.noUnsafe=true -Dio.netty.noKeySetOptimization=true -Dio.netty.recycler.maxCapacityPerThread=0 -Dlog4j.shutdownHookEnabled=false -Dlog4j2.disable.jmx=true -Djava.io.tmpdir=/tmp/elasticsearch-13325590698578125707 -XX:+HeapDumpOnOutOfMemoryError -XX:HeapDumpPath=data -XX:ErrorFile=logs/hs_err_pid%p.log -Xlog:gc*,gc+age=trace,safepoint:file=logs/gc.log:utctime,pid,tags:filecount=32,filesize=64m -Djava.locale.providers=COMPAT -Dio.netty.allocator.type=unpooled -Des.path.home=/content/elasticsearch-7.0.0 -Des.path.conf=/content/elasticsearch-7.0.0/config -Des.distribution.flavor=default -Des.distribution.type=tar -Des.bundled_jdk=true -cp /content/elasticsearch-7.0.0/lib/* org.elasticsearch.bootstrap.Elasticsearch\n",
            "daemon       295     207  0 22:50 ?        00:00:00 /content/elasticsearch-7.0.0/modules/x-pack-ml/platform/linux-x86_64/bin/controller\n",
            "root         332     330  0 22:50 ?        00:00:00 grep elasticsearch\n"
          ]
        }
      ],
      "source": [
        "%%bash\n",
        "# If you get 1 root & 2 daemon process then Elasticsearch instance has started successfully\n",
        "ps -ef | grep elasticsearch"
      ]
    },
    {
      "cell_type": "code",
      "execution_count": 7,
      "metadata": {
        "id": "z-q-WRLiLSqR",
        "colab": {
          "base_uri": "https://localhost:8080/"
        },
        "outputId": "72f137d1-ea92-4c30-c051-27c719250972"
      },
      "outputs": [
        {
          "output_type": "stream",
          "name": "stdout",
          "text": [
            "{\n",
            "  \"name\" : \"d1c34cef11da\",\n",
            "  \"cluster_name\" : \"elasticsearch\",\n",
            "  \"cluster_uuid\" : \"vTt4U0ZGTTOYkh6IOEaO4Q\",\n",
            "  \"version\" : {\n",
            "    \"number\" : \"7.0.0\",\n",
            "    \"build_flavor\" : \"default\",\n",
            "    \"build_type\" : \"tar\",\n",
            "    \"build_hash\" : \"b7e28a7\",\n",
            "    \"build_date\" : \"2019-04-05T22:55:32.697037Z\",\n",
            "    \"build_snapshot\" : false,\n",
            "    \"lucene_version\" : \"8.0.0\",\n",
            "    \"minimum_wire_compatibility_version\" : \"6.7.0\",\n",
            "    \"minimum_index_compatibility_version\" : \"6.0.0-beta1\"\n",
            "  },\n",
            "  \"tagline\" : \"You Know, for Search\"\n",
            "}\n"
          ]
        }
      ],
      "source": [
        "# Check if elasticsearch is running\n",
        "!curl -sX GET \"localhost:9200/\""
      ]
    },
    {
      "cell_type": "code",
      "source": [
        "from elasticsearch import Elasticsearch\n",
        "\n",
        "# Adds the HTTP header 'Authorization: Basic <base64 username:password>'\n",
        "es = Elasticsearch(\n",
        "    \"http://localhost:9200\",\n",
        "    #ca_certs=\"/path/to/http_ca.crt\",\n",
        "  \n",
        ")\n",
        "\n",
        "print(es.ping())\n"
      ],
      "metadata": {
        "colab": {
          "base_uri": "https://localhost:8080/"
        },
        "id": "HE34KsjyR4H3",
        "outputId": "5885c242-790e-4013-9ccc-07225b93e807"
      },
      "execution_count": 8,
      "outputs": [
        {
          "output_type": "stream",
          "name": "stdout",
          "text": [
            "True\n"
          ]
        }
      ]
    },
    {
      "cell_type": "code",
      "source": [
        "es.info()\n"
      ],
      "metadata": {
        "colab": {
          "base_uri": "https://localhost:8080/"
        },
        "id": "2yMXVqkmftGN",
        "outputId": "79c4a8ae-f6ab-4cc5-ab64-6466199a1242"
      },
      "execution_count": 9,
      "outputs": [
        {
          "output_type": "execute_result",
          "data": {
            "text/plain": [
              "{'name': 'd1c34cef11da',\n",
              " 'cluster_name': 'elasticsearch',\n",
              " 'cluster_uuid': 'vTt4U0ZGTTOYkh6IOEaO4Q',\n",
              " 'version': {'number': '7.0.0',\n",
              "  'build_flavor': 'default',\n",
              "  'build_type': 'tar',\n",
              "  'build_hash': 'b7e28a7',\n",
              "  'build_date': '2019-04-05T22:55:32.697037Z',\n",
              "  'build_snapshot': False,\n",
              "  'lucene_version': '8.0.0',\n",
              "  'minimum_wire_compatibility_version': '6.7.0',\n",
              "  'minimum_index_compatibility_version': '6.0.0-beta1'},\n",
              " 'tagline': 'You Know, for Search'}"
            ]
          },
          "metadata": {},
          "execution_count": 9
        }
      ]
    },
    {
      "cell_type": "code",
      "source": [
        "# 3.Install Kaggle API.\n",
        "!pip install kaggle"
      ],
      "metadata": {
        "colab": {
          "base_uri": "https://localhost:8080/"
        },
        "id": "dTVoXrTcfs7i",
        "outputId": "1a865e19-dafd-4c3d-add4-92edc7b5bec9"
      },
      "execution_count": 10,
      "outputs": [
        {
          "output_type": "stream",
          "name": "stdout",
          "text": [
            "Looking in indexes: https://pypi.org/simple, https://us-python.pkg.dev/colab-wheels/public/simple/\n",
            "Requirement already satisfied: kaggle in /usr/local/lib/python3.7/dist-packages (1.5.12)\n",
            "Requirement already satisfied: urllib3 in /usr/local/lib/python3.7/dist-packages (from kaggle) (1.24.3)\n",
            "Requirement already satisfied: requests in /usr/local/lib/python3.7/dist-packages (from kaggle) (2.23.0)\n",
            "Requirement already satisfied: certifi in /usr/local/lib/python3.7/dist-packages (from kaggle) (2022.9.24)\n",
            "Requirement already satisfied: six>=1.10 in /usr/local/lib/python3.7/dist-packages (from kaggle) (1.15.0)\n",
            "Requirement already satisfied: python-dateutil in /usr/local/lib/python3.7/dist-packages (from kaggle) (2.8.2)\n",
            "Requirement already satisfied: python-slugify in /usr/local/lib/python3.7/dist-packages (from kaggle) (6.1.2)\n",
            "Requirement already satisfied: tqdm in /usr/local/lib/python3.7/dist-packages (from kaggle) (4.64.1)\n",
            "Requirement already satisfied: text-unidecode>=1.3 in /usr/local/lib/python3.7/dist-packages (from python-slugify->kaggle) (1.3)\n",
            "Requirement already satisfied: idna<3,>=2.5 in /usr/local/lib/python3.7/dist-packages (from requests->kaggle) (2.10)\n",
            "Requirement already satisfied: chardet<4,>=3.0.2 in /usr/local/lib/python3.7/dist-packages (from requests->kaggle) (3.0.4)\n"
          ]
        }
      ]
    },
    {
      "cell_type": "code",
      "source": [
        "# 4.Run the following code to configure the path to “kaggle.json”\n",
        "import os\n",
        "os.environ['KAGGLE_CONFIG_DIR'] = \"/content\""
      ],
      "metadata": {
        "id": "EXkGwP94fsyg"
      },
      "execution_count": 11,
      "outputs": []
    },
    {
      "cell_type": "code",
      "source": [
        "!kaggle datasets download -d jrobischon/wikipedia-movie-plots"
      ],
      "metadata": {
        "colab": {
          "base_uri": "https://localhost:8080/"
        },
        "id": "bHMObQjQhmOB",
        "outputId": "42acd77b-dc0b-4c1c-d50a-b363c84bda39"
      },
      "execution_count": 12,
      "outputs": [
        {
          "output_type": "stream",
          "name": "stdout",
          "text": [
            "Warning: Your Kaggle API key is readable by other users on this system! To fix this, you can run 'chmod 600 /content/kaggle.json'\n",
            "Downloading wikipedia-movie-plots.zip to /content\n",
            " 97% 29.0M/29.9M [00:00<00:00, 98.1MB/s]\n",
            "100% 29.9M/29.9M [00:00<00:00, 94.4MB/s]\n"
          ]
        }
      ]
    },
    {
      "cell_type": "code",
      "source": [
        "import zipfile\n",
        "with zipfile.ZipFile('/content/wikipedia-movie-plots.zip', 'r') as zip_ref:\n",
        "    zip_ref.extractall('/content')"
      ],
      "metadata": {
        "id": "3OSmuUxehmK4"
      },
      "execution_count": 13,
      "outputs": []
    },
    {
      "cell_type": "code",
      "source": [
        "import pandas as pd\n",
        "df = pd.read_csv('wiki_movie_plots_deduped.csv').dropna().sample(5000, random_state=42)\n",
        "# .dropna() : Remove missing values.\n",
        "#.sample() : Return n(here 5000) random sample of items from an axis of object."
      ],
      "metadata": {
        "id": "RrMFjGKZhmHn"
      },
      "execution_count": 14,
      "outputs": []
    },
    {
      "cell_type": "code",
      "source": [
        "df.head(2)"
      ],
      "metadata": {
        "colab": {
          "base_uri": "https://localhost:8080/",
          "height": 243
        },
        "id": "W1DSRVtIhmEO",
        "outputId": "1acfda79-2c7a-44f3-a28c-0d52199c618b"
      },
      "execution_count": 15,
      "outputs": [
        {
          "output_type": "execute_result",
          "data": {
            "text/plain": [
              "       Release Year                  Title Origin/Ethnicity      Director  \\\n",
              "10286          1984             Songwriter         American  Alan Rudolph   \n",
              "28335          2012  Da Thadiya (ഡാ തടിയാ)        Malayalam    Aashiq Abu   \n",
              "\n",
              "                                                    Cast            Genre  \\\n",
              "10286  Willie Nelson, Kris Kristofferson, Melinda Dillon            drama   \n",
              "28335  Shekhar Menon, Ann Augustine, Sreenath Bhasi, ...  romance, comedy   \n",
              "\n",
              "                                               Wiki Page  \\\n",
              "10286  https://en.wikipedia.org/wiki/Songwriter_(1984...   \n",
              "28335           https://en.wikipedia.org/wiki/Da_Thadiya   \n",
              "\n",
              "                                                    Plot  \n",
              "10286  The film concerns Doc Jenkins, (Willie Nelson)...  \n",
              "28335  The film tells the love story of an obese yout...  "
            ],
            "text/html": [
              "\n",
              "  <div id=\"df-21a58a0a-39a9-4f4c-a51e-f768d0490ebd\">\n",
              "    <div class=\"colab-df-container\">\n",
              "      <div>\n",
              "<style scoped>\n",
              "    .dataframe tbody tr th:only-of-type {\n",
              "        vertical-align: middle;\n",
              "    }\n",
              "\n",
              "    .dataframe tbody tr th {\n",
              "        vertical-align: top;\n",
              "    }\n",
              "\n",
              "    .dataframe thead th {\n",
              "        text-align: right;\n",
              "    }\n",
              "</style>\n",
              "<table border=\"1\" class=\"dataframe\">\n",
              "  <thead>\n",
              "    <tr style=\"text-align: right;\">\n",
              "      <th></th>\n",
              "      <th>Release Year</th>\n",
              "      <th>Title</th>\n",
              "      <th>Origin/Ethnicity</th>\n",
              "      <th>Director</th>\n",
              "      <th>Cast</th>\n",
              "      <th>Genre</th>\n",
              "      <th>Wiki Page</th>\n",
              "      <th>Plot</th>\n",
              "    </tr>\n",
              "  </thead>\n",
              "  <tbody>\n",
              "    <tr>\n",
              "      <th>10286</th>\n",
              "      <td>1984</td>\n",
              "      <td>Songwriter</td>\n",
              "      <td>American</td>\n",
              "      <td>Alan Rudolph</td>\n",
              "      <td>Willie Nelson, Kris Kristofferson, Melinda Dillon</td>\n",
              "      <td>drama</td>\n",
              "      <td>https://en.wikipedia.org/wiki/Songwriter_(1984...</td>\n",
              "      <td>The film concerns Doc Jenkins, (Willie Nelson)...</td>\n",
              "    </tr>\n",
              "    <tr>\n",
              "      <th>28335</th>\n",
              "      <td>2012</td>\n",
              "      <td>Da Thadiya (ഡാ തടിയാ)</td>\n",
              "      <td>Malayalam</td>\n",
              "      <td>Aashiq Abu</td>\n",
              "      <td>Shekhar Menon, Ann Augustine, Sreenath Bhasi, ...</td>\n",
              "      <td>romance, comedy</td>\n",
              "      <td>https://en.wikipedia.org/wiki/Da_Thadiya</td>\n",
              "      <td>The film tells the love story of an obese yout...</td>\n",
              "    </tr>\n",
              "  </tbody>\n",
              "</table>\n",
              "</div>\n",
              "      <button class=\"colab-df-convert\" onclick=\"convertToInteractive('df-21a58a0a-39a9-4f4c-a51e-f768d0490ebd')\"\n",
              "              title=\"Convert this dataframe to an interactive table.\"\n",
              "              style=\"display:none;\">\n",
              "        \n",
              "  <svg xmlns=\"http://www.w3.org/2000/svg\" height=\"24px\"viewBox=\"0 0 24 24\"\n",
              "       width=\"24px\">\n",
              "    <path d=\"M0 0h24v24H0V0z\" fill=\"none\"/>\n",
              "    <path d=\"M18.56 5.44l.94 2.06.94-2.06 2.06-.94-2.06-.94-.94-2.06-.94 2.06-2.06.94zm-11 1L8.5 8.5l.94-2.06 2.06-.94-2.06-.94L8.5 2.5l-.94 2.06-2.06.94zm10 10l.94 2.06.94-2.06 2.06-.94-2.06-.94-.94-2.06-.94 2.06-2.06.94z\"/><path d=\"M17.41 7.96l-1.37-1.37c-.4-.4-.92-.59-1.43-.59-.52 0-1.04.2-1.43.59L10.3 9.45l-7.72 7.72c-.78.78-.78 2.05 0 2.83L4 21.41c.39.39.9.59 1.41.59.51 0 1.02-.2 1.41-.59l7.78-7.78 2.81-2.81c.8-.78.8-2.07 0-2.86zM5.41 20L4 18.59l7.72-7.72 1.47 1.35L5.41 20z\"/>\n",
              "  </svg>\n",
              "      </button>\n",
              "      \n",
              "  <style>\n",
              "    .colab-df-container {\n",
              "      display:flex;\n",
              "      flex-wrap:wrap;\n",
              "      gap: 12px;\n",
              "    }\n",
              "\n",
              "    .colab-df-convert {\n",
              "      background-color: #E8F0FE;\n",
              "      border: none;\n",
              "      border-radius: 50%;\n",
              "      cursor: pointer;\n",
              "      display: none;\n",
              "      fill: #1967D2;\n",
              "      height: 32px;\n",
              "      padding: 0 0 0 0;\n",
              "      width: 32px;\n",
              "    }\n",
              "\n",
              "    .colab-df-convert:hover {\n",
              "      background-color: #E2EBFA;\n",
              "      box-shadow: 0px 1px 2px rgba(60, 64, 67, 0.3), 0px 1px 3px 1px rgba(60, 64, 67, 0.15);\n",
              "      fill: #174EA6;\n",
              "    }\n",
              "\n",
              "    [theme=dark] .colab-df-convert {\n",
              "      background-color: #3B4455;\n",
              "      fill: #D2E3FC;\n",
              "    }\n",
              "\n",
              "    [theme=dark] .colab-df-convert:hover {\n",
              "      background-color: #434B5C;\n",
              "      box-shadow: 0px 1px 3px 1px rgba(0, 0, 0, 0.15);\n",
              "      filter: drop-shadow(0px 1px 2px rgba(0, 0, 0, 0.3));\n",
              "      fill: #FFFFFF;\n",
              "    }\n",
              "  </style>\n",
              "\n",
              "      <script>\n",
              "        const buttonEl =\n",
              "          document.querySelector('#df-21a58a0a-39a9-4f4c-a51e-f768d0490ebd button.colab-df-convert');\n",
              "        buttonEl.style.display =\n",
              "          google.colab.kernel.accessAllowed ? 'block' : 'none';\n",
              "\n",
              "        async function convertToInteractive(key) {\n",
              "          const element = document.querySelector('#df-21a58a0a-39a9-4f4c-a51e-f768d0490ebd');\n",
              "          const dataTable =\n",
              "            await google.colab.kernel.invokeFunction('convertToInteractive',\n",
              "                                                     [key], {});\n",
              "          if (!dataTable) return;\n",
              "\n",
              "          const docLinkHtml = 'Like what you see? Visit the ' +\n",
              "            '<a target=\"_blank\" href=https://colab.research.google.com/notebooks/data_table.ipynb>data table notebook</a>'\n",
              "            + ' to learn more about interactive tables.';\n",
              "          element.innerHTML = '';\n",
              "          dataTable['output_type'] = 'display_data';\n",
              "          await google.colab.output.renderOutput(dataTable, element);\n",
              "          const docLink = document.createElement('div');\n",
              "          docLink.innerHTML = docLinkHtml;\n",
              "          element.appendChild(docLink);\n",
              "        }\n",
              "      </script>\n",
              "    </div>\n",
              "  </div>\n",
              "  "
            ]
          },
          "metadata": {},
          "execution_count": 15
        }
      ]
    },
    {
      "cell_type": "code",
      "source": [
        "df.shape\n"
      ],
      "metadata": {
        "colab": {
          "base_uri": "https://localhost:8080/"
        },
        "id": "sLVjafo_kk--",
        "outputId": "3120f06e-7b40-4a21-9760-b27e3e4c08f1"
      },
      "execution_count": 16,
      "outputs": [
        {
          "output_type": "execute_result",
          "data": {
            "text/plain": [
              "(5000, 8)"
            ]
          },
          "metadata": {},
          "execution_count": 16
        }
      ]
    },
    {
      "cell_type": "code",
      "source": [
        "df['Genre']"
      ],
      "metadata": {
        "colab": {
          "base_uri": "https://localhost:8080/"
        },
        "id": "cHMLqP5ekk50",
        "outputId": "a9945316-39c0-492f-d57d-920f794694f7"
      },
      "execution_count": 17,
      "outputs": [
        {
          "output_type": "execute_result",
          "data": {
            "text/plain": [
              "10286              drama\n",
              "28335    romance, comedy\n",
              "10742              drama\n",
              "28533              drama\n",
              "24808            romance\n",
              "              ...       \n",
              "23671     action / crime\n",
              "14874              drama\n",
              "3015              comedy\n",
              "15350             comedy\n",
              "23728    romantic-comedy\n",
              "Name: Genre, Length: 5000, dtype: object"
            ]
          },
          "metadata": {},
          "execution_count": 17
        }
      ]
    },
    {
      "cell_type": "code",
      "source": [
        "request_body = {\n",
        "\t    \n",
        "\n",
        "\t    'mappings': {\n",
        "\t        \"properties\": {\n",
        "            \"title\": {\"type\": \"text\", \"analyzer\": \"english\"},\n",
        "            \"ethnicity\": {\"type\": \"text\", \"analyzer\": \"standard\"},\n",
        "            \"director\": {\"type\": \"text\", \"analyzer\": \"standard\"},\n",
        "            \"cast\": {\"type\": \"text\", \"analyzer\": \"standard\"},\n",
        "            \"genre\": {\"type\": \"text\", \"analyzer\": \"standard\"},\n",
        "            \"plot\": {\"type\": \"text\", \"analyzer\": \"english\"},\n",
        "            \"year\": {\"type\": \"integer\"},\n",
        "            \"wiki_page\": {\"type\": \"keyword\"}\n",
        "      }}\n",
        "\t}\n",
        "\n",
        "es.indices.create(index = 'example_index', body = request_body)"
      ],
      "metadata": {
        "colab": {
          "base_uri": "https://localhost:8080/"
        },
        "id": "vDZ_A5_giCwK",
        "outputId": "ba2e73d0-14c8-44cc-a30e-39299bee1611"
      },
      "execution_count": 19,
      "outputs": [
        {
          "output_type": "execute_result",
          "data": {
            "text/plain": [
              "{'acknowledged': True, 'shards_acknowledged': True, 'index': 'example_index'}"
            ]
          },
          "metadata": {},
          "execution_count": 19
        }
      ]
    },
    {
      "cell_type": "code",
      "source": [
        "for i, row in df.iterrows():\n",
        "  print(i,'\\n')\n",
        "  print(row)\n",
        "  break"
      ],
      "metadata": {
        "colab": {
          "base_uri": "https://localhost:8080/"
        },
        "id": "pe0f54ShiCsy",
        "outputId": "5efb0a19-6fbc-40b6-c4b5-17fb98a8aeab"
      },
      "execution_count": 20,
      "outputs": [
        {
          "output_type": "stream",
          "name": "stdout",
          "text": [
            "10286 \n",
            "\n",
            "Release Year                                                     1984\n",
            "Title                                                      Songwriter\n",
            "Origin/Ethnicity                                             American\n",
            "Director                                                 Alan Rudolph\n",
            "Cast                Willie Nelson, Kris Kristofferson, Melinda Dillon\n",
            "Genre                                                           drama\n",
            "Wiki Page           https://en.wikipedia.org/wiki/Songwriter_(1984...\n",
            "Plot                The film concerns Doc Jenkins, (Willie Nelson)...\n",
            "Name: 10286, dtype: object\n"
          ]
        }
      ]
    },
    {
      "cell_type": "code",
      "source": [
        "type(row)"
      ],
      "metadata": {
        "colab": {
          "base_uri": "https://localhost:8080/"
        },
        "id": "3dA5mv97vllo",
        "outputId": "9d5d2770-73bd-43bd-a717-613a112a3ace"
      },
      "execution_count": 21,
      "outputs": [
        {
          "output_type": "execute_result",
          "data": {
            "text/plain": [
              "pandas.core.series.Series"
            ]
          },
          "metadata": {},
          "execution_count": 21
        }
      ]
    },
    {
      "cell_type": "code",
      "source": [
        "row['Title']"
      ],
      "metadata": {
        "colab": {
          "base_uri": "https://localhost:8080/",
          "height": 35
        },
        "id": "AHhtVTyOvliM",
        "outputId": "4f3b8d00-42bc-429a-8390-eae60f69596a"
      },
      "execution_count": 22,
      "outputs": [
        {
          "output_type": "execute_result",
          "data": {
            "text/plain": [
              "'Songwriter'"
            ],
            "application/vnd.google.colaboratory.intrinsic+json": {
              "type": "string"
            }
          },
          "metadata": {},
          "execution_count": 22
        }
      ]
    },
    {
      "cell_type": "code",
      "source": [
        "for i, row in df.iterrows():\n",
        "  doc = {\n",
        "        \"title\": row[\"Title\"],\n",
        "        \"ethnicity\": row[\"Origin/Ethnicity\"],\n",
        "        \"director\": row[\"Director\"],\n",
        "        \"cast\": row[\"Cast\"],\n",
        "        \"genre\": row[\"Genre\"],\n",
        "        \"plot\": row[\"Plot\"],\n",
        "        \"year\": row[\"Release Year\"],\n",
        "        \"wiki_page\": row[\"Wiki Page\"]\n",
        "    }\n",
        "\n",
        "  es.index(index=\"movies\",id=i,body=doc)\n"
      ],
      "metadata": {
        "id": "lxFK6BmFvlfE"
      },
      "execution_count": 23,
      "outputs": []
    },
    {
      "cell_type": "code",
      "source": [
        "es.indices.get(index='movies')"
      ],
      "metadata": {
        "colab": {
          "base_uri": "https://localhost:8080/"
        },
        "id": "-qUwLLQSy2cL",
        "outputId": "a314f71e-9aad-4036-bff1-c41c913fff30"
      },
      "execution_count": 32,
      "outputs": [
        {
          "output_type": "execute_result",
          "data": {
            "text/plain": [
              "{'movies': {'aliases': {},\n",
              "  'mappings': {'properties': {'cast': {'type': 'text',\n",
              "     'fields': {'keyword': {'type': 'keyword', 'ignore_above': 256}}},\n",
              "    'director': {'type': 'text',\n",
              "     'fields': {'keyword': {'type': 'keyword', 'ignore_above': 256}}},\n",
              "    'ethnicity': {'type': 'text',\n",
              "     'fields': {'keyword': {'type': 'keyword', 'ignore_above': 256}}},\n",
              "    'genre': {'type': 'text',\n",
              "     'fields': {'keyword': {'type': 'keyword', 'ignore_above': 256}}},\n",
              "    'plot': {'type': 'text',\n",
              "     'fields': {'keyword': {'type': 'keyword', 'ignore_above': 256}}},\n",
              "    'title': {'type': 'text',\n",
              "     'fields': {'keyword': {'type': 'keyword', 'ignore_above': 256}}},\n",
              "    'wiki_page': {'type': 'text',\n",
              "     'fields': {'keyword': {'type': 'keyword', 'ignore_above': 256}}},\n",
              "    'year': {'type': 'long'}}},\n",
              "  'settings': {'index': {'creation_date': '1666997470216',\n",
              "    'number_of_shards': '1',\n",
              "    'number_of_replicas': '1',\n",
              "    'uuid': 'GqFi9-YkRxyNqMSlzRgENQ',\n",
              "    'version': {'created': '7000099'},\n",
              "    'provided_name': 'movies'}}}}"
            ]
          },
          "metadata": {},
          "execution_count": 32
        }
      ]
    },
    {
      "cell_type": "code",
      "source": [],
      "metadata": {
        "id": "gQzr7HoAznfH"
      },
      "execution_count": null,
      "outputs": []
    },
    {
      "cell_type": "code",
      "source": [],
      "metadata": {
        "id": "833Br-fczncV"
      },
      "execution_count": null,
      "outputs": []
    },
    {
      "cell_type": "code",
      "source": [],
      "metadata": {
        "id": "5AwU9vrkznZU"
      },
      "execution_count": null,
      "outputs": []
    },
    {
      "cell_type": "code",
      "source": [],
      "metadata": {
        "id": "FN6JlPUbznWN"
      },
      "execution_count": null,
      "outputs": []
    },
    {
      "cell_type": "code",
      "source": [],
      "metadata": {
        "id": "80_4YnsIznRz"
      },
      "execution_count": null,
      "outputs": []
    },
    {
      "cell_type": "code",
      "source": [
        "es.indices.create(index='tutorial3')"
      ],
      "metadata": {
        "colab": {
          "base_uri": "https://localhost:8080/"
        },
        "id": "zRp47bcJR91J",
        "outputId": "3eaeddf1-497e-486d-e00f-af383cd3a046"
      },
      "execution_count": 24,
      "outputs": [
        {
          "output_type": "execute_result",
          "data": {
            "text/plain": [
              "{'acknowledged': True, 'shards_acknowledged': True, 'index': 'tutorial3'}"
            ]
          },
          "metadata": {},
          "execution_count": 24
        }
      ]
    },
    {
      "cell_type": "code",
      "source": [
        "indices = es.indices.get_alias() \n",
        "print(indices)"
      ],
      "metadata": {
        "colab": {
          "base_uri": "https://localhost:8080/"
        },
        "id": "aDwyltEsS_XQ",
        "outputId": "217b7ae1-255d-4ce4-dfd3-4b899b4fef56"
      },
      "execution_count": 25,
      "outputs": [
        {
          "output_type": "stream",
          "name": "stdout",
          "text": [
            "{'tutorial3': {'aliases': {}}, 'movies': {'aliases': {}}, 'example_index': {'aliases': {}}}\n"
          ]
        }
      ]
    },
    {
      "cell_type": "code",
      "source": [
        "es.search(index='tutorial3')\n"
      ],
      "metadata": {
        "id": "UMnkHDLVS_TD",
        "colab": {
          "base_uri": "https://localhost:8080/"
        },
        "outputId": "d61ad70c-583a-47e5-924d-e8bbba2541c6"
      },
      "execution_count": 26,
      "outputs": [
        {
          "output_type": "execute_result",
          "data": {
            "text/plain": [
              "{'took': 35,\n",
              " 'timed_out': False,\n",
              " '_shards': {'total': 1, 'successful': 1, 'skipped': 0, 'failed': 0},\n",
              " 'hits': {'total': {'value': 0, 'relation': 'eq'},\n",
              "  'max_score': None,\n",
              "  'hits': []}}"
            ]
          },
          "metadata": {},
          "execution_count": 26
        }
      ]
    },
    {
      "cell_type": "code",
      "source": [
        "!wget 'https://gist.githubusercontent.com/lynnkwong/c5ee4a0f4963d8c2c3281fecf32b5dae/raw/e3e1a243c69bc9653cb020360b86af4f9b5ba04b/b9ed00e0fdf0-laptops-data.csv'"
      ],
      "metadata": {
        "colab": {
          "base_uri": "https://localhost:8080/"
        },
        "id": "xrXiU4RZjBzE",
        "outputId": "b21aced1-3853-400d-e41c-93847df89404"
      },
      "execution_count": 27,
      "outputs": [
        {
          "output_type": "stream",
          "name": "stdout",
          "text": [
            "--2022-10-28 22:51:52--  https://gist.githubusercontent.com/lynnkwong/c5ee4a0f4963d8c2c3281fecf32b5dae/raw/e3e1a243c69bc9653cb020360b86af4f9b5ba04b/b9ed00e0fdf0-laptops-data.csv\n",
            "Resolving gist.githubusercontent.com (gist.githubusercontent.com)... 185.199.108.133, 185.199.109.133, 185.199.110.133, ...\n",
            "Connecting to gist.githubusercontent.com (gist.githubusercontent.com)|185.199.108.133|:443... connected.\n",
            "HTTP request sent, awaiting response... 200 OK\n",
            "Length: 11875 (12K) [text/plain]\n",
            "Saving to: ‘b9ed00e0fdf0-laptops-data.csv’\n",
            "\n",
            "b9ed00e0fdf0-laptop 100%[===================>]  11.60K  --.-KB/s    in 0s      \n",
            "\n",
            "2022-10-28 22:51:53 (98.7 MB/s) - ‘b9ed00e0fdf0-laptops-data.csv’ saved [11875/11875]\n",
            "\n"
          ]
        }
      ]
    },
    {
      "cell_type": "code",
      "source": [
        "import csv\n",
        "import json\n",
        "\n",
        "colums = [\"id\", \"name\", \"price\", \"brand\", \"cpu\", \"memory\", \"storage\"]\n",
        "index_name = \"laptops-demo\"\n",
        "\n",
        "with open(\"b9ed00e0fdf0-laptops-data.csv\", \"r\") as fi:\n",
        "    reader = csv.DictReader(\n",
        "        fi, fieldnames=colums, delimiter=\",\", quotechar='\"'\n",
        "    )\n",
        "\n",
        "    # This skips the first row which is the header of the CSV file.\n",
        "    next(reader)\n",
        "\n",
        "    actions = []\n",
        "    for row in reader:\n",
        "        action = {\"index\": {\"_index\": index_name, \"_id\": int(row[\"id\"])}}\n",
        "        doc = {\n",
        "            \"id\": int(row[\"id\"]),\n",
        "            \"name\": row[\"name\"],\n",
        "            \"price\": float(row[\"price\"]),\n",
        "            \"brand\": row[\"brand\"],\n",
        "            \"attributes\": [\n",
        "                {\"attribute_name\": \"cpu\", \"attribute_value\": row[\"cpu\"]},\n",
        "                {\"attribute_name\": \"memory\", \"attribute_value\": row[\"memory\"]},\n",
        "                {\n",
        "                    \"attribute_name\": \"storage\",\n",
        "                    \"attribute_value\": row[\"storage\"],\n",
        "                },\n",
        "            ],\n",
        "        }\n",
        "        actions.append(json.dumps(action))\n",
        "        actions.append(json.dumps(doc))\n",
        "\n",
        "    with open(\"laptops_demo.json\", \"w\") as fo:\n",
        "        fo.write(\"\\n\".join(actions))\n",
        "\n",
        "    es.bulk(body=\"\\n\".join(actions))\n"
      ],
      "metadata": {
        "id": "mn2o4PGpgdpO"
      },
      "execution_count": 28,
      "outputs": []
    },
    {
      "cell_type": "code",
      "source": [],
      "metadata": {
        "id": "lknAlQLwgdju"
      },
      "execution_count": 28,
      "outputs": []
    },
    {
      "cell_type": "code",
      "source": [],
      "metadata": {
        "id": "9gO1MYcKgdgY"
      },
      "execution_count": 28,
      "outputs": []
    },
    {
      "cell_type": "code",
      "source": [
        "import requests, json, os"
      ],
      "metadata": {
        "id": "VA2rCmbBZEsO"
      },
      "execution_count": 29,
      "outputs": []
    },
    {
      "cell_type": "code",
      "source": [
        "import zipfile\n",
        "with zipfile.ZipFile(path_to_zip_file, 'r') as zip_ref:\n",
        "    zip_ref.extractall(directory_to_extract_to)"
      ],
      "metadata": {
        "id": "NeCE8-AJZSPZ",
        "colab": {
          "base_uri": "https://localhost:8080/",
          "height": 200
        },
        "outputId": "419801cb-597b-4381-f12b-195aaac57818"
      },
      "execution_count": 30,
      "outputs": [
        {
          "output_type": "error",
          "ename": "NameError",
          "evalue": "ignored",
          "traceback": [
            "\u001b[0;31m---------------------------------------------------------------------------\u001b[0m",
            "\u001b[0;31mNameError\u001b[0m                                 Traceback (most recent call last)",
            "\u001b[0;32m<ipython-input-30-af99eb7225a4>\u001b[0m in \u001b[0;36m<module>\u001b[0;34m\u001b[0m\n\u001b[1;32m      1\u001b[0m \u001b[0;32mimport\u001b[0m \u001b[0mzipfile\u001b[0m\u001b[0;34m\u001b[0m\u001b[0;34m\u001b[0m\u001b[0m\n\u001b[0;32m----> 2\u001b[0;31m \u001b[0;32mwith\u001b[0m \u001b[0mzipfile\u001b[0m\u001b[0;34m.\u001b[0m\u001b[0mZipFile\u001b[0m\u001b[0;34m(\u001b[0m\u001b[0mpath_to_zip_file\u001b[0m\u001b[0;34m,\u001b[0m \u001b[0;34m'r'\u001b[0m\u001b[0;34m)\u001b[0m \u001b[0;32mas\u001b[0m \u001b[0mzip_ref\u001b[0m\u001b[0;34m:\u001b[0m\u001b[0;34m\u001b[0m\u001b[0;34m\u001b[0m\u001b[0m\n\u001b[0m\u001b[1;32m      3\u001b[0m     \u001b[0mzip_ref\u001b[0m\u001b[0;34m.\u001b[0m\u001b[0mextractall\u001b[0m\u001b[0;34m(\u001b[0m\u001b[0mdirectory_to_extract_to\u001b[0m\u001b[0;34m)\u001b[0m\u001b[0;34m\u001b[0m\u001b[0;34m\u001b[0m\u001b[0m\n",
            "\u001b[0;31mNameError\u001b[0m: name 'path_to_zip_file' is not defined"
          ]
        }
      ]
    },
    {
      "cell_type": "code",
      "source": [
        "directory = '/path/to/files/'"
      ],
      "metadata": {
        "id": "ZbOI9ulcZJA6"
      },
      "execution_count": null,
      "outputs": []
    },
    {
      "cell_type": "code",
      "source": [
        "i=1\n",
        "for filename in os.listdir(directory):\n",
        "    if filename.endswith(\".json\"):\n",
        "        f = open(filename)\n",
        "        docket_content = f.read()\n",
        "        # Send the data into es\n",
        "        es.index(index='myindex', ignore=400, doc_type='docket', \n",
        "        id=i, body=json.loads(docket_content))\n",
        "        i = i + 1"
      ],
      "metadata": {
        "id": "kiLvW_tWS_Pv"
      },
      "execution_count": null,
      "outputs": []
    },
    {
      "cell_type": "code",
      "source": [],
      "metadata": {
        "id": "uXxwLjJaY_zf"
      },
      "execution_count": null,
      "outputs": []
    },
    {
      "cell_type": "code",
      "source": [],
      "metadata": {
        "id": "d0mpIY3zY_qv"
      },
      "execution_count": null,
      "outputs": []
    },
    {
      "cell_type": "code",
      "source": [],
      "metadata": {
        "id": "m56tEVXJY_k-"
      },
      "execution_count": null,
      "outputs": []
    },
    {
      "cell_type": "code",
      "execution_count": null,
      "metadata": {
        "id": "3L54ASj6GCyd"
      },
      "outputs": [],
      "source": [
        "# Importing test dataset\n",
        "!git clone https://github.com/HamidRezaAttar/Elasticsearch-Jupyter-Colab\n",
        "dataset = pd.read_csv(\"/content/Elasticsearch-Jupyter-Colab/data/test.csv.gz\", compression=\"gzip\")\n",
        "dataset.drop(\"id\", axis=1, inplace=True)\n",
        "print(f\"shape of dataset: {dataset.shape}\")\n",
        "dataset.head()"
      ]
    },
    {
      "cell_type": "code",
      "execution_count": null,
      "metadata": {
        "id": "WUk9TTMkM714"
      },
      "outputs": [],
      "source": [
        "# Define settings & mappings of Elasticsearch index\n",
        "Settings = {\n",
        "    \"settings\":{\n",
        "        \"number_of_shards\":1,\n",
        "        \"number_of_replicas\":0\n",
        "    },\n",
        "    \"mappings\":{\n",
        "        \"properties\":{\n",
        "            \"article\":{\n",
        "                \"type\":\"text\"\n",
        "            },\n",
        "            \"highlights\":{\n",
        "                \"type\":\"text\"\n",
        "            }\n",
        "        }\n",
        "    }\n",
        "}"
      ]
    },
    {
      "cell_type": "code",
      "execution_count": null,
      "metadata": {
        "id": "jmqnsJgbNAZg"
      },
      "outputs": [],
      "source": [
        "def json_formatter(dataset, index_name, index_type='_doc'):\n",
        "    \"\"\"\n",
        "    This function is used to create JSON formatted dictionaries for Elasticsearch.\n",
        "\n",
        "    Args:\n",
        "      dataset: The dataset you want to apply this function.\n",
        "      index_name: Name of the index in Elasticsearch\n",
        "      index_type: Type of the index in Elasticsearch.\n",
        "      Note: It is suggested to keep index_type as '_doc' since it is deprecated from version 6.\n",
        "      Note: This function formats all columns of your dataset, if you want to apply this to special columns only,\n",
        "      you can delete the second for loop and add your custom fields.\n",
        "    \"\"\"\n",
        "    try:\n",
        "        List = []\n",
        "        columns = dataset.columns\n",
        "        for idx, row in dataset.iterrows():\n",
        "            dic = {}\n",
        "            dic['_index'] = index_name\n",
        "            dic['_type'] = index_type\n",
        "            source = {}\n",
        "            for i in dataset.columns:\n",
        "                source[i] = row[i]\n",
        "            dic['_source'] = source\n",
        "            List.append(dic)\n",
        "        return List\n",
        "    \n",
        "    except Exception as e:\n",
        "        print(\"There is a problem: {}\".format(e))"
      ]
    },
    {
      "cell_type": "code",
      "execution_count": null,
      "metadata": {
        "id": "-h3ydafWNCL5"
      },
      "outputs": [],
      "source": [
        "MY_INDEX = es.indices.create(index=\"news_index\", ignore=[400,404], body=Settings)\n",
        "MY_INDEX"
      ]
    },
    {
      "cell_type": "code",
      "execution_count": null,
      "metadata": {
        "id": "srN4ob0eNDnO"
      },
      "outputs": [],
      "source": [
        "json_Formatted_dataset = json_formatter(dataset=dataset, index_name='news_index', index_type='_doc')\n",
        "json_Formatted_dataset[0]"
      ]
    },
    {
      "cell_type": "code",
      "execution_count": null,
      "metadata": {
        "id": "dlM9xps9NFh6"
      },
      "outputs": [],
      "source": [
        "# For importing Data to elasticsearch we use elasticsearch's bulk API from elasticsearch.helpers\n",
        "try:\n",
        "    res = helpers.bulk(es, json_Formatted_dataset)\n",
        "    print(\"successfully imported to elasticsearch.\")\n",
        "except Exception as e:\n",
        "    print(f\"error: {e}\")"
      ]
    },
    {
      "cell_type": "code",
      "execution_count": null,
      "metadata": {
        "id": "KgU86UyYNHLq"
      },
      "outputs": [],
      "source": [
        "# Get 10 sample of data\n",
        "query = es.search(\n",
        "    index=\"news_index\",\n",
        "    body={\n",
        "      \"size\":10,\n",
        "      \"query\": {\n",
        "        \"match_all\":{}\n",
        "      }\n",
        "    }\n",
        ")\n",
        "\n",
        "output = pd.json_normalize((query['hits']['hits']))\n",
        "output"
      ]
    },
    {
      "cell_type": "code",
      "execution_count": null,
      "metadata": {
        "id": "HIRf3Q9QNiz2"
      },
      "outputs": [],
      "source": [
        "# Complicated query\n",
        "query = es.search(\n",
        "    index=\"news_index\",\n",
        "    body={\n",
        "        \"size\":20,\n",
        "        \"query\":{\n",
        "            \"bool\":{\n",
        "                \"must\":[\n",
        "                        {\"match\":{\"article\":\"teenage boy\"}}\n",
        "                ],\n",
        "                \"should\":[\n",
        "                        {\"match\":{\"highlights\":\"drunk\"}}\n",
        "                ]\n",
        "            }\n",
        "        }\n",
        "    }\n",
        ")\n",
        "\n",
        "output = pd.json_normalize((query['hits']['hits']))\n",
        "output"
      ]
    },
    {
      "cell_type": "code",
      "execution_count": null,
      "metadata": {
        "id": "ijCxUR1XOL-g"
      },
      "outputs": [],
      "source": [
        "# More complicated query\n",
        "query = es.search( \n",
        "    index=\"news_index\",\n",
        "    body={\n",
        "        \"size\":20,\n",
        "        \"query\":{\n",
        "            \"bool\":{\n",
        "                \"must\":[\n",
        "                        {\"multi_match\":{\n",
        "                            \"query\":\"The Hunger Games\",\n",
        "                            \"fields\":[\"article\",\"highlights\"]\n",
        "                        }}\n",
        "                ]\n",
        "            }\n",
        "        }\n",
        "    }\n",
        ")\n",
        "\n",
        "output = pd.json_normalize((query['hits']['hits']))\n",
        "output"
      ]
    }
  ],
  "metadata": {
    "colab": {
      "collapsed_sections": [],
      "provenance": [],
      "include_colab_link": true
    },
    "kernelspec": {
      "display_name": "Python 3",
      "language": "python",
      "name": "python3"
    },
    "language_info": {
      "codemirror_mode": {
        "name": "ipython",
        "version": 3
      },
      "file_extension": ".py",
      "mimetype": "text/x-python",
      "name": "python",
      "nbconvert_exporter": "python",
      "pygments_lexer": "ipython3",
      "version": "3.8.5"
    }
  },
  "nbformat": 4,
  "nbformat_minor": 0
}